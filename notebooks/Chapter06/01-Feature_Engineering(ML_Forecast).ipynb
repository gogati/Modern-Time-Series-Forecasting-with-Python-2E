{
 "cells": [
  {
   "cell_type": "markdown",
   "id": "339a32c0",
   "metadata": {},
   "source": [
    "# Feature_Engineering (ML_Forecast)\n",
    "\n",
    "[![Open In Colab](https://colab.research.google.com/assets/colab-badge.svg)](https://colab.research.google.com/github/gogati/Modern-Time-Series-Forecasting-with-Python-2E/edit/main/notebooks/Chapter06/01-Feature_Engineering%28ML_Forecast%29.ipynb)\n",
    "\n"
   ]
  },
  {
   "cell_type": "code",
   "execution_count": 1,
   "id": "b25018c9-2624-434c-aa23-04be1d73e729",
   "metadata": {},
   "outputs": [
    {
     "name": "stdout",
     "output_type": "stream",
     "text": [
      "c:\\Work\\Modern Time Series Forecasting _ 2E\\Modern-Time-Series-Forecasting-with-Python-2E\n"
     ]
    }
   ],
   "source": [
    "%cd ../.."
   ]
  },
  {
   "cell_type": "code",
   "execution_count": 2,
   "id": "4f023467-970a-461e-a60f-7a66fce6a497",
   "metadata": {},
   "outputs": [
    {
     "name": "stderr",
     "output_type": "stream",
     "text": [
      "c:\\Users\\manuj\\miniconda3\\envs\\modern_ts_2E_try2\\Lib\\site-packages\\torchvision\\io\\image.py:13: UserWarning: Failed to load image Python extension: '[WinError 127] The specified procedure could not be found'If you don't plan on using image functionality from `torchvision.io`, you can ignore this warning. Otherwise, there might be something wrong with your environment. Did you have `libjpeg` or `libpng` installed before building `torchvision` from source?\n",
      "  warn(\n"
     ]
    }
   ],
   "source": [
    "import math\n",
    "import os\n",
    "import warnings\n",
    "from pathlib import Path\n",
    "\n",
    "import numpy as np\n",
    "import pandas as pd\n",
    "import plotly.express as px\n",
    "from src.utils.general import LogTime\n",
    "from tqdm.autonotebook import tqdm\n",
    "from IPython.display import display, HTML\n",
    "\n",
    "# %load_ext autoreload\n",
    "# %autoreload 2\n",
    "np.random.seed(42)\n",
    "tqdm.pandas()"
   ]
  },
  {
   "cell_type": "code",
   "execution_count": 3,
   "id": "41ae72a1-3721-4b36-b211-b78d4b09c855",
   "metadata": {},
   "outputs": [],
   "source": [
    "os.makedirs(\"imgs/chapter_6\", exist_ok=True)\n",
    "preprocessed = Path(\"data/london_smart_meters/preprocessed\")"
   ]
  },
  {
   "cell_type": "markdown",
   "id": "3d455aca-16e0-4813-ad9d-0c1f2204ae7d",
   "metadata": {},
   "source": [
    "# Reading the preprocessed files"
   ]
  },
  {
   "cell_type": "code",
   "execution_count": 32,
   "id": "91a45da0-76e2-46ed-9eef-5cd1a1b5623c",
   "metadata": {},
   "outputs": [],
   "source": [
    "#Readin the missing value imputed and train test split data\n",
    "try:\n",
    "    train_df = pd.read_parquet(preprocessed/\"selected_blocks_train_missing_imputed.parquet\")\n",
    "    val_df = pd.read_parquet(preprocessed/\"selected_blocks_val_missing_imputed.parquet\")\n",
    "    test_df = pd.read_parquet(preprocessed/\"selected_blocks_test_missing_imputed.parquet\")\n",
    "except FileNotFoundError:\n",
    "    display(HTML(\"\"\"\n",
    "    <div class=\"alert alert-block alert-warning\">\n",
    "    <b>Warning!</b> File not found. Please make sure you have run 01-Setting up Experiment Harness.ipynb in Chapter04\n",
    "    </div>\n",
    "    \"\"\"))"
   ]
  },
  {
   "cell_type": "markdown",
   "id": "bb66e0da-0507-4b4c-bf20-f37dd77025ba",
   "metadata": {},
   "source": [
    "## Combining the train, validation and test datasets for Feature Engineering"
   ]
  },
  {
   "cell_type": "markdown",
   "id": "72c5527e-facb-4543-8b79-59956036abca",
   "metadata": {},
   "source": [
    "Some of the features that we are creating needs the train and test dataset to be combined into a single dataset with continuous time. In case of real-life operations, where we will not have the test set, it is recommended to create the test period dataset with zero or nulled out actual observations and continue."
   ]
  },
  {
   "cell_type": "code",
   "execution_count": 33,
   "id": "2606bad1-89bd-4fb9-b929-bcc8d7ad928e",
   "metadata": {},
   "outputs": [],
   "source": [
    "train_df[\"type\"] = \"train\"\n",
    "val_df[\"type\"] = \"val\"\n",
    "test_df[\"type\"] = \"test\"\n",
    "full_df = pd.concat([train_df, val_df, test_df]).sort_values([\"LCLid\", \"timestamp\"])\n",
    "del train_df, test_df, val_df"
   ]
  },
  {
   "cell_type": "code",
   "execution_count": 34,
   "id": "3a88b576",
   "metadata": {},
   "outputs": [],
   "source": [
    "from mlforecast.lag_transforms import (\n",
    "    RollingMean,\n",
    "    RollingStd,\n",
    "    RollingMin,\n",
    "    RollingMax,\n",
    "    SeasonalRollingMean,\n",
    "    SeasonalRollingMin,\n",
    "    SeasonalRollingMax,\n",
    "    SeasonalRollingStd,\n",
    "    ExponentiallyWeightedMean,\n",
    ")\n",
    "\n",
    "from collections import defaultdict"
   ]
  },
  {
   "cell_type": "code",
   "execution_count": 35,
   "id": "5287d045",
   "metadata": {},
   "outputs": [],
   "source": [
    "lag_transforms = defaultdict(list)"
   ]
  },
  {
   "cell_type": "markdown",
   "id": "75855f45-8da9-4b46-9af1-1c5ea847cecd",
   "metadata": {
    "tags": []
   },
   "source": [
    "## Lag Features"
   ]
  },
  {
   "cell_type": "code",
   "execution_count": 36,
   "id": "305baca3-6f27-4190-992f-443e0f6006f4",
   "metadata": {},
   "outputs": [
    {
     "data": {
      "text/plain": [
       "[1, 2, 3, 4, 5, 46, 47, 48, 49, 50, 334, 335, 336, 337, 338]"
      ]
     },
     "execution_count": 36,
     "metadata": {},
     "output_type": "execute_result"
    }
   ],
   "source": [
    "lags = (\n",
    "    (np.arange(5) + 1).tolist()\n",
    "    + (np.arange(5) + 46).tolist()\n",
    "    + (np.arange(5) + (48 * 7) - 2).tolist()\n",
    ")\n",
    "lags"
   ]
  },
  {
   "cell_type": "code",
   "execution_count": 37,
   "id": "e08ae18e-20e8-4e03-8e6b-6c22244f456d",
   "metadata": {},
   "outputs": [],
   "source": [
    "# with LogTime():\n",
    "#     full_df, added_features = add_lags(\n",
    "#         full_df, lags=lags, column=\"energy_consumption\", ts_id=\"LCLid\", use_32_bit=True\n",
    "#     )\n",
    "# print(f\"Features Created: {','.join(added_features)}\")"
   ]
  },
  {
   "cell_type": "markdown",
   "id": "f1dc29a0-6d47-4bc8-8498-eb23bf65d2c3",
   "metadata": {
    "tags": []
   },
   "source": [
    "## Rolling\n",
    "---\n",
    "All the other features apart from lags are added as \"Lag Transforms\" in `mlforecast`. This is beacuse of an issue we have seen in the book. When taking rolling means and such features, current time step should be avoided because if not that accounts to data leakage.Therefore, in `mlforecast` these transformations are added as a dictionary {offset: [list of functions]}. This way, if we add transformations as `{'1': [Transformer for rolling Mean, Transformer for Exponential Mean]}` it will move back one time step and calculate the transformations."
   ]
  },
  {
   "cell_type": "code",
   "execution_count": 38,
   "id": "55e221f4",
   "metadata": {},
   "outputs": [],
   "source": [
    "# Adding Rolling Mean, Rolling Std, with an offset of one timestep\n",
    "lag_transforms[1]+= [RollingMean(window_size=n) for n in [3, 6, 12, 48]] + [\n",
    "    RollingStd(window_size=n) for n in [3, 6, 12, 48]\n",
    "]"
   ]
  },
  {
   "cell_type": "markdown",
   "id": "348ca4dc-69b6-4df2-8b17-19ef8e7a340a",
   "metadata": {
    "tags": []
   },
   "source": [
    "## Seasonal Rolling\n",
    "----\n",
    " This is slightly different from the implementation in the repository and explanation in the book. This goes back seasonal length and calculates mean, max etc in a window from that starting point. For the similar feature in the book (Rolling Seasonal Mean), use the same function we have been using in the book.\n",
    "\n",
    " P.S: I advice you to play around with this feature to understand how to configure seasonal length and window size using the code below:\n",
    "\n",
    " ```python\n",
    " from mlforecast.lag_transforms import SeasonalRollingMax\n",
    "\n",
    "# generate sequential data to verify seasonal rolling\n",
    "data = generate_daily_series(1,min_length=50, max_length=500, seed=42)\n",
    "data['y'] = np.arange(1, len(data)+1)\n",
    "\n",
    "season_length = 8\n",
    "window_size=1\n",
    "\n",
    "# Defining the Rolling window we want to test\n",
    "seasonal_rolling_window = SeasonalRollingMax(window_size=window_size, season_length=season_length)\n",
    "\n",
    "fcst = MLForecast(\n",
    "    models=[],\n",
    "    freq='D',\n",
    "    lag_transforms={\n",
    "    season_length: [seasonal_rolling_window],\n",
    "    },\n",
    ")\n",
    "data_t = fcst.preprocess(data)\n",
    "data_t.head()\n",
    "```"
   ]
  },
  {
   "cell_type": "code",
   "execution_count": 39,
   "id": "c1831446",
   "metadata": {},
   "outputs": [],
   "source": [
    "# Adding Seasonal Rolling Mean, Seasonal Rolling Std, with an offset of seasonal period timestep\n",
    "lag_transforms[48]+= [SeasonalRollingMean(season_length=48, window_size=3)] + [\n",
    "    SeasonalRollingStd(season_length=48, window_size=3)\n",
    "]\n",
    "\n",
    "lag_transforms[48 * 7]+= [SeasonalRollingMean(season_length=48 * 7, window_size=3)] + [\n",
    "    SeasonalRollingStd(season_length=48 * 7, window_size=3)\n",
    "]"
   ]
  },
  {
   "cell_type": "markdown",
   "id": "1de503de-99f3-46bd-b691-d416e69c3df9",
   "metadata": {
    "tags": []
   },
   "source": [
    "## EWMA"
   ]
  },
  {
   "cell_type": "code",
   "execution_count": 40,
   "id": "4f7bf85e-620a-4d39-ac0b-0db5d2a73739",
   "metadata": {},
   "outputs": [
    {
     "data": {
      "application/vnd.plotly.v1+json": {
       "config": {
        "plotlyServerURL": "https://plot.ly"
       },
       "data": [
        {
         "hovertemplate": "Parameters=Alpha=0.3 | Span=5.67<br>Timesteps behind t=%{x}<br>value=%{y}<extra></extra>",
         "legendgroup": "",
         "line": {
          "color": "#636efa",
          "dash": "solid"
         },
         "marker": {
          "symbol": "circle"
         },
         "mode": "lines",
         "name": "",
         "orientation": "v",
         "showlegend": false,
         "type": "scatter",
         "x": [
          0,
          1,
          2,
          3,
          4,
          5,
          6,
          7,
          8,
          9,
          10,
          11,
          12,
          13,
          14,
          15,
          16,
          17,
          18,
          19,
          20,
          21,
          22,
          23,
          24
         ],
         "xaxis": "x",
         "y": [
          0.3,
          0.21,
          0.14699999999999996,
          0.10289999999999998,
          0.07202999999999998,
          0.05042099999999998,
          0.035294699999999984,
          0.02470628999999999,
          0.01729440299999999,
          0.012106082099999993,
          0.008474257469999994,
          0.005931980228999996,
          0.0041523861602999965,
          0.0029066703122099975,
          0.002034669218546998,
          0.0014242684529828986,
          0.000996987917088029,
          0.0006978915419616202,
          0.0004885240793731341,
          0.00034196685556119386,
          0.00023937679889283567,
          0.00016756375922498496,
          0.00011729463145748948,
          0.00008210624202024264,
          0.00005747436941416983
         ],
         "yaxis": "y"
        },
        {
         "hovertemplate": "Parameters=Alpha=0.5 | Span=3.00<br>Timesteps behind t=%{x}<br>value=%{y}<extra></extra>",
         "legendgroup": "",
         "line": {
          "color": "#636efa",
          "dash": "solid"
         },
         "marker": {
          "symbol": "circle"
         },
         "mode": "lines",
         "name": "",
         "orientation": "v",
         "showlegend": false,
         "type": "scatter",
         "x": [
          0,
          1,
          2,
          3,
          4,
          5,
          6,
          7,
          8,
          9,
          10,
          11,
          12,
          13,
          14,
          15,
          16,
          17,
          18,
          19,
          20,
          21,
          22,
          23,
          24
         ],
         "xaxis": "x2",
         "y": [
          0.5,
          0.25,
          0.125,
          0.0625,
          0.03125,
          0.015625,
          0.0078125,
          0.00390625,
          0.001953125,
          0.0009765625,
          0.00048828125,
          0.000244140625,
          0.0001220703125,
          0.00006103515625,
          0.000030517578125,
          0.0000152587890625,
          0.00000762939453125,
          0.000003814697265625,
          0.0000019073486328125,
          9.5367431640625e-7,
          4.76837158203125e-7,
          2.384185791015625e-7,
          1.1920928955078125e-7,
          5.960464477539063e-8,
          2.9802322387695312e-8
         ],
         "yaxis": "y2"
        },
        {
         "hovertemplate": "Parameters=Alpha=0.8 | Span=1.50<br>Timesteps behind t=%{x}<br>value=%{y}<extra></extra>",
         "legendgroup": "",
         "line": {
          "color": "#636efa",
          "dash": "solid"
         },
         "marker": {
          "symbol": "circle"
         },
         "mode": "lines",
         "name": "",
         "orientation": "v",
         "showlegend": false,
         "type": "scatter",
         "x": [
          0,
          1,
          2,
          3,
          4,
          5,
          6,
          7,
          8,
          9,
          10,
          11,
          12,
          13,
          14,
          15,
          16,
          17,
          18,
          19,
          20,
          21,
          22,
          23,
          24
         ],
         "xaxis": "x3",
         "y": [
          0.8,
          0.15999999999999998,
          0.03199999999999999,
          0.006399999999999996,
          0.001279999999999999,
          0.0002559999999999997,
          0.00005119999999999994,
          0.000010239999999999985,
          0.0000020479999999999963,
          4.095999999999992e-7,
          8.191999999999982e-8,
          1.638399999999996e-8,
          3.2767999999999914e-9,
          6.553599999999981e-10,
          1.310719999999996e-10,
          2.6214399999999915e-11,
          5.242879999999982e-12,
          1.048575999999996e-12,
          2.0971519999999919e-13,
          4.194303999999983e-14,
          8.388607999999963e-15,
          1.6777215999999924e-15,
          3.3554431999999836e-16,
          6.710886399999966e-17,
          1.3421772799999928e-17
         ],
         "yaxis": "y3"
        }
       ],
       "layout": {
        "annotations": [
         {
          "font": {
           "size": 16
          },
          "showarrow": false,
          "text": "Parameters=Alpha=0.3 | Span=5.67",
          "x": 0.15999999999999998,
          "xanchor": "center",
          "xref": "paper",
          "y": 1,
          "yanchor": "bottom",
          "yref": "paper"
         },
         {
          "font": {
           "size": 16
          },
          "showarrow": false,
          "text": "Parameters=Alpha=0.5 | Span=3.00",
          "x": 0.49999999999999994,
          "xanchor": "center",
          "xref": "paper",
          "y": 1,
          "yanchor": "bottom",
          "yref": "paper"
         },
         {
          "font": {
           "size": 16
          },
          "showarrow": false,
          "text": "Parameters=Alpha=0.8 | Span=1.50",
          "x": 0.8399999999999999,
          "xanchor": "center",
          "xref": "paper",
          "y": 1,
          "yanchor": "bottom",
          "yref": "paper"
         }
        ],
        "autosize": false,
        "height": 500,
        "legend": {
         "tracegroupgap": 0
        },
        "margin": {
         "t": 60
        },
        "template": {
         "data": {
          "bar": [
           {
            "error_x": {
             "color": "#2a3f5f"
            },
            "error_y": {
             "color": "#2a3f5f"
            },
            "marker": {
             "line": {
              "color": "#E5ECF6",
              "width": 0.5
             },
             "pattern": {
              "fillmode": "overlay",
              "size": 10,
              "solidity": 0.2
             }
            },
            "type": "bar"
           }
          ],
          "barpolar": [
           {
            "marker": {
             "line": {
              "color": "#E5ECF6",
              "width": 0.5
             },
             "pattern": {
              "fillmode": "overlay",
              "size": 10,
              "solidity": 0.2
             }
            },
            "type": "barpolar"
           }
          ],
          "carpet": [
           {
            "aaxis": {
             "endlinecolor": "#2a3f5f",
             "gridcolor": "white",
             "linecolor": "white",
             "minorgridcolor": "white",
             "startlinecolor": "#2a3f5f"
            },
            "baxis": {
             "endlinecolor": "#2a3f5f",
             "gridcolor": "white",
             "linecolor": "white",
             "minorgridcolor": "white",
             "startlinecolor": "#2a3f5f"
            },
            "type": "carpet"
           }
          ],
          "choropleth": [
           {
            "colorbar": {
             "outlinewidth": 0,
             "ticks": ""
            },
            "type": "choropleth"
           }
          ],
          "contour": [
           {
            "colorbar": {
             "outlinewidth": 0,
             "ticks": ""
            },
            "colorscale": [
             [
              0,
              "#0d0887"
             ],
             [
              0.1111111111111111,
              "#46039f"
             ],
             [
              0.2222222222222222,
              "#7201a8"
             ],
             [
              0.3333333333333333,
              "#9c179e"
             ],
             [
              0.4444444444444444,
              "#bd3786"
             ],
             [
              0.5555555555555556,
              "#d8576b"
             ],
             [
              0.6666666666666666,
              "#ed7953"
             ],
             [
              0.7777777777777778,
              "#fb9f3a"
             ],
             [
              0.8888888888888888,
              "#fdca26"
             ],
             [
              1,
              "#f0f921"
             ]
            ],
            "type": "contour"
           }
          ],
          "contourcarpet": [
           {
            "colorbar": {
             "outlinewidth": 0,
             "ticks": ""
            },
            "type": "contourcarpet"
           }
          ],
          "heatmap": [
           {
            "colorbar": {
             "outlinewidth": 0,
             "ticks": ""
            },
            "colorscale": [
             [
              0,
              "#0d0887"
             ],
             [
              0.1111111111111111,
              "#46039f"
             ],
             [
              0.2222222222222222,
              "#7201a8"
             ],
             [
              0.3333333333333333,
              "#9c179e"
             ],
             [
              0.4444444444444444,
              "#bd3786"
             ],
             [
              0.5555555555555556,
              "#d8576b"
             ],
             [
              0.6666666666666666,
              "#ed7953"
             ],
             [
              0.7777777777777778,
              "#fb9f3a"
             ],
             [
              0.8888888888888888,
              "#fdca26"
             ],
             [
              1,
              "#f0f921"
             ]
            ],
            "type": "heatmap"
           }
          ],
          "heatmapgl": [
           {
            "colorbar": {
             "outlinewidth": 0,
             "ticks": ""
            },
            "colorscale": [
             [
              0,
              "#0d0887"
             ],
             [
              0.1111111111111111,
              "#46039f"
             ],
             [
              0.2222222222222222,
              "#7201a8"
             ],
             [
              0.3333333333333333,
              "#9c179e"
             ],
             [
              0.4444444444444444,
              "#bd3786"
             ],
             [
              0.5555555555555556,
              "#d8576b"
             ],
             [
              0.6666666666666666,
              "#ed7953"
             ],
             [
              0.7777777777777778,
              "#fb9f3a"
             ],
             [
              0.8888888888888888,
              "#fdca26"
             ],
             [
              1,
              "#f0f921"
             ]
            ],
            "type": "heatmapgl"
           }
          ],
          "histogram": [
           {
            "marker": {
             "pattern": {
              "fillmode": "overlay",
              "size": 10,
              "solidity": 0.2
             }
            },
            "type": "histogram"
           }
          ],
          "histogram2d": [
           {
            "colorbar": {
             "outlinewidth": 0,
             "ticks": ""
            },
            "colorscale": [
             [
              0,
              "#0d0887"
             ],
             [
              0.1111111111111111,
              "#46039f"
             ],
             [
              0.2222222222222222,
              "#7201a8"
             ],
             [
              0.3333333333333333,
              "#9c179e"
             ],
             [
              0.4444444444444444,
              "#bd3786"
             ],
             [
              0.5555555555555556,
              "#d8576b"
             ],
             [
              0.6666666666666666,
              "#ed7953"
             ],
             [
              0.7777777777777778,
              "#fb9f3a"
             ],
             [
              0.8888888888888888,
              "#fdca26"
             ],
             [
              1,
              "#f0f921"
             ]
            ],
            "type": "histogram2d"
           }
          ],
          "histogram2dcontour": [
           {
            "colorbar": {
             "outlinewidth": 0,
             "ticks": ""
            },
            "colorscale": [
             [
              0,
              "#0d0887"
             ],
             [
              0.1111111111111111,
              "#46039f"
             ],
             [
              0.2222222222222222,
              "#7201a8"
             ],
             [
              0.3333333333333333,
              "#9c179e"
             ],
             [
              0.4444444444444444,
              "#bd3786"
             ],
             [
              0.5555555555555556,
              "#d8576b"
             ],
             [
              0.6666666666666666,
              "#ed7953"
             ],
             [
              0.7777777777777778,
              "#fb9f3a"
             ],
             [
              0.8888888888888888,
              "#fdca26"
             ],
             [
              1,
              "#f0f921"
             ]
            ],
            "type": "histogram2dcontour"
           }
          ],
          "mesh3d": [
           {
            "colorbar": {
             "outlinewidth": 0,
             "ticks": ""
            },
            "type": "mesh3d"
           }
          ],
          "parcoords": [
           {
            "line": {
             "colorbar": {
              "outlinewidth": 0,
              "ticks": ""
             }
            },
            "type": "parcoords"
           }
          ],
          "pie": [
           {
            "automargin": true,
            "type": "pie"
           }
          ],
          "scatter": [
           {
            "fillpattern": {
             "fillmode": "overlay",
             "size": 10,
             "solidity": 0.2
            },
            "type": "scatter"
           }
          ],
          "scatter3d": [
           {
            "line": {
             "colorbar": {
              "outlinewidth": 0,
              "ticks": ""
             }
            },
            "marker": {
             "colorbar": {
              "outlinewidth": 0,
              "ticks": ""
             }
            },
            "type": "scatter3d"
           }
          ],
          "scattercarpet": [
           {
            "marker": {
             "colorbar": {
              "outlinewidth": 0,
              "ticks": ""
             }
            },
            "type": "scattercarpet"
           }
          ],
          "scattergeo": [
           {
            "marker": {
             "colorbar": {
              "outlinewidth": 0,
              "ticks": ""
             }
            },
            "type": "scattergeo"
           }
          ],
          "scattergl": [
           {
            "marker": {
             "colorbar": {
              "outlinewidth": 0,
              "ticks": ""
             }
            },
            "type": "scattergl"
           }
          ],
          "scattermapbox": [
           {
            "marker": {
             "colorbar": {
              "outlinewidth": 0,
              "ticks": ""
             }
            },
            "type": "scattermapbox"
           }
          ],
          "scatterpolar": [
           {
            "marker": {
             "colorbar": {
              "outlinewidth": 0,
              "ticks": ""
             }
            },
            "type": "scatterpolar"
           }
          ],
          "scatterpolargl": [
           {
            "marker": {
             "colorbar": {
              "outlinewidth": 0,
              "ticks": ""
             }
            },
            "type": "scatterpolargl"
           }
          ],
          "scatterternary": [
           {
            "marker": {
             "colorbar": {
              "outlinewidth": 0,
              "ticks": ""
             }
            },
            "type": "scatterternary"
           }
          ],
          "surface": [
           {
            "colorbar": {
             "outlinewidth": 0,
             "ticks": ""
            },
            "colorscale": [
             [
              0,
              "#0d0887"
             ],
             [
              0.1111111111111111,
              "#46039f"
             ],
             [
              0.2222222222222222,
              "#7201a8"
             ],
             [
              0.3333333333333333,
              "#9c179e"
             ],
             [
              0.4444444444444444,
              "#bd3786"
             ],
             [
              0.5555555555555556,
              "#d8576b"
             ],
             [
              0.6666666666666666,
              "#ed7953"
             ],
             [
              0.7777777777777778,
              "#fb9f3a"
             ],
             [
              0.8888888888888888,
              "#fdca26"
             ],
             [
              1,
              "#f0f921"
             ]
            ],
            "type": "surface"
           }
          ],
          "table": [
           {
            "cells": {
             "fill": {
              "color": "#EBF0F8"
             },
             "line": {
              "color": "white"
             }
            },
            "header": {
             "fill": {
              "color": "#C8D4E3"
             },
             "line": {
              "color": "white"
             }
            },
            "type": "table"
           }
          ]
         },
         "layout": {
          "annotationdefaults": {
           "arrowcolor": "#2a3f5f",
           "arrowhead": 0,
           "arrowwidth": 1
          },
          "autotypenumbers": "strict",
          "coloraxis": {
           "colorbar": {
            "outlinewidth": 0,
            "ticks": ""
           }
          },
          "colorscale": {
           "diverging": [
            [
             0,
             "#8e0152"
            ],
            [
             0.1,
             "#c51b7d"
            ],
            [
             0.2,
             "#de77ae"
            ],
            [
             0.3,
             "#f1b6da"
            ],
            [
             0.4,
             "#fde0ef"
            ],
            [
             0.5,
             "#f7f7f7"
            ],
            [
             0.6,
             "#e6f5d0"
            ],
            [
             0.7,
             "#b8e186"
            ],
            [
             0.8,
             "#7fbc41"
            ],
            [
             0.9,
             "#4d9221"
            ],
            [
             1,
             "#276419"
            ]
           ],
           "sequential": [
            [
             0,
             "#0d0887"
            ],
            [
             0.1111111111111111,
             "#46039f"
            ],
            [
             0.2222222222222222,
             "#7201a8"
            ],
            [
             0.3333333333333333,
             "#9c179e"
            ],
            [
             0.4444444444444444,
             "#bd3786"
            ],
            [
             0.5555555555555556,
             "#d8576b"
            ],
            [
             0.6666666666666666,
             "#ed7953"
            ],
            [
             0.7777777777777778,
             "#fb9f3a"
            ],
            [
             0.8888888888888888,
             "#fdca26"
            ],
            [
             1,
             "#f0f921"
            ]
           ],
           "sequentialminus": [
            [
             0,
             "#0d0887"
            ],
            [
             0.1111111111111111,
             "#46039f"
            ],
            [
             0.2222222222222222,
             "#7201a8"
            ],
            [
             0.3333333333333333,
             "#9c179e"
            ],
            [
             0.4444444444444444,
             "#bd3786"
            ],
            [
             0.5555555555555556,
             "#d8576b"
            ],
            [
             0.6666666666666666,
             "#ed7953"
            ],
            [
             0.7777777777777778,
             "#fb9f3a"
            ],
            [
             0.8888888888888888,
             "#fdca26"
            ],
            [
             1,
             "#f0f921"
            ]
           ]
          },
          "colorway": [
           "#636efa",
           "#EF553B",
           "#00cc96",
           "#ab63fa",
           "#FFA15A",
           "#19d3f3",
           "#FF6692",
           "#B6E880",
           "#FF97FF",
           "#FECB52"
          ],
          "font": {
           "color": "#2a3f5f"
          },
          "geo": {
           "bgcolor": "white",
           "lakecolor": "white",
           "landcolor": "#E5ECF6",
           "showlakes": true,
           "showland": true,
           "subunitcolor": "white"
          },
          "hoverlabel": {
           "align": "left"
          },
          "hovermode": "closest",
          "mapbox": {
           "style": "light"
          },
          "paper_bgcolor": "white",
          "plot_bgcolor": "#E5ECF6",
          "polar": {
           "angularaxis": {
            "gridcolor": "white",
            "linecolor": "white",
            "ticks": ""
           },
           "bgcolor": "#E5ECF6",
           "radialaxis": {
            "gridcolor": "white",
            "linecolor": "white",
            "ticks": ""
           }
          },
          "scene": {
           "xaxis": {
            "backgroundcolor": "#E5ECF6",
            "gridcolor": "white",
            "gridwidth": 2,
            "linecolor": "white",
            "showbackground": true,
            "ticks": "",
            "zerolinecolor": "white"
           },
           "yaxis": {
            "backgroundcolor": "#E5ECF6",
            "gridcolor": "white",
            "gridwidth": 2,
            "linecolor": "white",
            "showbackground": true,
            "ticks": "",
            "zerolinecolor": "white"
           },
           "zaxis": {
            "backgroundcolor": "#E5ECF6",
            "gridcolor": "white",
            "gridwidth": 2,
            "linecolor": "white",
            "showbackground": true,
            "ticks": "",
            "zerolinecolor": "white"
           }
          },
          "shapedefaults": {
           "line": {
            "color": "#2a3f5f"
           }
          },
          "ternary": {
           "aaxis": {
            "gridcolor": "white",
            "linecolor": "white",
            "ticks": ""
           },
           "baxis": {
            "gridcolor": "white",
            "linecolor": "white",
            "ticks": ""
           },
           "bgcolor": "#E5ECF6",
           "caxis": {
            "gridcolor": "white",
            "linecolor": "white",
            "ticks": ""
           }
          },
          "title": {
           "x": 0.05
          },
          "xaxis": {
           "automargin": true,
           "gridcolor": "white",
           "linecolor": "white",
           "ticks": "",
           "title": {
            "standoff": 15
           },
           "zerolinecolor": "white",
           "zerolinewidth": 2
          },
          "yaxis": {
           "automargin": true,
           "gridcolor": "white",
           "linecolor": "white",
           "ticks": "",
           "title": {
            "standoff": 15
           },
           "zerolinecolor": "white",
           "zerolinewidth": 2
          }
         }
        },
        "width": 1200,
        "xaxis": {
         "anchor": "y",
         "domain": [
          0,
          0.31999999999999995
         ],
         "tickfont": {
          "size": 15
         },
         "title": {
          "font": {
           "size": 15
          },
          "text": "Timesteps behind t"
         }
        },
        "xaxis2": {
         "anchor": "y2",
         "domain": [
          0.33999999999999997,
          0.6599999999999999
         ],
         "matches": "x",
         "title": {
          "text": "Timesteps behind t"
         }
        },
        "xaxis3": {
         "anchor": "y3",
         "domain": [
          0.6799999999999999,
          0.9999999999999999
         ],
         "matches": "x",
         "title": {
          "text": "Timesteps behind t"
         }
        },
        "yaxis": {
         "anchor": "x",
         "domain": [
          0,
          1
         ],
         "tickfont": {
          "size": 15
         },
         "title": {
          "font": {
           "size": 15
          },
          "text": "Weights"
         }
        },
        "yaxis2": {
         "anchor": "x2",
         "domain": [
          0,
          1
         ],
         "matches": "y",
         "showticklabels": false
        },
        "yaxis3": {
         "anchor": "x3",
         "domain": [
          0,
          1
         ],
         "matches": "y",
         "showticklabels": false
        }
       }
      }
     },
     "metadata": {},
     "output_type": "display_data"
    }
   ],
   "source": [
    "t = np.arange(25).tolist()\n",
    "plot_df = pd.DataFrame({\"Timesteps behind t\": t})\n",
    "for alpha in [0.3, 0.5, 0.8]:\n",
    "    weights = [alpha * math.pow((1 - alpha), i) for i in t]\n",
    "    span = (2 - alpha) / alpha\n",
    "    halflife = math.log(1 - alpha) / math.log(0.5)\n",
    "    plot_df[f\"Alpha={alpha} | Span={span:.2f}\"] = weights\n",
    "\n",
    "fig = px.line(\n",
    "    pd.melt(plot_df, id_vars=\"Timesteps behind t\", var_name=\"Parameters\"),\n",
    "    x=\"Timesteps behind t\",\n",
    "    y=\"value\",\n",
    "    facet_col=\"Parameters\",\n",
    ")\n",
    "fig.update_layout(\n",
    "    autosize=False,\n",
    "    width=1200,\n",
    "    height=500,\n",
    "    yaxis=dict(\n",
    "        title_text=\"Weights\",\n",
    "        titlefont=dict(size=15),\n",
    "        tickfont=dict(size=15),\n",
    "    ),\n",
    "    xaxis=dict(\n",
    "        titlefont=dict(size=15),\n",
    "        tickfont=dict(size=15),\n",
    "    ),\n",
    ")\n",
    "fig.update_annotations(font=dict(size=16))\n",
    "fig.write_image(f\"imgs/chapter_6/ewma_weights.png\")\n",
    "fig.show()"
   ]
  },
  {
   "cell_type": "code",
   "execution_count": 41,
   "id": "29e2f33c-3dd5-4b1c-821b-06cbba8d3aa0",
   "metadata": {},
   "outputs": [],
   "source": [
    "# Adding Rolling Mean, Rolling Std, with an offset of one timestep\n",
    "lag_transforms[1] += [ExponentiallyWeightedMean(alpha=alpha) for alpha in [0.2, 0.5, 0.9]]"
   ]
  },
  {
   "cell_type": "markdown",
   "id": "02427130-dab9-4397-abb5-b2e445620e00",
   "metadata": {},
   "source": [
    "## Temporal Features"
   ]
  },
  {
   "cell_type": "code",
   "execution_count": 49,
   "id": "f7bcc91b-84cf-458c-bd9c-75b284f2a9f2",
   "metadata": {},
   "outputs": [],
   "source": [
    "# Define the features you need in the model\n",
    "# these should either be strings (pandas date function) or functions that take date as an argument\n",
    "temporal_features = [\n",
    "    \"month\",\n",
    "    \"quarter\",\n",
    "    \"is_quarter_end\",\n",
    "    \"is_quarter_start\",\n",
    "    \"is_year_end\",\n",
    "    \"is_year_start\",\n",
    "    \"is_month_start\",\n",
    "    \"is_month_end\",\n",
    "    \"week\",\n",
    "    \"day\",\n",
    "    \"dayofweek\",\n",
    "    \"dayofyear\",\n",
    "    \"hour\",\n",
    "    \"minute\",\n",
    "]"
   ]
  },
  {
   "cell_type": "code",
   "execution_count": 17,
   "id": "0e13fb78-b1eb-4ade-aa4a-e27be37bd8da",
   "metadata": {},
   "outputs": [
    {
     "name": "stdout",
     "output_type": "stream",
     "text": [
      "Time Elapsed: 2 seconds\n",
      "Features Created: timestamp_Month,timestamp_Quarter,timestamp_Is_quarter_end,timestamp_Is_quarter_start,timestamp_Is_year_end,timestamp_Is_year_start,timestamp_Is_month_start,timestamp_WeekDay,timestamp_Dayofweek,timestamp_Dayofyear,timestamp_Hour,timestamp_Minute,timestamp_Elapsed\n"
     ]
    }
   ],
   "source": [
    "# with LogTime():\n",
    "#     full_df, added_features = add_temporal_features(\n",
    "#         full_df,\n",
    "#         field_name=\"timestamp\",\n",
    "#         frequency=\"30min\",\n",
    "#         add_elapsed=True,\n",
    "#         drop=False,\n",
    "#         use_32_bit=True,\n",
    "#     )\n",
    "# print(f\"Features Created: {','.join(added_features)}\")"
   ]
  },
  {
   "cell_type": "markdown",
   "id": "cd21f848",
   "metadata": {},
   "source": [
    "## Calculating the Features"
   ]
  },
  {
   "cell_type": "code",
   "execution_count": 43,
   "id": "87a78ff0",
   "metadata": {},
   "outputs": [],
   "source": [
    "from mlforecast import MLForecast"
   ]
  },
  {
   "cell_type": "code",
   "execution_count": 50,
   "id": "2d9e8f55",
   "metadata": {},
   "outputs": [
    {
     "name": "stdout",
     "output_type": "stream",
     "text": [
      "Time Elapsed: 1 second\n"
     ]
    }
   ],
   "source": [
    "fcst = MLForecast(\n",
    "    models=[],\n",
    "    freq='D',\n",
    "    lags=lags, # Defining the Lags we need to create\n",
    "    # Defining some transformations we need to do to the lags (offsets)\n",
    "    lag_transforms=lag_transforms,\n",
    "    date_features=temporal_features, # Defining the date features we need\n",
    ")\n",
    "with LogTime():\n",
    "    full_df = fcst.preprocess(\n",
    "        full_df,\n",
    "        time_col=\"timestamp\",\n",
    "        id_col=\"LCLid\",\n",
    "        target_col=\"energy_consumption\",\n",
    "    )"
   ]
  },
  {
   "cell_type": "code",
   "execution_count": 52,
   "id": "b99cf6cf",
   "metadata": {},
   "outputs": [
    {
     "data": {
      "text/plain": [
       "Index(['timestamp', 'LCLid', 'energy_consumption', 'frequency',\n",
       "       'series_length', 'stdorToU', 'Acorn', 'Acorn_grouped', 'file',\n",
       "       'holidays', 'visibility', 'windBearing', 'temperature', 'dewPoint',\n",
       "       'pressure', 'apparentTemperature', 'windSpeed', 'precipType', 'icon',\n",
       "       'humidity', 'summary', 'type', 'lag1', 'lag2', 'lag3', 'lag4', 'lag5',\n",
       "       'lag46', 'lag47', 'lag48', 'lag49', 'lag50', 'lag334', 'lag335',\n",
       "       'lag336', 'lag337', 'lag338', 'rolling_mean_lag1_window_size3',\n",
       "       'rolling_mean_lag1_window_size6', 'rolling_mean_lag1_window_size12',\n",
       "       'rolling_mean_lag1_window_size48', 'rolling_std_lag1_window_size3',\n",
       "       'rolling_std_lag1_window_size6', 'rolling_std_lag1_window_size12',\n",
       "       'rolling_std_lag1_window_size48',\n",
       "       'exponentially_weighted_mean_lag1_alpha0.2',\n",
       "       'exponentially_weighted_mean_lag1_alpha0.5',\n",
       "       'exponentially_weighted_mean_lag1_alpha0.9',\n",
       "       'seasonal_rolling_mean_lag48_season_length48_window_size3',\n",
       "       'seasonal_rolling_std_lag48_season_length48_window_size3',\n",
       "       'seasonal_rolling_mean_lag336_season_length336_window_size3',\n",
       "       'seasonal_rolling_std_lag336_season_length336_window_size3', 'month',\n",
       "       'quarter', 'is_quarter_end', 'is_quarter_start', 'is_year_end',\n",
       "       'is_year_start', 'is_month_start', 'is_month_end', 'week', 'day',\n",
       "       'dayofweek', 'dayofyear', 'hour', 'minute'],\n",
       "      dtype='object')"
      ]
     },
     "execution_count": 52,
     "metadata": {},
     "output_type": "execute_result"
    }
   ],
   "source": [
    "full_df.columns"
   ]
  },
  {
   "cell_type": "markdown",
   "id": "49871158-e40b-4186-b780-958e2d680aa9",
   "metadata": {},
   "source": [
    "## Fourier Terms"
   ]
  },
  {
   "cell_type": "code",
   "execution_count": 53,
   "id": "e2844929-9174-47a1-9c78-7a5a9aa31937",
   "metadata": {},
   "outputs": [],
   "source": [
    "from src.feature_engineering.temporal_features import (\n",
    "    add_fourier_features,\n",
    "    bulk_add_fourier_features,\n",
    ")"
   ]
  },
  {
   "cell_type": "code",
   "execution_count": 54,
   "id": "da863ffa",
   "metadata": {},
   "outputs": [
    {
     "data": {
      "text/plain": [
       "Index(['timestamp', 'LCLid', 'energy_consumption', 'frequency',\n",
       "       'series_length', 'stdorToU', 'Acorn', 'Acorn_grouped', 'file',\n",
       "       'holidays', 'visibility', 'windBearing', 'temperature', 'dewPoint',\n",
       "       'pressure', 'apparentTemperature', 'windSpeed', 'precipType', 'icon',\n",
       "       'humidity', 'summary', 'type', 'lag1', 'lag2', 'lag3', 'lag4', 'lag5',\n",
       "       'lag46', 'lag47', 'lag48', 'lag49', 'lag50', 'lag334', 'lag335',\n",
       "       'lag336', 'lag337', 'lag338', 'rolling_mean_lag1_window_size3',\n",
       "       'rolling_mean_lag1_window_size6', 'rolling_mean_lag1_window_size12',\n",
       "       'rolling_mean_lag1_window_size48', 'rolling_std_lag1_window_size3',\n",
       "       'rolling_std_lag1_window_size6', 'rolling_std_lag1_window_size12',\n",
       "       'rolling_std_lag1_window_size48',\n",
       "       'exponentially_weighted_mean_lag1_alpha0.2',\n",
       "       'exponentially_weighted_mean_lag1_alpha0.5',\n",
       "       'exponentially_weighted_mean_lag1_alpha0.9',\n",
       "       'seasonal_rolling_mean_lag48_season_length48_window_size3',\n",
       "       'seasonal_rolling_std_lag48_season_length48_window_size3',\n",
       "       'seasonal_rolling_mean_lag336_season_length336_window_size3',\n",
       "       'seasonal_rolling_std_lag336_season_length336_window_size3', 'month',\n",
       "       'quarter', 'is_quarter_end', 'is_quarter_start', 'is_year_end',\n",
       "       'is_year_start', 'is_month_start', 'is_month_end', 'week', 'day',\n",
       "       'dayofweek', 'dayofyear', 'hour', 'minute'],\n",
       "      dtype='object')"
      ]
     },
     "execution_count": 54,
     "metadata": {},
     "output_type": "execute_result"
    }
   ],
   "source": [
    "full_df.columns"
   ]
  },
  {
   "cell_type": "code",
   "execution_count": 19,
   "id": "8537c76e-6dde-4f8f-9e1a-46fcc37c3b26",
   "metadata": {},
   "outputs": [],
   "source": [
    "# train_df, added_features = add_fourier_features(train_df, \"timestamp_Month\", max_value=12, n_fourier_terms=1)"
   ]
  },
  {
   "cell_type": "code",
   "execution_count": 55,
   "id": "6dc8282f-b842-45c5-9898-e9ca2dff5a46",
   "metadata": {},
   "outputs": [
    {
     "name": "stdout",
     "output_type": "stream",
     "text": [
      "Time Elapsed: 4 seconds\n",
      "Features Created: month_sin_1,month_sin_2,month_sin_3,month_sin_4,month_sin_5,month_cos_1,month_cos_2,month_cos_3,month_cos_4,month_cos_5,hour_sin_1,hour_sin_2,hour_sin_3,hour_sin_4,hour_sin_5,hour_cos_1,hour_cos_2,hour_cos_3,hour_cos_4,hour_cos_5,minute_sin_1,minute_sin_2,minute_sin_3,minute_sin_4,minute_sin_5,minute_cos_1,minute_cos_2,minute_cos_3,minute_cos_4,minute_cos_5\n"
     ]
    }
   ],
   "source": [
    "with LogTime():\n",
    "    full_df, added_features = bulk_add_fourier_features(\n",
    "        full_df,\n",
    "        [\"month\", \"hour\", \"minute\"],\n",
    "        max_values=[12, 24, 60],\n",
    "        n_fourier_terms=5,\n",
    "        use_32_bit=True,\n",
    "    )\n",
    "print(f\"Features Created: {','.join(added_features)}\")"
   ]
  },
  {
   "cell_type": "markdown",
   "id": "5c46e73b-f110-43e0-a40f-48943df5b1b7",
   "metadata": {},
   "source": [
    "### Plotting Fourier Terms"
   ]
  },
  {
   "cell_type": "code",
   "execution_count": 56,
   "id": "59927654-b2a6-4582-acd9-3712c496d667",
   "metadata": {},
   "outputs": [],
   "source": [
    "plot_df = (\n",
    "    full_df[[\"month\", \"month_sin_1\"]]\n",
    "    .drop_duplicates()\n",
    "    .sort_values(\"month\")\n",
    ")\n",
    "\n",
    "plot_df.columns = [\"calendar\", \"fourier\"]\n",
    "\n",
    "plot_df = pd.concat([plot_df, plot_df, plot_df]).reset_index(drop=True)\n",
    "# plot_df.reset_index(drop=True, inplace=True)\n",
    "\n",
    "plot_df.reset_index(inplace=True)\n",
    "plot_df[\"index\"] += 1\n",
    "plot_df = pd.melt(\n",
    "    plot_df, id_vars=\"index\", var_name=\"month\", value_name=\"Representation\"\n",
    ")"
   ]
  },
  {
   "cell_type": "code",
   "execution_count": 57,
   "id": "cd689b73-cc06-4f0d-9f76-d11a56863cda",
   "metadata": {},
   "outputs": [
    {
     "data": {
      "application/vnd.plotly.v1+json": {
       "config": {
        "plotlyServerURL": "https://plot.ly"
       },
       "data": [
        {
         "hovertemplate": "month=calendar<br>index=%{x}<br>Representation=%{y}<extra></extra>",
         "legendgroup": "",
         "line": {
          "color": "#636efa",
          "dash": "solid"
         },
         "marker": {
          "symbol": "circle"
         },
         "mode": "lines",
         "name": "",
         "orientation": "v",
         "showlegend": false,
         "type": "scatter",
         "x": [
          1,
          2,
          3,
          4,
          5,
          6,
          7,
          8,
          9,
          10,
          11,
          12,
          13,
          14,
          15,
          16,
          17,
          18,
          19,
          20,
          21,
          22,
          23,
          24,
          25,
          26,
          27,
          28,
          29,
          30,
          31,
          32,
          33,
          34,
          35,
          36
         ],
         "xaxis": "x2",
         "y": [
          1,
          2,
          3,
          4,
          5,
          6,
          7,
          8,
          9,
          10,
          11,
          12,
          1,
          2,
          3,
          4,
          5,
          6,
          7,
          8,
          9,
          10,
          11,
          12,
          1,
          2,
          3,
          4,
          5,
          6,
          7,
          8,
          9,
          10,
          11,
          12
         ],
         "yaxis": "y2"
        },
        {
         "hovertemplate": "month=fourier<br>index=%{x}<br>Representation=%{y}<extra></extra>",
         "legendgroup": "",
         "line": {
          "color": "#636efa",
          "dash": "solid"
         },
         "marker": {
          "symbol": "circle"
         },
         "mode": "lines",
         "name": "",
         "orientation": "v",
         "showlegend": false,
         "type": "scatter",
         "x": [
          1,
          2,
          3,
          4,
          5,
          6,
          7,
          8,
          9,
          10,
          11,
          12,
          13,
          14,
          15,
          16,
          17,
          18,
          19,
          20,
          21,
          22,
          23,
          24,
          25,
          26,
          27,
          28,
          29,
          30,
          31,
          32,
          33,
          34,
          35,
          36
         ],
         "xaxis": "x",
         "y": [
          0.5,
          0.8660253882408142,
          1,
          0.8660253882408142,
          0.5,
          1.2246468525851679e-16,
          -0.5,
          -0.8660253882408142,
          -1,
          -0.8660253882408142,
          -0.5,
          -2.4492937051703357e-16,
          0.5,
          0.8660253882408142,
          1,
          0.8660253882408142,
          0.5,
          1.2246468525851679e-16,
          -0.5,
          -0.8660253882408142,
          -1,
          -0.8660253882408142,
          -0.5,
          -2.4492937051703357e-16,
          0.5,
          0.8660253882408142,
          1,
          0.8660253882408142,
          0.5,
          1.2246468525851679e-16,
          -0.5,
          -0.8660253882408142,
          -1,
          -0.8660253882408142,
          -0.5,
          -2.4492937051703357e-16
         ],
         "yaxis": "y"
        }
       ],
       "layout": {
        "annotations": [
         {
          "font": {},
          "showarrow": false,
          "text": "month=fourier",
          "textangle": 90,
          "x": 0.98,
          "xanchor": "left",
          "xref": "paper",
          "y": 0.2425,
          "yanchor": "middle",
          "yref": "paper"
         },
         {
          "font": {},
          "showarrow": false,
          "text": "month=calendar",
          "textangle": 90,
          "x": 0.98,
          "xanchor": "left",
          "xref": "paper",
          "y": 0.7575000000000001,
          "yanchor": "middle",
          "yref": "paper"
         }
        ],
        "autosize": false,
        "height": 800,
        "legend": {
         "title": {},
         "tracegroupgap": 0
        },
        "margin": {
         "t": 60
        },
        "template": {
         "data": {
          "bar": [
           {
            "error_x": {
             "color": "#2a3f5f"
            },
            "error_y": {
             "color": "#2a3f5f"
            },
            "marker": {
             "line": {
              "color": "#E5ECF6",
              "width": 0.5
             },
             "pattern": {
              "fillmode": "overlay",
              "size": 10,
              "solidity": 0.2
             }
            },
            "type": "bar"
           }
          ],
          "barpolar": [
           {
            "marker": {
             "line": {
              "color": "#E5ECF6",
              "width": 0.5
             },
             "pattern": {
              "fillmode": "overlay",
              "size": 10,
              "solidity": 0.2
             }
            },
            "type": "barpolar"
           }
          ],
          "carpet": [
           {
            "aaxis": {
             "endlinecolor": "#2a3f5f",
             "gridcolor": "white",
             "linecolor": "white",
             "minorgridcolor": "white",
             "startlinecolor": "#2a3f5f"
            },
            "baxis": {
             "endlinecolor": "#2a3f5f",
             "gridcolor": "white",
             "linecolor": "white",
             "minorgridcolor": "white",
             "startlinecolor": "#2a3f5f"
            },
            "type": "carpet"
           }
          ],
          "choropleth": [
           {
            "colorbar": {
             "outlinewidth": 0,
             "ticks": ""
            },
            "type": "choropleth"
           }
          ],
          "contour": [
           {
            "colorbar": {
             "outlinewidth": 0,
             "ticks": ""
            },
            "colorscale": [
             [
              0,
              "#0d0887"
             ],
             [
              0.1111111111111111,
              "#46039f"
             ],
             [
              0.2222222222222222,
              "#7201a8"
             ],
             [
              0.3333333333333333,
              "#9c179e"
             ],
             [
              0.4444444444444444,
              "#bd3786"
             ],
             [
              0.5555555555555556,
              "#d8576b"
             ],
             [
              0.6666666666666666,
              "#ed7953"
             ],
             [
              0.7777777777777778,
              "#fb9f3a"
             ],
             [
              0.8888888888888888,
              "#fdca26"
             ],
             [
              1,
              "#f0f921"
             ]
            ],
            "type": "contour"
           }
          ],
          "contourcarpet": [
           {
            "colorbar": {
             "outlinewidth": 0,
             "ticks": ""
            },
            "type": "contourcarpet"
           }
          ],
          "heatmap": [
           {
            "colorbar": {
             "outlinewidth": 0,
             "ticks": ""
            },
            "colorscale": [
             [
              0,
              "#0d0887"
             ],
             [
              0.1111111111111111,
              "#46039f"
             ],
             [
              0.2222222222222222,
              "#7201a8"
             ],
             [
              0.3333333333333333,
              "#9c179e"
             ],
             [
              0.4444444444444444,
              "#bd3786"
             ],
             [
              0.5555555555555556,
              "#d8576b"
             ],
             [
              0.6666666666666666,
              "#ed7953"
             ],
             [
              0.7777777777777778,
              "#fb9f3a"
             ],
             [
              0.8888888888888888,
              "#fdca26"
             ],
             [
              1,
              "#f0f921"
             ]
            ],
            "type": "heatmap"
           }
          ],
          "heatmapgl": [
           {
            "colorbar": {
             "outlinewidth": 0,
             "ticks": ""
            },
            "colorscale": [
             [
              0,
              "#0d0887"
             ],
             [
              0.1111111111111111,
              "#46039f"
             ],
             [
              0.2222222222222222,
              "#7201a8"
             ],
             [
              0.3333333333333333,
              "#9c179e"
             ],
             [
              0.4444444444444444,
              "#bd3786"
             ],
             [
              0.5555555555555556,
              "#d8576b"
             ],
             [
              0.6666666666666666,
              "#ed7953"
             ],
             [
              0.7777777777777778,
              "#fb9f3a"
             ],
             [
              0.8888888888888888,
              "#fdca26"
             ],
             [
              1,
              "#f0f921"
             ]
            ],
            "type": "heatmapgl"
           }
          ],
          "histogram": [
           {
            "marker": {
             "pattern": {
              "fillmode": "overlay",
              "size": 10,
              "solidity": 0.2
             }
            },
            "type": "histogram"
           }
          ],
          "histogram2d": [
           {
            "colorbar": {
             "outlinewidth": 0,
             "ticks": ""
            },
            "colorscale": [
             [
              0,
              "#0d0887"
             ],
             [
              0.1111111111111111,
              "#46039f"
             ],
             [
              0.2222222222222222,
              "#7201a8"
             ],
             [
              0.3333333333333333,
              "#9c179e"
             ],
             [
              0.4444444444444444,
              "#bd3786"
             ],
             [
              0.5555555555555556,
              "#d8576b"
             ],
             [
              0.6666666666666666,
              "#ed7953"
             ],
             [
              0.7777777777777778,
              "#fb9f3a"
             ],
             [
              0.8888888888888888,
              "#fdca26"
             ],
             [
              1,
              "#f0f921"
             ]
            ],
            "type": "histogram2d"
           }
          ],
          "histogram2dcontour": [
           {
            "colorbar": {
             "outlinewidth": 0,
             "ticks": ""
            },
            "colorscale": [
             [
              0,
              "#0d0887"
             ],
             [
              0.1111111111111111,
              "#46039f"
             ],
             [
              0.2222222222222222,
              "#7201a8"
             ],
             [
              0.3333333333333333,
              "#9c179e"
             ],
             [
              0.4444444444444444,
              "#bd3786"
             ],
             [
              0.5555555555555556,
              "#d8576b"
             ],
             [
              0.6666666666666666,
              "#ed7953"
             ],
             [
              0.7777777777777778,
              "#fb9f3a"
             ],
             [
              0.8888888888888888,
              "#fdca26"
             ],
             [
              1,
              "#f0f921"
             ]
            ],
            "type": "histogram2dcontour"
           }
          ],
          "mesh3d": [
           {
            "colorbar": {
             "outlinewidth": 0,
             "ticks": ""
            },
            "type": "mesh3d"
           }
          ],
          "parcoords": [
           {
            "line": {
             "colorbar": {
              "outlinewidth": 0,
              "ticks": ""
             }
            },
            "type": "parcoords"
           }
          ],
          "pie": [
           {
            "automargin": true,
            "type": "pie"
           }
          ],
          "scatter": [
           {
            "fillpattern": {
             "fillmode": "overlay",
             "size": 10,
             "solidity": 0.2
            },
            "type": "scatter"
           }
          ],
          "scatter3d": [
           {
            "line": {
             "colorbar": {
              "outlinewidth": 0,
              "ticks": ""
             }
            },
            "marker": {
             "colorbar": {
              "outlinewidth": 0,
              "ticks": ""
             }
            },
            "type": "scatter3d"
           }
          ],
          "scattercarpet": [
           {
            "marker": {
             "colorbar": {
              "outlinewidth": 0,
              "ticks": ""
             }
            },
            "type": "scattercarpet"
           }
          ],
          "scattergeo": [
           {
            "marker": {
             "colorbar": {
              "outlinewidth": 0,
              "ticks": ""
             }
            },
            "type": "scattergeo"
           }
          ],
          "scattergl": [
           {
            "marker": {
             "colorbar": {
              "outlinewidth": 0,
              "ticks": ""
             }
            },
            "type": "scattergl"
           }
          ],
          "scattermapbox": [
           {
            "marker": {
             "colorbar": {
              "outlinewidth": 0,
              "ticks": ""
             }
            },
            "type": "scattermapbox"
           }
          ],
          "scatterpolar": [
           {
            "marker": {
             "colorbar": {
              "outlinewidth": 0,
              "ticks": ""
             }
            },
            "type": "scatterpolar"
           }
          ],
          "scatterpolargl": [
           {
            "marker": {
             "colorbar": {
              "outlinewidth": 0,
              "ticks": ""
             }
            },
            "type": "scatterpolargl"
           }
          ],
          "scatterternary": [
           {
            "marker": {
             "colorbar": {
              "outlinewidth": 0,
              "ticks": ""
             }
            },
            "type": "scatterternary"
           }
          ],
          "surface": [
           {
            "colorbar": {
             "outlinewidth": 0,
             "ticks": ""
            },
            "colorscale": [
             [
              0,
              "#0d0887"
             ],
             [
              0.1111111111111111,
              "#46039f"
             ],
             [
              0.2222222222222222,
              "#7201a8"
             ],
             [
              0.3333333333333333,
              "#9c179e"
             ],
             [
              0.4444444444444444,
              "#bd3786"
             ],
             [
              0.5555555555555556,
              "#d8576b"
             ],
             [
              0.6666666666666666,
              "#ed7953"
             ],
             [
              0.7777777777777778,
              "#fb9f3a"
             ],
             [
              0.8888888888888888,
              "#fdca26"
             ],
             [
              1,
              "#f0f921"
             ]
            ],
            "type": "surface"
           }
          ],
          "table": [
           {
            "cells": {
             "fill": {
              "color": "#EBF0F8"
             },
             "line": {
              "color": "white"
             }
            },
            "header": {
             "fill": {
              "color": "#C8D4E3"
             },
             "line": {
              "color": "white"
             }
            },
            "type": "table"
           }
          ]
         },
         "layout": {
          "annotationdefaults": {
           "arrowcolor": "#2a3f5f",
           "arrowhead": 0,
           "arrowwidth": 1
          },
          "autotypenumbers": "strict",
          "coloraxis": {
           "colorbar": {
            "outlinewidth": 0,
            "ticks": ""
           }
          },
          "colorscale": {
           "diverging": [
            [
             0,
             "#8e0152"
            ],
            [
             0.1,
             "#c51b7d"
            ],
            [
             0.2,
             "#de77ae"
            ],
            [
             0.3,
             "#f1b6da"
            ],
            [
             0.4,
             "#fde0ef"
            ],
            [
             0.5,
             "#f7f7f7"
            ],
            [
             0.6,
             "#e6f5d0"
            ],
            [
             0.7,
             "#b8e186"
            ],
            [
             0.8,
             "#7fbc41"
            ],
            [
             0.9,
             "#4d9221"
            ],
            [
             1,
             "#276419"
            ]
           ],
           "sequential": [
            [
             0,
             "#0d0887"
            ],
            [
             0.1111111111111111,
             "#46039f"
            ],
            [
             0.2222222222222222,
             "#7201a8"
            ],
            [
             0.3333333333333333,
             "#9c179e"
            ],
            [
             0.4444444444444444,
             "#bd3786"
            ],
            [
             0.5555555555555556,
             "#d8576b"
            ],
            [
             0.6666666666666666,
             "#ed7953"
            ],
            [
             0.7777777777777778,
             "#fb9f3a"
            ],
            [
             0.8888888888888888,
             "#fdca26"
            ],
            [
             1,
             "#f0f921"
            ]
           ],
           "sequentialminus": [
            [
             0,
             "#0d0887"
            ],
            [
             0.1111111111111111,
             "#46039f"
            ],
            [
             0.2222222222222222,
             "#7201a8"
            ],
            [
             0.3333333333333333,
             "#9c179e"
            ],
            [
             0.4444444444444444,
             "#bd3786"
            ],
            [
             0.5555555555555556,
             "#d8576b"
            ],
            [
             0.6666666666666666,
             "#ed7953"
            ],
            [
             0.7777777777777778,
             "#fb9f3a"
            ],
            [
             0.8888888888888888,
             "#fdca26"
            ],
            [
             1,
             "#f0f921"
            ]
           ]
          },
          "colorway": [
           "#636efa",
           "#EF553B",
           "#00cc96",
           "#ab63fa",
           "#FFA15A",
           "#19d3f3",
           "#FF6692",
           "#B6E880",
           "#FF97FF",
           "#FECB52"
          ],
          "font": {
           "color": "#2a3f5f"
          },
          "geo": {
           "bgcolor": "white",
           "lakecolor": "white",
           "landcolor": "#E5ECF6",
           "showlakes": true,
           "showland": true,
           "subunitcolor": "white"
          },
          "hoverlabel": {
           "align": "left"
          },
          "hovermode": "closest",
          "mapbox": {
           "style": "light"
          },
          "paper_bgcolor": "white",
          "plot_bgcolor": "#E5ECF6",
          "polar": {
           "angularaxis": {
            "gridcolor": "white",
            "linecolor": "white",
            "ticks": ""
           },
           "bgcolor": "#E5ECF6",
           "radialaxis": {
            "gridcolor": "white",
            "linecolor": "white",
            "ticks": ""
           }
          },
          "scene": {
           "xaxis": {
            "backgroundcolor": "#E5ECF6",
            "gridcolor": "white",
            "gridwidth": 2,
            "linecolor": "white",
            "showbackground": true,
            "ticks": "",
            "zerolinecolor": "white"
           },
           "yaxis": {
            "backgroundcolor": "#E5ECF6",
            "gridcolor": "white",
            "gridwidth": 2,
            "linecolor": "white",
            "showbackground": true,
            "ticks": "",
            "zerolinecolor": "white"
           },
           "zaxis": {
            "backgroundcolor": "#E5ECF6",
            "gridcolor": "white",
            "gridwidth": 2,
            "linecolor": "white",
            "showbackground": true,
            "ticks": "",
            "zerolinecolor": "white"
           }
          },
          "shapedefaults": {
           "line": {
            "color": "#2a3f5f"
           }
          },
          "ternary": {
           "aaxis": {
            "gridcolor": "white",
            "linecolor": "white",
            "ticks": ""
           },
           "baxis": {
            "gridcolor": "white",
            "linecolor": "white",
            "ticks": ""
           },
           "bgcolor": "#E5ECF6",
           "caxis": {
            "gridcolor": "white",
            "linecolor": "white",
            "ticks": ""
           }
          },
          "title": {
           "x": 0.05
          },
          "xaxis": {
           "automargin": true,
           "gridcolor": "white",
           "linecolor": "white",
           "ticks": "",
           "title": {
            "standoff": 15
           },
           "zerolinecolor": "white",
           "zerolinewidth": 2
          },
          "yaxis": {
           "automargin": true,
           "gridcolor": "white",
           "linecolor": "white",
           "ticks": "",
           "title": {
            "standoff": 15
           },
           "zerolinecolor": "white",
           "zerolinewidth": 2
          }
         }
        },
        "title": {
         "font": {
          "size": 20
         },
         "text": "Step Function vs Continuous Function",
         "x": 0.5,
         "xanchor": "center",
         "yanchor": "top"
        },
        "width": 900,
        "xaxis": {
         "anchor": "y",
         "domain": [
          0,
          0.98
         ],
         "ticktext": [
          1,
          2,
          3,
          4,
          5,
          6,
          7,
          8,
          9,
          10,
          11,
          12,
          1,
          2,
          3,
          4,
          5,
          6,
          7,
          8,
          9,
          10,
          11,
          12,
          1,
          2,
          3,
          4,
          5,
          6,
          7,
          8,
          9,
          10,
          11,
          12
         ],
         "tickvals": [
          1,
          2,
          3,
          4,
          5,
          6,
          7,
          8,
          9,
          10,
          11,
          12,
          13,
          14,
          15,
          16,
          17,
          18,
          19,
          20,
          21,
          22,
          23,
          24,
          25,
          26,
          27,
          28,
          29,
          30,
          31,
          32,
          33,
          34,
          35,
          36,
          37,
          38,
          39,
          40,
          41,
          42,
          43,
          44,
          45,
          46,
          47,
          48,
          49,
          50,
          51,
          52,
          53,
          54,
          55,
          56,
          57,
          58,
          59,
          60,
          61,
          62,
          63,
          64,
          65,
          66,
          67,
          68,
          69,
          70,
          71,
          72
         ],
         "title": {
          "text": "Time"
         }
        },
        "xaxis2": {
         "anchor": "y2",
         "domain": [
          0,
          0.98
         ],
         "matches": "x",
         "showticklabels": false,
         "ticktext": [
          1,
          2,
          3,
          4,
          5,
          6,
          7,
          8,
          9,
          10,
          11,
          12,
          1,
          2,
          3,
          4,
          5,
          6,
          7,
          8,
          9,
          10,
          11,
          12,
          1,
          2,
          3,
          4,
          5,
          6,
          7,
          8,
          9,
          10,
          11,
          12
         ],
         "tickvals": [
          1,
          2,
          3,
          4,
          5,
          6,
          7,
          8,
          9,
          10,
          11,
          12,
          13,
          14,
          15,
          16,
          17,
          18,
          19,
          20,
          21,
          22,
          23,
          24,
          25,
          26,
          27,
          28,
          29,
          30,
          31,
          32,
          33,
          34,
          35,
          36,
          37,
          38,
          39,
          40,
          41,
          42,
          43,
          44,
          45,
          46,
          47,
          48,
          49,
          50,
          51,
          52,
          53,
          54,
          55,
          56,
          57,
          58,
          59,
          60,
          61,
          62,
          63,
          64,
          65,
          66,
          67,
          68,
          69,
          70,
          71,
          72
         ]
        },
        "yaxis": {
         "anchor": "x",
         "domain": [
          0,
          0.485
         ],
         "title": {
          "text": "Representation"
         }
        },
        "yaxis2": {
         "anchor": "x2",
         "domain": [
          0.515,
          1
         ],
         "title": {
          "text": "Representation"
         }
        }
       }
      }
     },
     "metadata": {},
     "output_type": "display_data"
    }
   ],
   "source": [
    "fig = px.line(plot_df, x=\"index\", y=\"Representation\", facet_row=\"month\")\n",
    "fig.update_layout(\n",
    "    autosize=False,\n",
    "    width=900,\n",
    "    height=800,\n",
    "    title_text=\"Step Function vs Continuous Function\",\n",
    "    title={\"x\": 0.5, \"xanchor\": \"center\", \"yanchor\": \"top\"},\n",
    "    titlefont={\"size\": 20},\n",
    "    legend_title=None,\n",
    "    # yaxis=dict(\n",
    "    #     # title_text=ylabel,\n",
    "    #     # titlefont=dict(size=12),\n",
    "    # ),\n",
    "    xaxis=dict(\n",
    "        title_text=\"Time\",\n",
    "        # titlefont=dict(size=12),\n",
    "    ),\n",
    ")\n",
    "fig.update_yaxes(matches=None)\n",
    "fig.update_xaxes(\n",
    "    ticktext=np.arange(1, 13).tolist() * 3,\n",
    "    tickvals=np.arange(len(plot_df)) + 1,\n",
    ")\n",
    "# fig.write_image(f\"imgs/chapter_6/fourier.png\")\n",
    "fig.show()"
   ]
  },
  {
   "cell_type": "markdown",
   "id": "70e90c00-289e-4b9f-8681-69f120f5b2f5",
   "metadata": {},
   "source": [
    "# Saving the feature engineered file"
   ]
  },
  {
   "cell_type": "code",
   "execution_count": 58,
   "id": "7e67f286-13ad-48f5-88bf-99836352e391",
   "metadata": {},
   "outputs": [
    {
     "name": "stdout",
     "output_type": "stream",
     "text": [
      "<class 'pandas.core.frame.DataFrame'>\n",
      "Index: 4560240 entries, 1008 to 32687\n",
      "Columns: 96 entries, timestamp to minute_cos_5\n",
      "dtypes: bool(6), category(10), datetime64[ns](1), float32(68), int32(2), object(1), uint16(1), uint8(7)\n",
      "memory usage: 1.6 GB\n"
     ]
    }
   ],
   "source": [
    "full_df.info(memory_usage=\"deep\", verbose=False)"
   ]
  },
  {
   "cell_type": "code",
   "execution_count": 25,
   "id": "9fca206d-d40d-4d16-8b40-f3f58e337836",
   "metadata": {},
   "outputs": [],
   "source": [
    "full_df[full_df[\"type\"] == \"train\"].drop(columns=\"type\").to_parquet(\n",
    "    preprocessed / \"selected_blocks_train_missing_imputed_feature_engg_mlforecast.parquet\"\n",
    ")\n",
    "full_df[full_df[\"type\"] == \"val\"].drop(columns=\"type\").to_parquet(\n",
    "    preprocessed / \"selected_blocks_val_missing_imputed_feature_engg_mlforecast.parquet\"\n",
    ")\n",
    "full_df[full_df[\"type\"] == \"test\"].drop(columns=\"type\").to_parquet(\n",
    "    preprocessed / \"selected_blocks_test_missing_imputed_feature_engg_mlforecast.parquet\"\n",
    ")"
   ]
  }
 ],
 "metadata": {
  "kernelspec": {
   "display_name": "Python 3 (ipykernel)",
   "language": "python",
   "name": "python3"
  },
  "language_info": {
   "codemirror_mode": {
    "name": "ipython",
    "version": 3
   },
   "file_extension": ".py",
   "mimetype": "text/x-python",
   "name": "python",
   "nbconvert_exporter": "python",
   "pygments_lexer": "ipython3",
   "version": "3.11.9"
  },
  "varInspector": {
   "cols": {
    "lenName": 16,
    "lenType": 16,
    "lenVar": 40
   },
   "kernels_config": {
    "python": {
     "delete_cmd_postfix": "",
     "delete_cmd_prefix": "del ",
     "library": "var_list.py",
     "varRefreshCmd": "print(var_dic_list())"
    },
    "r": {
     "delete_cmd_postfix": ") ",
     "delete_cmd_prefix": "rm(",
     "library": "var_list.r",
     "varRefreshCmd": "cat(var_dic_list()) "
    }
   },
   "types_to_exclude": [
    "module",
    "function",
    "builtin_function_or_method",
    "instance",
    "_Feature"
   ],
   "window_display": false
  }
 },
 "nbformat": 4,
 "nbformat_minor": 5
}
