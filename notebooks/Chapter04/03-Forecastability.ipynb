{
 "cells": [
{
  "cell_type": "markdown",
  "id": "notebook-title",
  "metadata": {},
  "source": [
    "# Forecastability\n",
    "\n",
    "[![Open In Colab](https://colab.research.google.com/assets/colab-badge.svg)](https://colab.research.google.com/github/gogati/Modern-Time-Series-Forecasting-with-Python-2E/blob/main/notebooks/Chapter04/03-Forecastability.ipynb)\n",
    "\n",
    " "
  ]
},
  {
   "cell_type": "code",
   "execution_count": 1,
   "id": "b25018c9-2624-434c-aa23-04be1d73e729",
   "metadata": {},
   "outputs": [
    {
     "name": "stdout",
     "output_type": "stream",
     "text": [
      "c:\\Users\\tacke\\OneDrive\\Documents\\GitHub\\Modern-Time-Series-Forecasting-with-Python-2E-1\n"
     ]
    }
   ],
   "source": [
    "%cd ../.."
   ]
  },
  {
   "cell_type": "code",
   "execution_count": 2,
   "id": "4f023467-970a-461e-a60f-7a66fce6a497",
   "metadata": {},
   "outputs": [
    {
     "name": "stderr",
     "output_type": "stream",
     "text": [
      "C:\\Users\\tacke\\AppData\\Local\\Temp\\ipykernel_18136\\2887792104.py:9: TqdmExperimentalWarning: Using `tqdm.autonotebook.tqdm` in notebook mode. Use `tqdm.tqdm` instead to force console mode (e.g. in jupyter console)\n",
      "  from tqdm.autonotebook import tqdm\n",
      "c:\\Users\\tacke\\anaconda3\\envs\\modern_ts_2E\\Lib\\site-packages\\statsforecast\\utils.py:237: FutureWarning: 'M' is deprecated and will be removed in a future version, please use 'ME' instead.\n",
      "  \"ds\": pd.date_range(start=\"1949-01-01\", periods=len(AirPassengers), freq=\"M\"),\n"
     ]
    }
   ],
   "source": [
    "import numpy as np\n",
    "import matplotlib.pyplot as plt\n",
    "import plotly.express as px\n",
    "import os\n",
    "import plotly.io as pio\n",
    "pio.templates.default = \"plotly_white\"\n",
    "import pandas as pd\n",
    "from pathlib import Path\n",
    "from tqdm.autonotebook import tqdm\n",
    "import statsmodels.api as sm\n",
    "import warnings\n",
    "\n",
    "\n",
    "from statsforecast.core import StatsForecast\n",
    "from utilsforecast.evaluation import evaluate\n",
    "from statsforecast.models import (\n",
    "    Naive,\n",
    "    SeasonalNaive,\n",
    "    SimpleExponentialSmoothing,\n",
    "    AutoETS,\n",
    "    AutoTheta,\n",
    "    Theta,\n",
    "    OptimizedTheta,\n",
    "\n",
    ")\n",
    "from datasetsforecast.losses import *\n",
    "#from darts.models import Theta\n",
    "#from darts.utils.utils import ModelMode, SeasonalityMode\n",
    "from IPython.display import display, HTML\n",
    "# %load_ext autoreload\n",
    "# %autoreload 2\n",
    "np.random.seed(42)\n",
    "tqdm.pandas()\n",
    "pd.set_option('display.max_rows', None)\n"
   ]
  },
  {
   "cell_type": "code",
   "execution_count": 3,
   "id": "f29e279e",
   "metadata": {},
   "outputs": [],
   "source": [
    "# this makes it so that the outputs of the predict methods have the id as a column \n",
    "# instead of as the index\n",
    "if 'NIXTLA_ID_AS_COL' in os.environ:\n",
    "    del os.environ['NIXTLA_ID_AS_COL']\n",
    "os.environ['NIXTLA_ID_AS_COL'] = '1'"
   ]
  },
  {
   "cell_type": "code",
   "execution_count": 4,
   "id": "3300f315-d2a6-471a-8376-3c41faedf778",
   "metadata": {},
   "outputs": [],
   "source": [
    "os.makedirs(\"imgs/chapter_4\", exist_ok=True)\n",
    "preprocessed = Path(\"data/london_smart_meters/preprocessed\")\n",
    "output = Path(\"data/london_smart_meters/output\")"
   ]
  },
  {
   "cell_type": "code",
   "execution_count": 5,
   "id": "b39d8582-8372-4cce-ae7d-2480b1e5566f",
   "metadata": {},
   "outputs": [],
   "source": [
    "def format_plot(fig, legends = None, xlabel=\"Time\", ylabel=\"Value\"):\n",
    "    if legends:\n",
    "        names = cycle(legends)\n",
    "        fig.for_each_trace(lambda t:  t.update(name = next(names)))\n",
    "    fig.update_layout(\n",
    "            autosize=False,\n",
    "            width=900,\n",
    "            height=500,\n",
    "            title={\n",
    "            'x':0.5,\n",
    "            'xanchor': 'center',\n",
    "            'yanchor': 'top'},\n",
    "            titlefont={\n",
    "                \"size\": 20\n",
    "            },\n",
    "            legend_title = None,\n",
    "            yaxis=dict(\n",
    "                title_text=ylabel,\n",
    "                titlefont=dict(size=12),\n",
    "            ),\n",
    "            xaxis=dict(\n",
    "                title_text=xlabel,\n",
    "                titlefont=dict(size=12),\n",
    "            )\n",
    "        )\n",
    "    return fig"
   ]
  },
  {
   "cell_type": "markdown",
   "id": "48076ba2-6814-4937-8ef8-87de72c85a6f",
   "metadata": {
    "tags": []
   },
   "source": [
    "# Reading and Selecting Households"
   ]
  },
  {
   "cell_type": "code",
   "execution_count": 6,
   "id": "b57b411b-ae54-4bd5-89a7-49540abda621",
   "metadata": {},
   "outputs": [],
   "source": [
    "try:\n",
    "    lclid_acorn_map = pd.read_pickle(\"data/london_smart_meters/preprocessed/london_smart_meters_lclid_acorn_map.pkl\")\n",
    "except FileNotFoundError:\n",
    "    display(HTML(\"\"\"\n",
    "    <div class=\"alert alert-block alert-warning\">\n",
    "    <b>Warning!</b> File not found. Please make sure you have run 02 - Preprocessing London Smart Meter Dataset.ipynb in Chapter02\n",
    "    </div>\n",
    "    \"\"\"))"
   ]
  },
  {
   "cell_type": "code",
   "execution_count": 7,
   "id": "eec763cf-b16a-4576-940b-67a0640386bb",
   "metadata": {},
   "outputs": [],
   "source": [
    "affluent_households = lclid_acorn_map.loc[lclid_acorn_map.Acorn_grouped==\"Affluent\", [\"LCLid\",'file']]\n",
    "adversity_households = lclid_acorn_map.loc[lclid_acorn_map.Acorn_grouped==\"Adversity\", [\"LCLid\",'file']]\n",
    "comfortable_households = lclid_acorn_map.loc[lclid_acorn_map.Acorn_grouped==\"Comfortable\", [\"LCLid\",'file']]"
   ]
  },
  {
   "cell_type": "markdown",
   "id": "f5ba0beb-67cc-49a3-bb89-479456212df8",
   "metadata": {},
   "source": [
    "Let's take a subset of the data because if we take everything, it will hit your RAM. Depending on how much RAM you have, we can choose larger data. But to maintain the variety in the dataset, we will do stratified sampling based on Acorn classifications. Here are a few guidelines:\n",
    "\n",
    "* <= 50 households for 4GB RAM\n",
    "* 50 - 100 households for 8GB RAM\n",
    "* 100-150 households for 16GB RAM\n",
    "* 250 households for 32GB RAM\n",
    "\n",
    "Let's sample 150 households now, but feel free to reduce of increase as per your hardware constraints\n",
    "\n",
    "150 households means 50 each from the three Acorn Groups - Affluent, Comfortable, Adversity (we are ignoring the households with unknown ACORN groups)"
   ]
  },
  {
   "cell_type": "code",
   "execution_count": 8,
   "id": "288ab0bd-d88d-41e3-9dac-441fdcdab640",
   "metadata": {},
   "outputs": [],
   "source": [
    "size = 50\n",
    "selected_households = pd.concat(\n",
    "    [\n",
    "        affluent_households.sample(size, random_state=76),\n",
    "        comfortable_households.sample(size, random_state=76),\n",
    "        adversity_households.sample(size, random_state=76),\n",
    "    ]\n",
    ")\n",
    "selected_households['block']=selected_households.file.str.split(\"_\", expand=True).iloc[:,1].astype(int)"
   ]
  },
  {
   "cell_type": "code",
   "execution_count": 9,
   "id": "61d36f8f-f60a-4730-baff-a58c0a034b78",
   "metadata": {},
   "outputs": [],
   "source": [
    "# extracting the paths to the different blocks and extracting the starting and ending blocks\n",
    "path_blocks = [\n",
    "    (p, *list(map(int, p.name.split(\"_\")[5].split(\".\")[0].split(\"-\"))))\n",
    "    for p in Path(\"data/london_smart_meters/preprocessed\").glob(\n",
    "        \"london_smart_meters_merged_block*\"\n",
    "    )\n",
    "]"
   ]
  },
  {
   "cell_type": "code",
   "execution_count": 10,
   "id": "2c5f8e41-c64e-40e1-a404-5210c00a8537",
   "metadata": {},
   "outputs": [
    {
     "data": {
      "application/vnd.jupyter.widget-view+json": {
       "model_id": "bcb90463970144d78a1fce4f3eedd761",
       "version_major": 2,
       "version_minor": 0
      },
      "text/plain": [
       "  0%|          | 0/14 [00:00<?, ?it/s]"
      ]
     },
     "metadata": {},
     "output_type": "display_data"
    }
   ],
   "source": [
    "household_df_l = []\n",
    "for path, start_b, end_b in tqdm(path_blocks):\n",
    "    block_df = pd.read_parquet(path)\n",
    "    selected_households['block'].between\n",
    "    mask = selected_households['block'].between(start_b, end_b)\n",
    "    lclids = selected_households.loc[mask, \"LCLid\"]\n",
    "    household_df_l.append(block_df.loc[block_df.LCLid.isin(lclids)])"
   ]
  },
  {
   "cell_type": "code",
   "execution_count": 11,
   "id": "9c5c35cc-9f43-4b08-9a6e-69c337eee849",
   "metadata": {},
   "outputs": [
    {
     "data": {
      "text/html": [
       "<div>\n",
       "<style scoped>\n",
       "    .dataframe tbody tr th:only-of-type {\n",
       "        vertical-align: middle;\n",
       "    }\n",
       "\n",
       "    .dataframe tbody tr th {\n",
       "        vertical-align: top;\n",
       "    }\n",
       "\n",
       "    .dataframe thead th {\n",
       "        text-align: right;\n",
       "    }\n",
       "</style>\n",
       "<table border=\"1\" class=\"dataframe\">\n",
       "  <thead>\n",
       "    <tr style=\"text-align: right;\">\n",
       "      <th></th>\n",
       "      <th>LCLid</th>\n",
       "      <th>start_timestamp</th>\n",
       "      <th>frequency</th>\n",
       "      <th>energy_consumption</th>\n",
       "      <th>series_length</th>\n",
       "      <th>stdorToU</th>\n",
       "      <th>Acorn</th>\n",
       "      <th>Acorn_grouped</th>\n",
       "      <th>file</th>\n",
       "      <th>holidays</th>\n",
       "      <th>...</th>\n",
       "      <th>windBearing</th>\n",
       "      <th>temperature</th>\n",
       "      <th>dewPoint</th>\n",
       "      <th>pressure</th>\n",
       "      <th>apparentTemperature</th>\n",
       "      <th>windSpeed</th>\n",
       "      <th>precipType</th>\n",
       "      <th>icon</th>\n",
       "      <th>humidity</th>\n",
       "      <th>summary</th>\n",
       "    </tr>\n",
       "  </thead>\n",
       "  <tbody>\n",
       "    <tr>\n",
       "      <th>57</th>\n",
       "      <td>MAC000768</td>\n",
       "      <td>2012-04-21</td>\n",
       "      <td>30min</td>\n",
       "      <td>[0.8440000000000001, 0.265, 0.262, 0.233999999...</td>\n",
       "      <td>32544</td>\n",
       "      <td>Std</td>\n",
       "      <td>ACORN-A</td>\n",
       "      <td>Affluent</td>\n",
       "      <td>block_1</td>\n",
       "      <td>[NO_HOLIDAY, NO_HOLIDAY, NO_HOLIDAY, NO_HOLIDA...</td>\n",
       "      <td>...</td>\n",
       "      <td>[251, 251, 251, 251, 246, 246, 242, 242, 244, ...</td>\n",
       "      <td>[6.42, 6.42, 6.2, 6.2, 5.68, 5.68, 5.16, 5.16,...</td>\n",
       "      <td>[3.54, 3.54, 3.61, 3.61, 3.52, 3.52, 3.11, 3.1...</td>\n",
       "      <td>[994.96, 994.96, 994.98, 994.98, 994.82, 994.8...</td>\n",
       "      <td>[3.79, 3.79, 3.67, 3.67, 3.15, 3.15, 2.61, 2.6...</td>\n",
       "      <td>[3.64, 3.64, 3.42, 3.42, 3.25, 3.25, 3.13, 3.1...</td>\n",
       "      <td>[rain, rain, rain, rain, rain, rain, rain, rai...</td>\n",
       "      <td>[partly-cloudy-night, partly-cloudy-night, par...</td>\n",
       "      <td>[0.82, 0.82, 0.83, 0.83, 0.86, 0.86, 0.87, 0.8...</td>\n",
       "      <td>[Partly Cloudy, Partly Cloudy, Partly Cloudy, ...</td>\n",
       "    </tr>\n",
       "    <tr>\n",
       "      <th>63</th>\n",
       "      <td>MAC000948</td>\n",
       "      <td>2012-05-02</td>\n",
       "      <td>30min</td>\n",
       "      <td>[0.008, 0.009, 0.008, 0.008, 0.008, 0.009, 0.0...</td>\n",
       "      <td>32016</td>\n",
       "      <td>Std</td>\n",
       "      <td>ACORN-A</td>\n",
       "      <td>Affluent</td>\n",
       "      <td>block_1</td>\n",
       "      <td>[NO_HOLIDAY, NO_HOLIDAY, NO_HOLIDAY, NO_HOLIDA...</td>\n",
       "      <td>...</td>\n",
       "      <td>[351, 351, 0, 0, 0, 0, 351, 351, 348, 348, 3, ...</td>\n",
       "      <td>[11.81, 11.81, 11.12, 11.12, 11.2, 11.2, 11.18...</td>\n",
       "      <td>[10.47, 10.47, 10.15, 10.15, 9.89, 9.89, 9.29,...</td>\n",
       "      <td>[1021.42, 1021.42, 1021.44, 1021.44, 1021.33, ...</td>\n",
       "      <td>[11.81, 11.81, 11.12, 11.12, 11.2, 11.2, 11.18...</td>\n",
       "      <td>[2.53, 2.53, 2.41, 2.41, 2.06, 2.06, 2.98, 2.9...</td>\n",
       "      <td>[rain, rain, rain, rain, rain, rain, rain, rai...</td>\n",
       "      <td>[partly-cloudy-night, partly-cloudy-night, par...</td>\n",
       "      <td>[0.91, 0.91, 0.94, 0.94, 0.92, 0.92, 0.88, 0.8...</td>\n",
       "      <td>[Mostly Cloudy, Mostly Cloudy, Mostly Cloudy, ...</td>\n",
       "    </tr>\n",
       "    <tr>\n",
       "      <th>2827</th>\n",
       "      <td>MAC003299</td>\n",
       "      <td>2012-09-25</td>\n",
       "      <td>30min</td>\n",
       "      <td>[0.254, 0.201, 0.183, 0.2189999999999999, 0.18...</td>\n",
       "      <td>25008</td>\n",
       "      <td>Std</td>\n",
       "      <td>ACORN-C</td>\n",
       "      <td>Affluent</td>\n",
       "      <td>block_5</td>\n",
       "      <td>[NO_HOLIDAY, NO_HOLIDAY, NO_HOLIDAY, NO_HOLIDA...</td>\n",
       "      <td>...</td>\n",
       "      <td>[220, 220, 218, 218, 215, 215, 211, 211, 207, ...</td>\n",
       "      <td>[10.93, 10.93, 10.81, 10.81, 10.27, 10.27, 10....</td>\n",
       "      <td>[7.76, 7.76, 8.07, 8.07, 8.04, 8.04, 7.62, 7.6...</td>\n",
       "      <td>[989.26, 989.26, 989.27, 989.27, 989.0, 989.0,...</td>\n",
       "      <td>[10.93, 10.93, 10.81, 10.81, 10.27, 10.27, 10....</td>\n",
       "      <td>[4.9, 4.9, 4.98, 4.98, 4.45, 4.45, 4.51, 4.51,...</td>\n",
       "      <td>[rain, rain, rain, rain, rain, rain, rain, rai...</td>\n",
       "      <td>[clear-night, clear-night, clear-night, clear-...</td>\n",
       "      <td>[0.81, 0.81, 0.83, 0.83, 0.86, 0.86, 0.84, 0.8...</td>\n",
       "      <td>[Clear, Clear, Clear, Clear, Clear, Clear, Cle...</td>\n",
       "    </tr>\n",
       "    <tr>\n",
       "      <th>3389</th>\n",
       "      <td>MAC003157</td>\n",
       "      <td>2012-07-15</td>\n",
       "      <td>30min</td>\n",
       "      <td>[0.181, 0.126, 0.13, 0.134, 0.18, 0.179, 0.118...</td>\n",
       "      <td>28464</td>\n",
       "      <td>ToU</td>\n",
       "      <td>ACORN-C</td>\n",
       "      <td>Affluent</td>\n",
       "      <td>block_6</td>\n",
       "      <td>[NO_HOLIDAY, NO_HOLIDAY, NO_HOLIDAY, NO_HOLIDA...</td>\n",
       "      <td>...</td>\n",
       "      <td>[250, 250, 259, 259, 267, 267, 284, 284, 286, ...</td>\n",
       "      <td>[12.72, 12.72, 12.72, 12.72, 12.98, 12.98, 12....</td>\n",
       "      <td>[12.01, 12.01, 12.0, 12.0, 12.32, 12.32, 11.83...</td>\n",
       "      <td>[1011.2, 1011.2, 1011.17, 1011.17, 1011.23, 10...</td>\n",
       "      <td>[12.72, 12.72, 12.72, 12.72, 12.98, 12.98, 12....</td>\n",
       "      <td>[1.73, 1.73, 2.15, 2.15, 2.31, 2.31, 2.28, 2.2...</td>\n",
       "      <td>[rain, rain, rain, rain, rain, rain, rain, rai...</td>\n",
       "      <td>[clear-night, clear-night, partly-cloudy-night...</td>\n",
       "      <td>[0.95, 0.95, 0.95, 0.95, 0.96, 0.96, 0.95, 0.9...</td>\n",
       "      <td>[Clear, Clear, Partly Cloudy, Partly Cloudy, P...</td>\n",
       "    </tr>\n",
       "    <tr>\n",
       "      <th>3916</th>\n",
       "      <td>MAC000193</td>\n",
       "      <td>2012-01-01</td>\n",
       "      <td>30min</td>\n",
       "      <td>[0.368, 0.386, 0.17, 0.021, 0.038, 0.038, 0.02...</td>\n",
       "      <td>37872</td>\n",
       "      <td>ToU</td>\n",
       "      <td>ACORN-D</td>\n",
       "      <td>Affluent</td>\n",
       "      <td>block_7</td>\n",
       "      <td>[NO_HOLIDAY, NO_HOLIDAY, NO_HOLIDAY, NO_HOLIDA...</td>\n",
       "      <td>...</td>\n",
       "      <td>[229, 229, 238, 238, 229, 229, 231, 231, 227, ...</td>\n",
       "      <td>[12.12, 12.12, 12.59, 12.59, 12.45, 12.45, 12....</td>\n",
       "      <td>[10.97, 10.97, 11.02, 11.02, 11.04, 11.04, 10....</td>\n",
       "      <td>[1008.1, 1008.1, 1007.88, 1007.88, 1007.95, 10...</td>\n",
       "      <td>[12.12, 12.12, 12.59, 12.59, 12.45, 12.45, 12....</td>\n",
       "      <td>[5.9, 5.9, 6.06, 6.06, 5.31, 5.31, 4.68, 4.68,...</td>\n",
       "      <td>[rain, rain, rain, rain, rain, rain, rain, rai...</td>\n",
       "      <td>[partly-cloudy-night, partly-cloudy-night, clo...</td>\n",
       "      <td>[0.93, 0.93, 0.9, 0.9, 0.91, 0.91, 0.93, 0.93,...</td>\n",
       "      <td>[Mostly Cloudy, Mostly Cloudy, Overcast, Overc...</td>\n",
       "    </tr>\n",
       "  </tbody>\n",
       "</table>\n",
       "<p>5 rows × 21 columns</p>\n",
       "</div>"
      ],
      "text/plain": [
       "          LCLid start_timestamp frequency  \\\n",
       "57    MAC000768      2012-04-21     30min   \n",
       "63    MAC000948      2012-05-02     30min   \n",
       "2827  MAC003299      2012-09-25     30min   \n",
       "3389  MAC003157      2012-07-15     30min   \n",
       "3916  MAC000193      2012-01-01     30min   \n",
       "\n",
       "                                     energy_consumption  series_length  \\\n",
       "57    [0.8440000000000001, 0.265, 0.262, 0.233999999...          32544   \n",
       "63    [0.008, 0.009, 0.008, 0.008, 0.008, 0.009, 0.0...          32016   \n",
       "2827  [0.254, 0.201, 0.183, 0.2189999999999999, 0.18...          25008   \n",
       "3389  [0.181, 0.126, 0.13, 0.134, 0.18, 0.179, 0.118...          28464   \n",
       "3916  [0.368, 0.386, 0.17, 0.021, 0.038, 0.038, 0.02...          37872   \n",
       "\n",
       "     stdorToU    Acorn Acorn_grouped     file  \\\n",
       "57        Std  ACORN-A      Affluent  block_1   \n",
       "63        Std  ACORN-A      Affluent  block_1   \n",
       "2827      Std  ACORN-C      Affluent  block_5   \n",
       "3389      ToU  ACORN-C      Affluent  block_6   \n",
       "3916      ToU  ACORN-D      Affluent  block_7   \n",
       "\n",
       "                                               holidays  ...  \\\n",
       "57    [NO_HOLIDAY, NO_HOLIDAY, NO_HOLIDAY, NO_HOLIDA...  ...   \n",
       "63    [NO_HOLIDAY, NO_HOLIDAY, NO_HOLIDAY, NO_HOLIDA...  ...   \n",
       "2827  [NO_HOLIDAY, NO_HOLIDAY, NO_HOLIDAY, NO_HOLIDA...  ...   \n",
       "3389  [NO_HOLIDAY, NO_HOLIDAY, NO_HOLIDAY, NO_HOLIDA...  ...   \n",
       "3916  [NO_HOLIDAY, NO_HOLIDAY, NO_HOLIDAY, NO_HOLIDA...  ...   \n",
       "\n",
       "                                            windBearing  \\\n",
       "57    [251, 251, 251, 251, 246, 246, 242, 242, 244, ...   \n",
       "63    [351, 351, 0, 0, 0, 0, 351, 351, 348, 348, 3, ...   \n",
       "2827  [220, 220, 218, 218, 215, 215, 211, 211, 207, ...   \n",
       "3389  [250, 250, 259, 259, 267, 267, 284, 284, 286, ...   \n",
       "3916  [229, 229, 238, 238, 229, 229, 231, 231, 227, ...   \n",
       "\n",
       "                                            temperature  \\\n",
       "57    [6.42, 6.42, 6.2, 6.2, 5.68, 5.68, 5.16, 5.16,...   \n",
       "63    [11.81, 11.81, 11.12, 11.12, 11.2, 11.2, 11.18...   \n",
       "2827  [10.93, 10.93, 10.81, 10.81, 10.27, 10.27, 10....   \n",
       "3389  [12.72, 12.72, 12.72, 12.72, 12.98, 12.98, 12....   \n",
       "3916  [12.12, 12.12, 12.59, 12.59, 12.45, 12.45, 12....   \n",
       "\n",
       "                                               dewPoint  \\\n",
       "57    [3.54, 3.54, 3.61, 3.61, 3.52, 3.52, 3.11, 3.1...   \n",
       "63    [10.47, 10.47, 10.15, 10.15, 9.89, 9.89, 9.29,...   \n",
       "2827  [7.76, 7.76, 8.07, 8.07, 8.04, 8.04, 7.62, 7.6...   \n",
       "3389  [12.01, 12.01, 12.0, 12.0, 12.32, 12.32, 11.83...   \n",
       "3916  [10.97, 10.97, 11.02, 11.02, 11.04, 11.04, 10....   \n",
       "\n",
       "                                               pressure  \\\n",
       "57    [994.96, 994.96, 994.98, 994.98, 994.82, 994.8...   \n",
       "63    [1021.42, 1021.42, 1021.44, 1021.44, 1021.33, ...   \n",
       "2827  [989.26, 989.26, 989.27, 989.27, 989.0, 989.0,...   \n",
       "3389  [1011.2, 1011.2, 1011.17, 1011.17, 1011.23, 10...   \n",
       "3916  [1008.1, 1008.1, 1007.88, 1007.88, 1007.95, 10...   \n",
       "\n",
       "                                    apparentTemperature  \\\n",
       "57    [3.79, 3.79, 3.67, 3.67, 3.15, 3.15, 2.61, 2.6...   \n",
       "63    [11.81, 11.81, 11.12, 11.12, 11.2, 11.2, 11.18...   \n",
       "2827  [10.93, 10.93, 10.81, 10.81, 10.27, 10.27, 10....   \n",
       "3389  [12.72, 12.72, 12.72, 12.72, 12.98, 12.98, 12....   \n",
       "3916  [12.12, 12.12, 12.59, 12.59, 12.45, 12.45, 12....   \n",
       "\n",
       "                                              windSpeed  \\\n",
       "57    [3.64, 3.64, 3.42, 3.42, 3.25, 3.25, 3.13, 3.1...   \n",
       "63    [2.53, 2.53, 2.41, 2.41, 2.06, 2.06, 2.98, 2.9...   \n",
       "2827  [4.9, 4.9, 4.98, 4.98, 4.45, 4.45, 4.51, 4.51,...   \n",
       "3389  [1.73, 1.73, 2.15, 2.15, 2.31, 2.31, 2.28, 2.2...   \n",
       "3916  [5.9, 5.9, 6.06, 6.06, 5.31, 5.31, 4.68, 4.68,...   \n",
       "\n",
       "                                             precipType  \\\n",
       "57    [rain, rain, rain, rain, rain, rain, rain, rai...   \n",
       "63    [rain, rain, rain, rain, rain, rain, rain, rai...   \n",
       "2827  [rain, rain, rain, rain, rain, rain, rain, rai...   \n",
       "3389  [rain, rain, rain, rain, rain, rain, rain, rai...   \n",
       "3916  [rain, rain, rain, rain, rain, rain, rain, rai...   \n",
       "\n",
       "                                                   icon  \\\n",
       "57    [partly-cloudy-night, partly-cloudy-night, par...   \n",
       "63    [partly-cloudy-night, partly-cloudy-night, par...   \n",
       "2827  [clear-night, clear-night, clear-night, clear-...   \n",
       "3389  [clear-night, clear-night, partly-cloudy-night...   \n",
       "3916  [partly-cloudy-night, partly-cloudy-night, clo...   \n",
       "\n",
       "                                               humidity  \\\n",
       "57    [0.82, 0.82, 0.83, 0.83, 0.86, 0.86, 0.87, 0.8...   \n",
       "63    [0.91, 0.91, 0.94, 0.94, 0.92, 0.92, 0.88, 0.8...   \n",
       "2827  [0.81, 0.81, 0.83, 0.83, 0.86, 0.86, 0.84, 0.8...   \n",
       "3389  [0.95, 0.95, 0.95, 0.95, 0.96, 0.96, 0.95, 0.9...   \n",
       "3916  [0.93, 0.93, 0.9, 0.9, 0.91, 0.91, 0.93, 0.93,...   \n",
       "\n",
       "                                                summary  \n",
       "57    [Partly Cloudy, Partly Cloudy, Partly Cloudy, ...  \n",
       "63    [Mostly Cloudy, Mostly Cloudy, Mostly Cloudy, ...  \n",
       "2827  [Clear, Clear, Clear, Clear, Clear, Clear, Cle...  \n",
       "3389  [Clear, Clear, Partly Cloudy, Partly Cloudy, P...  \n",
       "3916  [Mostly Cloudy, Mostly Cloudy, Overcast, Overc...  \n",
       "\n",
       "[5 rows x 21 columns]"
      ]
     },
     "execution_count": 11,
     "metadata": {},
     "output_type": "execute_result"
    }
   ],
   "source": [
    "block_df = pd.concat(household_df_l)\n",
    "del household_df_l\n",
    "block_df.head()"
   ]
  },
  {
   "cell_type": "markdown",
   "id": "002441ad-6efc-4df0-ac92-0a63333a4c6c",
   "metadata": {},
   "source": [
    "## Fill in missing values"
   ]
  },
  {
   "cell_type": "markdown",
   "id": "36b4b4d1-1c70-482e-8caf-ee4236f01e07",
   "metadata": {},
   "source": [
    "Let's fill in missing values"
   ]
  },
  {
   "cell_type": "code",
   "execution_count": 12,
   "id": "dfb35274-3b18-48f1-b241-9820b5807e9c",
   "metadata": {},
   "outputs": [],
   "source": [
    "from src.imputation.interpolation import SeasonalInterpolation"
   ]
  },
  {
   "cell_type": "code",
   "execution_count": 13,
   "id": "9e97976b-097f-4853-b081-ea1549b724ad",
   "metadata": {},
   "outputs": [
    {
     "data": {
      "application/vnd.jupyter.widget-view+json": {
       "model_id": "541b2ac33faa44c7b8cbd5dfa7529d41",
       "version_major": 2,
       "version_minor": 0
      },
      "text/plain": [
       "  0%|          | 0/150 [00:00<?, ?it/s]"
      ]
     },
     "metadata": {},
     "output_type": "display_data"
    }
   ],
   "source": [
    "block_df.energy_consumption = block_df.energy_consumption.progress_apply(lambda x: SeasonalInterpolation(seasonal_period=48*7).fit_transform(x.reshape(-1,1)).squeeze())"
   ]
  },
  {
   "cell_type": "markdown",
   "id": "4e1f18b3-6e8f-4290-9cdf-c9b39713cf6e",
   "metadata": {},
   "source": [
    "# Deseasonalize and Detrend"
   ]
  },
  {
   "cell_type": "code",
   "execution_count": 14,
   "id": "27c13127-6e44-47bc-9e01-e4e3bf93fac6",
   "metadata": {},
   "outputs": [],
   "source": [
    "from src.decomposition.seasonal import MultiSeasonalDecomposition"
   ]
  },
  {
   "cell_type": "code",
   "execution_count": 15,
   "id": "0c63ec47-00c8-4623-8e2d-c728a4072680",
   "metadata": {
    "collapsed": true,
    "jupyter": {
     "outputs_hidden": true
    },
    "tags": []
   },
   "outputs": [
    {
     "data": {
      "application/vnd.jupyter.widget-view+json": {
       "model_id": "2612975b260441b9ba0be402726969b4",
       "version_major": 2,
       "version_minor": 0
      },
      "text/plain": [
       "  0%|          | 0/150 [00:00<?, ?it/s]"
      ]
     },
     "metadata": {},
     "output_type": "display_data"
    }
   ],
   "source": [
    "def make_stationary(row):\n",
    "#     print(row)\n",
    "    # Order of row: LCLid, timestamp, frequency, energy_consumption\n",
    "    ts = row[3]\n",
    "    dates = pd.date_range(start=row[1], freq=row[2], periods=len(ts))\n",
    "    stl = MultiSeasonalDecomposition(seasonal_model=\"fourier\",seasonality_periods=[\"day_of_year\", \"day_of_week\", \"hour\"], model = \"additive\", n_fourier_terms=10)\n",
    "    res = stl.fit(pd.Series(ts, index=dates))\n",
    "    return res.resid.values# + res.trend.values\n",
    "\n",
    "with warnings.catch_warnings():\n",
    "    warnings.filterwarnings(\"ignore\", category=DeprecationWarning) \n",
    "    block_df['residuals'] =[make_stationary(r) for r in tqdm(zip(*block_df.to_dict(\"list\").values()), total=len(block_df))]"
   ]
  },
  {
   "cell_type": "markdown",
   "id": "4a141f4f-4950-486c-bf2a-1941d64abdb1",
   "metadata": {},
   "source": [
    "# Forecastability Metrics"
   ]
  },
  {
   "cell_type": "markdown",
   "id": "1762641d-36d2-4c6c-b55f-d24cce997323",
   "metadata": {},
   "source": [
    "## Coefficient of Variation"
   ]
  },
  {
   "cell_type": "code",
   "execution_count": 16,
   "id": "47670533-23e3-40ae-baaa-7a4b4c5289ff",
   "metadata": {},
   "outputs": [],
   "source": [
    "from src.forecastability.cov import calc_cov"
   ]
  },
  {
   "cell_type": "code",
   "execution_count": 17,
   "id": "0db31079-ebde-4a39-8a0c-423a5ac38a88",
   "metadata": {
    "tags": []
   },
   "outputs": [
    {
     "data": {
      "application/vnd.jupyter.widget-view+json": {
       "model_id": "6b09bdd4b52d4faa96288a5d5df729c8",
       "version_major": 2,
       "version_minor": 0
      },
      "text/plain": [
       "  0%|          | 0/150 [00:00<?, ?it/s]"
      ]
     },
     "metadata": {},
     "output_type": "display_data"
    }
   ],
   "source": [
    "block_df[\"cov\"] = block_df.progress_apply(lambda x: calc_cov(x['energy_consumption']), axis=1)\n"
   ]
  },
  {
   "cell_type": "code",
   "execution_count": 18,
   "id": "72c02428-7ec0-476b-a607-69da4401593e",
   "metadata": {},
   "outputs": [
    {
     "data": {
      "application/vnd.plotly.v1+json": {
       "config": {
        "plotlyServerURL": "https://plot.ly"
       },
       "data": [
        {
         "alignmentgroup": "True",
         "bingroup": "x",
         "hovertemplate": "x=%{x}<br>count=%{y}<extra></extra>",
         "legendgroup": "",
         "marker": {
          "color": "#636efa",
          "pattern": {
           "shape": ""
          }
         },
         "name": "",
         "offsetgroup": "",
         "orientation": "v",
         "showlegend": false,
         "type": "histogram",
         "x": [
          0.8893084008992279,
          0.7889084026906564,
          0.6771204083304126,
          0.7066054643719474,
          1.382776242933614,
          0.6174567245034993,
          0.8688753899204523,
          0.9149993642487204,
          0.728174250710257,
          1.5032397697228417,
          2.251848104477588,
          1.1224364994903944,
          0.8318011561803378,
          0.5419789428631107,
          1.3994775523158354,
          0.949574641361223,
          1.2230587144433336,
          0.3994995869784838,
          1.37182784779163,
          1.063456114391779,
          1.760781534917116,
          2.0901216967810314,
          0.8955198005943109,
          0.810303114014312,
          2.393784308098843,
          0.728597689853976,
          2.2987718931011765,
          1.555497941663935,
          0.8960165100779369,
          1.8144459717692518,
          1.2408298232207666,
          0.8411615399446969,
          1.1946689627224305,
          0.917565548260122,
          1.2657319819514905,
          1.4235548838872634,
          0.9968570224062147,
          1.2226023793181848,
          1.3784052529644408,
          1.6983252203919619,
          0.5992910306939626,
          1.3003387635675554,
          0.7197939260050751,
          0.7902383907494738,
          0.9628810922249388,
          0.8916588268522259,
          0.9792475864827478,
          1.1436788525531594,
          1.2453455270784528,
          1.5444059409089856,
          1.807889182981085,
          1.046165618687365,
          1.4858243786653211,
          0.6873289493594517,
          1.3752225318735378,
          1.2095896528297654,
          0.8306111043386141,
          0.9423827434761394,
          0.8410260859134202,
          0.5983552084241092,
          0.6868683136831831,
          1.0341035294921712,
          0.8018608389310931,
          0.8387209234789287,
          0.6963390574902198,
          0.6932146929485848,
          0.983020946133406,
          0.5158123941029229,
          1.71268424336963,
          1.1524580743324038,
          1.4795759417307215,
          1.340505444826343,
          1.4102951931864205,
          1.2824358936184959,
          0.8960267820299033,
          1.1581297772137158,
          1.0523193987550985,
          1.0123990867285682,
          0.5511299829318255,
          0.867491430276039,
          1.5283976746561012,
          0.7746390285917695,
          0.7650673593633298,
          1.0716519950031953,
          1.0404425151827066,
          0.6105626714009118,
          0.828632870177499,
          0.8662023936062241,
          0.7336819648944206,
          1.38877777551568,
          0.5863339227315437,
          0.6089036337122374,
          1.2155213138341248,
          1.2322238004725887,
          0.9250738048509115,
          1.0711093107911391,
          0.8208408750357865,
          1.23192616402052,
          0.9789886007393711,
          0.9023434024785714,
          1.0267482143288704,
          1.3386751508665102,
          1.9533913620735002,
          0.9040772142761022,
          1.1846990052835076,
          0.7059525420248751,
          0.6823944272559925,
          1.0911347924342694,
          0.6638208077528696,
          0.6412937332764722,
          0.992305041061449,
          0.9735531474290287,
          1.4001060948921507,
          0.8896440633351606,
          1.0722374656358777,
          0.9688429849598442,
          0.769431520102137,
          0.9204915485697698,
          0.7607099977649834,
          0.8460258575848753,
          0.7525566284125225,
          1.0544499326958463,
          0.8735781381273261,
          1.295597033053653,
          1.3761399848019982,
          0.7104703457567221,
          1.0274874713605608,
          0.7592247152911814,
          0.9796666432755033,
          1.1977053537212823,
          0.8911968923892576,
          1.2071334426293545,
          0.9169679109669706,
          0.6719522392174442,
          1.4526527398686624,
          1.395125446460729,
          0.8645677088332503,
          1.1465523169104421,
          0.9805630883206315,
          0.6841192264974899,
          0.9415305027627586,
          1.3723203277034086,
          0.8681689853195255,
          0.7686891426979728,
          0.9876507406122526,
          0.8487011551896185,
          0.8537992436947008,
          0.6878354223393359,
          1.0461128949137266,
          0.7984690868810361
         ],
         "xaxis": "x",
         "yaxis": "y"
        }
       ],
       "layout": {
        "autosize": false,
        "barmode": "relative",
        "height": 500,
        "legend": {
         "title": {},
         "tracegroupgap": 0
        },
        "template": {
         "data": {
          "bar": [
           {
            "error_x": {
             "color": "#2a3f5f"
            },
            "error_y": {
             "color": "#2a3f5f"
            },
            "marker": {
             "line": {
              "color": "white",
              "width": 0.5
             },
             "pattern": {
              "fillmode": "overlay",
              "size": 10,
              "solidity": 0.2
             }
            },
            "type": "bar"
           }
          ],
          "barpolar": [
           {
            "marker": {
             "line": {
              "color": "white",
              "width": 0.5
             },
             "pattern": {
              "fillmode": "overlay",
              "size": 10,
              "solidity": 0.2
             }
            },
            "type": "barpolar"
           }
          ],
          "carpet": [
           {
            "aaxis": {
             "endlinecolor": "#2a3f5f",
             "gridcolor": "#C8D4E3",
             "linecolor": "#C8D4E3",
             "minorgridcolor": "#C8D4E3",
             "startlinecolor": "#2a3f5f"
            },
            "baxis": {
             "endlinecolor": "#2a3f5f",
             "gridcolor": "#C8D4E3",
             "linecolor": "#C8D4E3",
             "minorgridcolor": "#C8D4E3",
             "startlinecolor": "#2a3f5f"
            },
            "type": "carpet"
           }
          ],
          "choropleth": [
           {
            "colorbar": {
             "outlinewidth": 0,
             "ticks": ""
            },
            "type": "choropleth"
           }
          ],
          "contour": [
           {
            "colorbar": {
             "outlinewidth": 0,
             "ticks": ""
            },
            "colorscale": [
             [
              0,
              "#0d0887"
             ],
             [
              0.1111111111111111,
              "#46039f"
             ],
             [
              0.2222222222222222,
              "#7201a8"
             ],
             [
              0.3333333333333333,
              "#9c179e"
             ],
             [
              0.4444444444444444,
              "#bd3786"
             ],
             [
              0.5555555555555556,
              "#d8576b"
             ],
             [
              0.6666666666666666,
              "#ed7953"
             ],
             [
              0.7777777777777778,
              "#fb9f3a"
             ],
             [
              0.8888888888888888,
              "#fdca26"
             ],
             [
              1,
              "#f0f921"
             ]
            ],
            "type": "contour"
           }
          ],
          "contourcarpet": [
           {
            "colorbar": {
             "outlinewidth": 0,
             "ticks": ""
            },
            "type": "contourcarpet"
           }
          ],
          "heatmap": [
           {
            "colorbar": {
             "outlinewidth": 0,
             "ticks": ""
            },
            "colorscale": [
             [
              0,
              "#0d0887"
             ],
             [
              0.1111111111111111,
              "#46039f"
             ],
             [
              0.2222222222222222,
              "#7201a8"
             ],
             [
              0.3333333333333333,
              "#9c179e"
             ],
             [
              0.4444444444444444,
              "#bd3786"
             ],
             [
              0.5555555555555556,
              "#d8576b"
             ],
             [
              0.6666666666666666,
              "#ed7953"
             ],
             [
              0.7777777777777778,
              "#fb9f3a"
             ],
             [
              0.8888888888888888,
              "#fdca26"
             ],
             [
              1,
              "#f0f921"
             ]
            ],
            "type": "heatmap"
           }
          ],
          "heatmapgl": [
           {
            "colorbar": {
             "outlinewidth": 0,
             "ticks": ""
            },
            "colorscale": [
             [
              0,
              "#0d0887"
             ],
             [
              0.1111111111111111,
              "#46039f"
             ],
             [
              0.2222222222222222,
              "#7201a8"
             ],
             [
              0.3333333333333333,
              "#9c179e"
             ],
             [
              0.4444444444444444,
              "#bd3786"
             ],
             [
              0.5555555555555556,
              "#d8576b"
             ],
             [
              0.6666666666666666,
              "#ed7953"
             ],
             [
              0.7777777777777778,
              "#fb9f3a"
             ],
             [
              0.8888888888888888,
              "#fdca26"
             ],
             [
              1,
              "#f0f921"
             ]
            ],
            "type": "heatmapgl"
           }
          ],
          "histogram": [
           {
            "marker": {
             "pattern": {
              "fillmode": "overlay",
              "size": 10,
              "solidity": 0.2
             }
            },
            "type": "histogram"
           }
          ],
          "histogram2d": [
           {
            "colorbar": {
             "outlinewidth": 0,
             "ticks": ""
            },
            "colorscale": [
             [
              0,
              "#0d0887"
             ],
             [
              0.1111111111111111,
              "#46039f"
             ],
             [
              0.2222222222222222,
              "#7201a8"
             ],
             [
              0.3333333333333333,
              "#9c179e"
             ],
             [
              0.4444444444444444,
              "#bd3786"
             ],
             [
              0.5555555555555556,
              "#d8576b"
             ],
             [
              0.6666666666666666,
              "#ed7953"
             ],
             [
              0.7777777777777778,
              "#fb9f3a"
             ],
             [
              0.8888888888888888,
              "#fdca26"
             ],
             [
              1,
              "#f0f921"
             ]
            ],
            "type": "histogram2d"
           }
          ],
          "histogram2dcontour": [
           {
            "colorbar": {
             "outlinewidth": 0,
             "ticks": ""
            },
            "colorscale": [
             [
              0,
              "#0d0887"
             ],
             [
              0.1111111111111111,
              "#46039f"
             ],
             [
              0.2222222222222222,
              "#7201a8"
             ],
             [
              0.3333333333333333,
              "#9c179e"
             ],
             [
              0.4444444444444444,
              "#bd3786"
             ],
             [
              0.5555555555555556,
              "#d8576b"
             ],
             [
              0.6666666666666666,
              "#ed7953"
             ],
             [
              0.7777777777777778,
              "#fb9f3a"
             ],
             [
              0.8888888888888888,
              "#fdca26"
             ],
             [
              1,
              "#f0f921"
             ]
            ],
            "type": "histogram2dcontour"
           }
          ],
          "mesh3d": [
           {
            "colorbar": {
             "outlinewidth": 0,
             "ticks": ""
            },
            "type": "mesh3d"
           }
          ],
          "parcoords": [
           {
            "line": {
             "colorbar": {
              "outlinewidth": 0,
              "ticks": ""
             }
            },
            "type": "parcoords"
           }
          ],
          "pie": [
           {
            "automargin": true,
            "type": "pie"
           }
          ],
          "scatter": [
           {
            "fillpattern": {
             "fillmode": "overlay",
             "size": 10,
             "solidity": 0.2
            },
            "type": "scatter"
           }
          ],
          "scatter3d": [
           {
            "line": {
             "colorbar": {
              "outlinewidth": 0,
              "ticks": ""
             }
            },
            "marker": {
             "colorbar": {
              "outlinewidth": 0,
              "ticks": ""
             }
            },
            "type": "scatter3d"
           }
          ],
          "scattercarpet": [
           {
            "marker": {
             "colorbar": {
              "outlinewidth": 0,
              "ticks": ""
             }
            },
            "type": "scattercarpet"
           }
          ],
          "scattergeo": [
           {
            "marker": {
             "colorbar": {
              "outlinewidth": 0,
              "ticks": ""
             }
            },
            "type": "scattergeo"
           }
          ],
          "scattergl": [
           {
            "marker": {
             "colorbar": {
              "outlinewidth": 0,
              "ticks": ""
             }
            },
            "type": "scattergl"
           }
          ],
          "scattermapbox": [
           {
            "marker": {
             "colorbar": {
              "outlinewidth": 0,
              "ticks": ""
             }
            },
            "type": "scattermapbox"
           }
          ],
          "scatterpolar": [
           {
            "marker": {
             "colorbar": {
              "outlinewidth": 0,
              "ticks": ""
             }
            },
            "type": "scatterpolar"
           }
          ],
          "scatterpolargl": [
           {
            "marker": {
             "colorbar": {
              "outlinewidth": 0,
              "ticks": ""
             }
            },
            "type": "scatterpolargl"
           }
          ],
          "scatterternary": [
           {
            "marker": {
             "colorbar": {
              "outlinewidth": 0,
              "ticks": ""
             }
            },
            "type": "scatterternary"
           }
          ],
          "surface": [
           {
            "colorbar": {
             "outlinewidth": 0,
             "ticks": ""
            },
            "colorscale": [
             [
              0,
              "#0d0887"
             ],
             [
              0.1111111111111111,
              "#46039f"
             ],
             [
              0.2222222222222222,
              "#7201a8"
             ],
             [
              0.3333333333333333,
              "#9c179e"
             ],
             [
              0.4444444444444444,
              "#bd3786"
             ],
             [
              0.5555555555555556,
              "#d8576b"
             ],
             [
              0.6666666666666666,
              "#ed7953"
             ],
             [
              0.7777777777777778,
              "#fb9f3a"
             ],
             [
              0.8888888888888888,
              "#fdca26"
             ],
             [
              1,
              "#f0f921"
             ]
            ],
            "type": "surface"
           }
          ],
          "table": [
           {
            "cells": {
             "fill": {
              "color": "#EBF0F8"
             },
             "line": {
              "color": "white"
             }
            },
            "header": {
             "fill": {
              "color": "#C8D4E3"
             },
             "line": {
              "color": "white"
             }
            },
            "type": "table"
           }
          ]
         },
         "layout": {
          "annotationdefaults": {
           "arrowcolor": "#2a3f5f",
           "arrowhead": 0,
           "arrowwidth": 1
          },
          "autotypenumbers": "strict",
          "coloraxis": {
           "colorbar": {
            "outlinewidth": 0,
            "ticks": ""
           }
          },
          "colorscale": {
           "diverging": [
            [
             0,
             "#8e0152"
            ],
            [
             0.1,
             "#c51b7d"
            ],
            [
             0.2,
             "#de77ae"
            ],
            [
             0.3,
             "#f1b6da"
            ],
            [
             0.4,
             "#fde0ef"
            ],
            [
             0.5,
             "#f7f7f7"
            ],
            [
             0.6,
             "#e6f5d0"
            ],
            [
             0.7,
             "#b8e186"
            ],
            [
             0.8,
             "#7fbc41"
            ],
            [
             0.9,
             "#4d9221"
            ],
            [
             1,
             "#276419"
            ]
           ],
           "sequential": [
            [
             0,
             "#0d0887"
            ],
            [
             0.1111111111111111,
             "#46039f"
            ],
            [
             0.2222222222222222,
             "#7201a8"
            ],
            [
             0.3333333333333333,
             "#9c179e"
            ],
            [
             0.4444444444444444,
             "#bd3786"
            ],
            [
             0.5555555555555556,
             "#d8576b"
            ],
            [
             0.6666666666666666,
             "#ed7953"
            ],
            [
             0.7777777777777778,
             "#fb9f3a"
            ],
            [
             0.8888888888888888,
             "#fdca26"
            ],
            [
             1,
             "#f0f921"
            ]
           ],
           "sequentialminus": [
            [
             0,
             "#0d0887"
            ],
            [
             0.1111111111111111,
             "#46039f"
            ],
            [
             0.2222222222222222,
             "#7201a8"
            ],
            [
             0.3333333333333333,
             "#9c179e"
            ],
            [
             0.4444444444444444,
             "#bd3786"
            ],
            [
             0.5555555555555556,
             "#d8576b"
            ],
            [
             0.6666666666666666,
             "#ed7953"
            ],
            [
             0.7777777777777778,
             "#fb9f3a"
            ],
            [
             0.8888888888888888,
             "#fdca26"
            ],
            [
             1,
             "#f0f921"
            ]
           ]
          },
          "colorway": [
           "#636efa",
           "#EF553B",
           "#00cc96",
           "#ab63fa",
           "#FFA15A",
           "#19d3f3",
           "#FF6692",
           "#B6E880",
           "#FF97FF",
           "#FECB52"
          ],
          "font": {
           "color": "#2a3f5f"
          },
          "geo": {
           "bgcolor": "white",
           "lakecolor": "white",
           "landcolor": "white",
           "showlakes": true,
           "showland": true,
           "subunitcolor": "#C8D4E3"
          },
          "hoverlabel": {
           "align": "left"
          },
          "hovermode": "closest",
          "mapbox": {
           "style": "light"
          },
          "paper_bgcolor": "white",
          "plot_bgcolor": "white",
          "polar": {
           "angularaxis": {
            "gridcolor": "#EBF0F8",
            "linecolor": "#EBF0F8",
            "ticks": ""
           },
           "bgcolor": "white",
           "radialaxis": {
            "gridcolor": "#EBF0F8",
            "linecolor": "#EBF0F8",
            "ticks": ""
           }
          },
          "scene": {
           "xaxis": {
            "backgroundcolor": "white",
            "gridcolor": "#DFE8F3",
            "gridwidth": 2,
            "linecolor": "#EBF0F8",
            "showbackground": true,
            "ticks": "",
            "zerolinecolor": "#EBF0F8"
           },
           "yaxis": {
            "backgroundcolor": "white",
            "gridcolor": "#DFE8F3",
            "gridwidth": 2,
            "linecolor": "#EBF0F8",
            "showbackground": true,
            "ticks": "",
            "zerolinecolor": "#EBF0F8"
           },
           "zaxis": {
            "backgroundcolor": "white",
            "gridcolor": "#DFE8F3",
            "gridwidth": 2,
            "linecolor": "#EBF0F8",
            "showbackground": true,
            "ticks": "",
            "zerolinecolor": "#EBF0F8"
           }
          },
          "shapedefaults": {
           "line": {
            "color": "#2a3f5f"
           }
          },
          "ternary": {
           "aaxis": {
            "gridcolor": "#DFE8F3",
            "linecolor": "#A2B1C6",
            "ticks": ""
           },
           "baxis": {
            "gridcolor": "#DFE8F3",
            "linecolor": "#A2B1C6",
            "ticks": ""
           },
           "bgcolor": "white",
           "caxis": {
            "gridcolor": "#DFE8F3",
            "linecolor": "#A2B1C6",
            "ticks": ""
           }
          },
          "title": {
           "x": 0.05
          },
          "xaxis": {
           "automargin": true,
           "gridcolor": "#EBF0F8",
           "linecolor": "#EBF0F8",
           "ticks": "",
           "title": {
            "standoff": 15
           },
           "zerolinecolor": "#EBF0F8",
           "zerolinewidth": 2
          },
          "yaxis": {
           "automargin": true,
           "gridcolor": "#EBF0F8",
           "linecolor": "#EBF0F8",
           "ticks": "",
           "title": {
            "standoff": 15
           },
           "zerolinecolor": "#EBF0F8",
           "zerolinewidth": 2
          }
         }
        },
        "title": {
         "font": {
          "size": 20
         },
         "text": "Distribution of Coefficient of Variation",
         "x": 0.5,
         "xanchor": "center",
         "yanchor": "top"
        },
        "width": 900,
        "xaxis": {
         "anchor": "y",
         "domain": [
          0,
          1
         ],
         "title": {
          "font": {
           "size": 12
          },
          "text": "Coefficient of Variation"
         }
        },
        "yaxis": {
         "anchor": "x",
         "domain": [
          0,
          1
         ],
         "title": {
          "font": {
           "size": 12
          },
          "text": ""
         }
        }
       }
      }
     },
     "metadata": {},
     "output_type": "display_data"
    }
   ],
   "source": [
    "fig = px.histogram(x=block_df[\"cov\"], title=\"Distribution of Coefficient of Variation\")\n",
    "fig = format_plot(fig, xlabel=\"Coefficient of Variation\", ylabel=\"\")\n",
    "# fig.write_image(\"imgs/chapter_4/cov.png\")\n",
    "fig.show()"
   ]
  },
  {
   "cell_type": "markdown",
   "id": "9775bbc2-2162-467b-9a51-3509274dbac8",
   "metadata": {},
   "source": [
    "## Residual Variability"
   ]
  },
  {
   "cell_type": "code",
   "execution_count": 19,
   "id": "c67d813d-207d-4a76-9276-3fe7d0bc01a0",
   "metadata": {},
   "outputs": [],
   "source": [
    "from src.forecastability.cov import calc_norm_sd"
   ]
  },
  {
   "cell_type": "code",
   "execution_count": 20,
   "id": "37edc977-d65c-4f34-9f73-384651a6ae64",
   "metadata": {
    "tags": []
   },
   "outputs": [
    {
     "data": {
      "application/vnd.jupyter.widget-view+json": {
       "model_id": "cf54bae5ffed41de93663d37f3036199",
       "version_major": 2,
       "version_minor": 0
      },
      "text/plain": [
       "  0%|          | 0/150 [00:00<?, ?it/s]"
      ]
     },
     "metadata": {},
     "output_type": "display_data"
    }
   ],
   "source": [
    "block_df[\"residual_variability\"] = block_df.progress_apply(lambda x: calc_norm_sd(x['residuals'],x['energy_consumption']), axis=1)"
   ]
  },
  {
   "cell_type": "code",
   "execution_count": 21,
   "id": "9e8417c0-36bf-4ea2-bf6a-5b329e9f6b23",
   "metadata": {},
   "outputs": [
    {
     "data": {
      "application/vnd.plotly.v1+json": {
       "config": {
        "plotlyServerURL": "https://plot.ly"
       },
       "data": [
        {
         "alignmentgroup": "True",
         "bingroup": "x",
         "hovertemplate": "x=%{x}<br>count=%{y}<extra></extra>",
         "legendgroup": "",
         "marker": {
          "color": "#636efa",
          "pattern": {
           "shape": ""
          }
         },
         "name": "",
         "offsetgroup": "",
         "orientation": "v",
         "showlegend": false,
         "type": "histogram",
         "x": [
          0.7871552012481209,
          0.7058829171344165,
          0.5717598689117133,
          0.5616309521327333,
          1.1761641128635458,
          0.4818227394180859,
          0.7717111962570395,
          0.8292870472261423,
          0.6232687623247696,
          1.4882144350825321,
          1.8415117245591752,
          1.008354370516275,
          0.6032869146342635,
          0.4926352453037898,
          1.2847639216344027,
          0.6509666489241296,
          1.0155136262178093,
          0.3802918091797645,
          1.1671198781717727,
          0.9779250848505199,
          1.7204646367872702,
          1.9367996988145333,
          0.7404186000279515,
          0.7385192658974961,
          2.0628593294146684,
          0.6661002432084571,
          2.1749793951427527,
          1.452702087141637,
          0.7882133866798002,
          1.581920714880601,
          1.115309385204499,
          0.7105051117219285,
          1.0296450075224006,
          0.8201892490495266,
          0.9612504341416173,
          1.3053462016298254,
          0.7806486119161922,
          1.1315929961111344,
          1.1640655167154041,
          1.4952618999842988,
          0.46200255439809085,
          0.9745098616263224,
          0.6326412681535517,
          0.7149402369057419,
          0.825461927867388,
          0.7528340633150992,
          0.6261218519404489,
          1.0767091923077257,
          0.9003652851907554,
          1.3700280830077707,
          1.773554661929129,
          0.9058608598782802,
          1.3924345260834954,
          0.6005219950671895,
          1.3442440639055873,
          1.0558834261763508,
          0.656198562956956,
          0.8686618460241751,
          0.6140267040908588,
          0.4715068058784071,
          0.5351684309117366,
          0.8524272886309512,
          0.6980708451096206,
          0.747777721713941,
          0.6124185938746153,
          0.5726189162636931,
          0.8931320796034926,
          0.4664307467413363,
          1.4825104155545274,
          1.0203379593533115,
          1.2779091354937913,
          1.075809729204923,
          1.2042907964132834,
          1.0403049747013227,
          0.7173559527917501,
          1.039340776104302,
          0.931737699234397,
          0.7903124907014838,
          0.5046279082703466,
          0.7035115377493367,
          1.4181199032959562,
          0.7090764062940353,
          0.6139235197444224,
          0.9696775160237793,
          0.9608041785206731,
          0.49245497297603175,
          0.6923016752879209,
          0.7689988295361206,
          0.5214340229039903,
          1.1941775910225103,
          0.5035854519251175,
          0.5010467617710473,
          1.0354748369818125,
          1.0715393016528967,
          0.8042403914438093,
          0.9400388190357625,
          0.6524378616811074,
          1.0967337726246071,
          0.885821390105704,
          0.7535329612789935,
          0.7905508120061525,
          1.2685596846249263,
          1.5476053333153053,
          0.7171287009086669,
          1.1480288635869635,
          0.5490897686152061,
          0.623347416612129,
          0.9993544303319055,
          0.5999929325619355,
          0.5808545854166809,
          0.8464853560076343,
          0.7484202057842588,
          1.2772572959743944,
          0.7307556282215031,
          0.9158351593429226,
          0.8008241958340793,
          0.6936077630853643,
          0.8760695945861728,
          0.6612956573448976,
          0.7842120621016679,
          0.630077726858401,
          0.8901372082495426,
          0.6726322557894752,
          1.1015878759502937,
          1.1927841679643023,
          0.6401906348648344,
          0.8191621166899368,
          0.6409517771044119,
          0.83722511875656,
          1.0703705926426648,
          0.8248843441872212,
          1.0504828083744857,
          0.802290623166718,
          0.6115963134524609,
          1.4390768114579253,
          1.3355002568123064,
          0.7633857636131514,
          0.9950504894272341,
          0.8520593935733621,
          0.6012412396433171,
          0.8398524910116193,
          1.0028484497959926,
          0.7969710242037815,
          0.5763490102288429,
          0.8554702379401925,
          0.7913604383654079,
          0.7605467351379418,
          0.6181679091416593,
          0.988625768745035,
          0.7040382111312748
         ],
         "xaxis": "x",
         "yaxis": "y"
        }
       ],
       "layout": {
        "autosize": false,
        "barmode": "relative",
        "height": 500,
        "legend": {
         "title": {},
         "tracegroupgap": 0
        },
        "template": {
         "data": {
          "bar": [
           {
            "error_x": {
             "color": "#2a3f5f"
            },
            "error_y": {
             "color": "#2a3f5f"
            },
            "marker": {
             "line": {
              "color": "white",
              "width": 0.5
             },
             "pattern": {
              "fillmode": "overlay",
              "size": 10,
              "solidity": 0.2
             }
            },
            "type": "bar"
           }
          ],
          "barpolar": [
           {
            "marker": {
             "line": {
              "color": "white",
              "width": 0.5
             },
             "pattern": {
              "fillmode": "overlay",
              "size": 10,
              "solidity": 0.2
             }
            },
            "type": "barpolar"
           }
          ],
          "carpet": [
           {
            "aaxis": {
             "endlinecolor": "#2a3f5f",
             "gridcolor": "#C8D4E3",
             "linecolor": "#C8D4E3",
             "minorgridcolor": "#C8D4E3",
             "startlinecolor": "#2a3f5f"
            },
            "baxis": {
             "endlinecolor": "#2a3f5f",
             "gridcolor": "#C8D4E3",
             "linecolor": "#C8D4E3",
             "minorgridcolor": "#C8D4E3",
             "startlinecolor": "#2a3f5f"
            },
            "type": "carpet"
           }
          ],
          "choropleth": [
           {
            "colorbar": {
             "outlinewidth": 0,
             "ticks": ""
            },
            "type": "choropleth"
           }
          ],
          "contour": [
           {
            "colorbar": {
             "outlinewidth": 0,
             "ticks": ""
            },
            "colorscale": [
             [
              0,
              "#0d0887"
             ],
             [
              0.1111111111111111,
              "#46039f"
             ],
             [
              0.2222222222222222,
              "#7201a8"
             ],
             [
              0.3333333333333333,
              "#9c179e"
             ],
             [
              0.4444444444444444,
              "#bd3786"
             ],
             [
              0.5555555555555556,
              "#d8576b"
             ],
             [
              0.6666666666666666,
              "#ed7953"
             ],
             [
              0.7777777777777778,
              "#fb9f3a"
             ],
             [
              0.8888888888888888,
              "#fdca26"
             ],
             [
              1,
              "#f0f921"
             ]
            ],
            "type": "contour"
           }
          ],
          "contourcarpet": [
           {
            "colorbar": {
             "outlinewidth": 0,
             "ticks": ""
            },
            "type": "contourcarpet"
           }
          ],
          "heatmap": [
           {
            "colorbar": {
             "outlinewidth": 0,
             "ticks": ""
            },
            "colorscale": [
             [
              0,
              "#0d0887"
             ],
             [
              0.1111111111111111,
              "#46039f"
             ],
             [
              0.2222222222222222,
              "#7201a8"
             ],
             [
              0.3333333333333333,
              "#9c179e"
             ],
             [
              0.4444444444444444,
              "#bd3786"
             ],
             [
              0.5555555555555556,
              "#d8576b"
             ],
             [
              0.6666666666666666,
              "#ed7953"
             ],
             [
              0.7777777777777778,
              "#fb9f3a"
             ],
             [
              0.8888888888888888,
              "#fdca26"
             ],
             [
              1,
              "#f0f921"
             ]
            ],
            "type": "heatmap"
           }
          ],
          "heatmapgl": [
           {
            "colorbar": {
             "outlinewidth": 0,
             "ticks": ""
            },
            "colorscale": [
             [
              0,
              "#0d0887"
             ],
             [
              0.1111111111111111,
              "#46039f"
             ],
             [
              0.2222222222222222,
              "#7201a8"
             ],
             [
              0.3333333333333333,
              "#9c179e"
             ],
             [
              0.4444444444444444,
              "#bd3786"
             ],
             [
              0.5555555555555556,
              "#d8576b"
             ],
             [
              0.6666666666666666,
              "#ed7953"
             ],
             [
              0.7777777777777778,
              "#fb9f3a"
             ],
             [
              0.8888888888888888,
              "#fdca26"
             ],
             [
              1,
              "#f0f921"
             ]
            ],
            "type": "heatmapgl"
           }
          ],
          "histogram": [
           {
            "marker": {
             "pattern": {
              "fillmode": "overlay",
              "size": 10,
              "solidity": 0.2
             }
            },
            "type": "histogram"
           }
          ],
          "histogram2d": [
           {
            "colorbar": {
             "outlinewidth": 0,
             "ticks": ""
            },
            "colorscale": [
             [
              0,
              "#0d0887"
             ],
             [
              0.1111111111111111,
              "#46039f"
             ],
             [
              0.2222222222222222,
              "#7201a8"
             ],
             [
              0.3333333333333333,
              "#9c179e"
             ],
             [
              0.4444444444444444,
              "#bd3786"
             ],
             [
              0.5555555555555556,
              "#d8576b"
             ],
             [
              0.6666666666666666,
              "#ed7953"
             ],
             [
              0.7777777777777778,
              "#fb9f3a"
             ],
             [
              0.8888888888888888,
              "#fdca26"
             ],
             [
              1,
              "#f0f921"
             ]
            ],
            "type": "histogram2d"
           }
          ],
          "histogram2dcontour": [
           {
            "colorbar": {
             "outlinewidth": 0,
             "ticks": ""
            },
            "colorscale": [
             [
              0,
              "#0d0887"
             ],
             [
              0.1111111111111111,
              "#46039f"
             ],
             [
              0.2222222222222222,
              "#7201a8"
             ],
             [
              0.3333333333333333,
              "#9c179e"
             ],
             [
              0.4444444444444444,
              "#bd3786"
             ],
             [
              0.5555555555555556,
              "#d8576b"
             ],
             [
              0.6666666666666666,
              "#ed7953"
             ],
             [
              0.7777777777777778,
              "#fb9f3a"
             ],
             [
              0.8888888888888888,
              "#fdca26"
             ],
             [
              1,
              "#f0f921"
             ]
            ],
            "type": "histogram2dcontour"
           }
          ],
          "mesh3d": [
           {
            "colorbar": {
             "outlinewidth": 0,
             "ticks": ""
            },
            "type": "mesh3d"
           }
          ],
          "parcoords": [
           {
            "line": {
             "colorbar": {
              "outlinewidth": 0,
              "ticks": ""
             }
            },
            "type": "parcoords"
           }
          ],
          "pie": [
           {
            "automargin": true,
            "type": "pie"
           }
          ],
          "scatter": [
           {
            "fillpattern": {
             "fillmode": "overlay",
             "size": 10,
             "solidity": 0.2
            },
            "type": "scatter"
           }
          ],
          "scatter3d": [
           {
            "line": {
             "colorbar": {
              "outlinewidth": 0,
              "ticks": ""
             }
            },
            "marker": {
             "colorbar": {
              "outlinewidth": 0,
              "ticks": ""
             }
            },
            "type": "scatter3d"
           }
          ],
          "scattercarpet": [
           {
            "marker": {
             "colorbar": {
              "outlinewidth": 0,
              "ticks": ""
             }
            },
            "type": "scattercarpet"
           }
          ],
          "scattergeo": [
           {
            "marker": {
             "colorbar": {
              "outlinewidth": 0,
              "ticks": ""
             }
            },
            "type": "scattergeo"
           }
          ],
          "scattergl": [
           {
            "marker": {
             "colorbar": {
              "outlinewidth": 0,
              "ticks": ""
             }
            },
            "type": "scattergl"
           }
          ],
          "scattermapbox": [
           {
            "marker": {
             "colorbar": {
              "outlinewidth": 0,
              "ticks": ""
             }
            },
            "type": "scattermapbox"
           }
          ],
          "scatterpolar": [
           {
            "marker": {
             "colorbar": {
              "outlinewidth": 0,
              "ticks": ""
             }
            },
            "type": "scatterpolar"
           }
          ],
          "scatterpolargl": [
           {
            "marker": {
             "colorbar": {
              "outlinewidth": 0,
              "ticks": ""
             }
            },
            "type": "scatterpolargl"
           }
          ],
          "scatterternary": [
           {
            "marker": {
             "colorbar": {
              "outlinewidth": 0,
              "ticks": ""
             }
            },
            "type": "scatterternary"
           }
          ],
          "surface": [
           {
            "colorbar": {
             "outlinewidth": 0,
             "ticks": ""
            },
            "colorscale": [
             [
              0,
              "#0d0887"
             ],
             [
              0.1111111111111111,
              "#46039f"
             ],
             [
              0.2222222222222222,
              "#7201a8"
             ],
             [
              0.3333333333333333,
              "#9c179e"
             ],
             [
              0.4444444444444444,
              "#bd3786"
             ],
             [
              0.5555555555555556,
              "#d8576b"
             ],
             [
              0.6666666666666666,
              "#ed7953"
             ],
             [
              0.7777777777777778,
              "#fb9f3a"
             ],
             [
              0.8888888888888888,
              "#fdca26"
             ],
             [
              1,
              "#f0f921"
             ]
            ],
            "type": "surface"
           }
          ],
          "table": [
           {
            "cells": {
             "fill": {
              "color": "#EBF0F8"
             },
             "line": {
              "color": "white"
             }
            },
            "header": {
             "fill": {
              "color": "#C8D4E3"
             },
             "line": {
              "color": "white"
             }
            },
            "type": "table"
           }
          ]
         },
         "layout": {
          "annotationdefaults": {
           "arrowcolor": "#2a3f5f",
           "arrowhead": 0,
           "arrowwidth": 1
          },
          "autotypenumbers": "strict",
          "coloraxis": {
           "colorbar": {
            "outlinewidth": 0,
            "ticks": ""
           }
          },
          "colorscale": {
           "diverging": [
            [
             0,
             "#8e0152"
            ],
            [
             0.1,
             "#c51b7d"
            ],
            [
             0.2,
             "#de77ae"
            ],
            [
             0.3,
             "#f1b6da"
            ],
            [
             0.4,
             "#fde0ef"
            ],
            [
             0.5,
             "#f7f7f7"
            ],
            [
             0.6,
             "#e6f5d0"
            ],
            [
             0.7,
             "#b8e186"
            ],
            [
             0.8,
             "#7fbc41"
            ],
            [
             0.9,
             "#4d9221"
            ],
            [
             1,
             "#276419"
            ]
           ],
           "sequential": [
            [
             0,
             "#0d0887"
            ],
            [
             0.1111111111111111,
             "#46039f"
            ],
            [
             0.2222222222222222,
             "#7201a8"
            ],
            [
             0.3333333333333333,
             "#9c179e"
            ],
            [
             0.4444444444444444,
             "#bd3786"
            ],
            [
             0.5555555555555556,
             "#d8576b"
            ],
            [
             0.6666666666666666,
             "#ed7953"
            ],
            [
             0.7777777777777778,
             "#fb9f3a"
            ],
            [
             0.8888888888888888,
             "#fdca26"
            ],
            [
             1,
             "#f0f921"
            ]
           ],
           "sequentialminus": [
            [
             0,
             "#0d0887"
            ],
            [
             0.1111111111111111,
             "#46039f"
            ],
            [
             0.2222222222222222,
             "#7201a8"
            ],
            [
             0.3333333333333333,
             "#9c179e"
            ],
            [
             0.4444444444444444,
             "#bd3786"
            ],
            [
             0.5555555555555556,
             "#d8576b"
            ],
            [
             0.6666666666666666,
             "#ed7953"
            ],
            [
             0.7777777777777778,
             "#fb9f3a"
            ],
            [
             0.8888888888888888,
             "#fdca26"
            ],
            [
             1,
             "#f0f921"
            ]
           ]
          },
          "colorway": [
           "#636efa",
           "#EF553B",
           "#00cc96",
           "#ab63fa",
           "#FFA15A",
           "#19d3f3",
           "#FF6692",
           "#B6E880",
           "#FF97FF",
           "#FECB52"
          ],
          "font": {
           "color": "#2a3f5f"
          },
          "geo": {
           "bgcolor": "white",
           "lakecolor": "white",
           "landcolor": "white",
           "showlakes": true,
           "showland": true,
           "subunitcolor": "#C8D4E3"
          },
          "hoverlabel": {
           "align": "left"
          },
          "hovermode": "closest",
          "mapbox": {
           "style": "light"
          },
          "paper_bgcolor": "white",
          "plot_bgcolor": "white",
          "polar": {
           "angularaxis": {
            "gridcolor": "#EBF0F8",
            "linecolor": "#EBF0F8",
            "ticks": ""
           },
           "bgcolor": "white",
           "radialaxis": {
            "gridcolor": "#EBF0F8",
            "linecolor": "#EBF0F8",
            "ticks": ""
           }
          },
          "scene": {
           "xaxis": {
            "backgroundcolor": "white",
            "gridcolor": "#DFE8F3",
            "gridwidth": 2,
            "linecolor": "#EBF0F8",
            "showbackground": true,
            "ticks": "",
            "zerolinecolor": "#EBF0F8"
           },
           "yaxis": {
            "backgroundcolor": "white",
            "gridcolor": "#DFE8F3",
            "gridwidth": 2,
            "linecolor": "#EBF0F8",
            "showbackground": true,
            "ticks": "",
            "zerolinecolor": "#EBF0F8"
           },
           "zaxis": {
            "backgroundcolor": "white",
            "gridcolor": "#DFE8F3",
            "gridwidth": 2,
            "linecolor": "#EBF0F8",
            "showbackground": true,
            "ticks": "",
            "zerolinecolor": "#EBF0F8"
           }
          },
          "shapedefaults": {
           "line": {
            "color": "#2a3f5f"
           }
          },
          "ternary": {
           "aaxis": {
            "gridcolor": "#DFE8F3",
            "linecolor": "#A2B1C6",
            "ticks": ""
           },
           "baxis": {
            "gridcolor": "#DFE8F3",
            "linecolor": "#A2B1C6",
            "ticks": ""
           },
           "bgcolor": "white",
           "caxis": {
            "gridcolor": "#DFE8F3",
            "linecolor": "#A2B1C6",
            "ticks": ""
           }
          },
          "title": {
           "x": 0.05
          },
          "xaxis": {
           "automargin": true,
           "gridcolor": "#EBF0F8",
           "linecolor": "#EBF0F8",
           "ticks": "",
           "title": {
            "standoff": 15
           },
           "zerolinecolor": "#EBF0F8",
           "zerolinewidth": 2
          },
          "yaxis": {
           "automargin": true,
           "gridcolor": "#EBF0F8",
           "linecolor": "#EBF0F8",
           "ticks": "",
           "title": {
            "standoff": 15
           },
           "zerolinecolor": "#EBF0F8",
           "zerolinewidth": 2
          }
         }
        },
        "title": {
         "font": {
          "size": 20
         },
         "text": "Distribution of Residual Variability",
         "x": 0.5,
         "xanchor": "center",
         "yanchor": "top"
        },
        "width": 900,
        "xaxis": {
         "anchor": "y",
         "domain": [
          0,
          1
         ],
         "title": {
          "font": {
           "size": 12
          },
          "text": "Residual Variability"
         }
        },
        "yaxis": {
         "anchor": "x",
         "domain": [
          0,
          1
         ],
         "title": {
          "font": {
           "size": 12
          },
          "text": ""
         }
        }
       }
      }
     },
     "metadata": {},
     "output_type": "display_data"
    }
   ],
   "source": [
    "fig = px.histogram(x=block_df[\"residual_variability\"], title=\"Distribution of Residual Variability\")\n",
    "fig = format_plot(fig, xlabel=\"Residual Variability\", ylabel=\"\")\n",
    "# fig.write_image(\"imgs/chapter_4/rv.png\")\n",
    "fig.show()"
   ]
  },
  {
   "cell_type": "markdown",
   "id": "d6fccb62-76bd-43e1-8451-388cec29f52b",
   "metadata": {
    "heading_collapsed": "true",
    "tags": []
   },
   "source": [
    "## Spectral Entropy"
   ]
  },
  {
   "cell_type": "code",
   "execution_count": 22,
   "id": "66c166bb-a5ee-4553-bb27-04c220092c15",
   "metadata": {},
   "outputs": [],
   "source": [
    "from src.forecastability.entropy import spectral_entropy"
   ]
  },
  {
   "cell_type": "code",
   "execution_count": 23,
   "id": "dac1a99c-53b3-4f37-bc10-cd9a38c97406",
   "metadata": {},
   "outputs": [
    {
     "data": {
      "application/vnd.jupyter.widget-view+json": {
       "model_id": "359d42a2a773427f98f313e616f2d41d",
       "version_major": 2,
       "version_minor": 0
      },
      "text/plain": [
       "  0%|          | 0/150 [00:00<?, ?it/s]"
      ]
     },
     "metadata": {},
     "output_type": "display_data"
    },
    {
     "name": "stdout",
     "output_type": "stream",
     "text": [
      "CPU times: total: 1.11 s\n",
      "Wall time: 4.35 s\n"
     ]
    }
   ],
   "source": [
    "%%time\n",
    "block_df[\"residual_spectral_entropy\"] = block_df.residuals.progress_apply(spectral_entropy)"
   ]
  },
  {
   "cell_type": "code",
   "execution_count": 24,
   "id": "3f011654-171b-4b02-9621-74d6de178192",
   "metadata": {},
   "outputs": [
    {
     "data": {
      "application/vnd.jupyter.widget-view+json": {
       "model_id": "5b409be4e2bc4d059365a2cf78c7719a",
       "version_major": 2,
       "version_minor": 0
      },
      "text/plain": [
       "  0%|          | 0/150 [00:00<?, ?it/s]"
      ]
     },
     "metadata": {},
     "output_type": "display_data"
    },
    {
     "name": "stdout",
     "output_type": "stream",
     "text": [
      "CPU times: total: 29.7 s\n",
      "Wall time: 54.4 s\n"
     ]
    }
   ],
   "source": [
    "%%time\n",
    "block_df[\"spectral_entropy\"] = block_df.energy_consumption.progress_apply(lambda x: spectral_entropy(x, transform_stationary=True))"
   ]
  },
  {
   "cell_type": "code",
   "execution_count": 25,
   "id": "9a65e707-d265-4838-abb4-7053a0a1e627",
   "metadata": {},
   "outputs": [
    {
     "data": {
      "application/vnd.plotly.v1+json": {
       "config": {
        "plotlyServerURL": "https://plot.ly"
       },
       "data": [
        {
         "alignmentgroup": "True",
         "bingroup": "x",
         "hovertemplate": "x=%{x}<br>count=%{y}<extra></extra>",
         "legendgroup": "",
         "marker": {
          "color": "#636efa",
          "pattern": {
           "shape": ""
          }
         },
         "name": "",
         "offsetgroup": "",
         "orientation": "v",
         "showlegend": false,
         "type": "histogram",
         "x": [
          0.8072097669171913,
          0.8243516474305621,
          0.7386429873249672,
          0.6553124347965885,
          0.7258898144835592,
          0.6566441745635241,
          0.7786708194928053,
          0.7797955922288483,
          0.7685917280991074,
          0.9477141820493585,
          0.5223839630525774,
          0.794924011384444,
          0.6006348652871696,
          0.8360404100610961,
          0.8273180999502798,
          0.5201254425652555,
          0.741658332244078,
          0.825531989117852,
          0.6685649113678813,
          0.8369015385027282,
          0.9304295848942508,
          0.8282571471496604,
          0.7217008717699798,
          0.822471395589268,
          0.5977392101370708,
          0.8408350180160977,
          0.797236469629929,
          0.8760831894260258,
          0.7949776490175064,
          0.726664159658762,
          0.7660286154051563,
          0.7431136829540574,
          0.7776556221191091,
          0.7731276793442974,
          0.5903857539171139,
          0.831218040922074,
          0.6513622101566215,
          0.863190267101287,
          0.7598311698490887,
          0.7339330921862339,
          0.6056500208678838,
          0.5679593207283262,
          0.7746327391872395,
          0.7970458544035843,
          0.7531760184479015,
          0.7515258314234585,
          0.48499958437266966,
          0.8523546551579351,
          0.5079426767640798,
          0.8130129225026033,
          0.9221378791561502,
          0.7677883394586033,
          0.8708532749609764,
          0.7771830996710639,
          0.932193795369542,
          0.7805887421281805,
          0.6677775603322247,
          0.8629386289254497,
          0.5828059852383252,
          0.6478587511608808,
          0.6453884336187843,
          0.7194399986933763,
          0.8203788764270723,
          0.7970054058146271,
          0.7953261443670319,
          0.7023122964430883,
          0.8424393834074032,
          0.8252063338638824,
          0.7562784279091104,
          0.8161269660918993,
          0.7818312793034998,
          0.6657152116554683,
          0.7323771206225264,
          0.6924473904041766,
          0.7809377419287725,
          0.7898596094154904,
          0.8070938129511147,
          0.6697986996473719,
          0.8587333662394357,
          0.6950008823252756,
          0.8396466706785185,
          0.8399887223471334,
          0.6595553315920349,
          0.8348817411020972,
          0.8508779052147643,
          0.7503190406019705,
          0.7439551032860449,
          0.8144255404411238,
          0.5791339017864009,
          0.7806038831326153,
          0.7584429215793248,
          0.6919317640775323,
          0.6763816588414149,
          0.7699293047043189,
          0.7715279059922304,
          0.8041510510655712,
          0.6739762683318931,
          0.7944612248196676,
          0.8288435793777269,
          0.7090126724044811,
          0.6422424014248675,
          0.8525139344500547,
          0.47946411894290264,
          0.6935438465732546,
          0.9036247495884348,
          0.6611462659825745,
          0.8257231925331191,
          0.8394799004258734,
          0.818936199597653,
          0.8242102929025421,
          0.7632509820039081,
          0.6515537944113887,
          0.8014111759667731,
          0.7726266803829761,
          0.7690436461877969,
          0.7075465685185364,
          0.8108138085392786,
          0.833129281409286,
          0.7875649365358174,
          0.8516086091521208,
          0.7491914794061113,
          0.756923372208081,
          0.636829337740364,
          0.7596420650909352,
          0.7715084543780335,
          0.8107575048215474,
          0.6852219364245611,
          0.7241736284970818,
          0.7440383636598443,
          0.8173752932484954,
          0.8698300454466864,
          0.800459801498766,
          0.7912656529909353,
          0.8198154339775351,
          0.9428488911795488,
          0.9049560016871816,
          0.7302485752310496,
          0.7554963888204035,
          0.7531953956369142,
          0.785605133141485,
          0.7883544860378464,
          0.6031997352662899,
          0.8454963646176211,
          0.6073036757258545,
          0.7849039193065167,
          0.8604453730615744,
          0.8177845842541486,
          0.8155170542501383,
          0.8744048829264502,
          0.8190913902532148
         ],
         "xaxis": "x",
         "yaxis": "y"
        }
       ],
       "layout": {
        "autosize": false,
        "barmode": "relative",
        "height": 500,
        "legend": {
         "title": {},
         "tracegroupgap": 0
        },
        "template": {
         "data": {
          "bar": [
           {
            "error_x": {
             "color": "#2a3f5f"
            },
            "error_y": {
             "color": "#2a3f5f"
            },
            "marker": {
             "line": {
              "color": "white",
              "width": 0.5
             },
             "pattern": {
              "fillmode": "overlay",
              "size": 10,
              "solidity": 0.2
             }
            },
            "type": "bar"
           }
          ],
          "barpolar": [
           {
            "marker": {
             "line": {
              "color": "white",
              "width": 0.5
             },
             "pattern": {
              "fillmode": "overlay",
              "size": 10,
              "solidity": 0.2
             }
            },
            "type": "barpolar"
           }
          ],
          "carpet": [
           {
            "aaxis": {
             "endlinecolor": "#2a3f5f",
             "gridcolor": "#C8D4E3",
             "linecolor": "#C8D4E3",
             "minorgridcolor": "#C8D4E3",
             "startlinecolor": "#2a3f5f"
            },
            "baxis": {
             "endlinecolor": "#2a3f5f",
             "gridcolor": "#C8D4E3",
             "linecolor": "#C8D4E3",
             "minorgridcolor": "#C8D4E3",
             "startlinecolor": "#2a3f5f"
            },
            "type": "carpet"
           }
          ],
          "choropleth": [
           {
            "colorbar": {
             "outlinewidth": 0,
             "ticks": ""
            },
            "type": "choropleth"
           }
          ],
          "contour": [
           {
            "colorbar": {
             "outlinewidth": 0,
             "ticks": ""
            },
            "colorscale": [
             [
              0,
              "#0d0887"
             ],
             [
              0.1111111111111111,
              "#46039f"
             ],
             [
              0.2222222222222222,
              "#7201a8"
             ],
             [
              0.3333333333333333,
              "#9c179e"
             ],
             [
              0.4444444444444444,
              "#bd3786"
             ],
             [
              0.5555555555555556,
              "#d8576b"
             ],
             [
              0.6666666666666666,
              "#ed7953"
             ],
             [
              0.7777777777777778,
              "#fb9f3a"
             ],
             [
              0.8888888888888888,
              "#fdca26"
             ],
             [
              1,
              "#f0f921"
             ]
            ],
            "type": "contour"
           }
          ],
          "contourcarpet": [
           {
            "colorbar": {
             "outlinewidth": 0,
             "ticks": ""
            },
            "type": "contourcarpet"
           }
          ],
          "heatmap": [
           {
            "colorbar": {
             "outlinewidth": 0,
             "ticks": ""
            },
            "colorscale": [
             [
              0,
              "#0d0887"
             ],
             [
              0.1111111111111111,
              "#46039f"
             ],
             [
              0.2222222222222222,
              "#7201a8"
             ],
             [
              0.3333333333333333,
              "#9c179e"
             ],
             [
              0.4444444444444444,
              "#bd3786"
             ],
             [
              0.5555555555555556,
              "#d8576b"
             ],
             [
              0.6666666666666666,
              "#ed7953"
             ],
             [
              0.7777777777777778,
              "#fb9f3a"
             ],
             [
              0.8888888888888888,
              "#fdca26"
             ],
             [
              1,
              "#f0f921"
             ]
            ],
            "type": "heatmap"
           }
          ],
          "heatmapgl": [
           {
            "colorbar": {
             "outlinewidth": 0,
             "ticks": ""
            },
            "colorscale": [
             [
              0,
              "#0d0887"
             ],
             [
              0.1111111111111111,
              "#46039f"
             ],
             [
              0.2222222222222222,
              "#7201a8"
             ],
             [
              0.3333333333333333,
              "#9c179e"
             ],
             [
              0.4444444444444444,
              "#bd3786"
             ],
             [
              0.5555555555555556,
              "#d8576b"
             ],
             [
              0.6666666666666666,
              "#ed7953"
             ],
             [
              0.7777777777777778,
              "#fb9f3a"
             ],
             [
              0.8888888888888888,
              "#fdca26"
             ],
             [
              1,
              "#f0f921"
             ]
            ],
            "type": "heatmapgl"
           }
          ],
          "histogram": [
           {
            "marker": {
             "pattern": {
              "fillmode": "overlay",
              "size": 10,
              "solidity": 0.2
             }
            },
            "type": "histogram"
           }
          ],
          "histogram2d": [
           {
            "colorbar": {
             "outlinewidth": 0,
             "ticks": ""
            },
            "colorscale": [
             [
              0,
              "#0d0887"
             ],
             [
              0.1111111111111111,
              "#46039f"
             ],
             [
              0.2222222222222222,
              "#7201a8"
             ],
             [
              0.3333333333333333,
              "#9c179e"
             ],
             [
              0.4444444444444444,
              "#bd3786"
             ],
             [
              0.5555555555555556,
              "#d8576b"
             ],
             [
              0.6666666666666666,
              "#ed7953"
             ],
             [
              0.7777777777777778,
              "#fb9f3a"
             ],
             [
              0.8888888888888888,
              "#fdca26"
             ],
             [
              1,
              "#f0f921"
             ]
            ],
            "type": "histogram2d"
           }
          ],
          "histogram2dcontour": [
           {
            "colorbar": {
             "outlinewidth": 0,
             "ticks": ""
            },
            "colorscale": [
             [
              0,
              "#0d0887"
             ],
             [
              0.1111111111111111,
              "#46039f"
             ],
             [
              0.2222222222222222,
              "#7201a8"
             ],
             [
              0.3333333333333333,
              "#9c179e"
             ],
             [
              0.4444444444444444,
              "#bd3786"
             ],
             [
              0.5555555555555556,
              "#d8576b"
             ],
             [
              0.6666666666666666,
              "#ed7953"
             ],
             [
              0.7777777777777778,
              "#fb9f3a"
             ],
             [
              0.8888888888888888,
              "#fdca26"
             ],
             [
              1,
              "#f0f921"
             ]
            ],
            "type": "histogram2dcontour"
           }
          ],
          "mesh3d": [
           {
            "colorbar": {
             "outlinewidth": 0,
             "ticks": ""
            },
            "type": "mesh3d"
           }
          ],
          "parcoords": [
           {
            "line": {
             "colorbar": {
              "outlinewidth": 0,
              "ticks": ""
             }
            },
            "type": "parcoords"
           }
          ],
          "pie": [
           {
            "automargin": true,
            "type": "pie"
           }
          ],
          "scatter": [
           {
            "fillpattern": {
             "fillmode": "overlay",
             "size": 10,
             "solidity": 0.2
            },
            "type": "scatter"
           }
          ],
          "scatter3d": [
           {
            "line": {
             "colorbar": {
              "outlinewidth": 0,
              "ticks": ""
             }
            },
            "marker": {
             "colorbar": {
              "outlinewidth": 0,
              "ticks": ""
             }
            },
            "type": "scatter3d"
           }
          ],
          "scattercarpet": [
           {
            "marker": {
             "colorbar": {
              "outlinewidth": 0,
              "ticks": ""
             }
            },
            "type": "scattercarpet"
           }
          ],
          "scattergeo": [
           {
            "marker": {
             "colorbar": {
              "outlinewidth": 0,
              "ticks": ""
             }
            },
            "type": "scattergeo"
           }
          ],
          "scattergl": [
           {
            "marker": {
             "colorbar": {
              "outlinewidth": 0,
              "ticks": ""
             }
            },
            "type": "scattergl"
           }
          ],
          "scattermapbox": [
           {
            "marker": {
             "colorbar": {
              "outlinewidth": 0,
              "ticks": ""
             }
            },
            "type": "scattermapbox"
           }
          ],
          "scatterpolar": [
           {
            "marker": {
             "colorbar": {
              "outlinewidth": 0,
              "ticks": ""
             }
            },
            "type": "scatterpolar"
           }
          ],
          "scatterpolargl": [
           {
            "marker": {
             "colorbar": {
              "outlinewidth": 0,
              "ticks": ""
             }
            },
            "type": "scatterpolargl"
           }
          ],
          "scatterternary": [
           {
            "marker": {
             "colorbar": {
              "outlinewidth": 0,
              "ticks": ""
             }
            },
            "type": "scatterternary"
           }
          ],
          "surface": [
           {
            "colorbar": {
             "outlinewidth": 0,
             "ticks": ""
            },
            "colorscale": [
             [
              0,
              "#0d0887"
             ],
             [
              0.1111111111111111,
              "#46039f"
             ],
             [
              0.2222222222222222,
              "#7201a8"
             ],
             [
              0.3333333333333333,
              "#9c179e"
             ],
             [
              0.4444444444444444,
              "#bd3786"
             ],
             [
              0.5555555555555556,
              "#d8576b"
             ],
             [
              0.6666666666666666,
              "#ed7953"
             ],
             [
              0.7777777777777778,
              "#fb9f3a"
             ],
             [
              0.8888888888888888,
              "#fdca26"
             ],
             [
              1,
              "#f0f921"
             ]
            ],
            "type": "surface"
           }
          ],
          "table": [
           {
            "cells": {
             "fill": {
              "color": "#EBF0F8"
             },
             "line": {
              "color": "white"
             }
            },
            "header": {
             "fill": {
              "color": "#C8D4E3"
             },
             "line": {
              "color": "white"
             }
            },
            "type": "table"
           }
          ]
         },
         "layout": {
          "annotationdefaults": {
           "arrowcolor": "#2a3f5f",
           "arrowhead": 0,
           "arrowwidth": 1
          },
          "autotypenumbers": "strict",
          "coloraxis": {
           "colorbar": {
            "outlinewidth": 0,
            "ticks": ""
           }
          },
          "colorscale": {
           "diverging": [
            [
             0,
             "#8e0152"
            ],
            [
             0.1,
             "#c51b7d"
            ],
            [
             0.2,
             "#de77ae"
            ],
            [
             0.3,
             "#f1b6da"
            ],
            [
             0.4,
             "#fde0ef"
            ],
            [
             0.5,
             "#f7f7f7"
            ],
            [
             0.6,
             "#e6f5d0"
            ],
            [
             0.7,
             "#b8e186"
            ],
            [
             0.8,
             "#7fbc41"
            ],
            [
             0.9,
             "#4d9221"
            ],
            [
             1,
             "#276419"
            ]
           ],
           "sequential": [
            [
             0,
             "#0d0887"
            ],
            [
             0.1111111111111111,
             "#46039f"
            ],
            [
             0.2222222222222222,
             "#7201a8"
            ],
            [
             0.3333333333333333,
             "#9c179e"
            ],
            [
             0.4444444444444444,
             "#bd3786"
            ],
            [
             0.5555555555555556,
             "#d8576b"
            ],
            [
             0.6666666666666666,
             "#ed7953"
            ],
            [
             0.7777777777777778,
             "#fb9f3a"
            ],
            [
             0.8888888888888888,
             "#fdca26"
            ],
            [
             1,
             "#f0f921"
            ]
           ],
           "sequentialminus": [
            [
             0,
             "#0d0887"
            ],
            [
             0.1111111111111111,
             "#46039f"
            ],
            [
             0.2222222222222222,
             "#7201a8"
            ],
            [
             0.3333333333333333,
             "#9c179e"
            ],
            [
             0.4444444444444444,
             "#bd3786"
            ],
            [
             0.5555555555555556,
             "#d8576b"
            ],
            [
             0.6666666666666666,
             "#ed7953"
            ],
            [
             0.7777777777777778,
             "#fb9f3a"
            ],
            [
             0.8888888888888888,
             "#fdca26"
            ],
            [
             1,
             "#f0f921"
            ]
           ]
          },
          "colorway": [
           "#636efa",
           "#EF553B",
           "#00cc96",
           "#ab63fa",
           "#FFA15A",
           "#19d3f3",
           "#FF6692",
           "#B6E880",
           "#FF97FF",
           "#FECB52"
          ],
          "font": {
           "color": "#2a3f5f"
          },
          "geo": {
           "bgcolor": "white",
           "lakecolor": "white",
           "landcolor": "white",
           "showlakes": true,
           "showland": true,
           "subunitcolor": "#C8D4E3"
          },
          "hoverlabel": {
           "align": "left"
          },
          "hovermode": "closest",
          "mapbox": {
           "style": "light"
          },
          "paper_bgcolor": "white",
          "plot_bgcolor": "white",
          "polar": {
           "angularaxis": {
            "gridcolor": "#EBF0F8",
            "linecolor": "#EBF0F8",
            "ticks": ""
           },
           "bgcolor": "white",
           "radialaxis": {
            "gridcolor": "#EBF0F8",
            "linecolor": "#EBF0F8",
            "ticks": ""
           }
          },
          "scene": {
           "xaxis": {
            "backgroundcolor": "white",
            "gridcolor": "#DFE8F3",
            "gridwidth": 2,
            "linecolor": "#EBF0F8",
            "showbackground": true,
            "ticks": "",
            "zerolinecolor": "#EBF0F8"
           },
           "yaxis": {
            "backgroundcolor": "white",
            "gridcolor": "#DFE8F3",
            "gridwidth": 2,
            "linecolor": "#EBF0F8",
            "showbackground": true,
            "ticks": "",
            "zerolinecolor": "#EBF0F8"
           },
           "zaxis": {
            "backgroundcolor": "white",
            "gridcolor": "#DFE8F3",
            "gridwidth": 2,
            "linecolor": "#EBF0F8",
            "showbackground": true,
            "ticks": "",
            "zerolinecolor": "#EBF0F8"
           }
          },
          "shapedefaults": {
           "line": {
            "color": "#2a3f5f"
           }
          },
          "ternary": {
           "aaxis": {
            "gridcolor": "#DFE8F3",
            "linecolor": "#A2B1C6",
            "ticks": ""
           },
           "baxis": {
            "gridcolor": "#DFE8F3",
            "linecolor": "#A2B1C6",
            "ticks": ""
           },
           "bgcolor": "white",
           "caxis": {
            "gridcolor": "#DFE8F3",
            "linecolor": "#A2B1C6",
            "ticks": ""
           }
          },
          "title": {
           "x": 0.05
          },
          "xaxis": {
           "automargin": true,
           "gridcolor": "#EBF0F8",
           "linecolor": "#EBF0F8",
           "ticks": "",
           "title": {
            "standoff": 15
           },
           "zerolinecolor": "#EBF0F8",
           "zerolinewidth": 2
          },
          "yaxis": {
           "automargin": true,
           "gridcolor": "#EBF0F8",
           "linecolor": "#EBF0F8",
           "ticks": "",
           "title": {
            "standoff": 15
           },
           "zerolinecolor": "#EBF0F8",
           "zerolinewidth": 2
          }
         }
        },
        "title": {
         "font": {
          "size": 20
         },
         "text": "Distribution of Spectral Entropy",
         "x": 0.5,
         "xanchor": "center",
         "yanchor": "top"
        },
        "width": 900,
        "xaxis": {
         "anchor": "y",
         "domain": [
          0,
          1
         ],
         "title": {
          "font": {
           "size": 12
          },
          "text": "Spectral Entropy"
         }
        },
        "yaxis": {
         "anchor": "x",
         "domain": [
          0,
          1
         ],
         "title": {
          "font": {
           "size": 12
          },
          "text": ""
         }
        }
       }
      }
     },
     "metadata": {},
     "output_type": "display_data"
    }
   ],
   "source": [
    "fig = px.histogram(x=block_df[\"spectral_entropy\"], title=\"Distribution of Spectral Entropy\")\n",
    "fig = format_plot(fig, xlabel=\"Spectral Entropy\", ylabel=\"\")\n",
    "# fig.write_image(\"imgs/chapter_4/spectral_entropy.png\")\n",
    "fig.show()"
   ]
  },
  {
   "cell_type": "code",
   "execution_count": 26,
   "id": "c3dfa310-fd10-42dc-a9f7-90506abc7b48",
   "metadata": {},
   "outputs": [
    {
     "data": {
      "application/vnd.plotly.v1+json": {
       "config": {
        "plotlyServerURL": "https://plot.ly"
       },
       "data": [
        {
         "alignmentgroup": "True",
         "bingroup": "x",
         "hovertemplate": "x=%{x}<br>count=%{y}<extra></extra>",
         "legendgroup": "",
         "marker": {
          "color": "#636efa",
          "pattern": {
           "shape": ""
          }
         },
         "name": "",
         "offsetgroup": "",
         "orientation": "v",
         "showlegend": false,
         "type": "histogram",
         "x": [
          0.8901626243973677,
          0.8775983395880178,
          0.8809006484453707,
          0.8269100045541351,
          0.8608496059162736,
          0.8975266904776702,
          0.8939583505978398,
          0.8426852181485048,
          0.921523231662635,
          0.9532706401442629,
          0.6171906247842858,
          0.9061521523134349,
          0.9122076357674392,
          0.909125075578294,
          0.9099384541481645,
          0.6913999551158849,
          0.91638877505764,
          0.8460026434416924,
          0.7616449812323008,
          0.9054972244463377,
          0.945228871005179,
          0.8666399834733461,
          0.9015635564775072,
          0.8908853762320291,
          0.6741945588344984,
          0.927201848703748,
          0.8337270844308076,
          0.9376086813966006,
          0.9084612660224489,
          0.8276912387147531,
          0.8436523086664978,
          0.900594811213349,
          0.9126978107679723,
          0.8606052722834561,
          0.7742943144688813,
          0.9074491343435338,
          0.8599282066743731,
          0.9191714191665671,
          0.9270993740091356,
          0.8250231718410647,
          0.8319581826538999,
          0.7684574744601561,
          0.8897317951342978,
          0.8676012825474567,
          0.8931658555372461,
          0.9228764426383529,
          0.8075895283793253,
          0.8976868038042095,
          0.6940247273630035,
          0.919574319537408,
          0.9338439944823625,
          0.8947417401952815,
          0.9268058199373259,
          0.9021916512544124,
          0.948897048009419,
          0.9048787708293774,
          0.8542827111231739,
          0.9361437803825399,
          0.9115229897060105,
          0.829069386808234,
          0.8569525423718706,
          0.9175238158743005,
          0.9326791846026797,
          0.8912875308188478,
          0.9092558031203569,
          0.8800365969110564,
          0.9136246156718173,
          0.9183477755505205,
          0.8810570182857087,
          0.9117479898350157,
          0.9211718645229969,
          0.774993014782752,
          0.8540936644557164,
          0.8765846944438428,
          0.8642233608936707,
          0.864977005525522,
          0.9176344808206227,
          0.9021717388887377,
          0.9358530408558868,
          0.8876246222612039,
          0.8981516727837162,
          0.9232657591793098,
          0.8814693532816652,
          0.9193677264059873,
          0.913376652309328,
          0.9051184783538524,
          0.8723659643647674,
          0.9224396072261177,
          0.8969540184616607,
          0.9243966515294791,
          0.900731836683992,
          0.8620236572717022,
          0.7993895788948292,
          0.8876879097676587,
          0.9073930805370843,
          0.8947795668069425,
          0.8337967508970534,
          0.8897990114037864,
          0.9216529768320315,
          0.8548524937348395,
          0.8646135504241237,
          0.8856372567214943,
          0.5910006750031932,
          0.8833173844724225,
          0.9249501108148296,
          0.9216946517241555,
          0.904131744208865,
          0.9193626890817631,
          0.9132185550141005,
          0.9216955224987361,
          0.9125887077238642,
          0.849133303474876,
          0.8655610560481104,
          0.9036209808795421,
          0.9093844043952367,
          0.8953981885914959,
          0.8966393933730299,
          0.8577353866982204,
          0.901895524066299,
          0.9126164058844766,
          0.9216928328620213,
          0.9017806617910183,
          0.9232856887670914,
          0.8663497074169882,
          0.8905268658627503,
          0.9018947804949862,
          0.927966541168204,
          0.8607589494571921,
          0.8832460296866232,
          0.9047883197590562,
          0.9366567000762336,
          0.9361115721133331,
          0.914190413604512,
          0.8941056558096501,
          0.9476452795621879,
          0.9416256923290321,
          0.8281566800641046,
          0.8890613826555592,
          0.8736461021140463,
          0.9096942583793947,
          0.9018426189345774,
          0.8990110099380014,
          0.9192845848433152,
          0.8854158513404756,
          0.8853381828968974,
          0.9210654208689217,
          0.94075173729542,
          0.92442543593032,
          0.9162423387360924,
          0.9174712376607598
         ],
         "xaxis": "x",
         "yaxis": "y"
        }
       ],
       "layout": {
        "autosize": false,
        "barmode": "relative",
        "height": 500,
        "legend": {
         "title": {},
         "tracegroupgap": 0
        },
        "template": {
         "data": {
          "bar": [
           {
            "error_x": {
             "color": "#2a3f5f"
            },
            "error_y": {
             "color": "#2a3f5f"
            },
            "marker": {
             "line": {
              "color": "white",
              "width": 0.5
             },
             "pattern": {
              "fillmode": "overlay",
              "size": 10,
              "solidity": 0.2
             }
            },
            "type": "bar"
           }
          ],
          "barpolar": [
           {
            "marker": {
             "line": {
              "color": "white",
              "width": 0.5
             },
             "pattern": {
              "fillmode": "overlay",
              "size": 10,
              "solidity": 0.2
             }
            },
            "type": "barpolar"
           }
          ],
          "carpet": [
           {
            "aaxis": {
             "endlinecolor": "#2a3f5f",
             "gridcolor": "#C8D4E3",
             "linecolor": "#C8D4E3",
             "minorgridcolor": "#C8D4E3",
             "startlinecolor": "#2a3f5f"
            },
            "baxis": {
             "endlinecolor": "#2a3f5f",
             "gridcolor": "#C8D4E3",
             "linecolor": "#C8D4E3",
             "minorgridcolor": "#C8D4E3",
             "startlinecolor": "#2a3f5f"
            },
            "type": "carpet"
           }
          ],
          "choropleth": [
           {
            "colorbar": {
             "outlinewidth": 0,
             "ticks": ""
            },
            "type": "choropleth"
           }
          ],
          "contour": [
           {
            "colorbar": {
             "outlinewidth": 0,
             "ticks": ""
            },
            "colorscale": [
             [
              0,
              "#0d0887"
             ],
             [
              0.1111111111111111,
              "#46039f"
             ],
             [
              0.2222222222222222,
              "#7201a8"
             ],
             [
              0.3333333333333333,
              "#9c179e"
             ],
             [
              0.4444444444444444,
              "#bd3786"
             ],
             [
              0.5555555555555556,
              "#d8576b"
             ],
             [
              0.6666666666666666,
              "#ed7953"
             ],
             [
              0.7777777777777778,
              "#fb9f3a"
             ],
             [
              0.8888888888888888,
              "#fdca26"
             ],
             [
              1,
              "#f0f921"
             ]
            ],
            "type": "contour"
           }
          ],
          "contourcarpet": [
           {
            "colorbar": {
             "outlinewidth": 0,
             "ticks": ""
            },
            "type": "contourcarpet"
           }
          ],
          "heatmap": [
           {
            "colorbar": {
             "outlinewidth": 0,
             "ticks": ""
            },
            "colorscale": [
             [
              0,
              "#0d0887"
             ],
             [
              0.1111111111111111,
              "#46039f"
             ],
             [
              0.2222222222222222,
              "#7201a8"
             ],
             [
              0.3333333333333333,
              "#9c179e"
             ],
             [
              0.4444444444444444,
              "#bd3786"
             ],
             [
              0.5555555555555556,
              "#d8576b"
             ],
             [
              0.6666666666666666,
              "#ed7953"
             ],
             [
              0.7777777777777778,
              "#fb9f3a"
             ],
             [
              0.8888888888888888,
              "#fdca26"
             ],
             [
              1,
              "#f0f921"
             ]
            ],
            "type": "heatmap"
           }
          ],
          "heatmapgl": [
           {
            "colorbar": {
             "outlinewidth": 0,
             "ticks": ""
            },
            "colorscale": [
             [
              0,
              "#0d0887"
             ],
             [
              0.1111111111111111,
              "#46039f"
             ],
             [
              0.2222222222222222,
              "#7201a8"
             ],
             [
              0.3333333333333333,
              "#9c179e"
             ],
             [
              0.4444444444444444,
              "#bd3786"
             ],
             [
              0.5555555555555556,
              "#d8576b"
             ],
             [
              0.6666666666666666,
              "#ed7953"
             ],
             [
              0.7777777777777778,
              "#fb9f3a"
             ],
             [
              0.8888888888888888,
              "#fdca26"
             ],
             [
              1,
              "#f0f921"
             ]
            ],
            "type": "heatmapgl"
           }
          ],
          "histogram": [
           {
            "marker": {
             "pattern": {
              "fillmode": "overlay",
              "size": 10,
              "solidity": 0.2
             }
            },
            "type": "histogram"
           }
          ],
          "histogram2d": [
           {
            "colorbar": {
             "outlinewidth": 0,
             "ticks": ""
            },
            "colorscale": [
             [
              0,
              "#0d0887"
             ],
             [
              0.1111111111111111,
              "#46039f"
             ],
             [
              0.2222222222222222,
              "#7201a8"
             ],
             [
              0.3333333333333333,
              "#9c179e"
             ],
             [
              0.4444444444444444,
              "#bd3786"
             ],
             [
              0.5555555555555556,
              "#d8576b"
             ],
             [
              0.6666666666666666,
              "#ed7953"
             ],
             [
              0.7777777777777778,
              "#fb9f3a"
             ],
             [
              0.8888888888888888,
              "#fdca26"
             ],
             [
              1,
              "#f0f921"
             ]
            ],
            "type": "histogram2d"
           }
          ],
          "histogram2dcontour": [
           {
            "colorbar": {
             "outlinewidth": 0,
             "ticks": ""
            },
            "colorscale": [
             [
              0,
              "#0d0887"
             ],
             [
              0.1111111111111111,
              "#46039f"
             ],
             [
              0.2222222222222222,
              "#7201a8"
             ],
             [
              0.3333333333333333,
              "#9c179e"
             ],
             [
              0.4444444444444444,
              "#bd3786"
             ],
             [
              0.5555555555555556,
              "#d8576b"
             ],
             [
              0.6666666666666666,
              "#ed7953"
             ],
             [
              0.7777777777777778,
              "#fb9f3a"
             ],
             [
              0.8888888888888888,
              "#fdca26"
             ],
             [
              1,
              "#f0f921"
             ]
            ],
            "type": "histogram2dcontour"
           }
          ],
          "mesh3d": [
           {
            "colorbar": {
             "outlinewidth": 0,
             "ticks": ""
            },
            "type": "mesh3d"
           }
          ],
          "parcoords": [
           {
            "line": {
             "colorbar": {
              "outlinewidth": 0,
              "ticks": ""
             }
            },
            "type": "parcoords"
           }
          ],
          "pie": [
           {
            "automargin": true,
            "type": "pie"
           }
          ],
          "scatter": [
           {
            "fillpattern": {
             "fillmode": "overlay",
             "size": 10,
             "solidity": 0.2
            },
            "type": "scatter"
           }
          ],
          "scatter3d": [
           {
            "line": {
             "colorbar": {
              "outlinewidth": 0,
              "ticks": ""
             }
            },
            "marker": {
             "colorbar": {
              "outlinewidth": 0,
              "ticks": ""
             }
            },
            "type": "scatter3d"
           }
          ],
          "scattercarpet": [
           {
            "marker": {
             "colorbar": {
              "outlinewidth": 0,
              "ticks": ""
             }
            },
            "type": "scattercarpet"
           }
          ],
          "scattergeo": [
           {
            "marker": {
             "colorbar": {
              "outlinewidth": 0,
              "ticks": ""
             }
            },
            "type": "scattergeo"
           }
          ],
          "scattergl": [
           {
            "marker": {
             "colorbar": {
              "outlinewidth": 0,
              "ticks": ""
             }
            },
            "type": "scattergl"
           }
          ],
          "scattermapbox": [
           {
            "marker": {
             "colorbar": {
              "outlinewidth": 0,
              "ticks": ""
             }
            },
            "type": "scattermapbox"
           }
          ],
          "scatterpolar": [
           {
            "marker": {
             "colorbar": {
              "outlinewidth": 0,
              "ticks": ""
             }
            },
            "type": "scatterpolar"
           }
          ],
          "scatterpolargl": [
           {
            "marker": {
             "colorbar": {
              "outlinewidth": 0,
              "ticks": ""
             }
            },
            "type": "scatterpolargl"
           }
          ],
          "scatterternary": [
           {
            "marker": {
             "colorbar": {
              "outlinewidth": 0,
              "ticks": ""
             }
            },
            "type": "scatterternary"
           }
          ],
          "surface": [
           {
            "colorbar": {
             "outlinewidth": 0,
             "ticks": ""
            },
            "colorscale": [
             [
              0,
              "#0d0887"
             ],
             [
              0.1111111111111111,
              "#46039f"
             ],
             [
              0.2222222222222222,
              "#7201a8"
             ],
             [
              0.3333333333333333,
              "#9c179e"
             ],
             [
              0.4444444444444444,
              "#bd3786"
             ],
             [
              0.5555555555555556,
              "#d8576b"
             ],
             [
              0.6666666666666666,
              "#ed7953"
             ],
             [
              0.7777777777777778,
              "#fb9f3a"
             ],
             [
              0.8888888888888888,
              "#fdca26"
             ],
             [
              1,
              "#f0f921"
             ]
            ],
            "type": "surface"
           }
          ],
          "table": [
           {
            "cells": {
             "fill": {
              "color": "#EBF0F8"
             },
             "line": {
              "color": "white"
             }
            },
            "header": {
             "fill": {
              "color": "#C8D4E3"
             },
             "line": {
              "color": "white"
             }
            },
            "type": "table"
           }
          ]
         },
         "layout": {
          "annotationdefaults": {
           "arrowcolor": "#2a3f5f",
           "arrowhead": 0,
           "arrowwidth": 1
          },
          "autotypenumbers": "strict",
          "coloraxis": {
           "colorbar": {
            "outlinewidth": 0,
            "ticks": ""
           }
          },
          "colorscale": {
           "diverging": [
            [
             0,
             "#8e0152"
            ],
            [
             0.1,
             "#c51b7d"
            ],
            [
             0.2,
             "#de77ae"
            ],
            [
             0.3,
             "#f1b6da"
            ],
            [
             0.4,
             "#fde0ef"
            ],
            [
             0.5,
             "#f7f7f7"
            ],
            [
             0.6,
             "#e6f5d0"
            ],
            [
             0.7,
             "#b8e186"
            ],
            [
             0.8,
             "#7fbc41"
            ],
            [
             0.9,
             "#4d9221"
            ],
            [
             1,
             "#276419"
            ]
           ],
           "sequential": [
            [
             0,
             "#0d0887"
            ],
            [
             0.1111111111111111,
             "#46039f"
            ],
            [
             0.2222222222222222,
             "#7201a8"
            ],
            [
             0.3333333333333333,
             "#9c179e"
            ],
            [
             0.4444444444444444,
             "#bd3786"
            ],
            [
             0.5555555555555556,
             "#d8576b"
            ],
            [
             0.6666666666666666,
             "#ed7953"
            ],
            [
             0.7777777777777778,
             "#fb9f3a"
            ],
            [
             0.8888888888888888,
             "#fdca26"
            ],
            [
             1,
             "#f0f921"
            ]
           ],
           "sequentialminus": [
            [
             0,
             "#0d0887"
            ],
            [
             0.1111111111111111,
             "#46039f"
            ],
            [
             0.2222222222222222,
             "#7201a8"
            ],
            [
             0.3333333333333333,
             "#9c179e"
            ],
            [
             0.4444444444444444,
             "#bd3786"
            ],
            [
             0.5555555555555556,
             "#d8576b"
            ],
            [
             0.6666666666666666,
             "#ed7953"
            ],
            [
             0.7777777777777778,
             "#fb9f3a"
            ],
            [
             0.8888888888888888,
             "#fdca26"
            ],
            [
             1,
             "#f0f921"
            ]
           ]
          },
          "colorway": [
           "#636efa",
           "#EF553B",
           "#00cc96",
           "#ab63fa",
           "#FFA15A",
           "#19d3f3",
           "#FF6692",
           "#B6E880",
           "#FF97FF",
           "#FECB52"
          ],
          "font": {
           "color": "#2a3f5f"
          },
          "geo": {
           "bgcolor": "white",
           "lakecolor": "white",
           "landcolor": "white",
           "showlakes": true,
           "showland": true,
           "subunitcolor": "#C8D4E3"
          },
          "hoverlabel": {
           "align": "left"
          },
          "hovermode": "closest",
          "mapbox": {
           "style": "light"
          },
          "paper_bgcolor": "white",
          "plot_bgcolor": "white",
          "polar": {
           "angularaxis": {
            "gridcolor": "#EBF0F8",
            "linecolor": "#EBF0F8",
            "ticks": ""
           },
           "bgcolor": "white",
           "radialaxis": {
            "gridcolor": "#EBF0F8",
            "linecolor": "#EBF0F8",
            "ticks": ""
           }
          },
          "scene": {
           "xaxis": {
            "backgroundcolor": "white",
            "gridcolor": "#DFE8F3",
            "gridwidth": 2,
            "linecolor": "#EBF0F8",
            "showbackground": true,
            "ticks": "",
            "zerolinecolor": "#EBF0F8"
           },
           "yaxis": {
            "backgroundcolor": "white",
            "gridcolor": "#DFE8F3",
            "gridwidth": 2,
            "linecolor": "#EBF0F8",
            "showbackground": true,
            "ticks": "",
            "zerolinecolor": "#EBF0F8"
           },
           "zaxis": {
            "backgroundcolor": "white",
            "gridcolor": "#DFE8F3",
            "gridwidth": 2,
            "linecolor": "#EBF0F8",
            "showbackground": true,
            "ticks": "",
            "zerolinecolor": "#EBF0F8"
           }
          },
          "shapedefaults": {
           "line": {
            "color": "#2a3f5f"
           }
          },
          "ternary": {
           "aaxis": {
            "gridcolor": "#DFE8F3",
            "linecolor": "#A2B1C6",
            "ticks": ""
           },
           "baxis": {
            "gridcolor": "#DFE8F3",
            "linecolor": "#A2B1C6",
            "ticks": ""
           },
           "bgcolor": "white",
           "caxis": {
            "gridcolor": "#DFE8F3",
            "linecolor": "#A2B1C6",
            "ticks": ""
           }
          },
          "title": {
           "x": 0.05
          },
          "xaxis": {
           "automargin": true,
           "gridcolor": "#EBF0F8",
           "linecolor": "#EBF0F8",
           "ticks": "",
           "title": {
            "standoff": 15
           },
           "zerolinecolor": "#EBF0F8",
           "zerolinewidth": 2
          },
          "yaxis": {
           "automargin": true,
           "gridcolor": "#EBF0F8",
           "linecolor": "#EBF0F8",
           "ticks": "",
           "title": {
            "standoff": 15
           },
           "zerolinecolor": "#EBF0F8",
           "zerolinewidth": 2
          }
         }
        },
        "title": {
         "font": {
          "size": 20
         },
         "text": "Distribution of Residual Spectral Entropy",
         "x": 0.5,
         "xanchor": "center",
         "yanchor": "top"
        },
        "width": 900,
        "xaxis": {
         "anchor": "y",
         "domain": [
          0,
          1
         ],
         "title": {
          "font": {
           "size": 12
          },
          "text": "Residual Spectral Entropy"
         }
        },
        "yaxis": {
         "anchor": "x",
         "domain": [
          0,
          1
         ],
         "title": {
          "font": {
           "size": 12
          },
          "text": ""
         }
        }
       }
      }
     },
     "metadata": {},
     "output_type": "display_data"
    }
   ],
   "source": [
    "fig = px.histogram(x=block_df[\"residual_spectral_entropy\"], title=\"Distribution of Residual Spectral Entropy\")\n",
    "fig = format_plot(fig, xlabel=\"Residual Spectral Entropy\", ylabel=\"\")\n",
    "# fig.write_image(\"imgs/chapter_4/resid_spectral_entropy.png\")\n",
    "fig.show()"
   ]
  },
  {
   "cell_type": "code",
   "execution_count": null,
   "id": "d5b35ce5",
   "metadata": {},
   "outputs": [],
   "source": []
  },
  {
   "cell_type": "markdown",
   "id": "f946828a-5d56-4a33-911e-de9587cea517",
   "metadata": {},
   "source": [
    "## Kaboudan Metric"
   ]
  },
  {
   "cell_type": "code",
   "execution_count": 27,
   "id": "26a8711d",
   "metadata": {},
   "outputs": [],
   "source": [
    "#cd ../../"
   ]
  },
  {
   "cell_type": "code",
   "execution_count": 28,
   "id": "612dc91c-ec06-4a55-82a6-379db3623488",
   "metadata": {
    "tags": []
   },
   "outputs": [],
   "source": [
    "from src.forecastability.kaboudan import kaboudan_metric, modified_kaboudan_metric "
   ]
  },
  {
   "cell_type": "markdown",
   "id": "12d160e9",
   "metadata": {},
   "source": [
    "Theta method can take over an hour depending on the power of your machine.  Feel free to also try other models such as SeasonalNaive and SimpleExponentialSmoothing."
   ]
  },
  {
   "cell_type": "code",
   "execution_count": 49,
   "id": "972b92e8",
   "metadata": {},
   "outputs": [
    {
     "data": {
      "application/vnd.jupyter.widget-view+json": {
       "model_id": "74357bd824a6498b851037fb57949b79",
       "version_major": 2,
       "version_minor": 0
      },
      "text/plain": [
       "  0%|          | 0/150 [00:00<?, ?it/s]"
      ]
     },
     "metadata": {},
     "output_type": "display_data"
    },
    {
     "name": "stdout",
     "output_type": "stream",
     "text": [
      "CPU times: total: 52min 14s\n",
      "Wall time: 1h 11min 7s\n"
     ]
    },
    {
     "data": {
      "text/html": [
       "<div>\n",
       "<style scoped>\n",
       "    .dataframe tbody tr th:only-of-type {\n",
       "        vertical-align: middle;\n",
       "    }\n",
       "\n",
       "    .dataframe tbody tr th {\n",
       "        vertical-align: top;\n",
       "    }\n",
       "\n",
       "    .dataframe thead th {\n",
       "        text-align: right;\n",
       "    }\n",
       "</style>\n",
       "<table border=\"1\" class=\"dataframe\">\n",
       "  <thead>\n",
       "    <tr style=\"text-align: right;\">\n",
       "      <th></th>\n",
       "      <th>LCLid</th>\n",
       "      <th>kaboudan_metric</th>\n",
       "    </tr>\n",
       "  </thead>\n",
       "  <tbody>\n",
       "    <tr>\n",
       "      <th>57</th>\n",
       "      <td>MAC000768</td>\n",
       "      <td>0.454284</td>\n",
       "    </tr>\n",
       "    <tr>\n",
       "      <th>63</th>\n",
       "      <td>MAC000948</td>\n",
       "      <td>-6.683012</td>\n",
       "    </tr>\n",
       "    <tr>\n",
       "      <th>2827</th>\n",
       "      <td>MAC003299</td>\n",
       "      <td>0.393858</td>\n",
       "    </tr>\n",
       "    <tr>\n",
       "      <th>3389</th>\n",
       "      <td>MAC003157</td>\n",
       "      <td>0.374558</td>\n",
       "    </tr>\n",
       "    <tr>\n",
       "      <th>3916</th>\n",
       "      <td>MAC000193</td>\n",
       "      <td>-4.853901</td>\n",
       "    </tr>\n",
       "  </tbody>\n",
       "</table>\n",
       "</div>"
      ],
      "text/plain": [
       "          LCLid  kaboudan_metric\n",
       "57    MAC000768         0.454284\n",
       "63    MAC000948        -6.683012\n",
       "2827  MAC003299         0.393858\n",
       "3389  MAC003157         0.374558\n",
       "3916  MAC000193        -4.853901"
      ]
     },
     "execution_count": 49,
     "metadata": {},
     "output_type": "execute_result"
    }
   ],
   "source": [
    "%%time\n",
    "block_size = 5\n",
    "freq = '30min'\n",
    "#models = [SeasonalNaive(season_length=48*7)]\n",
    "#models = [SimpleExponentialSmoothing(alpha = 0.4, alias = 'SimpleExponentialSmoothing')]\n",
    "models = [Theta(season_length=48*7, decomposition_type='additive')]\n",
    "\n",
    "\n",
    "  \n",
    "block_df[\"kaboudan_metric\"] = [kaboudan_metric(r[0], \n",
    "                                               model=models[0], \n",
    "                                               block_size=block_size,  \n",
    "                                               backtesting_start=0.5, \n",
    "                                               n_folds=1,\n",
    "                                               freq = freq) \n",
    "                                               for r in tqdm(zip(*block_df[[\"energy_consumption\"]].to_dict(\"list\").values()), total=len(block_df))]\n",
    "\n",
    "block_df[['LCLid','kaboudan_metric']].head()"
   ]
  },
  {
   "cell_type": "code",
   "execution_count": 50,
   "id": "09c9ebba",
   "metadata": {},
   "outputs": [
    {
     "data": {
      "application/vnd.jupyter.widget-view+json": {
       "model_id": "bdd6362925fd46b8bd12ec2113c60896",
       "version_major": 2,
       "version_minor": 0
      },
      "text/plain": [
       "  0%|          | 0/150 [00:00<?, ?it/s]"
      ]
     },
     "metadata": {},
     "output_type": "display_data"
    },
    {
     "name": "stdout",
     "output_type": "stream",
     "text": [
      "CPU times: total: 50min 44s\n",
      "Wall time: 1h 18min 27s\n"
     ]
    },
    {
     "data": {
      "text/html": [
       "<div>\n",
       "<style scoped>\n",
       "    .dataframe tbody tr th:only-of-type {\n",
       "        vertical-align: middle;\n",
       "    }\n",
       "\n",
       "    .dataframe tbody tr th {\n",
       "        vertical-align: top;\n",
       "    }\n",
       "\n",
       "    .dataframe thead th {\n",
       "        text-align: right;\n",
       "    }\n",
       "</style>\n",
       "<table border=\"1\" class=\"dataframe\">\n",
       "  <thead>\n",
       "    <tr style=\"text-align: right;\">\n",
       "      <th></th>\n",
       "      <th>LCLid</th>\n",
       "      <th>modified_kaboudan_metric</th>\n",
       "    </tr>\n",
       "  </thead>\n",
       "  <tbody>\n",
       "    <tr>\n",
       "      <th>57</th>\n",
       "      <td>MAC000768</td>\n",
       "      <td>0.043416</td>\n",
       "    </tr>\n",
       "    <tr>\n",
       "      <th>63</th>\n",
       "      <td>MAC000948</td>\n",
       "      <td>0.000000</td>\n",
       "    </tr>\n",
       "    <tr>\n",
       "      <th>2827</th>\n",
       "      <td>MAC003299</td>\n",
       "      <td>0.217729</td>\n",
       "    </tr>\n",
       "    <tr>\n",
       "      <th>3389</th>\n",
       "      <td>MAC003157</td>\n",
       "      <td>0.123908</td>\n",
       "    </tr>\n",
       "    <tr>\n",
       "      <th>3916</th>\n",
       "      <td>MAC000193</td>\n",
       "      <td>0.000000</td>\n",
       "    </tr>\n",
       "  </tbody>\n",
       "</table>\n",
       "</div>"
      ],
      "text/plain": [
       "          LCLid  modified_kaboudan_metric\n",
       "57    MAC000768                  0.043416\n",
       "63    MAC000948                  0.000000\n",
       "2827  MAC003299                  0.217729\n",
       "3389  MAC003157                  0.123908\n",
       "3916  MAC000193                  0.000000"
      ]
     },
     "execution_count": 50,
     "metadata": {},
     "output_type": "execute_result"
    }
   ],
   "source": [
    "%%time\n",
    "block_df[\"modified_kaboudan_metric\"] = [modified_kaboudan_metric(r[0], \n",
    "                                               model=models[0], \n",
    "                                               block_size=block_size,  \n",
    "                                               backtesting_start=0.5, \n",
    "                                               n_folds=1,\n",
    "                                               freq = freq) \n",
    "                                               for r in tqdm(zip(*block_df[[\"energy_consumption\"]].to_dict(\"list\").values()), total=len(block_df))]\n",
    "\n",
    "block_df[['LCLid','modified_kaboudan_metric']].head()"
   ]
  },
  {
   "cell_type": "code",
   "execution_count": 51,
   "id": "64c242a6-d9c8-4eda-9544-22496a395d76",
   "metadata": {},
   "outputs": [
    {
     "data": {
      "application/vnd.plotly.v1+json": {
       "config": {
        "plotlyServerURL": "https://plot.ly"
       },
       "data": [
        {
         "alignmentgroup": "True",
         "bingroup": "x",
         "hovertemplate": "x=%{x}<br>count=%{y}<extra></extra>",
         "legendgroup": "",
         "marker": {
          "color": "#636efa",
          "pattern": {
           "shape": ""
          }
         },
         "name": "",
         "offsetgroup": "",
         "orientation": "v",
         "showlegend": false,
         "type": "histogram",
         "x": [
          0.043416380882263184,
          0,
          0.21772873401641846,
          0.12390834093093872,
          0,
          0.4688031077384949,
          0.44659334421157837,
          0.6492140889167786,
          0.1179627776145935,
          0,
          0.19613641500473022,
          0.08134657144546509,
          0.43492257595062256,
          0,
          0.297554075717926,
          0.20868635177612305,
          0.5698149800300598,
          0.7801424562931061,
          0.3008314371109009,
          0.30590784549713135,
          0.002991020679473877,
          0,
          0.15784072875976562,
          0,
          0,
          0.18934637308120728,
          0.12420481443405151,
          0.11481040716171265,
          0.06753689050674438,
          0.0168759822845459,
          0.005350470542907715,
          0.324226975440979,
          0.5370802283287048,
          0.07204663753509521,
          0,
          0.033052027225494385,
          0.1766568422317505,
          0,
          0.5358292162418365,
          0,
          0.15019750595092773,
          0.5284616649150848,
          0.06345510482788086,
          0,
          0.1515122652053833,
          0.4264957904815674,
          0.34312403202056885,
          0.010788440704345703,
          0.4722500443458557,
          0.0728682279586792,
          0,
          0.3530611991882324,
          0.018954992294311523,
          0.3495379686355591,
          0.10961514711380005,
          0,
          0.3444643020629883,
          0,
          0.3387076258659363,
          0.35956209897994995,
          0.33253544569015503,
          0.19099825620651245,
          0.3020658493041992,
          0.051245808601379395,
          0.03827124834060669,
          0.11752557754516602,
          0,
          0.26525187492370605,
          0.14221793413162231,
          0.044143080711364746,
          0.18376296758651733,
          0.3197401165962219,
          0.5266302227973938,
          0.152216374874115,
          0.256247341632843,
          0.3480987548828125,
          0.2523799538612366,
          0.31027644872665405,
          0.30457568168640137,
          0.2451564073562622,
          0.015863358974456787,
          0.09380841255187988,
          0.14730721712112427,
          0.23074686527252197,
          0.13978159427642822,
          0,
          0.13062703609466553,
          0,
          0,
          0.2281211018562317,
          0.3037149906158447,
          0.296319842338562,
          0,
          0.25300973653793335,
          0.13362401723861694,
          0.17045384645462036,
          0.288122296333313,
          0.2647486925125122,
          0,
          0.22410136461257935,
          0.3478595018386841,
          0,
          0.7699607312679291,
          0.19810307025909424,
          0.17704880237579346,
          0.2258288860321045,
          0.03944206237792969,
          0.14190876483917236,
          0.19794303178787231,
          0.19090712070465088,
          0.36341404914855957,
          0.23834753036499023,
          0.19600045680999756,
          0,
          0.16658449172973633,
          0.20066070556640625,
          0.09967344999313354,
          0.08548766374588013,
          0.23189115524291992,
          0.10757869482040405,
          0,
          0.2866166830062866,
          0.3764892816543579,
          0,
          0.24649131298065186,
          0.21400779485702515,
          0.06751412153244019,
          0.6486013531684875,
          0.2713162899017334,
          0.2929513454437256,
          0.04156947135925293,
          0.1850946545600891,
          0.11617511510848999,
          0.16807955503463745,
          0,
          0,
          0.17262619733810425,
          0,
          0.18497884273529053,
          0.2621745467185974,
          0.04979085922241211,
          0.7018133997917175,
          0.08736687898635864,
          0.1064157485961914,
          0,
          0,
          0.09530472755432129,
          0.10580432415008545,
          0.11520510911941528,
          0
         ],
         "xaxis": "x",
         "yaxis": "y"
        }
       ],
       "layout": {
        "autosize": false,
        "barmode": "relative",
        "height": 500,
        "legend": {
         "title": {},
         "tracegroupgap": 0
        },
        "template": {
         "data": {
          "bar": [
           {
            "error_x": {
             "color": "#2a3f5f"
            },
            "error_y": {
             "color": "#2a3f5f"
            },
            "marker": {
             "line": {
              "color": "white",
              "width": 0.5
             },
             "pattern": {
              "fillmode": "overlay",
              "size": 10,
              "solidity": 0.2
             }
            },
            "type": "bar"
           }
          ],
          "barpolar": [
           {
            "marker": {
             "line": {
              "color": "white",
              "width": 0.5
             },
             "pattern": {
              "fillmode": "overlay",
              "size": 10,
              "solidity": 0.2
             }
            },
            "type": "barpolar"
           }
          ],
          "carpet": [
           {
            "aaxis": {
             "endlinecolor": "#2a3f5f",
             "gridcolor": "#C8D4E3",
             "linecolor": "#C8D4E3",
             "minorgridcolor": "#C8D4E3",
             "startlinecolor": "#2a3f5f"
            },
            "baxis": {
             "endlinecolor": "#2a3f5f",
             "gridcolor": "#C8D4E3",
             "linecolor": "#C8D4E3",
             "minorgridcolor": "#C8D4E3",
             "startlinecolor": "#2a3f5f"
            },
            "type": "carpet"
           }
          ],
          "choropleth": [
           {
            "colorbar": {
             "outlinewidth": 0,
             "ticks": ""
            },
            "type": "choropleth"
           }
          ],
          "contour": [
           {
            "colorbar": {
             "outlinewidth": 0,
             "ticks": ""
            },
            "colorscale": [
             [
              0,
              "#0d0887"
             ],
             [
              0.1111111111111111,
              "#46039f"
             ],
             [
              0.2222222222222222,
              "#7201a8"
             ],
             [
              0.3333333333333333,
              "#9c179e"
             ],
             [
              0.4444444444444444,
              "#bd3786"
             ],
             [
              0.5555555555555556,
              "#d8576b"
             ],
             [
              0.6666666666666666,
              "#ed7953"
             ],
             [
              0.7777777777777778,
              "#fb9f3a"
             ],
             [
              0.8888888888888888,
              "#fdca26"
             ],
             [
              1,
              "#f0f921"
             ]
            ],
            "type": "contour"
           }
          ],
          "contourcarpet": [
           {
            "colorbar": {
             "outlinewidth": 0,
             "ticks": ""
            },
            "type": "contourcarpet"
           }
          ],
          "heatmap": [
           {
            "colorbar": {
             "outlinewidth": 0,
             "ticks": ""
            },
            "colorscale": [
             [
              0,
              "#0d0887"
             ],
             [
              0.1111111111111111,
              "#46039f"
             ],
             [
              0.2222222222222222,
              "#7201a8"
             ],
             [
              0.3333333333333333,
              "#9c179e"
             ],
             [
              0.4444444444444444,
              "#bd3786"
             ],
             [
              0.5555555555555556,
              "#d8576b"
             ],
             [
              0.6666666666666666,
              "#ed7953"
             ],
             [
              0.7777777777777778,
              "#fb9f3a"
             ],
             [
              0.8888888888888888,
              "#fdca26"
             ],
             [
              1,
              "#f0f921"
             ]
            ],
            "type": "heatmap"
           }
          ],
          "heatmapgl": [
           {
            "colorbar": {
             "outlinewidth": 0,
             "ticks": ""
            },
            "colorscale": [
             [
              0,
              "#0d0887"
             ],
             [
              0.1111111111111111,
              "#46039f"
             ],
             [
              0.2222222222222222,
              "#7201a8"
             ],
             [
              0.3333333333333333,
              "#9c179e"
             ],
             [
              0.4444444444444444,
              "#bd3786"
             ],
             [
              0.5555555555555556,
              "#d8576b"
             ],
             [
              0.6666666666666666,
              "#ed7953"
             ],
             [
              0.7777777777777778,
              "#fb9f3a"
             ],
             [
              0.8888888888888888,
              "#fdca26"
             ],
             [
              1,
              "#f0f921"
             ]
            ],
            "type": "heatmapgl"
           }
          ],
          "histogram": [
           {
            "marker": {
             "pattern": {
              "fillmode": "overlay",
              "size": 10,
              "solidity": 0.2
             }
            },
            "type": "histogram"
           }
          ],
          "histogram2d": [
           {
            "colorbar": {
             "outlinewidth": 0,
             "ticks": ""
            },
            "colorscale": [
             [
              0,
              "#0d0887"
             ],
             [
              0.1111111111111111,
              "#46039f"
             ],
             [
              0.2222222222222222,
              "#7201a8"
             ],
             [
              0.3333333333333333,
              "#9c179e"
             ],
             [
              0.4444444444444444,
              "#bd3786"
             ],
             [
              0.5555555555555556,
              "#d8576b"
             ],
             [
              0.6666666666666666,
              "#ed7953"
             ],
             [
              0.7777777777777778,
              "#fb9f3a"
             ],
             [
              0.8888888888888888,
              "#fdca26"
             ],
             [
              1,
              "#f0f921"
             ]
            ],
            "type": "histogram2d"
           }
          ],
          "histogram2dcontour": [
           {
            "colorbar": {
             "outlinewidth": 0,
             "ticks": ""
            },
            "colorscale": [
             [
              0,
              "#0d0887"
             ],
             [
              0.1111111111111111,
              "#46039f"
             ],
             [
              0.2222222222222222,
              "#7201a8"
             ],
             [
              0.3333333333333333,
              "#9c179e"
             ],
             [
              0.4444444444444444,
              "#bd3786"
             ],
             [
              0.5555555555555556,
              "#d8576b"
             ],
             [
              0.6666666666666666,
              "#ed7953"
             ],
             [
              0.7777777777777778,
              "#fb9f3a"
             ],
             [
              0.8888888888888888,
              "#fdca26"
             ],
             [
              1,
              "#f0f921"
             ]
            ],
            "type": "histogram2dcontour"
           }
          ],
          "mesh3d": [
           {
            "colorbar": {
             "outlinewidth": 0,
             "ticks": ""
            },
            "type": "mesh3d"
           }
          ],
          "parcoords": [
           {
            "line": {
             "colorbar": {
              "outlinewidth": 0,
              "ticks": ""
             }
            },
            "type": "parcoords"
           }
          ],
          "pie": [
           {
            "automargin": true,
            "type": "pie"
           }
          ],
          "scatter": [
           {
            "fillpattern": {
             "fillmode": "overlay",
             "size": 10,
             "solidity": 0.2
            },
            "type": "scatter"
           }
          ],
          "scatter3d": [
           {
            "line": {
             "colorbar": {
              "outlinewidth": 0,
              "ticks": ""
             }
            },
            "marker": {
             "colorbar": {
              "outlinewidth": 0,
              "ticks": ""
             }
            },
            "type": "scatter3d"
           }
          ],
          "scattercarpet": [
           {
            "marker": {
             "colorbar": {
              "outlinewidth": 0,
              "ticks": ""
             }
            },
            "type": "scattercarpet"
           }
          ],
          "scattergeo": [
           {
            "marker": {
             "colorbar": {
              "outlinewidth": 0,
              "ticks": ""
             }
            },
            "type": "scattergeo"
           }
          ],
          "scattergl": [
           {
            "marker": {
             "colorbar": {
              "outlinewidth": 0,
              "ticks": ""
             }
            },
            "type": "scattergl"
           }
          ],
          "scattermapbox": [
           {
            "marker": {
             "colorbar": {
              "outlinewidth": 0,
              "ticks": ""
             }
            },
            "type": "scattermapbox"
           }
          ],
          "scatterpolar": [
           {
            "marker": {
             "colorbar": {
              "outlinewidth": 0,
              "ticks": ""
             }
            },
            "type": "scatterpolar"
           }
          ],
          "scatterpolargl": [
           {
            "marker": {
             "colorbar": {
              "outlinewidth": 0,
              "ticks": ""
             }
            },
            "type": "scatterpolargl"
           }
          ],
          "scatterternary": [
           {
            "marker": {
             "colorbar": {
              "outlinewidth": 0,
              "ticks": ""
             }
            },
            "type": "scatterternary"
           }
          ],
          "surface": [
           {
            "colorbar": {
             "outlinewidth": 0,
             "ticks": ""
            },
            "colorscale": [
             [
              0,
              "#0d0887"
             ],
             [
              0.1111111111111111,
              "#46039f"
             ],
             [
              0.2222222222222222,
              "#7201a8"
             ],
             [
              0.3333333333333333,
              "#9c179e"
             ],
             [
              0.4444444444444444,
              "#bd3786"
             ],
             [
              0.5555555555555556,
              "#d8576b"
             ],
             [
              0.6666666666666666,
              "#ed7953"
             ],
             [
              0.7777777777777778,
              "#fb9f3a"
             ],
             [
              0.8888888888888888,
              "#fdca26"
             ],
             [
              1,
              "#f0f921"
             ]
            ],
            "type": "surface"
           }
          ],
          "table": [
           {
            "cells": {
             "fill": {
              "color": "#EBF0F8"
             },
             "line": {
              "color": "white"
             }
            },
            "header": {
             "fill": {
              "color": "#C8D4E3"
             },
             "line": {
              "color": "white"
             }
            },
            "type": "table"
           }
          ]
         },
         "layout": {
          "annotationdefaults": {
           "arrowcolor": "#2a3f5f",
           "arrowhead": 0,
           "arrowwidth": 1
          },
          "autotypenumbers": "strict",
          "coloraxis": {
           "colorbar": {
            "outlinewidth": 0,
            "ticks": ""
           }
          },
          "colorscale": {
           "diverging": [
            [
             0,
             "#8e0152"
            ],
            [
             0.1,
             "#c51b7d"
            ],
            [
             0.2,
             "#de77ae"
            ],
            [
             0.3,
             "#f1b6da"
            ],
            [
             0.4,
             "#fde0ef"
            ],
            [
             0.5,
             "#f7f7f7"
            ],
            [
             0.6,
             "#e6f5d0"
            ],
            [
             0.7,
             "#b8e186"
            ],
            [
             0.8,
             "#7fbc41"
            ],
            [
             0.9,
             "#4d9221"
            ],
            [
             1,
             "#276419"
            ]
           ],
           "sequential": [
            [
             0,
             "#0d0887"
            ],
            [
             0.1111111111111111,
             "#46039f"
            ],
            [
             0.2222222222222222,
             "#7201a8"
            ],
            [
             0.3333333333333333,
             "#9c179e"
            ],
            [
             0.4444444444444444,
             "#bd3786"
            ],
            [
             0.5555555555555556,
             "#d8576b"
            ],
            [
             0.6666666666666666,
             "#ed7953"
            ],
            [
             0.7777777777777778,
             "#fb9f3a"
            ],
            [
             0.8888888888888888,
             "#fdca26"
            ],
            [
             1,
             "#f0f921"
            ]
           ],
           "sequentialminus": [
            [
             0,
             "#0d0887"
            ],
            [
             0.1111111111111111,
             "#46039f"
            ],
            [
             0.2222222222222222,
             "#7201a8"
            ],
            [
             0.3333333333333333,
             "#9c179e"
            ],
            [
             0.4444444444444444,
             "#bd3786"
            ],
            [
             0.5555555555555556,
             "#d8576b"
            ],
            [
             0.6666666666666666,
             "#ed7953"
            ],
            [
             0.7777777777777778,
             "#fb9f3a"
            ],
            [
             0.8888888888888888,
             "#fdca26"
            ],
            [
             1,
             "#f0f921"
            ]
           ]
          },
          "colorway": [
           "#636efa",
           "#EF553B",
           "#00cc96",
           "#ab63fa",
           "#FFA15A",
           "#19d3f3",
           "#FF6692",
           "#B6E880",
           "#FF97FF",
           "#FECB52"
          ],
          "font": {
           "color": "#2a3f5f"
          },
          "geo": {
           "bgcolor": "white",
           "lakecolor": "white",
           "landcolor": "white",
           "showlakes": true,
           "showland": true,
           "subunitcolor": "#C8D4E3"
          },
          "hoverlabel": {
           "align": "left"
          },
          "hovermode": "closest",
          "mapbox": {
           "style": "light"
          },
          "paper_bgcolor": "white",
          "plot_bgcolor": "white",
          "polar": {
           "angularaxis": {
            "gridcolor": "#EBF0F8",
            "linecolor": "#EBF0F8",
            "ticks": ""
           },
           "bgcolor": "white",
           "radialaxis": {
            "gridcolor": "#EBF0F8",
            "linecolor": "#EBF0F8",
            "ticks": ""
           }
          },
          "scene": {
           "xaxis": {
            "backgroundcolor": "white",
            "gridcolor": "#DFE8F3",
            "gridwidth": 2,
            "linecolor": "#EBF0F8",
            "showbackground": true,
            "ticks": "",
            "zerolinecolor": "#EBF0F8"
           },
           "yaxis": {
            "backgroundcolor": "white",
            "gridcolor": "#DFE8F3",
            "gridwidth": 2,
            "linecolor": "#EBF0F8",
            "showbackground": true,
            "ticks": "",
            "zerolinecolor": "#EBF0F8"
           },
           "zaxis": {
            "backgroundcolor": "white",
            "gridcolor": "#DFE8F3",
            "gridwidth": 2,
            "linecolor": "#EBF0F8",
            "showbackground": true,
            "ticks": "",
            "zerolinecolor": "#EBF0F8"
           }
          },
          "shapedefaults": {
           "line": {
            "color": "#2a3f5f"
           }
          },
          "ternary": {
           "aaxis": {
            "gridcolor": "#DFE8F3",
            "linecolor": "#A2B1C6",
            "ticks": ""
           },
           "baxis": {
            "gridcolor": "#DFE8F3",
            "linecolor": "#A2B1C6",
            "ticks": ""
           },
           "bgcolor": "white",
           "caxis": {
            "gridcolor": "#DFE8F3",
            "linecolor": "#A2B1C6",
            "ticks": ""
           }
          },
          "title": {
           "x": 0.05
          },
          "xaxis": {
           "automargin": true,
           "gridcolor": "#EBF0F8",
           "linecolor": "#EBF0F8",
           "ticks": "",
           "title": {
            "standoff": 15
           },
           "zerolinecolor": "#EBF0F8",
           "zerolinewidth": 2
          },
          "yaxis": {
           "automargin": true,
           "gridcolor": "#EBF0F8",
           "linecolor": "#EBF0F8",
           "ticks": "",
           "title": {
            "standoff": 15
           },
           "zerolinecolor": "#EBF0F8",
           "zerolinewidth": 2
          }
         }
        },
        "title": {
         "font": {
          "size": 20
         },
         "text": "Distribution of Modified Kaboudan Metric",
         "x": 0.5,
         "xanchor": "center",
         "yanchor": "top"
        },
        "width": 900,
        "xaxis": {
         "anchor": "y",
         "domain": [
          0,
          1
         ],
         "title": {
          "font": {
           "size": 12
          },
          "text": "Modified Kaboudan Metric"
         }
        },
        "yaxis": {
         "anchor": "x",
         "domain": [
          0,
          1
         ],
         "title": {
          "font": {
           "size": 12
          },
          "text": ""
         }
        }
       }
      }
     },
     "metadata": {},
     "output_type": "display_data"
    }
   ],
   "source": [
    "fig = px.histogram(x=block_df[\"modified_kaboudan_metric\"], title=\"Distribution of Modified Kaboudan Metric\")\n",
    "fig = format_plot(fig, xlabel=\"Modified Kaboudan Metric\", ylabel=\"\")\n",
    "# fig.write_image(\"imgs/chapter_4/kaboudan_metric.png\")\n",
    "fig.show()"
   ]
  },
  {
   "cell_type": "markdown",
   "id": "3985b23b-2514-4d7f-88d3-fbe5ad1f79bb",
   "metadata": {},
   "source": [
    "# Analysis"
   ]
  },
  {
   "cell_type": "code",
   "execution_count": 52,
   "id": "701ffe36-75c4-45ee-b7bd-ce2bdbb865e9",
   "metadata": {},
   "outputs": [],
   "source": [
    "forecastability_df = block_df[[\"LCLid\",'spectral_entropy', 'residual_spectral_entropy',\n",
    "       'modified_kaboudan_metric', 'cov', \"kaboudan_metric\",\n",
    "       'residual_variability']]\n",
    "rename_dict = {\n",
    "    \"spectral_entropy\": \"Spectral Entropy\",\n",
    "    \"residual_spectral_entropy\" : \"Residual Spectral Entropy\",\n",
    "    \"modified_kaboudan_metric\": \"Modified Kaboudan Metric\",\n",
    "    \"kaboudan_metric\": \"Kaboudan Metric\",\n",
    "    \"cov\": \"Coefficient of Variation\",\n",
    "    \"residual_variability\": \"Residual Variability\",\n",
    "    \n",
    "}\n",
    "forecastability_df.to_pickle(output/\"forecastability_metrics.pkl\")"
   ]
  },
  {
   "cell_type": "code",
   "execution_count": 53,
   "id": "909a19bd-d60a-49b8-9171-c3e48ef39cab",
   "metadata": {},
   "outputs": [],
   "source": [
    "from sklearn.decomposition import PCA\n",
    "from sklearn.preprocessing import StandardScaler\n",
    "import matplotlib.pyplot as plt\n",
    "\n",
    "def biplot(item_metrics_df, features, title=\"Loading Plot\"):\n",
    "    X = item_metrics_df[features].dropna()\n",
    "    scaler = StandardScaler()\n",
    "    scaler.fit(X)\n",
    "    X=scaler.transform(X)\n",
    "    pca = PCA(n_components=2, whiten=True)\n",
    "    components = pca.fit_transform(X)\n",
    "    loadings = pca.components_.T * np.sqrt(pca.explained_variance_)\n",
    "    xs = components[:,0]\n",
    "    ys = components[:,1]\n",
    "    scalex = 1.0/(xs.max() - xs.min())\n",
    "    scaley = 1.0/(ys.max() - ys.min())\n",
    "    xl = loadings[:,0]\n",
    "    yl = loadings[:,1]\n",
    "    scalex_loading = 1.0/(xl.max() - xl.min())\n",
    "    scaley_loading = 1.0/(yl.max() - yl.min())\n",
    "    fig = px.scatter(x=xs * scalex, y=ys * scaley, opacity=0, template=\"plotly_white\")\n",
    "    for i, feature in enumerate(features):\n",
    "        fig.add_shape(\n",
    "            type='line',\n",
    "            x0=0, y0=0,\n",
    "            x1=xl[i]* scalex_loading,\n",
    "            y1=yl[i]* scaley_loading,\n",
    "            line=dict(color=\"indigo\",\n",
    "                width=2,\n",
    "                dash=\"dot\")\n",
    "        )\n",
    "        fig.add_annotation(\n",
    "            x=xl[i]* scalex_loading,\n",
    "            y=yl[i]* scaley_loading,\n",
    "            ax=0, ay=0,\n",
    "            xanchor=\"center\",\n",
    "            yanchor=\"bottom\",\n",
    "            text= feature, #\"<b>\"+feature+\"</b>\",\n",
    "            font=dict(\n",
    "            family=\"Open Sans, sans serif\",\n",
    "            size=16,\n",
    "            color=\"MediumPurple\"\n",
    "            ),\n",
    "        )\n",
    "    fig.update_layout(title_text=title, title_x=0.5)\n",
    "    \n",
    "    fig.show()"
   ]
  },
  {
   "cell_type": "markdown",
   "id": "0d723b9f-1cf6-463d-9d75-7de004fe5d25",
   "metadata": {},
   "source": [
    "## Rank Correlation of Forecastability Metrics"
   ]
  },
  {
   "cell_type": "markdown",
   "id": "5024ef4b-a3b1-4b6e-b460-9fd065e90523",
   "metadata": {},
   "source": [
    "Rank Correlation is when we calculate the rank of each household according to these metrics and then calculate a Spearman's Correlation on these ranks. Here we do it within the different metrics to find out how similar these metrics are."
   ]
  },
  {
   "cell_type": "code",
   "execution_count": 54,
   "id": "09b836f9-6401-4d2e-8039-d41a0095543b",
   "metadata": {
    "tags": []
   },
   "outputs": [],
   "source": [
    "def calc_rank(rank_df):\n",
    "    for col in ['spectral_entropy', 'residual_spectral_entropy',\n",
    "       'cov',\"residual_variability\"]:\n",
    "        rank_df[col] = rank_df[col].rank(ascending=True)\n",
    "\n",
    "    for col in ['modified_kaboudan_metric',\"kaboudan_metric\"]:\n",
    "        rank_df[col] = rank_df[col].rank(ascending=False)\n",
    "\n",
    "    return rank_df\n",
    "\n",
    "item_rankings =calc_rank(forecastability_df.drop(columns=\"LCLid\"))\n",
    "item_rankings.rename(columns=rename_dict, inplace=True)\n",
    "item_rankings.rename(index=rename_dict, inplace=True)"
   ]
  },
  {
   "cell_type": "code",
   "execution_count": 55,
   "id": "e73edb7e-7796-4370-8a22-14ec11a3b160",
   "metadata": {},
   "outputs": [],
   "source": [
    "corr_df = item_rankings.corr(method='spearman')\n",
    "# corr_df.style.background_gradient(cmap='coolwarm')"
   ]
  },
  {
   "cell_type": "code",
   "execution_count": 56,
   "id": "fc348a38-1595-4b9f-a1ec-079dccdcee88",
   "metadata": {},
   "outputs": [
    {
     "data": {
      "application/vnd.plotly.v1+json": {
       "config": {
        "plotlyServerURL": "https://plot.ly"
       },
       "data": [
        {
         "colorscale": [
          [
           0,
           "rgb(165,0,38)"
          ],
          [
           0.1,
           "rgb(215,48,39)"
          ],
          [
           0.2,
           "rgb(244,109,67)"
          ],
          [
           0.3,
           "rgb(253,174,97)"
          ],
          [
           0.4,
           "rgb(254,224,139)"
          ],
          [
           0.5,
           "rgb(255,255,191)"
          ],
          [
           0.6,
           "rgb(217,239,139)"
          ],
          [
           0.7,
           "rgb(166,217,106)"
          ],
          [
           0.8,
           "rgb(102,189,99)"
          ],
          [
           0.9,
           "rgb(26,152,80)"
          ],
          [
           1,
           "rgb(0,104,55)"
          ]
         ],
         "hoverinfo": "none",
         "reversescale": false,
         "showscale": true,
         "type": "heatmap",
         "x": [
          "Spectral Entropy",
          "Residual Spectral Entropy",
          "Modified Kaboudan Metric",
          "Coefficient of Variation",
          "Kaboudan Metric",
          "Residual Variability"
         ],
         "xgap": 1,
         "y": [
          "Spectral Entropy",
          "Residual Spectral Entropy",
          "Modified Kaboudan Metric",
          "Coefficient of Variation",
          "Kaboudan Metric",
          "Residual Variability"
         ],
         "ygap": 1,
         "z": [
          [
           1,
           0.63,
           0.42,
           0.09,
           0.36,
           0.26
          ],
          [
           0.63,
           1,
           0.19,
           -0.04,
           0.16,
           0.04
          ],
          [
           0.42,
           0.19,
           1,
           0.13,
           0.63,
           0.21
          ],
          [
           0.09,
           -0.04,
           0.13,
           1,
           0.15,
           0.97
          ],
          [
           0.36,
           0.16,
           0.63,
           0.15,
           1,
           0.21
          ],
          [
           0.26,
           0.04,
           0.21,
           0.97,
           0.21,
           1
          ]
         ]
        }
       ],
       "layout": {
        "annotations": [
         {
          "font": {
           "color": "#FFFFFF",
           "size": 15
          },
          "showarrow": false,
          "text": "1.0",
          "x": "Spectral Entropy",
          "xref": "x",
          "y": "Spectral Entropy",
          "yref": "y"
         },
         {
          "font": {
           "color": "#FFFFFF",
           "size": 15
          },
          "showarrow": false,
          "text": "0.63",
          "x": "Residual Spectral Entropy",
          "xref": "x",
          "y": "Spectral Entropy",
          "yref": "y"
         },
         {
          "font": {
           "color": "#FFFFFF",
           "size": 15
          },
          "showarrow": false,
          "text": "0.42",
          "x": "Modified Kaboudan Metric",
          "xref": "x",
          "y": "Spectral Entropy",
          "yref": "y"
         },
         {
          "font": {
           "color": "#FFFFFF",
           "size": 15
          },
          "showarrow": false,
          "text": "0.09",
          "x": "Coefficient of Variation",
          "xref": "x",
          "y": "Spectral Entropy",
          "yref": "y"
         },
         {
          "font": {
           "color": "#FFFFFF",
           "size": 15
          },
          "showarrow": false,
          "text": "0.36",
          "x": "Kaboudan Metric",
          "xref": "x",
          "y": "Spectral Entropy",
          "yref": "y"
         },
         {
          "font": {
           "color": "#FFFFFF",
           "size": 15
          },
          "showarrow": false,
          "text": "0.26",
          "x": "Residual Variability",
          "xref": "x",
          "y": "Spectral Entropy",
          "yref": "y"
         },
         {
          "font": {
           "color": "#FFFFFF",
           "size": 15
          },
          "showarrow": false,
          "text": "0.63",
          "x": "Spectral Entropy",
          "xref": "x",
          "y": "Residual Spectral Entropy",
          "yref": "y"
         },
         {
          "font": {
           "color": "#FFFFFF",
           "size": 15
          },
          "showarrow": false,
          "text": "1.0",
          "x": "Residual Spectral Entropy",
          "xref": "x",
          "y": "Residual Spectral Entropy",
          "yref": "y"
         },
         {
          "font": {
           "color": "#FFFFFF",
           "size": 15
          },
          "showarrow": false,
          "text": "0.19",
          "x": "Modified Kaboudan Metric",
          "xref": "x",
          "y": "Residual Spectral Entropy",
          "yref": "y"
         },
         {
          "font": {
           "color": "#FFFFFF",
           "size": 15
          },
          "showarrow": false,
          "text": "-0.04",
          "x": "Coefficient of Variation",
          "xref": "x",
          "y": "Residual Spectral Entropy",
          "yref": "y"
         },
         {
          "font": {
           "color": "#FFFFFF",
           "size": 15
          },
          "showarrow": false,
          "text": "0.16",
          "x": "Kaboudan Metric",
          "xref": "x",
          "y": "Residual Spectral Entropy",
          "yref": "y"
         },
         {
          "font": {
           "color": "#FFFFFF",
           "size": 15
          },
          "showarrow": false,
          "text": "0.04",
          "x": "Residual Variability",
          "xref": "x",
          "y": "Residual Spectral Entropy",
          "yref": "y"
         },
         {
          "font": {
           "color": "#FFFFFF",
           "size": 15
          },
          "showarrow": false,
          "text": "0.42",
          "x": "Spectral Entropy",
          "xref": "x",
          "y": "Modified Kaboudan Metric",
          "yref": "y"
         },
         {
          "font": {
           "color": "#FFFFFF",
           "size": 15
          },
          "showarrow": false,
          "text": "0.19",
          "x": "Residual Spectral Entropy",
          "xref": "x",
          "y": "Modified Kaboudan Metric",
          "yref": "y"
         },
         {
          "font": {
           "color": "#FFFFFF",
           "size": 15
          },
          "showarrow": false,
          "text": "1.0",
          "x": "Modified Kaboudan Metric",
          "xref": "x",
          "y": "Modified Kaboudan Metric",
          "yref": "y"
         },
         {
          "font": {
           "color": "#FFFFFF",
           "size": 15
          },
          "showarrow": false,
          "text": "0.13",
          "x": "Coefficient of Variation",
          "xref": "x",
          "y": "Modified Kaboudan Metric",
          "yref": "y"
         },
         {
          "font": {
           "color": "#FFFFFF",
           "size": 15
          },
          "showarrow": false,
          "text": "0.63",
          "x": "Kaboudan Metric",
          "xref": "x",
          "y": "Modified Kaboudan Metric",
          "yref": "y"
         },
         {
          "font": {
           "color": "#FFFFFF",
           "size": 15
          },
          "showarrow": false,
          "text": "0.21",
          "x": "Residual Variability",
          "xref": "x",
          "y": "Modified Kaboudan Metric",
          "yref": "y"
         },
         {
          "font": {
           "color": "#FFFFFF",
           "size": 15
          },
          "showarrow": false,
          "text": "0.09",
          "x": "Spectral Entropy",
          "xref": "x",
          "y": "Coefficient of Variation",
          "yref": "y"
         },
         {
          "font": {
           "color": "#FFFFFF",
           "size": 15
          },
          "showarrow": false,
          "text": "-0.04",
          "x": "Residual Spectral Entropy",
          "xref": "x",
          "y": "Coefficient of Variation",
          "yref": "y"
         },
         {
          "font": {
           "color": "#FFFFFF",
           "size": 15
          },
          "showarrow": false,
          "text": "0.13",
          "x": "Modified Kaboudan Metric",
          "xref": "x",
          "y": "Coefficient of Variation",
          "yref": "y"
         },
         {
          "font": {
           "color": "#FFFFFF",
           "size": 15
          },
          "showarrow": false,
          "text": "1.0",
          "x": "Coefficient of Variation",
          "xref": "x",
          "y": "Coefficient of Variation",
          "yref": "y"
         },
         {
          "font": {
           "color": "#FFFFFF",
           "size": 15
          },
          "showarrow": false,
          "text": "0.15",
          "x": "Kaboudan Metric",
          "xref": "x",
          "y": "Coefficient of Variation",
          "yref": "y"
         },
         {
          "font": {
           "color": "#FFFFFF",
           "size": 15
          },
          "showarrow": false,
          "text": "0.97",
          "x": "Residual Variability",
          "xref": "x",
          "y": "Coefficient of Variation",
          "yref": "y"
         },
         {
          "font": {
           "color": "#FFFFFF",
           "size": 15
          },
          "showarrow": false,
          "text": "0.36",
          "x": "Spectral Entropy",
          "xref": "x",
          "y": "Kaboudan Metric",
          "yref": "y"
         },
         {
          "font": {
           "color": "#FFFFFF",
           "size": 15
          },
          "showarrow": false,
          "text": "0.16",
          "x": "Residual Spectral Entropy",
          "xref": "x",
          "y": "Kaboudan Metric",
          "yref": "y"
         },
         {
          "font": {
           "color": "#FFFFFF",
           "size": 15
          },
          "showarrow": false,
          "text": "0.63",
          "x": "Modified Kaboudan Metric",
          "xref": "x",
          "y": "Kaboudan Metric",
          "yref": "y"
         },
         {
          "font": {
           "color": "#FFFFFF",
           "size": 15
          },
          "showarrow": false,
          "text": "0.15",
          "x": "Coefficient of Variation",
          "xref": "x",
          "y": "Kaboudan Metric",
          "yref": "y"
         },
         {
          "font": {
           "color": "#FFFFFF",
           "size": 15
          },
          "showarrow": false,
          "text": "1.0",
          "x": "Kaboudan Metric",
          "xref": "x",
          "y": "Kaboudan Metric",
          "yref": "y"
         },
         {
          "font": {
           "color": "#FFFFFF",
           "size": 15
          },
          "showarrow": false,
          "text": "0.21",
          "x": "Residual Variability",
          "xref": "x",
          "y": "Kaboudan Metric",
          "yref": "y"
         },
         {
          "font": {
           "color": "#FFFFFF",
           "size": 15
          },
          "showarrow": false,
          "text": "0.26",
          "x": "Spectral Entropy",
          "xref": "x",
          "y": "Residual Variability",
          "yref": "y"
         },
         {
          "font": {
           "color": "#FFFFFF",
           "size": 15
          },
          "showarrow": false,
          "text": "0.04",
          "x": "Residual Spectral Entropy",
          "xref": "x",
          "y": "Residual Variability",
          "yref": "y"
         },
         {
          "font": {
           "color": "#FFFFFF",
           "size": 15
          },
          "showarrow": false,
          "text": "0.21",
          "x": "Modified Kaboudan Metric",
          "xref": "x",
          "y": "Residual Variability",
          "yref": "y"
         },
         {
          "font": {
           "color": "#FFFFFF",
           "size": 15
          },
          "showarrow": false,
          "text": "0.97",
          "x": "Coefficient of Variation",
          "xref": "x",
          "y": "Residual Variability",
          "yref": "y"
         },
         {
          "font": {
           "color": "#FFFFFF",
           "size": 15
          },
          "showarrow": false,
          "text": "0.21",
          "x": "Kaboudan Metric",
          "xref": "x",
          "y": "Residual Variability",
          "yref": "y"
         },
         {
          "font": {
           "color": "#FFFFFF",
           "size": 15
          },
          "showarrow": false,
          "text": "1.0",
          "x": "Residual Variability",
          "xref": "x",
          "y": "Residual Variability",
          "yref": "y"
         }
        ],
        "height": 700,
        "template": {
         "data": {
          "bar": [
           {
            "error_x": {
             "color": "#2a3f5f"
            },
            "error_y": {
             "color": "#2a3f5f"
            },
            "marker": {
             "line": {
              "color": "white",
              "width": 0.5
             },
             "pattern": {
              "fillmode": "overlay",
              "size": 10,
              "solidity": 0.2
             }
            },
            "type": "bar"
           }
          ],
          "barpolar": [
           {
            "marker": {
             "line": {
              "color": "white",
              "width": 0.5
             },
             "pattern": {
              "fillmode": "overlay",
              "size": 10,
              "solidity": 0.2
             }
            },
            "type": "barpolar"
           }
          ],
          "carpet": [
           {
            "aaxis": {
             "endlinecolor": "#2a3f5f",
             "gridcolor": "#C8D4E3",
             "linecolor": "#C8D4E3",
             "minorgridcolor": "#C8D4E3",
             "startlinecolor": "#2a3f5f"
            },
            "baxis": {
             "endlinecolor": "#2a3f5f",
             "gridcolor": "#C8D4E3",
             "linecolor": "#C8D4E3",
             "minorgridcolor": "#C8D4E3",
             "startlinecolor": "#2a3f5f"
            },
            "type": "carpet"
           }
          ],
          "choropleth": [
           {
            "colorbar": {
             "outlinewidth": 0,
             "ticks": ""
            },
            "type": "choropleth"
           }
          ],
          "contour": [
           {
            "colorbar": {
             "outlinewidth": 0,
             "ticks": ""
            },
            "colorscale": [
             [
              0,
              "#0d0887"
             ],
             [
              0.1111111111111111,
              "#46039f"
             ],
             [
              0.2222222222222222,
              "#7201a8"
             ],
             [
              0.3333333333333333,
              "#9c179e"
             ],
             [
              0.4444444444444444,
              "#bd3786"
             ],
             [
              0.5555555555555556,
              "#d8576b"
             ],
             [
              0.6666666666666666,
              "#ed7953"
             ],
             [
              0.7777777777777778,
              "#fb9f3a"
             ],
             [
              0.8888888888888888,
              "#fdca26"
             ],
             [
              1,
              "#f0f921"
             ]
            ],
            "type": "contour"
           }
          ],
          "contourcarpet": [
           {
            "colorbar": {
             "outlinewidth": 0,
             "ticks": ""
            },
            "type": "contourcarpet"
           }
          ],
          "heatmap": [
           {
            "colorbar": {
             "outlinewidth": 0,
             "ticks": ""
            },
            "colorscale": [
             [
              0,
              "#0d0887"
             ],
             [
              0.1111111111111111,
              "#46039f"
             ],
             [
              0.2222222222222222,
              "#7201a8"
             ],
             [
              0.3333333333333333,
              "#9c179e"
             ],
             [
              0.4444444444444444,
              "#bd3786"
             ],
             [
              0.5555555555555556,
              "#d8576b"
             ],
             [
              0.6666666666666666,
              "#ed7953"
             ],
             [
              0.7777777777777778,
              "#fb9f3a"
             ],
             [
              0.8888888888888888,
              "#fdca26"
             ],
             [
              1,
              "#f0f921"
             ]
            ],
            "type": "heatmap"
           }
          ],
          "heatmapgl": [
           {
            "colorbar": {
             "outlinewidth": 0,
             "ticks": ""
            },
            "colorscale": [
             [
              0,
              "#0d0887"
             ],
             [
              0.1111111111111111,
              "#46039f"
             ],
             [
              0.2222222222222222,
              "#7201a8"
             ],
             [
              0.3333333333333333,
              "#9c179e"
             ],
             [
              0.4444444444444444,
              "#bd3786"
             ],
             [
              0.5555555555555556,
              "#d8576b"
             ],
             [
              0.6666666666666666,
              "#ed7953"
             ],
             [
              0.7777777777777778,
              "#fb9f3a"
             ],
             [
              0.8888888888888888,
              "#fdca26"
             ],
             [
              1,
              "#f0f921"
             ]
            ],
            "type": "heatmapgl"
           }
          ],
          "histogram": [
           {
            "marker": {
             "pattern": {
              "fillmode": "overlay",
              "size": 10,
              "solidity": 0.2
             }
            },
            "type": "histogram"
           }
          ],
          "histogram2d": [
           {
            "colorbar": {
             "outlinewidth": 0,
             "ticks": ""
            },
            "colorscale": [
             [
              0,
              "#0d0887"
             ],
             [
              0.1111111111111111,
              "#46039f"
             ],
             [
              0.2222222222222222,
              "#7201a8"
             ],
             [
              0.3333333333333333,
              "#9c179e"
             ],
             [
              0.4444444444444444,
              "#bd3786"
             ],
             [
              0.5555555555555556,
              "#d8576b"
             ],
             [
              0.6666666666666666,
              "#ed7953"
             ],
             [
              0.7777777777777778,
              "#fb9f3a"
             ],
             [
              0.8888888888888888,
              "#fdca26"
             ],
             [
              1,
              "#f0f921"
             ]
            ],
            "type": "histogram2d"
           }
          ],
          "histogram2dcontour": [
           {
            "colorbar": {
             "outlinewidth": 0,
             "ticks": ""
            },
            "colorscale": [
             [
              0,
              "#0d0887"
             ],
             [
              0.1111111111111111,
              "#46039f"
             ],
             [
              0.2222222222222222,
              "#7201a8"
             ],
             [
              0.3333333333333333,
              "#9c179e"
             ],
             [
              0.4444444444444444,
              "#bd3786"
             ],
             [
              0.5555555555555556,
              "#d8576b"
             ],
             [
              0.6666666666666666,
              "#ed7953"
             ],
             [
              0.7777777777777778,
              "#fb9f3a"
             ],
             [
              0.8888888888888888,
              "#fdca26"
             ],
             [
              1,
              "#f0f921"
             ]
            ],
            "type": "histogram2dcontour"
           }
          ],
          "mesh3d": [
           {
            "colorbar": {
             "outlinewidth": 0,
             "ticks": ""
            },
            "type": "mesh3d"
           }
          ],
          "parcoords": [
           {
            "line": {
             "colorbar": {
              "outlinewidth": 0,
              "ticks": ""
             }
            },
            "type": "parcoords"
           }
          ],
          "pie": [
           {
            "automargin": true,
            "type": "pie"
           }
          ],
          "scatter": [
           {
            "fillpattern": {
             "fillmode": "overlay",
             "size": 10,
             "solidity": 0.2
            },
            "type": "scatter"
           }
          ],
          "scatter3d": [
           {
            "line": {
             "colorbar": {
              "outlinewidth": 0,
              "ticks": ""
             }
            },
            "marker": {
             "colorbar": {
              "outlinewidth": 0,
              "ticks": ""
             }
            },
            "type": "scatter3d"
           }
          ],
          "scattercarpet": [
           {
            "marker": {
             "colorbar": {
              "outlinewidth": 0,
              "ticks": ""
             }
            },
            "type": "scattercarpet"
           }
          ],
          "scattergeo": [
           {
            "marker": {
             "colorbar": {
              "outlinewidth": 0,
              "ticks": ""
             }
            },
            "type": "scattergeo"
           }
          ],
          "scattergl": [
           {
            "marker": {
             "colorbar": {
              "outlinewidth": 0,
              "ticks": ""
             }
            },
            "type": "scattergl"
           }
          ],
          "scattermapbox": [
           {
            "marker": {
             "colorbar": {
              "outlinewidth": 0,
              "ticks": ""
             }
            },
            "type": "scattermapbox"
           }
          ],
          "scatterpolar": [
           {
            "marker": {
             "colorbar": {
              "outlinewidth": 0,
              "ticks": ""
             }
            },
            "type": "scatterpolar"
           }
          ],
          "scatterpolargl": [
           {
            "marker": {
             "colorbar": {
              "outlinewidth": 0,
              "ticks": ""
             }
            },
            "type": "scatterpolargl"
           }
          ],
          "scatterternary": [
           {
            "marker": {
             "colorbar": {
              "outlinewidth": 0,
              "ticks": ""
             }
            },
            "type": "scatterternary"
           }
          ],
          "surface": [
           {
            "colorbar": {
             "outlinewidth": 0,
             "ticks": ""
            },
            "colorscale": [
             [
              0,
              "#0d0887"
             ],
             [
              0.1111111111111111,
              "#46039f"
             ],
             [
              0.2222222222222222,
              "#7201a8"
             ],
             [
              0.3333333333333333,
              "#9c179e"
             ],
             [
              0.4444444444444444,
              "#bd3786"
             ],
             [
              0.5555555555555556,
              "#d8576b"
             ],
             [
              0.6666666666666666,
              "#ed7953"
             ],
             [
              0.7777777777777778,
              "#fb9f3a"
             ],
             [
              0.8888888888888888,
              "#fdca26"
             ],
             [
              1,
              "#f0f921"
             ]
            ],
            "type": "surface"
           }
          ],
          "table": [
           {
            "cells": {
             "fill": {
              "color": "#EBF0F8"
             },
             "line": {
              "color": "white"
             }
            },
            "header": {
             "fill": {
              "color": "#C8D4E3"
             },
             "line": {
              "color": "white"
             }
            },
            "type": "table"
           }
          ]
         },
         "layout": {
          "annotationdefaults": {
           "arrowcolor": "#2a3f5f",
           "arrowhead": 0,
           "arrowwidth": 1
          },
          "autotypenumbers": "strict",
          "coloraxis": {
           "colorbar": {
            "outlinewidth": 0,
            "ticks": ""
           }
          },
          "colorscale": {
           "diverging": [
            [
             0,
             "#8e0152"
            ],
            [
             0.1,
             "#c51b7d"
            ],
            [
             0.2,
             "#de77ae"
            ],
            [
             0.3,
             "#f1b6da"
            ],
            [
             0.4,
             "#fde0ef"
            ],
            [
             0.5,
             "#f7f7f7"
            ],
            [
             0.6,
             "#e6f5d0"
            ],
            [
             0.7,
             "#b8e186"
            ],
            [
             0.8,
             "#7fbc41"
            ],
            [
             0.9,
             "#4d9221"
            ],
            [
             1,
             "#276419"
            ]
           ],
           "sequential": [
            [
             0,
             "#0d0887"
            ],
            [
             0.1111111111111111,
             "#46039f"
            ],
            [
             0.2222222222222222,
             "#7201a8"
            ],
            [
             0.3333333333333333,
             "#9c179e"
            ],
            [
             0.4444444444444444,
             "#bd3786"
            ],
            [
             0.5555555555555556,
             "#d8576b"
            ],
            [
             0.6666666666666666,
             "#ed7953"
            ],
            [
             0.7777777777777778,
             "#fb9f3a"
            ],
            [
             0.8888888888888888,
             "#fdca26"
            ],
            [
             1,
             "#f0f921"
            ]
           ],
           "sequentialminus": [
            [
             0,
             "#0d0887"
            ],
            [
             0.1111111111111111,
             "#46039f"
            ],
            [
             0.2222222222222222,
             "#7201a8"
            ],
            [
             0.3333333333333333,
             "#9c179e"
            ],
            [
             0.4444444444444444,
             "#bd3786"
            ],
            [
             0.5555555555555556,
             "#d8576b"
            ],
            [
             0.6666666666666666,
             "#ed7953"
            ],
            [
             0.7777777777777778,
             "#fb9f3a"
            ],
            [
             0.8888888888888888,
             "#fdca26"
            ],
            [
             1,
             "#f0f921"
            ]
           ]
          },
          "colorway": [
           "#636efa",
           "#EF553B",
           "#00cc96",
           "#ab63fa",
           "#FFA15A",
           "#19d3f3",
           "#FF6692",
           "#B6E880",
           "#FF97FF",
           "#FECB52"
          ],
          "font": {
           "color": "#2a3f5f"
          },
          "geo": {
           "bgcolor": "white",
           "lakecolor": "white",
           "landcolor": "white",
           "showlakes": true,
           "showland": true,
           "subunitcolor": "#C8D4E3"
          },
          "hoverlabel": {
           "align": "left"
          },
          "hovermode": "closest",
          "mapbox": {
           "style": "light"
          },
          "paper_bgcolor": "white",
          "plot_bgcolor": "white",
          "polar": {
           "angularaxis": {
            "gridcolor": "#EBF0F8",
            "linecolor": "#EBF0F8",
            "ticks": ""
           },
           "bgcolor": "white",
           "radialaxis": {
            "gridcolor": "#EBF0F8",
            "linecolor": "#EBF0F8",
            "ticks": ""
           }
          },
          "scene": {
           "xaxis": {
            "backgroundcolor": "white",
            "gridcolor": "#DFE8F3",
            "gridwidth": 2,
            "linecolor": "#EBF0F8",
            "showbackground": true,
            "ticks": "",
            "zerolinecolor": "#EBF0F8"
           },
           "yaxis": {
            "backgroundcolor": "white",
            "gridcolor": "#DFE8F3",
            "gridwidth": 2,
            "linecolor": "#EBF0F8",
            "showbackground": true,
            "ticks": "",
            "zerolinecolor": "#EBF0F8"
           },
           "zaxis": {
            "backgroundcolor": "white",
            "gridcolor": "#DFE8F3",
            "gridwidth": 2,
            "linecolor": "#EBF0F8",
            "showbackground": true,
            "ticks": "",
            "zerolinecolor": "#EBF0F8"
           }
          },
          "shapedefaults": {
           "line": {
            "color": "#2a3f5f"
           }
          },
          "ternary": {
           "aaxis": {
            "gridcolor": "#DFE8F3",
            "linecolor": "#A2B1C6",
            "ticks": ""
           },
           "baxis": {
            "gridcolor": "#DFE8F3",
            "linecolor": "#A2B1C6",
            "ticks": ""
           },
           "bgcolor": "white",
           "caxis": {
            "gridcolor": "#DFE8F3",
            "linecolor": "#A2B1C6",
            "ticks": ""
           }
          },
          "title": {
           "x": 0.05
          },
          "xaxis": {
           "automargin": true,
           "gridcolor": "#EBF0F8",
           "linecolor": "#EBF0F8",
           "ticks": "",
           "title": {
            "standoff": 15
           },
           "zerolinecolor": "#EBF0F8",
           "zerolinewidth": 2
          },
          "yaxis": {
           "automargin": true,
           "gridcolor": "#EBF0F8",
           "linecolor": "#EBF0F8",
           "ticks": "",
           "title": {
            "standoff": 15
           },
           "zerolinecolor": "#EBF0F8",
           "zerolinewidth": 2
          }
         }
        },
        "title": {
         "text": "Rank Correlation Plot - Forecastability Metrics",
         "x": 0.5
        },
        "width": 700,
        "xaxis": {
         "dtick": 1,
         "gridcolor": "rgb(0, 0, 0)",
         "showgrid": false,
         "side": "bottom",
         "ticks": "",
         "zeroline": false
        },
        "yaxis": {
         "autorange": "reversed",
         "dtick": 1,
         "showgrid": false,
         "ticks": "",
         "ticksuffix": "  ",
         "zeroline": false
        }
       }
      }
     },
     "metadata": {},
     "output_type": "display_data"
    }
   ],
   "source": [
    "import plotly.figure_factory as ff\n",
    "\n",
    "# mask = np.triu(np.ones_like(corr_df, dtype=bool))\n",
    "# df_mask = corr_df.mask(mask).round(2)\n",
    "df_mask = corr_df.round(2)\n",
    "\n",
    "fig = ff.create_annotated_heatmap(z=df_mask.to_numpy(), \n",
    "                                  x=df_mask.columns.tolist(),\n",
    "                                  y=df_mask.columns.tolist(),\n",
    "                                  colorscale=px.colors.diverging.RdYlGn,\n",
    "                                  hoverinfo=\"none\", #Shows hoverinfo for null values\n",
    "                                  showscale=True, ygap=1, xgap=1\n",
    "                                 )\n",
    "\n",
    "fig.update_xaxes(side=\"bottom\")\n",
    "# fig.update_traces(textfont_size=14)\n",
    "fig.update_layout(\n",
    "    title_text='Rank Correlation Plot - Forecastability Metrics', \n",
    "    title_x=0.5, \n",
    "    width=700, \n",
    "    height=700,\n",
    "    xaxis_showgrid=False,\n",
    "    yaxis_showgrid=False,\n",
    "    xaxis_zeroline=False,\n",
    "    yaxis_zeroline=False,\n",
    "    yaxis_autorange='reversed',\n",
    "    template='plotly_white'\n",
    ")\n",
    "\n",
    "# NaN values are not handled automatically and are displayed in the figure\n",
    "# So we need to get rid of the text manually\n",
    "for i in range(len(fig.layout.annotations)):\n",
    "    fig.layout.annotations[i]['font']['size']=15\n",
    "    if fig.layout.annotations[i].text == 'nan':\n",
    "        fig.layout.annotations[i].text = \"\"\n",
    "\n",
    "# fig.write_image(\"imgs/chapter_4/rank_correlation_forecastability.png\")\n",
    "fig.show()"
   ]
  },
  {
   "cell_type": "markdown",
   "id": "4ba4d70c-444d-452b-a77c-95421d617a62",
   "metadata": {},
   "source": [
    "We can see very high correlations between CoV and REsidual Variabilily because they are measuring the same thing, essentially. Residual Variability just fixes a few problems with the original CoV metric. Similarly we can see high correlations between Kaboudan and Modified Kaboudan metrics, which are also essentially the same metric. Spectral Entropy has relatively higher correlation betweem all the other metrics, the most with Residual Variability."
   ]
  },
  {
   "cell_type": "markdown",
   "id": "abc2548d-3d71-471c-8f74-25fd21bfb008",
   "metadata": {},
   "source": [
    "## Rank Correlation of Forecastability vs Forecast Metrics"
   ]
  },
  {
   "cell_type": "markdown",
   "id": "20f4babf-f752-4161-901f-154aff87eb6d",
   "metadata": {},
   "source": [
    "We also have the metrics that we calculated using the baseline forecasts from notebook 02-Baseline Forecasts using darts.ipynb. We merge that information with the forecastability metrics and calculate a rank correlation to see which of tehse metrics really corelates with the baseline error metrics."
   ]
  },
  {
   "cell_type": "code",
   "execution_count": 57,
   "id": "8a8548ea-aa2f-49b8-9dc6-e7b6e6054feb",
   "metadata": {},
   "outputs": [],
   "source": [
    "base_metric_df = pd.read_pickle(output/\"baseline_test_metrics_df.pkl\")"
   ]
  },
  {
   "cell_type": "code",
   "execution_count": 58,
   "id": "c1a36387",
   "metadata": {},
   "outputs": [
    {
     "data": {
      "text/html": [
       "<div>\n",
       "<style scoped>\n",
       "    .dataframe tbody tr th:only-of-type {\n",
       "        vertical-align: middle;\n",
       "    }\n",
       "\n",
       "    .dataframe tbody tr th {\n",
       "        vertical-align: top;\n",
       "    }\n",
       "\n",
       "    .dataframe thead th {\n",
       "        text-align: right;\n",
       "    }\n",
       "</style>\n",
       "<table border=\"1\" class=\"dataframe\">\n",
       "  <thead>\n",
       "    <tr style=\"text-align: right;\">\n",
       "      <th>metric</th>\n",
       "      <th>LCLid</th>\n",
       "      <th>Algorithm</th>\n",
       "      <th>mae</th>\n",
       "      <th>mase</th>\n",
       "      <th>mse</th>\n",
       "      <th>rmse</th>\n",
       "    </tr>\n",
       "  </thead>\n",
       "  <tbody>\n",
       "    <tr>\n",
       "      <th>0</th>\n",
       "      <td>MAC000061</td>\n",
       "      <td>AutoETS</td>\n",
       "      <td>0.058033</td>\n",
       "      <td>0.994184</td>\n",
       "      <td>0.006229</td>\n",
       "      <td>0.078926</td>\n",
       "    </tr>\n",
       "    <tr>\n",
       "      <th>1</th>\n",
       "      <td>MAC000061</td>\n",
       "      <td>TBATS</td>\n",
       "      <td>0.075398</td>\n",
       "      <td>1.291667</td>\n",
       "      <td>0.010697</td>\n",
       "      <td>0.103424</td>\n",
       "    </tr>\n",
       "    <tr>\n",
       "      <th>2</th>\n",
       "      <td>MAC000062</td>\n",
       "      <td>AutoETS</td>\n",
       "      <td>0.091553</td>\n",
       "      <td>1.020420</td>\n",
       "      <td>0.028730</td>\n",
       "      <td>0.169500</td>\n",
       "    </tr>\n",
       "    <tr>\n",
       "      <th>3</th>\n",
       "      <td>MAC000062</td>\n",
       "      <td>TBATS</td>\n",
       "      <td>0.075708</td>\n",
       "      <td>0.843818</td>\n",
       "      <td>0.027612</td>\n",
       "      <td>0.166167</td>\n",
       "    </tr>\n",
       "    <tr>\n",
       "      <th>4</th>\n",
       "      <td>MAC000066</td>\n",
       "      <td>AutoETS</td>\n",
       "      <td>0.044511</td>\n",
       "      <td>0.844105</td>\n",
       "      <td>0.004667</td>\n",
       "      <td>0.068317</td>\n",
       "    </tr>\n",
       "  </tbody>\n",
       "</table>\n",
       "</div>"
      ],
      "text/plain": [
       "metric      LCLid Algorithm       mae      mase       mse      rmse\n",
       "0       MAC000061   AutoETS  0.058033  0.994184  0.006229  0.078926\n",
       "1       MAC000061     TBATS  0.075398  1.291667  0.010697  0.103424\n",
       "2       MAC000062   AutoETS  0.091553  1.020420  0.028730  0.169500\n",
       "3       MAC000062     TBATS  0.075708  0.843818  0.027612  0.166167\n",
       "4       MAC000066   AutoETS  0.044511  0.844105  0.004667  0.068317"
      ]
     },
     "execution_count": 58,
     "metadata": {},
     "output_type": "execute_result"
    }
   ],
   "source": [
    "base_metric_df.head()"
   ]
  },
  {
   "cell_type": "code",
   "execution_count": 59,
   "id": "929d6583-bcf3-44fd-bc16-f8e3a71763d3",
   "metadata": {},
   "outputs": [],
   "source": [
    "forecastability_df = forecastability_df.merge(base_metric_df[base_metric_df.Algorithm==\"AutoETS\"], on=\"LCLid\", how='inner')"
   ]
  },
  {
   "cell_type": "code",
   "execution_count": 60,
   "id": "2b307e56",
   "metadata": {},
   "outputs": [
    {
     "data": {
      "text/html": [
       "<div>\n",
       "<style scoped>\n",
       "    .dataframe tbody tr th:only-of-type {\n",
       "        vertical-align: middle;\n",
       "    }\n",
       "\n",
       "    .dataframe tbody tr th {\n",
       "        vertical-align: top;\n",
       "    }\n",
       "\n",
       "    .dataframe thead th {\n",
       "        text-align: right;\n",
       "    }\n",
       "</style>\n",
       "<table border=\"1\" class=\"dataframe\">\n",
       "  <thead>\n",
       "    <tr style=\"text-align: right;\">\n",
       "      <th></th>\n",
       "      <th>LCLid</th>\n",
       "      <th>spectral_entropy</th>\n",
       "      <th>residual_spectral_entropy</th>\n",
       "      <th>modified_kaboudan_metric</th>\n",
       "      <th>cov</th>\n",
       "      <th>kaboudan_metric</th>\n",
       "      <th>residual_variability</th>\n",
       "      <th>Algorithm</th>\n",
       "      <th>mae</th>\n",
       "      <th>mase</th>\n",
       "      <th>mse</th>\n",
       "      <th>rmse</th>\n",
       "    </tr>\n",
       "  </thead>\n",
       "  <tbody>\n",
       "    <tr>\n",
       "      <th>0</th>\n",
       "      <td>MAC000768</td>\n",
       "      <td>0.807210</td>\n",
       "      <td>0.890163</td>\n",
       "      <td>0.043416</td>\n",
       "      <td>0.889308</td>\n",
       "      <td>0.454284</td>\n",
       "      <td>0.787155</td>\n",
       "      <td>AutoETS</td>\n",
       "      <td>0.155062</td>\n",
       "      <td>0.951542</td>\n",
       "      <td>0.050409</td>\n",
       "      <td>0.224519</td>\n",
       "    </tr>\n",
       "    <tr>\n",
       "      <th>1</th>\n",
       "      <td>MAC000948</td>\n",
       "      <td>0.824352</td>\n",
       "      <td>0.877598</td>\n",
       "      <td>0.000000</td>\n",
       "      <td>0.788908</td>\n",
       "      <td>-6.683012</td>\n",
       "      <td>0.705883</td>\n",
       "      <td>AutoETS</td>\n",
       "      <td>0.125941</td>\n",
       "      <td>0.899982</td>\n",
       "      <td>0.050007</td>\n",
       "      <td>0.223623</td>\n",
       "    </tr>\n",
       "    <tr>\n",
       "      <th>2</th>\n",
       "      <td>MAC003299</td>\n",
       "      <td>0.738643</td>\n",
       "      <td>0.880901</td>\n",
       "      <td>0.217729</td>\n",
       "      <td>0.677120</td>\n",
       "      <td>0.393858</td>\n",
       "      <td>0.571760</td>\n",
       "      <td>AutoETS</td>\n",
       "      <td>0.131688</td>\n",
       "      <td>0.755936</td>\n",
       "      <td>0.041799</td>\n",
       "      <td>0.204449</td>\n",
       "    </tr>\n",
       "    <tr>\n",
       "      <th>3</th>\n",
       "      <td>MAC003157</td>\n",
       "      <td>0.655312</td>\n",
       "      <td>0.826910</td>\n",
       "      <td>0.123908</td>\n",
       "      <td>0.706605</td>\n",
       "      <td>0.374558</td>\n",
       "      <td>0.561631</td>\n",
       "      <td>AutoETS</td>\n",
       "      <td>0.156521</td>\n",
       "      <td>1.100816</td>\n",
       "      <td>0.053730</td>\n",
       "      <td>0.231797</td>\n",
       "    </tr>\n",
       "    <tr>\n",
       "      <th>4</th>\n",
       "      <td>MAC000193</td>\n",
       "      <td>0.725890</td>\n",
       "      <td>0.860850</td>\n",
       "      <td>0.000000</td>\n",
       "      <td>1.382776</td>\n",
       "      <td>-4.853901</td>\n",
       "      <td>1.176164</td>\n",
       "      <td>AutoETS</td>\n",
       "      <td>0.206020</td>\n",
       "      <td>1.206805</td>\n",
       "      <td>0.100771</td>\n",
       "      <td>0.317445</td>\n",
       "    </tr>\n",
       "  </tbody>\n",
       "</table>\n",
       "</div>"
      ],
      "text/plain": [
       "       LCLid  spectral_entropy  residual_spectral_entropy  \\\n",
       "0  MAC000768          0.807210                   0.890163   \n",
       "1  MAC000948          0.824352                   0.877598   \n",
       "2  MAC003299          0.738643                   0.880901   \n",
       "3  MAC003157          0.655312                   0.826910   \n",
       "4  MAC000193          0.725890                   0.860850   \n",
       "\n",
       "   modified_kaboudan_metric       cov  kaboudan_metric  residual_variability  \\\n",
       "0                  0.043416  0.889308         0.454284              0.787155   \n",
       "1                  0.000000  0.788908        -6.683012              0.705883   \n",
       "2                  0.217729  0.677120         0.393858              0.571760   \n",
       "3                  0.123908  0.706605         0.374558              0.561631   \n",
       "4                  0.000000  1.382776        -4.853901              1.176164   \n",
       "\n",
       "  Algorithm       mae      mase       mse      rmse  \n",
       "0   AutoETS  0.155062  0.951542  0.050409  0.224519  \n",
       "1   AutoETS  0.125941  0.899982  0.050007  0.223623  \n",
       "2   AutoETS  0.131688  0.755936  0.041799  0.204449  \n",
       "3   AutoETS  0.156521  1.100816  0.053730  0.231797  \n",
       "4   AutoETS  0.206020  1.206805  0.100771  0.317445  "
      ]
     },
     "execution_count": 60,
     "metadata": {},
     "output_type": "execute_result"
    }
   ],
   "source": [
    "forecastability_df.head()"
   ]
  },
  {
   "cell_type": "code",
   "execution_count": 61,
   "id": "72335810-f5e3-4069-abba-1c4938c6e4ac",
   "metadata": {},
   "outputs": [],
   "source": [
    "def calc_rank(rank_df):\n",
    "    for col in ['spectral_entropy', 'residual_spectral_entropy',\n",
    "       'cov',\"residual_variability\"]:\n",
    "        rank_df[col] = rank_df[col].rank(ascending=True)\n",
    "\n",
    "    for col in ['modified_kaboudan_metric',\"kaboudan_metric\", \"mae\", \"mse\", \"mase\"]:\n",
    "        rank_df[col] = rank_df[col].rank(ascending=False)\n",
    "    \n",
    "    # for col in [\"Forecast Bias\"]:\n",
    "    #     rank_df[col] = np.abs(rank_df[col]).rank(ascending=False)\n",
    "\n",
    "    return rank_df\n",
    "\n",
    "item_rankings =calc_rank(forecastability_df.drop(columns=[\"LCLid\",'Algorithm']))\n",
    "item_rankings.rename(columns=rename_dict, inplace=True)\n",
    "item_rankings.rename(index=rename_dict, inplace=True)\n",
    "item_rankings.drop(columns=['Time Elapsed', \"Model\"], inplace=True)\n",
    "corr_df = item_rankings.corr(method='spearman')"
   ]
  },
  {
   "cell_type": "code",
   "execution_count": 62,
   "id": "1b3a3939",
   "metadata": {},
   "outputs": [
    {
     "data": {
      "text/html": [
       "<div>\n",
       "<style scoped>\n",
       "    .dataframe tbody tr th:only-of-type {\n",
       "        vertical-align: middle;\n",
       "    }\n",
       "\n",
       "    .dataframe tbody tr th {\n",
       "        vertical-align: top;\n",
       "    }\n",
       "\n",
       "    .dataframe thead th {\n",
       "        text-align: right;\n",
       "    }\n",
       "</style>\n",
       "<table border=\"1\" class=\"dataframe\">\n",
       "  <thead>\n",
       "    <tr style=\"text-align: right;\">\n",
       "      <th></th>\n",
       "      <th>Spectral Entropy</th>\n",
       "      <th>Residual Spectral Entropy</th>\n",
       "      <th>Modified Kaboudan Metric</th>\n",
       "      <th>Coefficient of Variation</th>\n",
       "      <th>Kaboudan Metric</th>\n",
       "      <th>Residual Variability</th>\n",
       "      <th>mae</th>\n",
       "      <th>mase</th>\n",
       "      <th>mse</th>\n",
       "      <th>rmse</th>\n",
       "    </tr>\n",
       "  </thead>\n",
       "  <tbody>\n",
       "    <tr>\n",
       "      <th>Spectral Entropy</th>\n",
       "      <td>1.000000</td>\n",
       "      <td>0.627187</td>\n",
       "      <td>0.419594</td>\n",
       "      <td>0.086278</td>\n",
       "      <td>0.356018</td>\n",
       "      <td>0.259583</td>\n",
       "      <td>0.164304</td>\n",
       "      <td>0.145427</td>\n",
       "      <td>0.099512</td>\n",
       "      <td>-0.099512</td>\n",
       "    </tr>\n",
       "    <tr>\n",
       "      <th>Residual Spectral Entropy</th>\n",
       "      <td>0.627187</td>\n",
       "      <td>1.000000</td>\n",
       "      <td>0.186424</td>\n",
       "      <td>-0.042798</td>\n",
       "      <td>0.162142</td>\n",
       "      <td>0.040345</td>\n",
       "      <td>0.312681</td>\n",
       "      <td>0.333343</td>\n",
       "      <td>0.230640</td>\n",
       "      <td>-0.230640</td>\n",
       "    </tr>\n",
       "    <tr>\n",
       "      <th>Modified Kaboudan Metric</th>\n",
       "      <td>0.419594</td>\n",
       "      <td>0.186424</td>\n",
       "      <td>1.000000</td>\n",
       "      <td>0.126712</td>\n",
       "      <td>0.634865</td>\n",
       "      <td>0.213190</td>\n",
       "      <td>-0.002456</td>\n",
       "      <td>-0.077446</td>\n",
       "      <td>-0.036175</td>\n",
       "      <td>0.036175</td>\n",
       "    </tr>\n",
       "    <tr>\n",
       "      <th>Coefficient of Variation</th>\n",
       "      <td>0.086278</td>\n",
       "      <td>-0.042798</td>\n",
       "      <td>0.126712</td>\n",
       "      <td>1.000000</td>\n",
       "      <td>0.154903</td>\n",
       "      <td>0.972031</td>\n",
       "      <td>-0.257368</td>\n",
       "      <td>-0.292353</td>\n",
       "      <td>-0.303763</td>\n",
       "      <td>0.303763</td>\n",
       "    </tr>\n",
       "    <tr>\n",
       "      <th>Kaboudan Metric</th>\n",
       "      <td>0.356018</td>\n",
       "      <td>0.162142</td>\n",
       "      <td>0.634865</td>\n",
       "      <td>0.154903</td>\n",
       "      <td>1.000000</td>\n",
       "      <td>0.207687</td>\n",
       "      <td>-0.085897</td>\n",
       "      <td>-0.152535</td>\n",
       "      <td>-0.124480</td>\n",
       "      <td>0.124480</td>\n",
       "    </tr>\n",
       "  </tbody>\n",
       "</table>\n",
       "</div>"
      ],
      "text/plain": [
       "                           Spectral Entropy  Residual Spectral Entropy  \\\n",
       "Spectral Entropy                   1.000000                   0.627187   \n",
       "Residual Spectral Entropy          0.627187                   1.000000   \n",
       "Modified Kaboudan Metric           0.419594                   0.186424   \n",
       "Coefficient of Variation           0.086278                  -0.042798   \n",
       "Kaboudan Metric                    0.356018                   0.162142   \n",
       "\n",
       "                           Modified Kaboudan Metric  Coefficient of Variation  \\\n",
       "Spectral Entropy                           0.419594                  0.086278   \n",
       "Residual Spectral Entropy                  0.186424                 -0.042798   \n",
       "Modified Kaboudan Metric                   1.000000                  0.126712   \n",
       "Coefficient of Variation                   0.126712                  1.000000   \n",
       "Kaboudan Metric                            0.634865                  0.154903   \n",
       "\n",
       "                           Kaboudan Metric  Residual Variability       mae  \\\n",
       "Spectral Entropy                  0.356018              0.259583  0.164304   \n",
       "Residual Spectral Entropy         0.162142              0.040345  0.312681   \n",
       "Modified Kaboudan Metric          0.634865              0.213190 -0.002456   \n",
       "Coefficient of Variation          0.154903              0.972031 -0.257368   \n",
       "Kaboudan Metric                   1.000000              0.207687 -0.085897   \n",
       "\n",
       "                               mase       mse      rmse  \n",
       "Spectral Entropy           0.145427  0.099512 -0.099512  \n",
       "Residual Spectral Entropy  0.333343  0.230640 -0.230640  \n",
       "Modified Kaboudan Metric  -0.077446 -0.036175  0.036175  \n",
       "Coefficient of Variation  -0.292353 -0.303763  0.303763  \n",
       "Kaboudan Metric           -0.152535 -0.124480  0.124480  "
      ]
     },
     "execution_count": 62,
     "metadata": {},
     "output_type": "execute_result"
    }
   ],
   "source": [
    "corr_df.head()"
   ]
  },
  {
   "cell_type": "code",
   "execution_count": 63,
   "id": "92277f8e-17a7-4614-8fe6-96dab242fa31",
   "metadata": {},
   "outputs": [
    {
     "data": {
      "application/vnd.plotly.v1+json": {
       "config": {
        "plotlyServerURL": "https://plot.ly"
       },
       "data": [
        {
         "colorscale": [
          [
           0,
           "rgb(165,0,38)"
          ],
          [
           0.1,
           "rgb(215,48,39)"
          ],
          [
           0.2,
           "rgb(244,109,67)"
          ],
          [
           0.3,
           "rgb(253,174,97)"
          ],
          [
           0.4,
           "rgb(254,224,139)"
          ],
          [
           0.5,
           "rgb(255,255,191)"
          ],
          [
           0.6,
           "rgb(217,239,139)"
          ],
          [
           0.7,
           "rgb(166,217,106)"
          ],
          [
           0.8,
           "rgb(102,189,99)"
          ],
          [
           0.9,
           "rgb(26,152,80)"
          ],
          [
           1,
           "rgb(0,104,55)"
          ]
         ],
         "hoverinfo": "none",
         "reversescale": false,
         "showscale": true,
         "type": "heatmap",
         "x": [
          "Spectral Entropy",
          "Residual Spectral Entropy",
          "Modified Kaboudan Metric",
          "Coefficient of Variation",
          "Kaboudan Metric",
          "Residual Variability",
          "mae",
          "mase",
          "mse",
          "rmse"
         ],
         "xgap": 1,
         "y": [
          "Spectral Entropy",
          "Residual Spectral Entropy",
          "Modified Kaboudan Metric",
          "Coefficient of Variation",
          "Kaboudan Metric",
          "Residual Variability",
          "mae",
          "mase",
          "mse",
          "rmse"
         ],
         "ygap": 1,
         "z": [
          [
           null,
           null,
           null,
           null,
           null,
           null,
           null,
           null,
           null,
           null,
           null,
           null
          ],
          [
           null,
           null,
           null,
           null,
           null,
           null,
           null,
           null,
           null,
           null,
           null,
           null
          ],
          [
           null,
           null,
           null,
           null,
           null,
           null,
           null,
           null,
           null,
           null,
           null,
           null
          ],
          [
           null,
           null,
           null,
           null,
           null,
           null,
           null,
           null,
           null,
           null,
           null,
           null
          ],
          [
           null,
           null,
           null,
           null,
           null,
           null,
           null,
           null,
           null,
           null,
           null,
           null
          ],
          [
           0.26,
           0.04,
           0.21,
           0.97,
           0.21,
           1,
           -0.23,
           -0.26,
           -0.28,
           0.28
          ],
          [
           0.16,
           0.31,
           0,
           -0.26,
           -0.09,
           -0.23,
           1,
           0.53,
           0.97,
           -0.97
          ],
          [
           0.15,
           0.33,
           -0.08,
           -0.29,
           -0.15,
           -0.26,
           0.53,
           1,
           0.49,
           -0.49
          ],
          [
           0.1,
           0.23,
           -0.04,
           -0.3,
           -0.12,
           -0.28,
           0.97,
           0.49,
           1,
           -1
          ],
          [
           -0.1,
           -0.23,
           0.04,
           0.3,
           0.12,
           0.28,
           -0.97,
           -0.49,
           -1,
           1
          ]
         ]
        }
       ],
       "layout": {
        "annotations": [
         {
          "font": {
           "color": "#000000",
           "size": 15
          },
          "showarrow": false,
          "text": "",
          "x": "Spectral Entropy",
          "xref": "x",
          "y": "Spectral Entropy",
          "yref": "y"
         },
         {
          "font": {
           "color": "#000000",
           "size": 15
          },
          "showarrow": false,
          "text": "",
          "x": "Residual Spectral Entropy",
          "xref": "x",
          "y": "Spectral Entropy",
          "yref": "y"
         },
         {
          "font": {
           "color": "#000000",
           "size": 15
          },
          "showarrow": false,
          "text": "",
          "x": "Modified Kaboudan Metric",
          "xref": "x",
          "y": "Spectral Entropy",
          "yref": "y"
         },
         {
          "font": {
           "color": "#000000",
           "size": 15
          },
          "showarrow": false,
          "text": "",
          "x": "Coefficient of Variation",
          "xref": "x",
          "y": "Spectral Entropy",
          "yref": "y"
         },
         {
          "font": {
           "color": "#000000",
           "size": 15
          },
          "showarrow": false,
          "text": "",
          "x": "Kaboudan Metric",
          "xref": "x",
          "y": "Spectral Entropy",
          "yref": "y"
         },
         {
          "font": {
           "color": "#000000",
           "size": 15
          },
          "showarrow": false,
          "text": "",
          "x": "Residual Variability",
          "xref": "x",
          "y": "Spectral Entropy",
          "yref": "y"
         },
         {
          "font": {
           "color": "#000000",
           "size": 15
          },
          "showarrow": false,
          "text": "",
          "x": "mae",
          "xref": "x",
          "y": "Spectral Entropy",
          "yref": "y"
         },
         {
          "font": {
           "color": "#000000",
           "size": 15
          },
          "showarrow": false,
          "text": "",
          "x": "mase",
          "xref": "x",
          "y": "Spectral Entropy",
          "yref": "y"
         },
         {
          "font": {
           "color": "#000000",
           "size": 15
          },
          "showarrow": false,
          "text": "",
          "x": "mse",
          "xref": "x",
          "y": "Spectral Entropy",
          "yref": "y"
         },
         {
          "font": {
           "color": "#000000",
           "size": 15
          },
          "showarrow": false,
          "text": "",
          "x": "rmse",
          "xref": "x",
          "y": "Spectral Entropy",
          "yref": "y"
         },
         {
          "font": {
           "color": "#000000",
           "size": 15
          },
          "showarrow": false,
          "text": "",
          "x": "Spectral Entropy",
          "xref": "x",
          "y": "Residual Spectral Entropy",
          "yref": "y"
         },
         {
          "font": {
           "color": "#000000",
           "size": 15
          },
          "showarrow": false,
          "text": "",
          "x": "Residual Spectral Entropy",
          "xref": "x",
          "y": "Residual Spectral Entropy",
          "yref": "y"
         },
         {
          "font": {
           "color": "#000000",
           "size": 15
          },
          "showarrow": false,
          "text": "",
          "x": "Modified Kaboudan Metric",
          "xref": "x",
          "y": "Residual Spectral Entropy",
          "yref": "y"
         },
         {
          "font": {
           "color": "#000000",
           "size": 15
          },
          "showarrow": false,
          "text": "",
          "x": "Coefficient of Variation",
          "xref": "x",
          "y": "Residual Spectral Entropy",
          "yref": "y"
         },
         {
          "font": {
           "color": "#000000",
           "size": 15
          },
          "showarrow": false,
          "text": "",
          "x": "Kaboudan Metric",
          "xref": "x",
          "y": "Residual Spectral Entropy",
          "yref": "y"
         },
         {
          "font": {
           "color": "#000000",
           "size": 15
          },
          "showarrow": false,
          "text": "",
          "x": "Residual Variability",
          "xref": "x",
          "y": "Residual Spectral Entropy",
          "yref": "y"
         },
         {
          "font": {
           "color": "#000000",
           "size": 15
          },
          "showarrow": false,
          "text": "",
          "x": "mae",
          "xref": "x",
          "y": "Residual Spectral Entropy",
          "yref": "y"
         },
         {
          "font": {
           "color": "#000000",
           "size": 15
          },
          "showarrow": false,
          "text": "",
          "x": "mase",
          "xref": "x",
          "y": "Residual Spectral Entropy",
          "yref": "y"
         },
         {
          "font": {
           "color": "#000000",
           "size": 15
          },
          "showarrow": false,
          "text": "",
          "x": "mse",
          "xref": "x",
          "y": "Residual Spectral Entropy",
          "yref": "y"
         },
         {
          "font": {
           "color": "#000000",
           "size": 15
          },
          "showarrow": false,
          "text": "",
          "x": "rmse",
          "xref": "x",
          "y": "Residual Spectral Entropy",
          "yref": "y"
         },
         {
          "font": {
           "color": "#000000",
           "size": 15
          },
          "showarrow": false,
          "text": "",
          "x": "Spectral Entropy",
          "xref": "x",
          "y": "Modified Kaboudan Metric",
          "yref": "y"
         },
         {
          "font": {
           "color": "#000000",
           "size": 15
          },
          "showarrow": false,
          "text": "",
          "x": "Residual Spectral Entropy",
          "xref": "x",
          "y": "Modified Kaboudan Metric",
          "yref": "y"
         },
         {
          "font": {
           "color": "#000000",
           "size": 15
          },
          "showarrow": false,
          "text": "",
          "x": "Modified Kaboudan Metric",
          "xref": "x",
          "y": "Modified Kaboudan Metric",
          "yref": "y"
         },
         {
          "font": {
           "color": "#000000",
           "size": 15
          },
          "showarrow": false,
          "text": "",
          "x": "Coefficient of Variation",
          "xref": "x",
          "y": "Modified Kaboudan Metric",
          "yref": "y"
         },
         {
          "font": {
           "color": "#000000",
           "size": 15
          },
          "showarrow": false,
          "text": "",
          "x": "Kaboudan Metric",
          "xref": "x",
          "y": "Modified Kaboudan Metric",
          "yref": "y"
         },
         {
          "font": {
           "color": "#000000",
           "size": 15
          },
          "showarrow": false,
          "text": "",
          "x": "Residual Variability",
          "xref": "x",
          "y": "Modified Kaboudan Metric",
          "yref": "y"
         },
         {
          "font": {
           "color": "#000000",
           "size": 15
          },
          "showarrow": false,
          "text": "",
          "x": "mae",
          "xref": "x",
          "y": "Modified Kaboudan Metric",
          "yref": "y"
         },
         {
          "font": {
           "color": "#000000",
           "size": 15
          },
          "showarrow": false,
          "text": "",
          "x": "mase",
          "xref": "x",
          "y": "Modified Kaboudan Metric",
          "yref": "y"
         },
         {
          "font": {
           "color": "#000000",
           "size": 15
          },
          "showarrow": false,
          "text": "",
          "x": "mse",
          "xref": "x",
          "y": "Modified Kaboudan Metric",
          "yref": "y"
         },
         {
          "font": {
           "color": "#000000",
           "size": 15
          },
          "showarrow": false,
          "text": "",
          "x": "rmse",
          "xref": "x",
          "y": "Modified Kaboudan Metric",
          "yref": "y"
         },
         {
          "font": {
           "color": "#000000",
           "size": 15
          },
          "showarrow": false,
          "text": "",
          "x": "Spectral Entropy",
          "xref": "x",
          "y": "Coefficient of Variation",
          "yref": "y"
         },
         {
          "font": {
           "color": "#000000",
           "size": 15
          },
          "showarrow": false,
          "text": "",
          "x": "Residual Spectral Entropy",
          "xref": "x",
          "y": "Coefficient of Variation",
          "yref": "y"
         },
         {
          "font": {
           "color": "#000000",
           "size": 15
          },
          "showarrow": false,
          "text": "",
          "x": "Modified Kaboudan Metric",
          "xref": "x",
          "y": "Coefficient of Variation",
          "yref": "y"
         },
         {
          "font": {
           "color": "#000000",
           "size": 15
          },
          "showarrow": false,
          "text": "",
          "x": "Coefficient of Variation",
          "xref": "x",
          "y": "Coefficient of Variation",
          "yref": "y"
         },
         {
          "font": {
           "color": "#000000",
           "size": 15
          },
          "showarrow": false,
          "text": "",
          "x": "Kaboudan Metric",
          "xref": "x",
          "y": "Coefficient of Variation",
          "yref": "y"
         },
         {
          "font": {
           "color": "#000000",
           "size": 15
          },
          "showarrow": false,
          "text": "",
          "x": "Residual Variability",
          "xref": "x",
          "y": "Coefficient of Variation",
          "yref": "y"
         },
         {
          "font": {
           "color": "#000000",
           "size": 15
          },
          "showarrow": false,
          "text": "",
          "x": "mae",
          "xref": "x",
          "y": "Coefficient of Variation",
          "yref": "y"
         },
         {
          "font": {
           "color": "#000000",
           "size": 15
          },
          "showarrow": false,
          "text": "",
          "x": "mase",
          "xref": "x",
          "y": "Coefficient of Variation",
          "yref": "y"
         },
         {
          "font": {
           "color": "#000000",
           "size": 15
          },
          "showarrow": false,
          "text": "",
          "x": "mse",
          "xref": "x",
          "y": "Coefficient of Variation",
          "yref": "y"
         },
         {
          "font": {
           "color": "#000000",
           "size": 15
          },
          "showarrow": false,
          "text": "",
          "x": "rmse",
          "xref": "x",
          "y": "Coefficient of Variation",
          "yref": "y"
         },
         {
          "font": {
           "color": "#000000",
           "size": 15
          },
          "showarrow": false,
          "text": "",
          "x": "Spectral Entropy",
          "xref": "x",
          "y": "Kaboudan Metric",
          "yref": "y"
         },
         {
          "font": {
           "color": "#000000",
           "size": 15
          },
          "showarrow": false,
          "text": "",
          "x": "Residual Spectral Entropy",
          "xref": "x",
          "y": "Kaboudan Metric",
          "yref": "y"
         },
         {
          "font": {
           "color": "#000000",
           "size": 15
          },
          "showarrow": false,
          "text": "",
          "x": "Modified Kaboudan Metric",
          "xref": "x",
          "y": "Kaboudan Metric",
          "yref": "y"
         },
         {
          "font": {
           "color": "#000000",
           "size": 15
          },
          "showarrow": false,
          "text": "",
          "x": "Coefficient of Variation",
          "xref": "x",
          "y": "Kaboudan Metric",
          "yref": "y"
         },
         {
          "font": {
           "color": "#000000",
           "size": 15
          },
          "showarrow": false,
          "text": "",
          "x": "Kaboudan Metric",
          "xref": "x",
          "y": "Kaboudan Metric",
          "yref": "y"
         },
         {
          "font": {
           "color": "#000000",
           "size": 15
          },
          "showarrow": false,
          "text": "",
          "x": "Residual Variability",
          "xref": "x",
          "y": "Kaboudan Metric",
          "yref": "y"
         },
         {
          "font": {
           "color": "#000000",
           "size": 15
          },
          "showarrow": false,
          "text": "",
          "x": "mae",
          "xref": "x",
          "y": "Kaboudan Metric",
          "yref": "y"
         },
         {
          "font": {
           "color": "#000000",
           "size": 15
          },
          "showarrow": false,
          "text": "",
          "x": "mase",
          "xref": "x",
          "y": "Kaboudan Metric",
          "yref": "y"
         },
         {
          "font": {
           "color": "#000000",
           "size": 15
          },
          "showarrow": false,
          "text": "",
          "x": "mse",
          "xref": "x",
          "y": "Kaboudan Metric",
          "yref": "y"
         },
         {
          "font": {
           "color": "#000000",
           "size": 15
          },
          "showarrow": false,
          "text": "",
          "x": "rmse",
          "xref": "x",
          "y": "Kaboudan Metric",
          "yref": "y"
         },
         {
          "font": {
           "color": "#000000",
           "size": 15
          },
          "showarrow": false,
          "text": "0.26",
          "x": "Spectral Entropy",
          "xref": "x",
          "y": "Residual Variability",
          "yref": "y"
         },
         {
          "font": {
           "color": "#000000",
           "size": 15
          },
          "showarrow": false,
          "text": "0.04",
          "x": "Residual Spectral Entropy",
          "xref": "x",
          "y": "Residual Variability",
          "yref": "y"
         },
         {
          "font": {
           "color": "#000000",
           "size": 15
          },
          "showarrow": false,
          "text": "0.21",
          "x": "Modified Kaboudan Metric",
          "xref": "x",
          "y": "Residual Variability",
          "yref": "y"
         },
         {
          "font": {
           "color": "#000000",
           "size": 15
          },
          "showarrow": false,
          "text": "0.97",
          "x": "Coefficient of Variation",
          "xref": "x",
          "y": "Residual Variability",
          "yref": "y"
         },
         {
          "font": {
           "color": "#000000",
           "size": 15
          },
          "showarrow": false,
          "text": "0.21",
          "x": "Kaboudan Metric",
          "xref": "x",
          "y": "Residual Variability",
          "yref": "y"
         },
         {
          "font": {
           "color": "#000000",
           "size": 15
          },
          "showarrow": false,
          "text": "1.0",
          "x": "Residual Variability",
          "xref": "x",
          "y": "Residual Variability",
          "yref": "y"
         },
         {
          "font": {
           "color": "#000000",
           "size": 15
          },
          "showarrow": false,
          "text": "-0.23",
          "x": "mae",
          "xref": "x",
          "y": "Residual Variability",
          "yref": "y"
         },
         {
          "font": {
           "color": "#000000",
           "size": 15
          },
          "showarrow": false,
          "text": "-0.26",
          "x": "mase",
          "xref": "x",
          "y": "rmse",
          "yref": "y"
         },
         {
          "font": {
           "color": "#000000",
           "size": 15
          },
          "showarrow": false,
          "text": "-0.28",
          "x": "mse",
          "xref": "x",
          "y": "rmse",
          "yref": "y"
         },
         {
          "font": {
           "color": "#000000",
           "size": 15
          },
          "showarrow": false,
          "text": "0.28",
          "x": "rmse",
          "xref": "x",
          "y": "rmse",
          "yref": "y"
         },
         {
          "font": {
           "color": "#000000",
           "size": 15
          },
          "showarrow": false,
          "text": "0.16",
          "x": "Spectral Entropy",
          "xref": "x",
          "y": "mae",
          "yref": "y"
         },
         {
          "font": {
           "color": "#000000",
           "size": 15
          },
          "showarrow": false,
          "text": "0.31",
          "x": "Residual Spectral Entropy",
          "xref": "x",
          "y": "mae",
          "yref": "y"
         },
         {
          "font": {
           "color": "#000000",
           "size": 15
          },
          "showarrow": false,
          "text": "-0.0",
          "x": "Modified Kaboudan Metric",
          "xref": "x",
          "y": "mae",
          "yref": "y"
         },
         {
          "font": {
           "color": "#000000",
           "size": 15
          },
          "showarrow": false,
          "text": "-0.26",
          "x": "Coefficient of Variation",
          "xref": "x",
          "y": "mae",
          "yref": "y"
         },
         {
          "font": {
           "color": "#000000",
           "size": 15
          },
          "showarrow": false,
          "text": "-0.09",
          "x": "Kaboudan Metric",
          "xref": "x",
          "y": "mae",
          "yref": "y"
         },
         {
          "font": {
           "color": "#000000",
           "size": 15
          },
          "showarrow": false,
          "text": "-0.23",
          "x": "Residual Variability",
          "xref": "x",
          "y": "mae",
          "yref": "y"
         },
         {
          "font": {
           "color": "#000000",
           "size": 15
          },
          "showarrow": false,
          "text": "1.0",
          "x": "mae",
          "xref": "x",
          "y": "mae",
          "yref": "y"
         },
         {
          "font": {
           "color": "#000000",
           "size": 15
          },
          "showarrow": false,
          "text": "0.53",
          "x": "mase",
          "xref": "x",
          "y": "mae",
          "yref": "y"
         },
         {
          "font": {
           "color": "#000000",
           "size": 15
          },
          "showarrow": false,
          "text": "0.97",
          "x": "mse",
          "xref": "x",
          "y": "mae",
          "yref": "y"
         },
         {
          "font": {
           "color": "#000000",
           "size": 15
          },
          "showarrow": false,
          "text": "-0.97",
          "x": "rmse",
          "xref": "x",
          "y": "mae",
          "yref": "y"
         },
         {
          "font": {
           "color": "#000000",
           "size": 15
          },
          "showarrow": false,
          "text": "0.15",
          "x": "Spectral Entropy",
          "xref": "x",
          "y": "mase",
          "yref": "y"
         },
         {
          "font": {
           "color": "#000000",
           "size": 15
          },
          "showarrow": false,
          "text": "0.33",
          "x": "Residual Spectral Entropy",
          "xref": "x",
          "y": "mase",
          "yref": "y"
         },
         {
          "font": {
           "color": "#000000",
           "size": 15
          },
          "showarrow": false,
          "text": "-0.08",
          "x": "Modified Kaboudan Metric",
          "xref": "x",
          "y": "mase",
          "yref": "y"
         },
         {
          "font": {
           "color": "#000000",
           "size": 15
          },
          "showarrow": false,
          "text": "-0.29",
          "x": "Coefficient of Variation",
          "xref": "x",
          "y": "mase",
          "yref": "y"
         },
         {
          "font": {
           "color": "#000000",
           "size": 15
          },
          "showarrow": false,
          "text": "-0.15",
          "x": "Kaboudan Metric",
          "xref": "x",
          "y": "mase",
          "yref": "y"
         },
         {
          "font": {
           "color": "#000000",
           "size": 15
          },
          "showarrow": false,
          "text": "-0.26",
          "x": "Residual Variability",
          "xref": "x",
          "y": "mase",
          "yref": "y"
         },
         {
          "font": {
           "color": "#000000",
           "size": 15
          },
          "showarrow": false,
          "text": "0.53",
          "x": "mae",
          "xref": "x",
          "y": "mase",
          "yref": "y"
         },
         {
          "font": {
           "color": "#000000",
           "size": 15
          },
          "showarrow": false,
          "text": "1.0",
          "x": "mase",
          "xref": "x",
          "y": "mase",
          "yref": "y"
         },
         {
          "font": {
           "color": "#000000",
           "size": 15
          },
          "showarrow": false,
          "text": "0.49",
          "x": "mse",
          "xref": "x",
          "y": "mase",
          "yref": "y"
         },
         {
          "font": {
           "color": "#000000",
           "size": 15
          },
          "showarrow": false,
          "text": "-0.49",
          "x": "rmse",
          "xref": "x",
          "y": "mase",
          "yref": "y"
         },
         {
          "font": {
           "color": "#000000",
           "size": 15
          },
          "showarrow": false,
          "text": "0.1",
          "x": "Spectral Entropy",
          "xref": "x",
          "y": "mse",
          "yref": "y"
         },
         {
          "font": {
           "color": "#000000",
           "size": 15
          },
          "showarrow": false,
          "text": "0.23",
          "x": "Residual Spectral Entropy",
          "xref": "x",
          "y": "mse",
          "yref": "y"
         },
         {
          "font": {
           "color": "#000000",
           "size": 15
          },
          "showarrow": false,
          "text": "-0.04",
          "x": "Modified Kaboudan Metric",
          "xref": "x",
          "y": "mse",
          "yref": "y"
         },
         {
          "font": {
           "color": "#000000",
           "size": 15
          },
          "showarrow": false,
          "text": "-0.3",
          "x": "Coefficient of Variation",
          "xref": "x",
          "y": "mse",
          "yref": "y"
         },
         {
          "font": {
           "color": "#000000",
           "size": 15
          },
          "showarrow": false,
          "text": "-0.12",
          "x": "Kaboudan Metric",
          "xref": "x",
          "y": "mse",
          "yref": "y"
         },
         {
          "font": {
           "color": "#000000",
           "size": 15
          },
          "showarrow": false,
          "text": "-0.28",
          "x": "Residual Variability",
          "xref": "x",
          "y": "mse",
          "yref": "y"
         },
         {
          "font": {
           "color": "#000000",
           "size": 15
          },
          "showarrow": false,
          "text": "0.97",
          "x": "mae",
          "xref": "x",
          "y": "mse",
          "yref": "y"
         },
         {
          "font": {
           "color": "#000000",
           "size": 15
          },
          "showarrow": false,
          "text": "0.49",
          "x": "mase",
          "xref": "x",
          "y": "mse",
          "yref": "y"
         },
         {
          "font": {
           "color": "#000000",
           "size": 15
          },
          "showarrow": false,
          "text": "1.0",
          "x": "mse",
          "xref": "x",
          "y": "mse",
          "yref": "y"
         },
         {
          "font": {
           "color": "#000000",
           "size": 15
          },
          "showarrow": false,
          "text": "-1.0",
          "x": "rmse",
          "xref": "x",
          "y": "mse",
          "yref": "y"
         },
         {
          "font": {
           "color": "#000000",
           "size": 15
          },
          "showarrow": false,
          "text": "-0.1",
          "x": "Spectral Entropy",
          "xref": "x",
          "y": "rmse",
          "yref": "y"
         },
         {
          "font": {
           "color": "#000000",
           "size": 15
          },
          "showarrow": false,
          "text": "-0.23",
          "x": "Residual Spectral Entropy",
          "xref": "x",
          "y": "rmse",
          "yref": "y"
         },
         {
          "font": {
           "color": "#000000",
           "size": 15
          },
          "showarrow": false,
          "text": "0.04",
          "x": "Modified Kaboudan Metric",
          "xref": "x",
          "y": "rmse",
          "yref": "y"
         },
         {
          "font": {
           "color": "#000000",
           "size": 15
          },
          "showarrow": false,
          "text": "0.3",
          "x": "Coefficient of Variation",
          "xref": "x",
          "y": "rmse",
          "yref": "y"
         },
         {
          "font": {
           "color": "#000000",
           "size": 15
          },
          "showarrow": false,
          "text": "0.12",
          "x": "Kaboudan Metric",
          "xref": "x",
          "y": "rmse",
          "yref": "y"
         },
         {
          "font": {
           "color": "#000000",
           "size": 15
          },
          "showarrow": false,
          "text": "0.28",
          "x": "Residual Variability",
          "xref": "x",
          "y": "rmse",
          "yref": "y"
         },
         {
          "font": {
           "color": "#000000",
           "size": 15
          },
          "showarrow": false,
          "text": "-0.97",
          "x": "mae",
          "xref": "x",
          "y": "rmse",
          "yref": "y"
         },
         {
          "font": {
           "color": "#000000",
           "size": 15
          },
          "showarrow": false,
          "text": "-0.49",
          "x": "mase",
          "xref": "x",
          "y": "rmse",
          "yref": "y"
         },
         {
          "font": {
           "color": "#000000",
           "size": 15
          },
          "showarrow": false,
          "text": "-1.0",
          "x": "mse",
          "xref": "x",
          "y": "rmse",
          "yref": "y"
         },
         {
          "font": {
           "color": "#000000",
           "size": 15
          },
          "showarrow": false,
          "text": "1.0",
          "x": "rmse",
          "xref": "x",
          "y": "rmse",
          "yref": "y"
         }
        ],
        "height": 700,
        "template": {
         "data": {
          "bar": [
           {
            "error_x": {
             "color": "#2a3f5f"
            },
            "error_y": {
             "color": "#2a3f5f"
            },
            "marker": {
             "line": {
              "color": "white",
              "width": 0.5
             },
             "pattern": {
              "fillmode": "overlay",
              "size": 10,
              "solidity": 0.2
             }
            },
            "type": "bar"
           }
          ],
          "barpolar": [
           {
            "marker": {
             "line": {
              "color": "white",
              "width": 0.5
             },
             "pattern": {
              "fillmode": "overlay",
              "size": 10,
              "solidity": 0.2
             }
            },
            "type": "barpolar"
           }
          ],
          "carpet": [
           {
            "aaxis": {
             "endlinecolor": "#2a3f5f",
             "gridcolor": "#C8D4E3",
             "linecolor": "#C8D4E3",
             "minorgridcolor": "#C8D4E3",
             "startlinecolor": "#2a3f5f"
            },
            "baxis": {
             "endlinecolor": "#2a3f5f",
             "gridcolor": "#C8D4E3",
             "linecolor": "#C8D4E3",
             "minorgridcolor": "#C8D4E3",
             "startlinecolor": "#2a3f5f"
            },
            "type": "carpet"
           }
          ],
          "choropleth": [
           {
            "colorbar": {
             "outlinewidth": 0,
             "ticks": ""
            },
            "type": "choropleth"
           }
          ],
          "contour": [
           {
            "colorbar": {
             "outlinewidth": 0,
             "ticks": ""
            },
            "colorscale": [
             [
              0,
              "#0d0887"
             ],
             [
              0.1111111111111111,
              "#46039f"
             ],
             [
              0.2222222222222222,
              "#7201a8"
             ],
             [
              0.3333333333333333,
              "#9c179e"
             ],
             [
              0.4444444444444444,
              "#bd3786"
             ],
             [
              0.5555555555555556,
              "#d8576b"
             ],
             [
              0.6666666666666666,
              "#ed7953"
             ],
             [
              0.7777777777777778,
              "#fb9f3a"
             ],
             [
              0.8888888888888888,
              "#fdca26"
             ],
             [
              1,
              "#f0f921"
             ]
            ],
            "type": "contour"
           }
          ],
          "contourcarpet": [
           {
            "colorbar": {
             "outlinewidth": 0,
             "ticks": ""
            },
            "type": "contourcarpet"
           }
          ],
          "heatmap": [
           {
            "colorbar": {
             "outlinewidth": 0,
             "ticks": ""
            },
            "colorscale": [
             [
              0,
              "#0d0887"
             ],
             [
              0.1111111111111111,
              "#46039f"
             ],
             [
              0.2222222222222222,
              "#7201a8"
             ],
             [
              0.3333333333333333,
              "#9c179e"
             ],
             [
              0.4444444444444444,
              "#bd3786"
             ],
             [
              0.5555555555555556,
              "#d8576b"
             ],
             [
              0.6666666666666666,
              "#ed7953"
             ],
             [
              0.7777777777777778,
              "#fb9f3a"
             ],
             [
              0.8888888888888888,
              "#fdca26"
             ],
             [
              1,
              "#f0f921"
             ]
            ],
            "type": "heatmap"
           }
          ],
          "heatmapgl": [
           {
            "colorbar": {
             "outlinewidth": 0,
             "ticks": ""
            },
            "colorscale": [
             [
              0,
              "#0d0887"
             ],
             [
              0.1111111111111111,
              "#46039f"
             ],
             [
              0.2222222222222222,
              "#7201a8"
             ],
             [
              0.3333333333333333,
              "#9c179e"
             ],
             [
              0.4444444444444444,
              "#bd3786"
             ],
             [
              0.5555555555555556,
              "#d8576b"
             ],
             [
              0.6666666666666666,
              "#ed7953"
             ],
             [
              0.7777777777777778,
              "#fb9f3a"
             ],
             [
              0.8888888888888888,
              "#fdca26"
             ],
             [
              1,
              "#f0f921"
             ]
            ],
            "type": "heatmapgl"
           }
          ],
          "histogram": [
           {
            "marker": {
             "pattern": {
              "fillmode": "overlay",
              "size": 10,
              "solidity": 0.2
             }
            },
            "type": "histogram"
           }
          ],
          "histogram2d": [
           {
            "colorbar": {
             "outlinewidth": 0,
             "ticks": ""
            },
            "colorscale": [
             [
              0,
              "#0d0887"
             ],
             [
              0.1111111111111111,
              "#46039f"
             ],
             [
              0.2222222222222222,
              "#7201a8"
             ],
             [
              0.3333333333333333,
              "#9c179e"
             ],
             [
              0.4444444444444444,
              "#bd3786"
             ],
             [
              0.5555555555555556,
              "#d8576b"
             ],
             [
              0.6666666666666666,
              "#ed7953"
             ],
             [
              0.7777777777777778,
              "#fb9f3a"
             ],
             [
              0.8888888888888888,
              "#fdca26"
             ],
             [
              1,
              "#f0f921"
             ]
            ],
            "type": "histogram2d"
           }
          ],
          "histogram2dcontour": [
           {
            "colorbar": {
             "outlinewidth": 0,
             "ticks": ""
            },
            "colorscale": [
             [
              0,
              "#0d0887"
             ],
             [
              0.1111111111111111,
              "#46039f"
             ],
             [
              0.2222222222222222,
              "#7201a8"
             ],
             [
              0.3333333333333333,
              "#9c179e"
             ],
             [
              0.4444444444444444,
              "#bd3786"
             ],
             [
              0.5555555555555556,
              "#d8576b"
             ],
             [
              0.6666666666666666,
              "#ed7953"
             ],
             [
              0.7777777777777778,
              "#fb9f3a"
             ],
             [
              0.8888888888888888,
              "#fdca26"
             ],
             [
              1,
              "#f0f921"
             ]
            ],
            "type": "histogram2dcontour"
           }
          ],
          "mesh3d": [
           {
            "colorbar": {
             "outlinewidth": 0,
             "ticks": ""
            },
            "type": "mesh3d"
           }
          ],
          "parcoords": [
           {
            "line": {
             "colorbar": {
              "outlinewidth": 0,
              "ticks": ""
             }
            },
            "type": "parcoords"
           }
          ],
          "pie": [
           {
            "automargin": true,
            "type": "pie"
           }
          ],
          "scatter": [
           {
            "fillpattern": {
             "fillmode": "overlay",
             "size": 10,
             "solidity": 0.2
            },
            "type": "scatter"
           }
          ],
          "scatter3d": [
           {
            "line": {
             "colorbar": {
              "outlinewidth": 0,
              "ticks": ""
             }
            },
            "marker": {
             "colorbar": {
              "outlinewidth": 0,
              "ticks": ""
             }
            },
            "type": "scatter3d"
           }
          ],
          "scattercarpet": [
           {
            "marker": {
             "colorbar": {
              "outlinewidth": 0,
              "ticks": ""
             }
            },
            "type": "scattercarpet"
           }
          ],
          "scattergeo": [
           {
            "marker": {
             "colorbar": {
              "outlinewidth": 0,
              "ticks": ""
             }
            },
            "type": "scattergeo"
           }
          ],
          "scattergl": [
           {
            "marker": {
             "colorbar": {
              "outlinewidth": 0,
              "ticks": ""
             }
            },
            "type": "scattergl"
           }
          ],
          "scattermapbox": [
           {
            "marker": {
             "colorbar": {
              "outlinewidth": 0,
              "ticks": ""
             }
            },
            "type": "scattermapbox"
           }
          ],
          "scatterpolar": [
           {
            "marker": {
             "colorbar": {
              "outlinewidth": 0,
              "ticks": ""
             }
            },
            "type": "scatterpolar"
           }
          ],
          "scatterpolargl": [
           {
            "marker": {
             "colorbar": {
              "outlinewidth": 0,
              "ticks": ""
             }
            },
            "type": "scatterpolargl"
           }
          ],
          "scatterternary": [
           {
            "marker": {
             "colorbar": {
              "outlinewidth": 0,
              "ticks": ""
             }
            },
            "type": "scatterternary"
           }
          ],
          "surface": [
           {
            "colorbar": {
             "outlinewidth": 0,
             "ticks": ""
            },
            "colorscale": [
             [
              0,
              "#0d0887"
             ],
             [
              0.1111111111111111,
              "#46039f"
             ],
             [
              0.2222222222222222,
              "#7201a8"
             ],
             [
              0.3333333333333333,
              "#9c179e"
             ],
             [
              0.4444444444444444,
              "#bd3786"
             ],
             [
              0.5555555555555556,
              "#d8576b"
             ],
             [
              0.6666666666666666,
              "#ed7953"
             ],
             [
              0.7777777777777778,
              "#fb9f3a"
             ],
             [
              0.8888888888888888,
              "#fdca26"
             ],
             [
              1,
              "#f0f921"
             ]
            ],
            "type": "surface"
           }
          ],
          "table": [
           {
            "cells": {
             "fill": {
              "color": "#EBF0F8"
             },
             "line": {
              "color": "white"
             }
            },
            "header": {
             "fill": {
              "color": "#C8D4E3"
             },
             "line": {
              "color": "white"
             }
            },
            "type": "table"
           }
          ]
         },
         "layout": {
          "annotationdefaults": {
           "arrowcolor": "#2a3f5f",
           "arrowhead": 0,
           "arrowwidth": 1
          },
          "autotypenumbers": "strict",
          "coloraxis": {
           "colorbar": {
            "outlinewidth": 0,
            "ticks": ""
           }
          },
          "colorscale": {
           "diverging": [
            [
             0,
             "#8e0152"
            ],
            [
             0.1,
             "#c51b7d"
            ],
            [
             0.2,
             "#de77ae"
            ],
            [
             0.3,
             "#f1b6da"
            ],
            [
             0.4,
             "#fde0ef"
            ],
            [
             0.5,
             "#f7f7f7"
            ],
            [
             0.6,
             "#e6f5d0"
            ],
            [
             0.7,
             "#b8e186"
            ],
            [
             0.8,
             "#7fbc41"
            ],
            [
             0.9,
             "#4d9221"
            ],
            [
             1,
             "#276419"
            ]
           ],
           "sequential": [
            [
             0,
             "#0d0887"
            ],
            [
             0.1111111111111111,
             "#46039f"
            ],
            [
             0.2222222222222222,
             "#7201a8"
            ],
            [
             0.3333333333333333,
             "#9c179e"
            ],
            [
             0.4444444444444444,
             "#bd3786"
            ],
            [
             0.5555555555555556,
             "#d8576b"
            ],
            [
             0.6666666666666666,
             "#ed7953"
            ],
            [
             0.7777777777777778,
             "#fb9f3a"
            ],
            [
             0.8888888888888888,
             "#fdca26"
            ],
            [
             1,
             "#f0f921"
            ]
           ],
           "sequentialminus": [
            [
             0,
             "#0d0887"
            ],
            [
             0.1111111111111111,
             "#46039f"
            ],
            [
             0.2222222222222222,
             "#7201a8"
            ],
            [
             0.3333333333333333,
             "#9c179e"
            ],
            [
             0.4444444444444444,
             "#bd3786"
            ],
            [
             0.5555555555555556,
             "#d8576b"
            ],
            [
             0.6666666666666666,
             "#ed7953"
            ],
            [
             0.7777777777777778,
             "#fb9f3a"
            ],
            [
             0.8888888888888888,
             "#fdca26"
            ],
            [
             1,
             "#f0f921"
            ]
           ]
          },
          "colorway": [
           "#636efa",
           "#EF553B",
           "#00cc96",
           "#ab63fa",
           "#FFA15A",
           "#19d3f3",
           "#FF6692",
           "#B6E880",
           "#FF97FF",
           "#FECB52"
          ],
          "font": {
           "color": "#2a3f5f"
          },
          "geo": {
           "bgcolor": "white",
           "lakecolor": "white",
           "landcolor": "white",
           "showlakes": true,
           "showland": true,
           "subunitcolor": "#C8D4E3"
          },
          "hoverlabel": {
           "align": "left"
          },
          "hovermode": "closest",
          "mapbox": {
           "style": "light"
          },
          "paper_bgcolor": "white",
          "plot_bgcolor": "white",
          "polar": {
           "angularaxis": {
            "gridcolor": "#EBF0F8",
            "linecolor": "#EBF0F8",
            "ticks": ""
           },
           "bgcolor": "white",
           "radialaxis": {
            "gridcolor": "#EBF0F8",
            "linecolor": "#EBF0F8",
            "ticks": ""
           }
          },
          "scene": {
           "xaxis": {
            "backgroundcolor": "white",
            "gridcolor": "#DFE8F3",
            "gridwidth": 2,
            "linecolor": "#EBF0F8",
            "showbackground": true,
            "ticks": "",
            "zerolinecolor": "#EBF0F8"
           },
           "yaxis": {
            "backgroundcolor": "white",
            "gridcolor": "#DFE8F3",
            "gridwidth": 2,
            "linecolor": "#EBF0F8",
            "showbackground": true,
            "ticks": "",
            "zerolinecolor": "#EBF0F8"
           },
           "zaxis": {
            "backgroundcolor": "white",
            "gridcolor": "#DFE8F3",
            "gridwidth": 2,
            "linecolor": "#EBF0F8",
            "showbackground": true,
            "ticks": "",
            "zerolinecolor": "#EBF0F8"
           }
          },
          "shapedefaults": {
           "line": {
            "color": "#2a3f5f"
           }
          },
          "ternary": {
           "aaxis": {
            "gridcolor": "#DFE8F3",
            "linecolor": "#A2B1C6",
            "ticks": ""
           },
           "baxis": {
            "gridcolor": "#DFE8F3",
            "linecolor": "#A2B1C6",
            "ticks": ""
           },
           "bgcolor": "white",
           "caxis": {
            "gridcolor": "#DFE8F3",
            "linecolor": "#A2B1C6",
            "ticks": ""
           }
          },
          "title": {
           "x": 0.05
          },
          "xaxis": {
           "automargin": true,
           "gridcolor": "#EBF0F8",
           "linecolor": "#EBF0F8",
           "ticks": "",
           "title": {
            "standoff": 15
           },
           "zerolinecolor": "#EBF0F8",
           "zerolinewidth": 2
          },
          "yaxis": {
           "automargin": true,
           "gridcolor": "#EBF0F8",
           "linecolor": "#EBF0F8",
           "ticks": "",
           "title": {
            "standoff": 15
           },
           "zerolinecolor": "#EBF0F8",
           "zerolinewidth": 2
          }
         }
        },
        "title": {
         "text": "Rank Correlation Plot - Forecastability vs Forecast Metrics",
         "x": 0.5
        },
        "width": 700,
        "xaxis": {
         "dtick": 1,
         "gridcolor": "rgb(0, 0, 0)",
         "range": [
          -0.5,
          5.5
         ],
         "showgrid": false,
         "side": "bottom",
         "ticks": "",
         "zeroline": false
        },
        "yaxis": {
         "dtick": 1,
         "range": [
          5.5,
          9.5
         ],
         "showgrid": false,
         "ticks": "",
         "ticksuffix": "  ",
         "zeroline": false
        }
       }
      }
     },
     "metadata": {},
     "output_type": "display_data"
    }
   ],
   "source": [
    "import plotly.figure_factory as ff\n",
    "\n",
    "mask = np.zeros_like(corr_df).astype(bool)\n",
    "mask[:5,:] = True\n",
    "df_mask = corr_df.mask(mask).round(2)\n",
    "\n",
    "fig = ff.create_annotated_heatmap(z=df_mask.to_numpy(), \n",
    "                                  x=df_mask.columns.tolist(),\n",
    "                                  y=df_mask.columns.tolist(),\n",
    "                                  colorscale=px.colors.diverging.RdYlGn,\n",
    "                                  hoverinfo=\"none\", #Shows hoverinfo for null values\n",
    "                                  showscale=True, ygap=1, xgap=1\n",
    "                                 )\n",
    "\n",
    "fig.update_xaxes(side=\"bottom\")\n",
    "# fig.update_traces(textfont_size=14)\n",
    "fig.update_layout(\n",
    "    title_text='Rank Correlation Plot - Forecastability vs Forecast Metrics', \n",
    "    title_x=0.5, \n",
    "    width=700, \n",
    "    height=700,\n",
    "    xaxis_showgrid=False,\n",
    "    yaxis_showgrid=False,\n",
    "    xaxis_zeroline=False,\n",
    "    yaxis_zeroline=False,\n",
    "    # yaxis_autorange='reversed',\n",
    "    xaxis_range=[-0.5,5.5],\n",
    "    yaxis_range=[5.5, 9.5]\n",
    ")\n",
    "\n",
    "# NaN values are not handled automatically and are displayed in the figure\n",
    "# So we need to get rid of the text manually\n",
    "for i in range(len(fig.layout.annotations)):\n",
    "    fig.layout.annotations[i]['font']['size']=15\n",
    "    fig.layout.annotations[i]['font']['color']=\"#000000\"\n",
    "    if fig.layout.annotations[i].text == 'nan':\n",
    "        fig.layout.annotations[i].text = \"\"\n",
    "# fig.write_image(\"imgs/chapter_4/rank_correlation_forecastability_vs_metrics.png\")\n",
    "fig.show()"
   ]
  },
  {
   "cell_type": "code",
   "execution_count": 64,
   "id": "d3b846ed-b7f8-4685-b726-6ffb35e8144f",
   "metadata": {},
   "outputs": [
    {
     "data": {
      "application/vnd.plotly.v1+json": {
       "config": {
        "plotlyServerURL": "https://plot.ly"
       },
       "data": [
        {
         "hovertemplate": "x=%{x}<br>y=%{y}<extra></extra>",
         "legendgroup": "",
         "marker": {
          "color": "#636efa",
          "opacity": 0,
          "symbol": "circle"
         },
         "mode": "markers",
         "name": "",
         "orientation": "v",
         "showlegend": false,
         "type": "scatter",
         "x": [
          0.09792590186715981,
          0.09219178922661998,
          -0.09438549343199008,
          0.0688319080398957,
          0.4128291472343446,
          -0.28770082965049104,
          0.1161370397177717,
          -0.1355327312692943,
          -0.24406508294306292,
          0.06943275579461468,
          0.26703955140603997,
          0.07722183089284891,
          -0.4076620529467603,
          -0.27147205164710275,
          0.3190171766587,
          0.2960997077742889,
          0.01890253261029239,
          -0.49240482601930263,
          0.4325298074268496,
          0.023398675369709646,
          0.2835839648271564,
          0.27465401274717355,
          -0.081743032953329,
          -0.0974599934192533,
          0.4798231675253736,
          -0.29142131937079624,
          0.21928524691901533,
          0.2931396989263256,
          -0.0913629397788144,
          0.4113596448642605,
          0.2913298195361456,
          -0.27206279435000014,
          -0.12379684818722357,
          0.05317037033008032,
          0.43509733574041637,
          0.031602887641986606,
          0.18664693924678025,
          0.11796431872104177,
          -0.07902936868853763,
          0.5075951739806973,
          -0.10103043735414577,
          0.3848213388447976,
          -0.26299741465709825,
          -0.15482895061257665,
          -0.1085113141784319,
          -0.2879509565717829,
          0.1927919631352363,
          0.17760589509699776,
          -0.219593552909339,
          0.2235492773309725,
          0.41216397738057536,
          0.21597949436036548,
          0.13162694005560027,
          -0.43441052583738693,
          0.20687006156821033,
          0.12134106386511168,
          0.13126356227085534,
          -0.12556477406069796,
          -0.272789888127711,
          -0.22870348922927736,
          -0.04313073534466551,
          -0.12522048539816494,
          -0.2633809826659209,
          0.19249203034414225,
          -0.30381225354434266,
          -0.11504790518843795,
          -0.001607371387022257,
          -0.3895588815628728,
          0.2671691994577141,
          -0.14877511636655075,
          0.0733487722836834,
          0.2285957519631625,
          0.35040390408139926,
          0.10531218425469227,
          -0.33734326855229546,
          0.21820145862371798,
          0.15359357552208242,
          -0.0336115697854421,
          -0.11949791227583702,
          -0.2716764578053322,
          0.31204241307349634,
          -0.12519723620775094,
          -0.062089380493212006,
          0.0934984267479159,
          0.06506103375128444,
          -0.24582430454093926,
          0.16565239039911722,
          0.11660950938019951,
          0.05199356698018426,
          0.04359403174420912,
          -0.14216038388197502,
          0.04095059475215377,
          -0.06772026425679079,
          0.010079733458939859,
          0.15999761355501152,
          -0.210174916738911,
          -0.06320750560825009,
          0.1775202265008248,
          -0.08723141076259291,
          0.1304933745043314,
          -0.09179328518119874,
          0.25209126444731556,
          0.3605131350989016,
          0.022725217616504617,
          -0.12181884890735278,
          -0.40088616137948124,
          -0.31205972851062724,
          -0.17245493376926285,
          -0.27739719599563195,
          -0.21644176682956448,
          -0.0052607110012722925,
          0.041902613628415124,
          0.10174456486016736,
          0.024403683581398185,
          -0.0646186294011787,
          -0.07993387679946791,
          -0.29136213959397717,
          0.02164484163717557,
          0.07393164802653733,
          -0.013609486520962999,
          -0.19653629881663917,
          0.16810574340146356,
          -0.20132767129641713,
          0.25539487944605244,
          0.1904214461961233,
          -0.11000558102464073,
          -0.13760466615797862,
          -0.24840283470193858,
          0.03680281515114625,
          0.16782442298999825,
          0.09957484842218994,
          -0.01806801874077512,
          -0.2867273854194873,
          -0.1207485250641536,
          0.1375520570316445,
          -0.06179532394890116,
          -0.2367021455294832,
          0.0002564143483879285,
          0.1385179244177939,
          -0.4675904966381632,
          0.13061070990489457,
          -0.09229291011739824,
          -0.07118375184472803,
          -0.15319805208549295,
          -0.00230749005642734,
          -0.07112826621222343,
          -0.2723711049865795,
          -0.13593967871881488,
          -0.040964862686011,
          0.03982883797926054
         ],
         "xaxis": "x",
         "y": [
          -0.054237407765492664,
          0.10171151039212967,
          -0.24644623981897162,
          -0.32592643748880534,
          0.0428962436290116,
          -0.3209406940500463,
          -0.1506174399147582,
          -0.12593447839450728,
          0.0025349873871525768,
          0.47358044259528725,
          -0.2548292297658525,
          0.1365900211709223,
          -0.19583945467252087,
          0.2138730776137001,
          0.05212236651486723,
          -0.315344582133464,
          -0.09523716729202548,
          -0.18750702319896587,
          -0.22137278210098674,
          0.07282909238138216,
          0.372945047836052,
          0.23311449551598312,
          -0.07115537848360408,
          0.14581094098623723,
          -0.18069331310297332,
          0.17436378976034703,
          0.056886836458576284,
          0.2789586585442506,
          0.1247933451811462,
          0.0011727266103053178,
          0.02842120446592214,
          -0.1235824922301925,
          0.06083330059947859,
          -0.056317659937081065,
          -0.09790494481565507,
          0.30576703899798446,
          -0.22308115290590577,
          0.3648194471382559,
          0.043510328284774934,
          0.02296646720675692,
          -0.28757351103547935,
          -0.275979719777359,
          -0.002223727672529888,
          0.14265107748527217,
          -0.011815531280887462,
          -0.04586154410737683,
          -0.48526298686013514,
          0.06307398599247001,
          -0.22933851515605228,
          0.22382091585858618,
          0.346589188360847,
          -0.20741722021036427,
          0.38916714276361714,
          -0.11063896185217686,
          0.2881194495380107,
          0.23672338612373625,
          -0.3485666858396972,
          0.36173025401330416,
          -0.230265721757052,
          -0.41238503558588835,
          -0.4317489259479585,
          -0.045043362826508844,
          0.11520936953261621,
          -0.0267315152048132,
          0.15288397881089194,
          -0.13388446391685757,
          0.327413863569513,
          0.10906191334333273,
          -0.06433885522596977,
          0.14565288451250746,
          0.08373713575088512,
          -0.29305438470873013,
          -0.22385582330628112,
          -0.022731868901067823,
          -0.05977829695264238,
          -0.20703492702760137,
          0.0279128225620588,
          -0.1871474442101071,
          0.049705458896641956,
          -0.16747618515969678,
          0.2370939614508305,
          0.09549572191162635,
          -0.19368706143678346,
          0.05191198970977522,
          0.15834365526751173,
          0.09934348264787063,
          -0.29170735568669187,
          0.1583571005489401,
          -0.09133528637895447,
          0.13488151884934002,
          -0.2501286037815537,
          -0.35199082454041736,
          0.12441331901832084,
          -0.03878419617281437,
          -0.010431391446158875,
          0.15578808140230976,
          -0.32661862886060516,
          -0.028028440823121375,
          0.35944758327914483,
          -0.22528452500069,
          -0.2775276478229143,
          0.24696282504465036,
          -0.33608934402479856,
          -0.20903880881789552,
          0.3267282106725373,
          -0.10798116281752657,
          0.04562069447118317,
          0.23425012481465884,
          -0.018018341829367294,
          0.06988713749908779,
          -0.08632846752146524,
          -0.16281423740980944,
          0.027954095486410122,
          0.12095157604175057,
          0.056031059501974435,
          -0.09424856146552364,
          0.11351722145017265,
          0.03352984823477952,
          -0.17546394316010586,
          0.03550200945433631,
          0.15734878160699808,
          -0.15155627196348023,
          -0.186088007686022,
          0.1154692230516249,
          -0.06574229130135596,
          -0.07221438000713447,
          0.08242667986467375,
          -0.23523219050535374,
          -0.1900242266977966,
          -0.0493261096812661,
          0.20799077934020138,
          0.18204571541137676,
          0.1574334786423635,
          -0.042345708941922064,
          0.4376539279946838,
          0.5147370131398649,
          -0.05731432349079296,
          0.060151969072046466,
          -0.1507213899688119,
          -0.05347298760162541,
          0.025741040415652196,
          -0.15806480498701841,
          0.2255374199930353,
          -0.13042778243208236,
          0.13853535391104083,
          0.3206417812440757,
          0.2640839336323408,
          0.011453076752329325,
          0.2583505738541953,
          0.1555942357883721
         ],
         "yaxis": "y"
        }
       ],
       "layout": {
        "annotations": [
         {
          "ax": 0,
          "ay": 0,
          "font": {
           "color": "MediumPurple",
           "family": "Open Sans, sans serif",
           "size": 16
          },
          "text": "Spectral Entropy",
          "x": -0.02308590391735936,
          "xanchor": "center",
          "y": 1.3278376671860772,
          "yanchor": "bottom"
         },
         {
          "ax": 0,
          "ay": 0,
          "font": {
           "color": "MediumPurple",
           "family": "Open Sans, sans serif",
           "size": 16
          },
          "text": "Residual Spectral Entropy",
          "x": -0.19942963162858887,
          "xanchor": "center",
          "y": 1.097751634993888,
          "yanchor": "bottom"
         },
         {
          "ax": 0,
          "ay": 0,
          "font": {
           "color": "MediumPurple",
           "family": "Open Sans, sans serif",
           "size": 16
          },
          "text": "Modified Kaboudan Metric",
          "x": 0.14364593338338913,
          "xanchor": "center",
          "y": 1.0945734152047233,
          "yanchor": "bottom"
         },
         {
          "ax": 0,
          "ay": 0,
          "font": {
           "color": "MediumPurple",
           "family": "Open Sans, sans serif",
           "size": 16
          },
          "text": "Coefficient of Variation",
          "x": 0.46013905152374807,
          "xanchor": "center",
          "y": 0.48040964658625807,
          "yanchor": "bottom"
         },
         {
          "ax": 0,
          "ay": 0,
          "font": {
           "color": "MediumPurple",
           "family": "Open Sans, sans serif",
           "size": 16
          },
          "text": "Kaboudan Metric",
          "x": 0.1978372188988814,
          "xanchor": "center",
          "y": 0.9959658263380115,
          "yanchor": "bottom"
         },
         {
          "ax": 0,
          "ay": 0,
          "font": {
           "color": "MediumPurple",
           "family": "Open Sans, sans serif",
           "size": 16
          },
          "text": "Residual Variability",
          "x": 0.44619809691367984,
          "xanchor": "center",
          "y": 0.6906279337157621,
          "yanchor": "bottom"
         },
         {
          "ax": 0,
          "ay": 0,
          "font": {
           "color": "MediumPurple",
           "family": "Open Sans, sans serif",
           "size": 16
          },
          "text": "mae",
          "x": -0.5331032852031748,
          "xanchor": "center",
          "y": 0.5196743903141198,
          "yanchor": "bottom"
         },
         {
          "ax": 0,
          "ay": 0,
          "font": {
           "color": "MediumPurple",
           "family": "Open Sans, sans serif",
           "size": 16
          },
          "text": "mse",
          "x": -0.5398609484762521,
          "xanchor": "center",
          "y": 0.3847539291148884,
          "yanchor": "bottom"
         },
         {
          "ax": 0,
          "ay": 0,
          "font": {
           "color": "MediumPurple",
           "family": "Open Sans, sans serif",
           "size": 16
          },
          "text": "mase",
          "x": -0.45495063573401534,
          "xanchor": "center",
          "y": 0.32783766718607704,
          "yanchor": "bottom"
         }
        ],
        "legend": {
         "tracegroupgap": 0
        },
        "margin": {
         "t": 60
        },
        "shapes": [
         {
          "line": {
           "color": "indigo",
           "dash": "dot",
           "width": 2
          },
          "type": "line",
          "x0": 0,
          "x1": -0.02308590391735936,
          "y0": 0,
          "y1": 1.3278376671860772
         },
         {
          "line": {
           "color": "indigo",
           "dash": "dot",
           "width": 2
          },
          "type": "line",
          "x0": 0,
          "x1": -0.19942963162858887,
          "y0": 0,
          "y1": 1.097751634993888
         },
         {
          "line": {
           "color": "indigo",
           "dash": "dot",
           "width": 2
          },
          "type": "line",
          "x0": 0,
          "x1": 0.14364593338338913,
          "y0": 0,
          "y1": 1.0945734152047233
         },
         {
          "line": {
           "color": "indigo",
           "dash": "dot",
           "width": 2
          },
          "type": "line",
          "x0": 0,
          "x1": 0.46013905152374807,
          "y0": 0,
          "y1": 0.48040964658625807
         },
         {
          "line": {
           "color": "indigo",
           "dash": "dot",
           "width": 2
          },
          "type": "line",
          "x0": 0,
          "x1": 0.1978372188988814,
          "y0": 0,
          "y1": 0.9959658263380115
         },
         {
          "line": {
           "color": "indigo",
           "dash": "dot",
           "width": 2
          },
          "type": "line",
          "x0": 0,
          "x1": 0.44619809691367984,
          "y0": 0,
          "y1": 0.6906279337157621
         },
         {
          "line": {
           "color": "indigo",
           "dash": "dot",
           "width": 2
          },
          "type": "line",
          "x0": 0,
          "x1": -0.5331032852031748,
          "y0": 0,
          "y1": 0.5196743903141198
         },
         {
          "line": {
           "color": "indigo",
           "dash": "dot",
           "width": 2
          },
          "type": "line",
          "x0": 0,
          "x1": -0.5398609484762521,
          "y0": 0,
          "y1": 0.3847539291148884
         },
         {
          "line": {
           "color": "indigo",
           "dash": "dot",
           "width": 2
          },
          "type": "line",
          "x0": 0,
          "x1": -0.45495063573401534,
          "y0": 0,
          "y1": 0.32783766718607704
         }
        ],
        "template": {
         "data": {
          "bar": [
           {
            "error_x": {
             "color": "#2a3f5f"
            },
            "error_y": {
             "color": "#2a3f5f"
            },
            "marker": {
             "line": {
              "color": "white",
              "width": 0.5
             },
             "pattern": {
              "fillmode": "overlay",
              "size": 10,
              "solidity": 0.2
             }
            },
            "type": "bar"
           }
          ],
          "barpolar": [
           {
            "marker": {
             "line": {
              "color": "white",
              "width": 0.5
             },
             "pattern": {
              "fillmode": "overlay",
              "size": 10,
              "solidity": 0.2
             }
            },
            "type": "barpolar"
           }
          ],
          "carpet": [
           {
            "aaxis": {
             "endlinecolor": "#2a3f5f",
             "gridcolor": "#C8D4E3",
             "linecolor": "#C8D4E3",
             "minorgridcolor": "#C8D4E3",
             "startlinecolor": "#2a3f5f"
            },
            "baxis": {
             "endlinecolor": "#2a3f5f",
             "gridcolor": "#C8D4E3",
             "linecolor": "#C8D4E3",
             "minorgridcolor": "#C8D4E3",
             "startlinecolor": "#2a3f5f"
            },
            "type": "carpet"
           }
          ],
          "choropleth": [
           {
            "colorbar": {
             "outlinewidth": 0,
             "ticks": ""
            },
            "type": "choropleth"
           }
          ],
          "contour": [
           {
            "colorbar": {
             "outlinewidth": 0,
             "ticks": ""
            },
            "colorscale": [
             [
              0,
              "#0d0887"
             ],
             [
              0.1111111111111111,
              "#46039f"
             ],
             [
              0.2222222222222222,
              "#7201a8"
             ],
             [
              0.3333333333333333,
              "#9c179e"
             ],
             [
              0.4444444444444444,
              "#bd3786"
             ],
             [
              0.5555555555555556,
              "#d8576b"
             ],
             [
              0.6666666666666666,
              "#ed7953"
             ],
             [
              0.7777777777777778,
              "#fb9f3a"
             ],
             [
              0.8888888888888888,
              "#fdca26"
             ],
             [
              1,
              "#f0f921"
             ]
            ],
            "type": "contour"
           }
          ],
          "contourcarpet": [
           {
            "colorbar": {
             "outlinewidth": 0,
             "ticks": ""
            },
            "type": "contourcarpet"
           }
          ],
          "heatmap": [
           {
            "colorbar": {
             "outlinewidth": 0,
             "ticks": ""
            },
            "colorscale": [
             [
              0,
              "#0d0887"
             ],
             [
              0.1111111111111111,
              "#46039f"
             ],
             [
              0.2222222222222222,
              "#7201a8"
             ],
             [
              0.3333333333333333,
              "#9c179e"
             ],
             [
              0.4444444444444444,
              "#bd3786"
             ],
             [
              0.5555555555555556,
              "#d8576b"
             ],
             [
              0.6666666666666666,
              "#ed7953"
             ],
             [
              0.7777777777777778,
              "#fb9f3a"
             ],
             [
              0.8888888888888888,
              "#fdca26"
             ],
             [
              1,
              "#f0f921"
             ]
            ],
            "type": "heatmap"
           }
          ],
          "heatmapgl": [
           {
            "colorbar": {
             "outlinewidth": 0,
             "ticks": ""
            },
            "colorscale": [
             [
              0,
              "#0d0887"
             ],
             [
              0.1111111111111111,
              "#46039f"
             ],
             [
              0.2222222222222222,
              "#7201a8"
             ],
             [
              0.3333333333333333,
              "#9c179e"
             ],
             [
              0.4444444444444444,
              "#bd3786"
             ],
             [
              0.5555555555555556,
              "#d8576b"
             ],
             [
              0.6666666666666666,
              "#ed7953"
             ],
             [
              0.7777777777777778,
              "#fb9f3a"
             ],
             [
              0.8888888888888888,
              "#fdca26"
             ],
             [
              1,
              "#f0f921"
             ]
            ],
            "type": "heatmapgl"
           }
          ],
          "histogram": [
           {
            "marker": {
             "pattern": {
              "fillmode": "overlay",
              "size": 10,
              "solidity": 0.2
             }
            },
            "type": "histogram"
           }
          ],
          "histogram2d": [
           {
            "colorbar": {
             "outlinewidth": 0,
             "ticks": ""
            },
            "colorscale": [
             [
              0,
              "#0d0887"
             ],
             [
              0.1111111111111111,
              "#46039f"
             ],
             [
              0.2222222222222222,
              "#7201a8"
             ],
             [
              0.3333333333333333,
              "#9c179e"
             ],
             [
              0.4444444444444444,
              "#bd3786"
             ],
             [
              0.5555555555555556,
              "#d8576b"
             ],
             [
              0.6666666666666666,
              "#ed7953"
             ],
             [
              0.7777777777777778,
              "#fb9f3a"
             ],
             [
              0.8888888888888888,
              "#fdca26"
             ],
             [
              1,
              "#f0f921"
             ]
            ],
            "type": "histogram2d"
           }
          ],
          "histogram2dcontour": [
           {
            "colorbar": {
             "outlinewidth": 0,
             "ticks": ""
            },
            "colorscale": [
             [
              0,
              "#0d0887"
             ],
             [
              0.1111111111111111,
              "#46039f"
             ],
             [
              0.2222222222222222,
              "#7201a8"
             ],
             [
              0.3333333333333333,
              "#9c179e"
             ],
             [
              0.4444444444444444,
              "#bd3786"
             ],
             [
              0.5555555555555556,
              "#d8576b"
             ],
             [
              0.6666666666666666,
              "#ed7953"
             ],
             [
              0.7777777777777778,
              "#fb9f3a"
             ],
             [
              0.8888888888888888,
              "#fdca26"
             ],
             [
              1,
              "#f0f921"
             ]
            ],
            "type": "histogram2dcontour"
           }
          ],
          "mesh3d": [
           {
            "colorbar": {
             "outlinewidth": 0,
             "ticks": ""
            },
            "type": "mesh3d"
           }
          ],
          "parcoords": [
           {
            "line": {
             "colorbar": {
              "outlinewidth": 0,
              "ticks": ""
             }
            },
            "type": "parcoords"
           }
          ],
          "pie": [
           {
            "automargin": true,
            "type": "pie"
           }
          ],
          "scatter": [
           {
            "fillpattern": {
             "fillmode": "overlay",
             "size": 10,
             "solidity": 0.2
            },
            "type": "scatter"
           }
          ],
          "scatter3d": [
           {
            "line": {
             "colorbar": {
              "outlinewidth": 0,
              "ticks": ""
             }
            },
            "marker": {
             "colorbar": {
              "outlinewidth": 0,
              "ticks": ""
             }
            },
            "type": "scatter3d"
           }
          ],
          "scattercarpet": [
           {
            "marker": {
             "colorbar": {
              "outlinewidth": 0,
              "ticks": ""
             }
            },
            "type": "scattercarpet"
           }
          ],
          "scattergeo": [
           {
            "marker": {
             "colorbar": {
              "outlinewidth": 0,
              "ticks": ""
             }
            },
            "type": "scattergeo"
           }
          ],
          "scattergl": [
           {
            "marker": {
             "colorbar": {
              "outlinewidth": 0,
              "ticks": ""
             }
            },
            "type": "scattergl"
           }
          ],
          "scattermapbox": [
           {
            "marker": {
             "colorbar": {
              "outlinewidth": 0,
              "ticks": ""
             }
            },
            "type": "scattermapbox"
           }
          ],
          "scatterpolar": [
           {
            "marker": {
             "colorbar": {
              "outlinewidth": 0,
              "ticks": ""
             }
            },
            "type": "scatterpolar"
           }
          ],
          "scatterpolargl": [
           {
            "marker": {
             "colorbar": {
              "outlinewidth": 0,
              "ticks": ""
             }
            },
            "type": "scatterpolargl"
           }
          ],
          "scatterternary": [
           {
            "marker": {
             "colorbar": {
              "outlinewidth": 0,
              "ticks": ""
             }
            },
            "type": "scatterternary"
           }
          ],
          "surface": [
           {
            "colorbar": {
             "outlinewidth": 0,
             "ticks": ""
            },
            "colorscale": [
             [
              0,
              "#0d0887"
             ],
             [
              0.1111111111111111,
              "#46039f"
             ],
             [
              0.2222222222222222,
              "#7201a8"
             ],
             [
              0.3333333333333333,
              "#9c179e"
             ],
             [
              0.4444444444444444,
              "#bd3786"
             ],
             [
              0.5555555555555556,
              "#d8576b"
             ],
             [
              0.6666666666666666,
              "#ed7953"
             ],
             [
              0.7777777777777778,
              "#fb9f3a"
             ],
             [
              0.8888888888888888,
              "#fdca26"
             ],
             [
              1,
              "#f0f921"
             ]
            ],
            "type": "surface"
           }
          ],
          "table": [
           {
            "cells": {
             "fill": {
              "color": "#EBF0F8"
             },
             "line": {
              "color": "white"
             }
            },
            "header": {
             "fill": {
              "color": "#C8D4E3"
             },
             "line": {
              "color": "white"
             }
            },
            "type": "table"
           }
          ]
         },
         "layout": {
          "annotationdefaults": {
           "arrowcolor": "#2a3f5f",
           "arrowhead": 0,
           "arrowwidth": 1
          },
          "autotypenumbers": "strict",
          "coloraxis": {
           "colorbar": {
            "outlinewidth": 0,
            "ticks": ""
           }
          },
          "colorscale": {
           "diverging": [
            [
             0,
             "#8e0152"
            ],
            [
             0.1,
             "#c51b7d"
            ],
            [
             0.2,
             "#de77ae"
            ],
            [
             0.3,
             "#f1b6da"
            ],
            [
             0.4,
             "#fde0ef"
            ],
            [
             0.5,
             "#f7f7f7"
            ],
            [
             0.6,
             "#e6f5d0"
            ],
            [
             0.7,
             "#b8e186"
            ],
            [
             0.8,
             "#7fbc41"
            ],
            [
             0.9,
             "#4d9221"
            ],
            [
             1,
             "#276419"
            ]
           ],
           "sequential": [
            [
             0,
             "#0d0887"
            ],
            [
             0.1111111111111111,
             "#46039f"
            ],
            [
             0.2222222222222222,
             "#7201a8"
            ],
            [
             0.3333333333333333,
             "#9c179e"
            ],
            [
             0.4444444444444444,
             "#bd3786"
            ],
            [
             0.5555555555555556,
             "#d8576b"
            ],
            [
             0.6666666666666666,
             "#ed7953"
            ],
            [
             0.7777777777777778,
             "#fb9f3a"
            ],
            [
             0.8888888888888888,
             "#fdca26"
            ],
            [
             1,
             "#f0f921"
            ]
           ],
           "sequentialminus": [
            [
             0,
             "#0d0887"
            ],
            [
             0.1111111111111111,
             "#46039f"
            ],
            [
             0.2222222222222222,
             "#7201a8"
            ],
            [
             0.3333333333333333,
             "#9c179e"
            ],
            [
             0.4444444444444444,
             "#bd3786"
            ],
            [
             0.5555555555555556,
             "#d8576b"
            ],
            [
             0.6666666666666666,
             "#ed7953"
            ],
            [
             0.7777777777777778,
             "#fb9f3a"
            ],
            [
             0.8888888888888888,
             "#fdca26"
            ],
            [
             1,
             "#f0f921"
            ]
           ]
          },
          "colorway": [
           "#636efa",
           "#EF553B",
           "#00cc96",
           "#ab63fa",
           "#FFA15A",
           "#19d3f3",
           "#FF6692",
           "#B6E880",
           "#FF97FF",
           "#FECB52"
          ],
          "font": {
           "color": "#2a3f5f"
          },
          "geo": {
           "bgcolor": "white",
           "lakecolor": "white",
           "landcolor": "white",
           "showlakes": true,
           "showland": true,
           "subunitcolor": "#C8D4E3"
          },
          "hoverlabel": {
           "align": "left"
          },
          "hovermode": "closest",
          "mapbox": {
           "style": "light"
          },
          "paper_bgcolor": "white",
          "plot_bgcolor": "white",
          "polar": {
           "angularaxis": {
            "gridcolor": "#EBF0F8",
            "linecolor": "#EBF0F8",
            "ticks": ""
           },
           "bgcolor": "white",
           "radialaxis": {
            "gridcolor": "#EBF0F8",
            "linecolor": "#EBF0F8",
            "ticks": ""
           }
          },
          "scene": {
           "xaxis": {
            "backgroundcolor": "white",
            "gridcolor": "#DFE8F3",
            "gridwidth": 2,
            "linecolor": "#EBF0F8",
            "showbackground": true,
            "ticks": "",
            "zerolinecolor": "#EBF0F8"
           },
           "yaxis": {
            "backgroundcolor": "white",
            "gridcolor": "#DFE8F3",
            "gridwidth": 2,
            "linecolor": "#EBF0F8",
            "showbackground": true,
            "ticks": "",
            "zerolinecolor": "#EBF0F8"
           },
           "zaxis": {
            "backgroundcolor": "white",
            "gridcolor": "#DFE8F3",
            "gridwidth": 2,
            "linecolor": "#EBF0F8",
            "showbackground": true,
            "ticks": "",
            "zerolinecolor": "#EBF0F8"
           }
          },
          "shapedefaults": {
           "line": {
            "color": "#2a3f5f"
           }
          },
          "ternary": {
           "aaxis": {
            "gridcolor": "#DFE8F3",
            "linecolor": "#A2B1C6",
            "ticks": ""
           },
           "baxis": {
            "gridcolor": "#DFE8F3",
            "linecolor": "#A2B1C6",
            "ticks": ""
           },
           "bgcolor": "white",
           "caxis": {
            "gridcolor": "#DFE8F3",
            "linecolor": "#A2B1C6",
            "ticks": ""
           }
          },
          "title": {
           "x": 0.05
          },
          "xaxis": {
           "automargin": true,
           "gridcolor": "#EBF0F8",
           "linecolor": "#EBF0F8",
           "ticks": "",
           "title": {
            "standoff": 15
           },
           "zerolinecolor": "#EBF0F8",
           "zerolinewidth": 2
          },
          "yaxis": {
           "automargin": true,
           "gridcolor": "#EBF0F8",
           "linecolor": "#EBF0F8",
           "ticks": "",
           "title": {
            "standoff": 15
           },
           "zerolinecolor": "#EBF0F8",
           "zerolinewidth": 2
          }
         }
        },
        "title": {
         "text": "<b>Loading Plot: Forecastability Metrics vs Error Metrics</b>",
         "x": 0.5
        },
        "xaxis": {
         "anchor": "y",
         "domain": [
          0,
          1
         ],
         "title": {
          "text": "x"
         }
        },
        "yaxis": {
         "anchor": "x",
         "domain": [
          0,
          1
         ],
         "title": {
          "text": "y"
         }
        }
       }
      }
     },
     "metadata": {},
     "output_type": "display_data"
    }
   ],
   "source": [
    "biplot(item_rankings, features=['Spectral Entropy',\"Residual Spectral Entropy\",\n",
    "       'Modified Kaboudan Metric', 'Coefficient of Variation',\"Kaboudan Metric\",\n",
    "       'Residual Variability', \"mae\", \"mse\", \"mase\"\n",
    "       #,\"Forecast Bias\"\n",
    "       ], title=\"<b>Loading Plot: Forecastability Metrics vs Error Metrics</b>\")"
   ]
  }
 ],
 "metadata": {
  "kernelspec": {
   "display_name": "Python 3 (ipykernel)",
   "language": "python",
   "name": "python3"
  },
  "language_info": {
   "codemirror_mode": {
    "name": "ipython",
    "version": 3
   },
   "file_extension": ".py",
   "mimetype": "text/x-python",
   "name": "python",
   "nbconvert_exporter": "python",
   "pygments_lexer": "ipython3",
   "version": "3.11.0"
  }
 },
 "nbformat": 4,
 "nbformat_minor": 5
}
