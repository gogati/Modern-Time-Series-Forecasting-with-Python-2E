{
 "cells": [
{
  "cell_type": "markdown",
  "id": "notebook-title",
  "metadata": {},
  "source": [
    "# Handling_Missing_Data_(Long Gaps)\n",
    "\n",
    "[![Open In Colab](https://colab.research.google.com/assets/colab-badge.svg)](https://colab.research.google.com/github/gogati/Modern-Time-Series-Forecasting-with-Python-2E/blob/main/notebooks/Chapter02/03-Handling_Missing_Data_(Long%20Gaps).ipynb)\n",
    "\n",
    " "
  ]
},
  {
   "cell_type": "code",
   "execution_count": 1,
   "id": "b091e6d4-4fbe-48fc-a8b9-35441d7e58a8",
   "metadata": {},
   "outputs": [
    {
     "name": "stdout",
     "output_type": "stream",
     "text": [
      "c:\\Users\\tacke\\OneDrive\\Documents\\GitHub\\Modern-Time-Series-Forecasting-with-Python-2E-1\n"
     ]
    }
   ],
   "source": [
    "%cd ../.."
   ]
  },
  {
   "cell_type": "code",
   "execution_count": 2,
   "id": "5dc23032-d6c5-475c-bd1f-65d231057b9b",
   "metadata": {},
   "outputs": [
    {
     "name": "stderr",
     "output_type": "stream",
     "text": [
      "C:\\Users\\tacke\\AppData\\Local\\Temp\\ipykernel_26384\\1707045337.py:9: TqdmExperimentalWarning: Using `tqdm.autonotebook.tqdm` in notebook mode. Use `tqdm.tqdm` instead to force console mode (e.g. in jupyter console)\n",
      "  from tqdm.autonotebook import tqdm\n"
     ]
    }
   ],
   "source": [
    "import numpy as np\n",
    "import matplotlib.pyplot as plt\n",
    "import plotly.express as px\n",
    "import os\n",
    "import plotly.io as pio\n",
    "pio.templates.default = \"plotly_white\"\n",
    "import pandas as pd\n",
    "from pathlib import Path\n",
    "from tqdm.auto import tqdm\n",
    "import missingno as msno\n",
    "from itertools import cycle\n",
    "from sklearn.metrics import mean_absolute_error\n",
    "from IPython.display import display, HTML\n",
    "# %load_ext autoreload\n",
    "# %autoreload 2\n",
    "np.random.seed()\n",
    "tqdm.pandas()"
   ]
  },
  {
   "cell_type": "code",
   "execution_count": 3,
   "id": "d9c2bb44-4318-4eeb-af25-bfde1c261c76",
   "metadata": {},
   "outputs": [],
   "source": [
    "os.makedirs(\"imgs/chapter_2\", exist_ok=True)\n",
    "preprocessed = Path(\"data/london_smart_meters/preprocessed\")"
   ]
  },
  {
   "cell_type": "code",
   "execution_count": 4,
   "id": "b047b9b0-e1c9-4881-8e58-bf258933143a",
   "metadata": {},
   "outputs": [],
   "source": [
    "assert preprocessed.is_dir(), \"You have to run 02 - Preprocessing London Smart Meter Dataset.ipynb in Chapter02 before running this notebook\""
   ]
  },
  {
   "cell_type": "code",
   "execution_count": 5,
   "id": "8a31da60-3c70-41f0-b6fb-d48f5b4bd3ab",
   "metadata": {},
   "outputs": [],
   "source": [
    "def format_plot(fig, legends = None, font_size=15, title_font_size=20):\n",
    "    if legends:\n",
    "        names = cycle(legends)\n",
    "        fig.for_each_trace(lambda t:  t.update(name = next(names)))\n",
    "    fig.update_layout(\n",
    "            autosize=False,\n",
    "            width=900,\n",
    "            height=500,\n",
    "            title={\n",
    "            'x':0.5,\n",
    "            'xanchor': 'center',\n",
    "            'yanchor': 'top'},\n",
    "            titlefont={\n",
    "                \"size\": title_font_size\n",
    "            },\n",
    "            legend_title = None,\n",
    "            legend=dict(\n",
    "                font=dict(size=font_size),\n",
    "                orientation=\"h\",\n",
    "                yanchor=\"bottom\",\n",
    "                y=0.98,\n",
    "                xanchor=\"right\",\n",
    "                x=1,\n",
    "            ),\n",
    "            yaxis=dict(\n",
    "                title_text=\"Value\",\n",
    "                titlefont=dict(size=font_size),\n",
    "                tickfont=dict(size=font_size),\n",
    "            ),\n",
    "            xaxis=dict(\n",
    "                title_text=\"Day\",\n",
    "                titlefont=dict(size=font_size),\n",
    "                tickfont=dict(size=font_size),\n",
    "            )\n",
    "        )\n",
    "    return fig"
   ]
  },
  {
   "cell_type": "markdown",
   "id": "702cc04c-9d53-40b0-92bc-6a1e46b288ce",
   "metadata": {
    "tags": []
   },
   "source": [
    "# Reading Blocks 0-7"
   ]
  },
  {
   "cell_type": "code",
   "execution_count": 6,
   "id": "58858f9f-adea-4904-8e0f-56b83b75a8c6",
   "metadata": {},
   "outputs": [],
   "source": [
    "from src.utils.data_utils import compact_to_expanded"
   ]
  },
  {
   "cell_type": "code",
   "execution_count": 7,
   "id": "20927ffd-ad57-4a11-ae11-0f77d94894b9",
   "metadata": {},
   "outputs": [
    {
     "data": {
      "text/html": [
       "<div>\n",
       "<style scoped>\n",
       "    .dataframe tbody tr th:only-of-type {\n",
       "        vertical-align: middle;\n",
       "    }\n",
       "\n",
       "    .dataframe tbody tr th {\n",
       "        vertical-align: top;\n",
       "    }\n",
       "\n",
       "    .dataframe thead th {\n",
       "        text-align: right;\n",
       "    }\n",
       "</style>\n",
       "<table border=\"1\" class=\"dataframe\">\n",
       "  <thead>\n",
       "    <tr style=\"text-align: right;\">\n",
       "      <th></th>\n",
       "      <th>LCLid</th>\n",
       "      <th>start_timestamp</th>\n",
       "      <th>frequency</th>\n",
       "      <th>energy_consumption</th>\n",
       "      <th>series_length</th>\n",
       "      <th>stdorToU</th>\n",
       "      <th>Acorn</th>\n",
       "      <th>Acorn_grouped</th>\n",
       "      <th>file</th>\n",
       "      <th>holidays</th>\n",
       "      <th>...</th>\n",
       "      <th>windBearing</th>\n",
       "      <th>temperature</th>\n",
       "      <th>dewPoint</th>\n",
       "      <th>pressure</th>\n",
       "      <th>apparentTemperature</th>\n",
       "      <th>windSpeed</th>\n",
       "      <th>precipType</th>\n",
       "      <th>icon</th>\n",
       "      <th>humidity</th>\n",
       "      <th>summary</th>\n",
       "    </tr>\n",
       "  </thead>\n",
       "  <tbody>\n",
       "    <tr>\n",
       "      <th>0</th>\n",
       "      <td>MAC000002</td>\n",
       "      <td>2012-10-13</td>\n",
       "      <td>30min</td>\n",
       "      <td>[0.263, 0.2689999999999999, 0.275, 0.256, 0.21...</td>\n",
       "      <td>24144</td>\n",
       "      <td>Std</td>\n",
       "      <td>ACORN-A</td>\n",
       "      <td>Affluent</td>\n",
       "      <td>block_0</td>\n",
       "      <td>[NO_HOLIDAY, NO_HOLIDAY, NO_HOLIDAY, NO_HOLIDA...</td>\n",
       "      <td>...</td>\n",
       "      <td>[186, 186, 188, 188, 190, 190, 203, 203, 206, ...</td>\n",
       "      <td>[8.78, 8.78, 8.27, 8.27, 7.87, 7.87, 7.89, 7.8...</td>\n",
       "      <td>[6.28, 6.28, 6.21, 6.21, 6.22, 6.22, 6.76, 6.7...</td>\n",
       "      <td>[1007.7, 1007.7, 1007.36, 1007.36, 1006.73, 10...</td>\n",
       "      <td>[7.55, 7.55, 7.34, 7.34, 6.75, 6.75, 6.89, 6.8...</td>\n",
       "      <td>[2.28, 2.28, 1.81, 1.81, 1.95, 1.95, 1.83, 1.8...</td>\n",
       "      <td>[rain, rain, rain, rain, rain, rain, rain, rai...</td>\n",
       "      <td>[clear-night, clear-night, clear-night, clear-...</td>\n",
       "      <td>[0.84, 0.84, 0.87, 0.87, 0.89, 0.89, 0.93, 0.9...</td>\n",
       "      <td>[Clear, Clear, Clear, Clear, Partly Cloudy, Pa...</td>\n",
       "    </tr>\n",
       "    <tr>\n",
       "      <th>1</th>\n",
       "      <td>MAC000246</td>\n",
       "      <td>2012-01-01</td>\n",
       "      <td>30min</td>\n",
       "      <td>[0.509, 0.317, 0.253, 0.249, 0.93, 0.607, 0.10...</td>\n",
       "      <td>37872</td>\n",
       "      <td>Std</td>\n",
       "      <td>ACORN-A</td>\n",
       "      <td>Affluent</td>\n",
       "      <td>block_0</td>\n",
       "      <td>[NO_HOLIDAY, NO_HOLIDAY, NO_HOLIDAY, NO_HOLIDA...</td>\n",
       "      <td>...</td>\n",
       "      <td>[229, 229, 238, 238, 229, 229, 231, 231, 227, ...</td>\n",
       "      <td>[12.12, 12.12, 12.59, 12.59, 12.45, 12.45, 12....</td>\n",
       "      <td>[10.97, 10.97, 11.02, 11.02, 11.04, 11.04, 10....</td>\n",
       "      <td>[1008.1, 1008.1, 1007.88, 1007.88, 1007.95, 10...</td>\n",
       "      <td>[12.12, 12.12, 12.59, 12.59, 12.45, 12.45, 12....</td>\n",
       "      <td>[5.9, 5.9, 6.06, 6.06, 5.31, 5.31, 4.68, 4.68,...</td>\n",
       "      <td>[rain, rain, rain, rain, rain, rain, rain, rai...</td>\n",
       "      <td>[partly-cloudy-night, partly-cloudy-night, clo...</td>\n",
       "      <td>[0.93, 0.93, 0.9, 0.9, 0.91, 0.91, 0.93, 0.93,...</td>\n",
       "      <td>[Mostly Cloudy, Mostly Cloudy, Overcast, Overc...</td>\n",
       "    </tr>\n",
       "    <tr>\n",
       "      <th>2</th>\n",
       "      <td>MAC000450</td>\n",
       "      <td>2012-03-23</td>\n",
       "      <td>30min</td>\n",
       "      <td>[1.337, 1.426, 0.996, 0.971, 0.994, 0.952, 0.8...</td>\n",
       "      <td>33936</td>\n",
       "      <td>Std</td>\n",
       "      <td>ACORN-A</td>\n",
       "      <td>Affluent</td>\n",
       "      <td>block_0</td>\n",
       "      <td>[NO_HOLIDAY, NO_HOLIDAY, NO_HOLIDAY, NO_HOLIDA...</td>\n",
       "      <td>...</td>\n",
       "      <td>[78, 78, 73, 73, 81, 81, 80, 80, 75, 75, 71, 7...</td>\n",
       "      <td>[8.76, 8.76, 8.54, 8.54, 8.09, 8.09, 7.34, 7.3...</td>\n",
       "      <td>[7.25, 7.25, 7.12, 7.12, 7.17, 7.17, 6.68, 6.6...</td>\n",
       "      <td>[1027.41, 1027.41, 1026.91, 1026.91, 1026.54, ...</td>\n",
       "      <td>[7.59, 7.59, 7.43, 7.43, 7.24, 7.24, 7.34, 7.3...</td>\n",
       "      <td>[2.18, 2.18, 2.07, 2.07, 1.72, 1.72, 1.34, 1.3...</td>\n",
       "      <td>[rain, rain, rain, rain, rain, rain, rain, rai...</td>\n",
       "      <td>[fog, fog, fog, fog, fog, fog, fog, fog, fog, ...</td>\n",
       "      <td>[0.9, 0.9, 0.91, 0.91, 0.94, 0.94, 0.96, 0.96,...</td>\n",
       "      <td>[Foggy, Foggy, Foggy, Foggy, Foggy, Foggy, Fog...</td>\n",
       "    </tr>\n",
       "    <tr>\n",
       "      <th>3</th>\n",
       "      <td>MAC001074</td>\n",
       "      <td>2012-05-09</td>\n",
       "      <td>30min</td>\n",
       "      <td>[0.18, 0.086, 0.106, 0.173, 0.146, 0.223, 0.21...</td>\n",
       "      <td>31680</td>\n",
       "      <td>ToU</td>\n",
       "      <td>ACORN-</td>\n",
       "      <td>ACORN-</td>\n",
       "      <td>block_0</td>\n",
       "      <td>[NO_HOLIDAY, NO_HOLIDAY, NO_HOLIDAY, NO_HOLIDA...</td>\n",
       "      <td>...</td>\n",
       "      <td>[215, 215, 207, 207, 215, 215, 216, 216, 126, ...</td>\n",
       "      <td>[11.46, 11.46, 11.38, 11.38, 11.38, 11.38, 10....</td>\n",
       "      <td>[10.23, 10.23, 10.17, 10.17, 10.24, 10.24, 10....</td>\n",
       "      <td>[1007.39, 1007.39, 1007.21, 1007.21, 1007.06, ...</td>\n",
       "      <td>[11.46, 11.46, 11.38, 11.38, 11.38, 11.38, 10....</td>\n",
       "      <td>[2.35, 2.35, 2.15, 2.15, 1.84, 1.84, 1.22, 1.2...</td>\n",
       "      <td>[rain, rain, rain, rain, rain, rain, rain, rai...</td>\n",
       "      <td>[partly-cloudy-night, partly-cloudy-night, par...</td>\n",
       "      <td>[0.92, 0.92, 0.92, 0.92, 0.93, 0.93, 0.95, 0.9...</td>\n",
       "      <td>[Partly Cloudy, Partly Cloudy, Mostly Cloudy, ...</td>\n",
       "    </tr>\n",
       "    <tr>\n",
       "      <th>4</th>\n",
       "      <td>MAC003223</td>\n",
       "      <td>2012-09-18</td>\n",
       "      <td>30min</td>\n",
       "      <td>[0.076, 0.079, 0.123, 0.109, 0.051, 0.069, 0.0...</td>\n",
       "      <td>25344</td>\n",
       "      <td>Std</td>\n",
       "      <td>ACORN-A</td>\n",
       "      <td>Affluent</td>\n",
       "      <td>block_0</td>\n",
       "      <td>[NO_HOLIDAY, NO_HOLIDAY, NO_HOLIDAY, NO_HOLIDA...</td>\n",
       "      <td>...</td>\n",
       "      <td>[236, 236, 240, 240, 242, 242, 244, 244, 248, ...</td>\n",
       "      <td>[14.06, 14.06, 13.12, 13.12, 12.53, 12.53, 12....</td>\n",
       "      <td>[10.82, 10.82, 10.29, 10.29, 9.86, 9.86, 9.83,...</td>\n",
       "      <td>[1011.09, 1011.09, 1010.82, 1010.82, 1010.65, ...</td>\n",
       "      <td>[14.06, 14.06, 13.12, 13.12, 12.53, 12.53, 12....</td>\n",
       "      <td>[3.86, 3.86, 3.81, 3.81, 4.27, 4.27, 4.12, 4.1...</td>\n",
       "      <td>[rain, rain, rain, rain, rain, rain, rain, rai...</td>\n",
       "      <td>[clear-night, clear-night, clear-night, clear-...</td>\n",
       "      <td>[0.81, 0.81, 0.83, 0.83, 0.84, 0.84, 0.86, 0.8...</td>\n",
       "      <td>[Clear, Clear, Clear, Clear, Clear, Clear, Par...</td>\n",
       "    </tr>\n",
       "  </tbody>\n",
       "</table>\n",
       "<p>5 rows × 21 columns</p>\n",
       "</div>"
      ],
      "text/plain": [
       "       LCLid start_timestamp frequency  \\\n",
       "0  MAC000002      2012-10-13     30min   \n",
       "1  MAC000246      2012-01-01     30min   \n",
       "2  MAC000450      2012-03-23     30min   \n",
       "3  MAC001074      2012-05-09     30min   \n",
       "4  MAC003223      2012-09-18     30min   \n",
       "\n",
       "                                  energy_consumption  series_length stdorToU  \\\n",
       "0  [0.263, 0.2689999999999999, 0.275, 0.256, 0.21...          24144      Std   \n",
       "1  [0.509, 0.317, 0.253, 0.249, 0.93, 0.607, 0.10...          37872      Std   \n",
       "2  [1.337, 1.426, 0.996, 0.971, 0.994, 0.952, 0.8...          33936      Std   \n",
       "3  [0.18, 0.086, 0.106, 0.173, 0.146, 0.223, 0.21...          31680      ToU   \n",
       "4  [0.076, 0.079, 0.123, 0.109, 0.051, 0.069, 0.0...          25344      Std   \n",
       "\n",
       "     Acorn Acorn_grouped     file  \\\n",
       "0  ACORN-A      Affluent  block_0   \n",
       "1  ACORN-A      Affluent  block_0   \n",
       "2  ACORN-A      Affluent  block_0   \n",
       "3   ACORN-        ACORN-  block_0   \n",
       "4  ACORN-A      Affluent  block_0   \n",
       "\n",
       "                                            holidays  ...  \\\n",
       "0  [NO_HOLIDAY, NO_HOLIDAY, NO_HOLIDAY, NO_HOLIDA...  ...   \n",
       "1  [NO_HOLIDAY, NO_HOLIDAY, NO_HOLIDAY, NO_HOLIDA...  ...   \n",
       "2  [NO_HOLIDAY, NO_HOLIDAY, NO_HOLIDAY, NO_HOLIDA...  ...   \n",
       "3  [NO_HOLIDAY, NO_HOLIDAY, NO_HOLIDAY, NO_HOLIDA...  ...   \n",
       "4  [NO_HOLIDAY, NO_HOLIDAY, NO_HOLIDAY, NO_HOLIDA...  ...   \n",
       "\n",
       "                                         windBearing  \\\n",
       "0  [186, 186, 188, 188, 190, 190, 203, 203, 206, ...   \n",
       "1  [229, 229, 238, 238, 229, 229, 231, 231, 227, ...   \n",
       "2  [78, 78, 73, 73, 81, 81, 80, 80, 75, 75, 71, 7...   \n",
       "3  [215, 215, 207, 207, 215, 215, 216, 216, 126, ...   \n",
       "4  [236, 236, 240, 240, 242, 242, 244, 244, 248, ...   \n",
       "\n",
       "                                         temperature  \\\n",
       "0  [8.78, 8.78, 8.27, 8.27, 7.87, 7.87, 7.89, 7.8...   \n",
       "1  [12.12, 12.12, 12.59, 12.59, 12.45, 12.45, 12....   \n",
       "2  [8.76, 8.76, 8.54, 8.54, 8.09, 8.09, 7.34, 7.3...   \n",
       "3  [11.46, 11.46, 11.38, 11.38, 11.38, 11.38, 10....   \n",
       "4  [14.06, 14.06, 13.12, 13.12, 12.53, 12.53, 12....   \n",
       "\n",
       "                                            dewPoint  \\\n",
       "0  [6.28, 6.28, 6.21, 6.21, 6.22, 6.22, 6.76, 6.7...   \n",
       "1  [10.97, 10.97, 11.02, 11.02, 11.04, 11.04, 10....   \n",
       "2  [7.25, 7.25, 7.12, 7.12, 7.17, 7.17, 6.68, 6.6...   \n",
       "3  [10.23, 10.23, 10.17, 10.17, 10.24, 10.24, 10....   \n",
       "4  [10.82, 10.82, 10.29, 10.29, 9.86, 9.86, 9.83,...   \n",
       "\n",
       "                                            pressure  \\\n",
       "0  [1007.7, 1007.7, 1007.36, 1007.36, 1006.73, 10...   \n",
       "1  [1008.1, 1008.1, 1007.88, 1007.88, 1007.95, 10...   \n",
       "2  [1027.41, 1027.41, 1026.91, 1026.91, 1026.54, ...   \n",
       "3  [1007.39, 1007.39, 1007.21, 1007.21, 1007.06, ...   \n",
       "4  [1011.09, 1011.09, 1010.82, 1010.82, 1010.65, ...   \n",
       "\n",
       "                                 apparentTemperature  \\\n",
       "0  [7.55, 7.55, 7.34, 7.34, 6.75, 6.75, 6.89, 6.8...   \n",
       "1  [12.12, 12.12, 12.59, 12.59, 12.45, 12.45, 12....   \n",
       "2  [7.59, 7.59, 7.43, 7.43, 7.24, 7.24, 7.34, 7.3...   \n",
       "3  [11.46, 11.46, 11.38, 11.38, 11.38, 11.38, 10....   \n",
       "4  [14.06, 14.06, 13.12, 13.12, 12.53, 12.53, 12....   \n",
       "\n",
       "                                           windSpeed  \\\n",
       "0  [2.28, 2.28, 1.81, 1.81, 1.95, 1.95, 1.83, 1.8...   \n",
       "1  [5.9, 5.9, 6.06, 6.06, 5.31, 5.31, 4.68, 4.68,...   \n",
       "2  [2.18, 2.18, 2.07, 2.07, 1.72, 1.72, 1.34, 1.3...   \n",
       "3  [2.35, 2.35, 2.15, 2.15, 1.84, 1.84, 1.22, 1.2...   \n",
       "4  [3.86, 3.86, 3.81, 3.81, 4.27, 4.27, 4.12, 4.1...   \n",
       "\n",
       "                                          precipType  \\\n",
       "0  [rain, rain, rain, rain, rain, rain, rain, rai...   \n",
       "1  [rain, rain, rain, rain, rain, rain, rain, rai...   \n",
       "2  [rain, rain, rain, rain, rain, rain, rain, rai...   \n",
       "3  [rain, rain, rain, rain, rain, rain, rain, rai...   \n",
       "4  [rain, rain, rain, rain, rain, rain, rain, rai...   \n",
       "\n",
       "                                                icon  \\\n",
       "0  [clear-night, clear-night, clear-night, clear-...   \n",
       "1  [partly-cloudy-night, partly-cloudy-night, clo...   \n",
       "2  [fog, fog, fog, fog, fog, fog, fog, fog, fog, ...   \n",
       "3  [partly-cloudy-night, partly-cloudy-night, par...   \n",
       "4  [clear-night, clear-night, clear-night, clear-...   \n",
       "\n",
       "                                            humidity  \\\n",
       "0  [0.84, 0.84, 0.87, 0.87, 0.89, 0.89, 0.93, 0.9...   \n",
       "1  [0.93, 0.93, 0.9, 0.9, 0.91, 0.91, 0.93, 0.93,...   \n",
       "2  [0.9, 0.9, 0.91, 0.91, 0.94, 0.94, 0.96, 0.96,...   \n",
       "3  [0.92, 0.92, 0.92, 0.92, 0.93, 0.93, 0.95, 0.9...   \n",
       "4  [0.81, 0.81, 0.83, 0.83, 0.84, 0.84, 0.86, 0.8...   \n",
       "\n",
       "                                             summary  \n",
       "0  [Clear, Clear, Clear, Clear, Partly Cloudy, Pa...  \n",
       "1  [Mostly Cloudy, Mostly Cloudy, Overcast, Overc...  \n",
       "2  [Foggy, Foggy, Foggy, Foggy, Foggy, Foggy, Fog...  \n",
       "3  [Partly Cloudy, Partly Cloudy, Mostly Cloudy, ...  \n",
       "4  [Clear, Clear, Clear, Clear, Clear, Clear, Par...  \n",
       "\n",
       "[5 rows x 21 columns]"
      ]
     },
     "metadata": {},
     "output_type": "display_data"
    }
   ],
   "source": [
    "try:\n",
    "    block_df = pd.read_parquet(preprocessed/\"london_smart_meters_merged_block_0-7.parquet\")\n",
    "    display(block_df.head())\n",
    "except FileNotFoundError:\n",
    "    display(HTML(\"\"\"\n",
    "    <div class=\"alert alert-block alert-warning\">\n",
    "    <b>Warning!</b> File not found. Please make sure you have run 02 - Preprocessing London Smart Meter Dataset.ipynb in Chapter02\n",
    "    </div>\n",
    "    \"\"\"))"
   ]
  },
  {
   "cell_type": "markdown",
   "id": "c29f9470-de35-4f9b-9099-7133ff614bc8",
   "metadata": {},
   "source": [
    "Let's take all the consumers in one block for our exercise. Keep in mind, you can do the same with more number of blocks as long as it fits in your RAM"
   ]
  },
  {
   "cell_type": "code",
   "execution_count": 8,
   "id": "4340772b-7d34-4250-8e6e-ba4cf0f8fb85",
   "metadata": {},
   "outputs": [
    {
     "data": {
      "application/vnd.jupyter.widget-view+json": {
       "model_id": "d39e202ef9f54fa4a776fb1b4d3e399b",
       "version_major": 2,
       "version_minor": 0
      },
      "text/plain": [
       "  0%|          | 0/50 [00:00<?, ?it/s]"
      ]
     },
     "metadata": {},
     "output_type": "display_data"
    },
    {
     "data": {
      "text/html": [
       "<div>\n",
       "<style scoped>\n",
       "    .dataframe tbody tr th:only-of-type {\n",
       "        vertical-align: middle;\n",
       "    }\n",
       "\n",
       "    .dataframe tbody tr th {\n",
       "        vertical-align: top;\n",
       "    }\n",
       "\n",
       "    .dataframe thead th {\n",
       "        text-align: right;\n",
       "    }\n",
       "</style>\n",
       "<table border=\"1\" class=\"dataframe\">\n",
       "  <thead>\n",
       "    <tr style=\"text-align: right;\">\n",
       "      <th></th>\n",
       "      <th>timestamp</th>\n",
       "      <th>LCLid</th>\n",
       "      <th>energy_consumption</th>\n",
       "      <th>frequency</th>\n",
       "      <th>series_length</th>\n",
       "      <th>stdorToU</th>\n",
       "      <th>Acorn</th>\n",
       "      <th>Acorn_grouped</th>\n",
       "      <th>file</th>\n",
       "      <th>holidays</th>\n",
       "      <th>...</th>\n",
       "      <th>windBearing</th>\n",
       "      <th>temperature</th>\n",
       "      <th>dewPoint</th>\n",
       "      <th>pressure</th>\n",
       "      <th>apparentTemperature</th>\n",
       "      <th>windSpeed</th>\n",
       "      <th>precipType</th>\n",
       "      <th>icon</th>\n",
       "      <th>humidity</th>\n",
       "      <th>summary</th>\n",
       "    </tr>\n",
       "  </thead>\n",
       "  <tbody>\n",
       "    <tr>\n",
       "      <th>0</th>\n",
       "      <td>2012-01-01 00:00:00</td>\n",
       "      <td>MAC000050</td>\n",
       "      <td>0.175</td>\n",
       "      <td>30min</td>\n",
       "      <td>37872</td>\n",
       "      <td>Std</td>\n",
       "      <td>ACORN-D</td>\n",
       "      <td>Affluent</td>\n",
       "      <td>block_7</td>\n",
       "      <td>NO_HOLIDAY</td>\n",
       "      <td>...</td>\n",
       "      <td>229</td>\n",
       "      <td>12.12</td>\n",
       "      <td>10.97</td>\n",
       "      <td>1008.10</td>\n",
       "      <td>12.12</td>\n",
       "      <td>5.90</td>\n",
       "      <td>rain</td>\n",
       "      <td>partly-cloudy-night</td>\n",
       "      <td>0.93</td>\n",
       "      <td>Mostly Cloudy</td>\n",
       "    </tr>\n",
       "    <tr>\n",
       "      <th>1</th>\n",
       "      <td>2012-01-01 00:30:00</td>\n",
       "      <td>MAC000050</td>\n",
       "      <td>0.212</td>\n",
       "      <td>30min</td>\n",
       "      <td>37872</td>\n",
       "      <td>Std</td>\n",
       "      <td>ACORN-D</td>\n",
       "      <td>Affluent</td>\n",
       "      <td>block_7</td>\n",
       "      <td>NO_HOLIDAY</td>\n",
       "      <td>...</td>\n",
       "      <td>229</td>\n",
       "      <td>12.12</td>\n",
       "      <td>10.97</td>\n",
       "      <td>1008.10</td>\n",
       "      <td>12.12</td>\n",
       "      <td>5.90</td>\n",
       "      <td>rain</td>\n",
       "      <td>partly-cloudy-night</td>\n",
       "      <td>0.93</td>\n",
       "      <td>Mostly Cloudy</td>\n",
       "    </tr>\n",
       "    <tr>\n",
       "      <th>2</th>\n",
       "      <td>2012-01-01 01:00:00</td>\n",
       "      <td>MAC000050</td>\n",
       "      <td>0.313</td>\n",
       "      <td>30min</td>\n",
       "      <td>37872</td>\n",
       "      <td>Std</td>\n",
       "      <td>ACORN-D</td>\n",
       "      <td>Affluent</td>\n",
       "      <td>block_7</td>\n",
       "      <td>NO_HOLIDAY</td>\n",
       "      <td>...</td>\n",
       "      <td>238</td>\n",
       "      <td>12.59</td>\n",
       "      <td>11.02</td>\n",
       "      <td>1007.88</td>\n",
       "      <td>12.59</td>\n",
       "      <td>6.06</td>\n",
       "      <td>rain</td>\n",
       "      <td>cloudy</td>\n",
       "      <td>0.90</td>\n",
       "      <td>Overcast</td>\n",
       "    </tr>\n",
       "    <tr>\n",
       "      <th>3</th>\n",
       "      <td>2012-01-01 01:30:00</td>\n",
       "      <td>MAC000050</td>\n",
       "      <td>0.302</td>\n",
       "      <td>30min</td>\n",
       "      <td>37872</td>\n",
       "      <td>Std</td>\n",
       "      <td>ACORN-D</td>\n",
       "      <td>Affluent</td>\n",
       "      <td>block_7</td>\n",
       "      <td>NO_HOLIDAY</td>\n",
       "      <td>...</td>\n",
       "      <td>238</td>\n",
       "      <td>12.59</td>\n",
       "      <td>11.02</td>\n",
       "      <td>1007.88</td>\n",
       "      <td>12.59</td>\n",
       "      <td>6.06</td>\n",
       "      <td>rain</td>\n",
       "      <td>cloudy</td>\n",
       "      <td>0.90</td>\n",
       "      <td>Overcast</td>\n",
       "    </tr>\n",
       "    <tr>\n",
       "      <th>4</th>\n",
       "      <td>2012-01-01 02:00:00</td>\n",
       "      <td>MAC000050</td>\n",
       "      <td>0.257</td>\n",
       "      <td>30min</td>\n",
       "      <td>37872</td>\n",
       "      <td>Std</td>\n",
       "      <td>ACORN-D</td>\n",
       "      <td>Affluent</td>\n",
       "      <td>block_7</td>\n",
       "      <td>NO_HOLIDAY</td>\n",
       "      <td>...</td>\n",
       "      <td>229</td>\n",
       "      <td>12.45</td>\n",
       "      <td>11.04</td>\n",
       "      <td>1007.95</td>\n",
       "      <td>12.45</td>\n",
       "      <td>5.31</td>\n",
       "      <td>rain</td>\n",
       "      <td>partly-cloudy-night</td>\n",
       "      <td>0.91</td>\n",
       "      <td>Mostly Cloudy</td>\n",
       "    </tr>\n",
       "  </tbody>\n",
       "</table>\n",
       "<p>5 rows × 21 columns</p>\n",
       "</div>"
      ],
      "text/plain": [
       "            timestamp      LCLid  energy_consumption frequency  series_length  \\\n",
       "0 2012-01-01 00:00:00  MAC000050               0.175     30min          37872   \n",
       "1 2012-01-01 00:30:00  MAC000050               0.212     30min          37872   \n",
       "2 2012-01-01 01:00:00  MAC000050               0.313     30min          37872   \n",
       "3 2012-01-01 01:30:00  MAC000050               0.302     30min          37872   \n",
       "4 2012-01-01 02:00:00  MAC000050               0.257     30min          37872   \n",
       "\n",
       "  stdorToU    Acorn Acorn_grouped     file    holidays  ...  windBearing  \\\n",
       "0      Std  ACORN-D      Affluent  block_7  NO_HOLIDAY  ...          229   \n",
       "1      Std  ACORN-D      Affluent  block_7  NO_HOLIDAY  ...          229   \n",
       "2      Std  ACORN-D      Affluent  block_7  NO_HOLIDAY  ...          238   \n",
       "3      Std  ACORN-D      Affluent  block_7  NO_HOLIDAY  ...          238   \n",
       "4      Std  ACORN-D      Affluent  block_7  NO_HOLIDAY  ...          229   \n",
       "\n",
       "   temperature  dewPoint  pressure  apparentTemperature  windSpeed  \\\n",
       "0        12.12     10.97   1008.10                12.12       5.90   \n",
       "1        12.12     10.97   1008.10                12.12       5.90   \n",
       "2        12.59     11.02   1007.88                12.59       6.06   \n",
       "3        12.59     11.02   1007.88                12.59       6.06   \n",
       "4        12.45     11.04   1007.95                12.45       5.31   \n",
       "\n",
       "   precipType                 icon humidity        summary  \n",
       "0        rain  partly-cloudy-night     0.93  Mostly Cloudy  \n",
       "1        rain  partly-cloudy-night     0.93  Mostly Cloudy  \n",
       "2        rain               cloudy     0.90       Overcast  \n",
       "3        rain               cloudy     0.90       Overcast  \n",
       "4        rain  partly-cloudy-night     0.91  Mostly Cloudy  \n",
       "\n",
       "[5 rows x 21 columns]"
      ]
     },
     "execution_count": 8,
     "metadata": {},
     "output_type": "execute_result"
    }
   ],
   "source": [
    "#Converting to expanded form\n",
    "exp_block_df = compact_to_expanded(block_df[block_df.file==\"block_7\"], timeseries_col = 'energy_consumption',\n",
    "static_cols = [\"frequency\", \"series_length\", \"stdorToU\", \"Acorn\", \"Acorn_grouped\", \"file\"],\n",
    "time_varying_cols = ['holidays', 'visibility', 'windBearing', 'temperature', 'dewPoint',\n",
    "       'pressure', 'apparentTemperature', 'windSpeed', 'precipType', 'icon',\n",
    "       'humidity', 'summary'],\n",
    "ts_identifier = \"LCLid\")\n",
    "\n",
    "exp_block_df.head()"
   ]
  },
  {
   "cell_type": "markdown",
   "id": "46332cf7-ecf0-419d-a0a6-d0b6978aaec9",
   "metadata": {},
   "source": [
    "# Missing Data and Advanced Imputation Techniques"
   ]
  },
  {
   "cell_type": "code",
   "execution_count": 9,
   "id": "0fa454eb-6882-450b-8c79-cc0c7106130e",
   "metadata": {},
   "outputs": [
    {
     "name": "stderr",
     "output_type": "stream",
     "text": [
      "c:\\Users\\tacke\\anaconda3\\envs\\modern_ts_2E\\Lib\\site-packages\\missingno\\missingno.py:106: FutureWarning: 'M' is deprecated and will be removed in a future version, please use 'ME' instead.\n",
      "  ts_array = pd.date_range(df.index[0], df.index[-1],\n",
      "c:\\Users\\tacke\\anaconda3\\envs\\modern_ts_2E\\Lib\\site-packages\\missingno\\missingno.py:109: FutureWarning: 'M' is deprecated and will be removed in a future version, please use 'ME' instead.\n",
      "  ts_ticks = pd.date_range(df.index[0], df.index[-1],\n"
     ]
    },
    {
     "data": {
      "image/png": "[encoded data removed]",
      "text/plain": [
       "<Figure size 2500x1000 with 2 Axes>"
      ]
     },
     "metadata": {},
     "output_type": "display_data"
    }
   ],
   "source": [
    "# Pivot the data to set the index as the datetime and the different time series along the columns\n",
    "plot_df = pd.pivot_table(exp_block_df, index=\"timestamp\", columns=\"LCLid\", values=\"energy_consumption\")\n",
    "# Generate Plot. Since we have a datetime index, we can mention the frequency to decide what do we want on the X axis\n",
    "msno.matrix(plot_df, freq=\"M\", fontsize=20)\n",
    "plt.savefig('imgs/chapter_2/missing_no_full.png', bbox_inches='tight')\n",
    "plt.show()"
   ]
  },
  {
   "cell_type": "code",
   "execution_count": 10,
   "id": "f1affe10-f579-4a40-846f-c13f5b037f44",
   "metadata": {},
   "outputs": [],
   "source": [
    "# Taking a single time series from the block\n",
    "ts_df = exp_block_df[exp_block_df.LCLid==\"MAC000193\"].set_index(\"timestamp\")"
   ]
  },
  {
   "cell_type": "markdown",
   "id": "09cf5054-c279-4bc9-8d0b-63f710d95f46",
   "metadata": {},
   "source": [
    "We know that there is some missing data between 2012-09-30 and 2012-10-31. But instead of picking a window where there is an actual missing data, let's pick a window where data is present, but we artificially remove it and then look at techniques to fill it. This way, we can have some way to see how well a particular method is working."
   ]
  },
  {
   "cell_type": "code",
   "execution_count": 11,
   "id": "44efa318-d79c-458b-8812-845667dc806b",
   "metadata": {},
   "outputs": [
    {
     "data": {
      "image/png": "[encoded data removed]",
      "text/plain": [
       "<Figure size 2500x1000 with 2 Axes>"
      ]
     },
     "metadata": {},
     "output_type": "display_data"
    }
   ],
   "source": [
    "msno.matrix(ts_df[\"2012-10-13\": \"2012-10-24\"], freq=\"D\", fontsize=20)\n",
    "plt.savefig('imgs/chapter_2/missing_no_mac000193.png', bbox_inches='tight')\n",
    "plt.show()"
   ]
  },
  {
   "cell_type": "markdown",
   "id": "e5ed6d53-455c-4d8d-bf63-b13ce2b5c98a",
   "metadata": {},
   "source": [
    "We see that there are two days of information and normally would preceed to fill in the gaps using some of the techniques we will be revieweing. But just to see how effective the different techniques we are reviewing, we will artificially create a missing section and see how well we are able to impute it."
   ]
  },
  {
   "cell_type": "code",
   "execution_count": 12,
   "id": "f7fa9b2c-5e1f-4db2-b754-4c23f44bb989",
   "metadata": {},
   "outputs": [],
   "source": [
    "# The dates between which we are nulling out the time series\n",
    "window = slice(\"2012-10-07\", \"2012-10-08\")\n",
    "# Creating a new column and artificially creating missing values\n",
    "ts_df['energy_consumption_missing'] = ts_df.energy_consumption\n",
    "ts_df.loc[window, \"energy_consumption_missing\"] = np.nan\n",
    "# Creating a new window with a few dats added on either side for visualization purposes\n",
    "vis_window = slice(pd.to_datetime(window.start) - pd.Timedelta(days=2), pd.to_datetime(window.stop) + pd.Timedelta(days=2))"
   ]
  },
  {
   "cell_type": "code",
   "execution_count": 13,
   "id": "7020ffd4-59fd-47a1-adf0-060e9138ce85",
   "metadata": {},
   "outputs": [
    {
     "data": {
      "application/vnd.plotly.v1+json": {
       "config": {
        "plotlyServerURL": "https://plot.ly"
       },
       "data": [
        {
         "hovertemplate": "timestamp=%{x}<br>energy_consumption_missing=%{y}<extra></extra>",
         "legendgroup": "",
         "line": {
          "color": "#636efa",
          "dash": "solid"
         },
         "marker": {
          "symbol": "circle"
         },
         "mode": "lines",
         "name": "",
         "orientation": "v",
         "showlegend": false,
         "type": "scatter",
         "x": [
          "2012-10-05T00:00:00",
          "2012-10-05T00:30:00",
          "2012-10-05T01:00:00",
          "2012-10-05T01:30:00",
          "2012-10-05T02:00:00",
          "2012-10-05T02:30:00",
          "2012-10-05T03:00:00",
          "2012-10-05T03:30:00",
          "2012-10-05T04:00:00",
          "2012-10-05T04:30:00",
          "2012-10-05T05:00:00",
          "2012-10-05T05:30:00",
          "2012-10-05T06:00:00",
          "2012-10-05T06:30:00",
          "2012-10-05T07:00:00",
          "2012-10-05T07:30:00",
          "2012-10-05T08:00:00",
          "2012-10-05T08:30:00",
          "2012-10-05T09:00:00",
          "2012-10-05T09:30:00",
          "2012-10-05T10:00:00",
          "2012-10-05T10:30:00",
          "2012-10-05T11:00:00",
          "2012-10-05T11:30:00",
          "2012-10-05T12:00:00",
          "2012-10-05T12:30:00",
          "2012-10-05T13:00:00",
          "2012-10-05T13:30:00",
          "2012-10-05T14:00:00",
          "2012-10-05T14:30:00",
          "2012-10-05T15:00:00",
          "2012-10-05T15:30:00",
          "2012-10-05T16:00:00",
          "2012-10-05T16:30:00",
          "2012-10-05T17:00:00",
          "2012-10-05T17:30:00",
          "2012-10-05T18:00:00",
          "2012-10-05T18:30:00",
          "2012-10-05T19:00:00",
          "2012-10-05T19:30:00",
          "2012-10-05T20:00:00",
          "2012-10-05T20:30:00",
          "2012-10-05T21:00:00",
          "2012-10-05T21:30:00",
          "2012-10-05T22:00:00",
          "2012-10-05T22:30:00",
          "2012-10-05T23:00:00",
          "2012-10-05T23:30:00",
          "2012-10-06T00:00:00",
          "2012-10-06T00:30:00",
          "2012-10-06T01:00:00",
          "2012-10-06T01:30:00",
          "2012-10-06T02:00:00",
          "2012-10-06T02:30:00",
          "2012-10-06T03:00:00",
          "2012-10-06T03:30:00",
          "2012-10-06T04:00:00",
          "2012-10-06T04:30:00",
          "2012-10-06T05:00:00",
          "2012-10-06T05:30:00",
          "2012-10-06T06:00:00",
          "2012-10-06T06:30:00",
          "2012-10-06T07:00:00",
          "2012-10-06T07:30:00",
          "2012-10-06T08:00:00",
          "2012-10-06T08:30:00",
          "2012-10-06T09:00:00",
          "2012-10-06T09:30:00",
          "2012-10-06T10:00:00",
          "2012-10-06T10:30:00",
          "2012-10-06T11:00:00",
          "2012-10-06T11:30:00",
          "2012-10-06T12:00:00",
          "2012-10-06T12:30:00",
          "2012-10-06T13:00:00",
          "2012-10-06T13:30:00",
          "2012-10-06T14:00:00",
          "2012-10-06T14:30:00",
          "2012-10-06T15:00:00",
          "2012-10-06T15:30:00",
          "2012-10-06T16:00:00",
          "2012-10-06T16:30:00",
          "2012-10-06T17:00:00",
          "2012-10-06T17:30:00",
          "2012-10-06T18:00:00",
          "2012-10-06T18:30:00",
          "2012-10-06T19:00:00",
          "2012-10-06T19:30:00",
          "2012-10-06T20:00:00",
          "2012-10-06T20:30:00",
          "2012-10-06T21:00:00",
          "2012-10-06T21:30:00",
          "2012-10-06T22:00:00",
          "2012-10-06T22:30:00",
          "2012-10-06T23:00:00",
          "2012-10-06T23:30:00",
          "2012-10-07T00:00:00",
          "2012-10-07T00:30:00",
          "2012-10-07T01:00:00",
          "2012-10-07T01:30:00",
          "2012-10-07T02:00:00",
          "2012-10-07T02:30:00",
          "2012-10-07T03:00:00",
          "2012-10-07T03:30:00",
          "2012-10-07T04:00:00",
          "2012-10-07T04:30:00",
          "2012-10-07T05:00:00",
          "2012-10-07T05:30:00",
          "2012-10-07T06:00:00",
          "2012-10-07T06:30:00",
          "2012-10-07T07:00:00",
          "2012-10-07T07:30:00",
          "2012-10-07T08:00:00",
          "2012-10-07T08:30:00",
          "2012-10-07T09:00:00",
          "2012-10-07T09:30:00",
          "2012-10-07T10:00:00",
          "2012-10-07T10:30:00",
          "2012-10-07T11:00:00",
          "2012-10-07T11:30:00",
          "2012-10-07T12:00:00",
          "2012-10-07T12:30:00",
          "2012-10-07T13:00:00",
          "2012-10-07T13:30:00",
          "2012-10-07T14:00:00",
          "2012-10-07T14:30:00",
          "2012-10-07T15:00:00",
          "2012-10-07T15:30:00",
          "2012-10-07T16:00:00",
          "2012-10-07T16:30:00",
          "2012-10-07T17:00:00",
          "2012-10-07T17:30:00",
          "2012-10-07T18:00:00",
          "2012-10-07T18:30:00",
          "2012-10-07T19:00:00",
          "2012-10-07T19:30:00",
          "2012-10-07T20:00:00",
          "2012-10-07T20:30:00",
          "2012-10-07T21:00:00",
          "2012-10-07T21:30:00",
          "2012-10-07T22:00:00",
          "2012-10-07T22:30:00",
          "2012-10-07T23:00:00",
          "2012-10-07T23:30:00",
          "2012-10-08T00:00:00",
          "2012-10-08T00:30:00",
          "2012-10-08T01:00:00",
          "2012-10-08T01:30:00",
          "2012-10-08T02:00:00",
          "2012-10-08T02:30:00",
          "2012-10-08T03:00:00",
          "2012-10-08T03:30:00",
          "2012-10-08T04:00:00",
          "2012-10-08T04:30:00",
          "2012-10-08T05:00:00",
          "2012-10-08T05:30:00",
          "2012-10-08T06:00:00",
          "2012-10-08T06:30:00",
          "2012-10-08T07:00:00",
          "2012-10-08T07:30:00",
          "2012-10-08T08:00:00",
          "2012-10-08T08:30:00",
          "2012-10-08T09:00:00",
          "2012-10-08T09:30:00",
          "2012-10-08T10:00:00",
          "2012-10-08T10:30:00",
          "2012-10-08T11:00:00",
          "2012-10-08T11:30:00",
          "2012-10-08T12:00:00",
          "2012-10-08T12:30:00",
          "2012-10-08T13:00:00",
          "2012-10-08T13:30:00",
          "2012-10-08T14:00:00",
          "2012-10-08T14:30:00",
          "2012-10-08T15:00:00",
          "2012-10-08T15:30:00",
          "2012-10-08T16:00:00",
          "2012-10-08T16:30:00",
          "2012-10-08T17:00:00",
          "2012-10-08T17:30:00",
          "2012-10-08T18:00:00",
          "2012-10-08T18:30:00",
          "2012-10-08T19:00:00",
          "2012-10-08T19:30:00",
          "2012-10-08T20:00:00",
          "2012-10-08T20:30:00",
          "2012-10-08T21:00:00",
          "2012-10-08T21:30:00",
          "2012-10-08T22:00:00",
          "2012-10-08T22:30:00",
          "2012-10-08T23:00:00",
          "2012-10-08T23:30:00",
          "2012-10-09T00:00:00",
          "2012-10-09T00:30:00",
          "2012-10-09T01:00:00",
          "2012-10-09T01:30:00",
          "2012-10-09T02:00:00",
          "2012-10-09T02:30:00",
          "2012-10-09T03:00:00",
          "2012-10-09T03:30:00",
          "2012-10-09T04:00:00",
          "2012-10-09T04:30:00",
          "2012-10-09T05:00:00",
          "2012-10-09T05:30:00",
          "2012-10-09T06:00:00",
          "2012-10-09T06:30:00",
          "2012-10-09T07:00:00",
          "2012-10-09T07:30:00",
          "2012-10-09T08:00:00",
          "2012-10-09T08:30:00",
          "2012-10-09T09:00:00",
          "2012-10-09T09:30:00",
          "2012-10-09T10:00:00",
          "2012-10-09T10:30:00",
          "2012-10-09T11:00:00",
          "2012-10-09T11:30:00",
          "2012-10-09T12:00:00",
          "2012-10-09T12:30:00",
          "2012-10-09T13:00:00",
          "2012-10-09T13:30:00",
          "2012-10-09T14:00:00",
          "2012-10-09T14:30:00",
          "2012-10-09T15:00:00",
          "2012-10-09T15:30:00",
          "2012-10-09T16:00:00",
          "2012-10-09T16:30:00",
          "2012-10-09T17:00:00",
          "2012-10-09T17:30:00",
          "2012-10-09T18:00:00",
          "2012-10-09T18:30:00",
          "2012-10-09T19:00:00",
          "2012-10-09T19:30:00",
          "2012-10-09T20:00:00",
          "2012-10-09T20:30:00",
          "2012-10-09T21:00:00",
          "2012-10-09T21:30:00",
          "2012-10-09T22:00:00",
          "2012-10-09T22:30:00",
          "2012-10-09T23:00:00",
          "2012-10-09T23:30:00",
          "2012-10-10T00:00:00"
         ],
         "xaxis": "x",
         "y": [
          0.027,
          0.047,
          0.017,
          0.045,
          0.039,
          0.039,
          0.043,
          0.0139999999999999,
          0.054,
          0.027,
          0.059,
          0.023,
          0.035,
          0.032,
          0.044,
          0.183,
          0.114,
          0.063,
          0.067,
          0.0969999999999999,
          0.0559999999999999,
          0.174,
          0.043,
          0.062,
          0.051,
          0.314,
          0.286,
          0.102,
          0.033,
          0.074,
          0.055,
          0.345,
          0.084,
          0.11,
          0.247,
          0.298,
          0.772,
          0.7070000000000001,
          0.445,
          0.297,
          0.273,
          0.319,
          0.298,
          0.2789999999999999,
          0.32,
          0.289,
          0.103,
          0.039,
          0.035,
          0.04,
          0.021,
          0.057,
          0.033,
          0.04,
          0.031,
          0.023,
          0.062,
          0.027,
          0.04,
          0.0279999999999999,
          0.024,
          0.061,
          0.153,
          0.073,
          0.799,
          0.906,
          0.264,
          0.505,
          0.291,
          0.286,
          0.261,
          0.272,
          0.3389999999999999,
          0.286,
          0.456,
          0.5820000000000001,
          0.105,
          0.0969999999999999,
          0.095,
          0.283,
          0.272,
          0.264,
          0.286,
          0.365,
          0.3,
          0.5760000000000001,
          0.532,
          0.302,
          0.2769999999999999,
          0.262,
          0.308,
          0.27,
          0.325,
          0.071,
          0.017,
          0.049,
          null,
          null,
          null,
          null,
          null,
          null,
          null,
          null,
          null,
          null,
          null,
          null,
          null,
          null,
          null,
          null,
          null,
          null,
          null,
          null,
          null,
          null,
          null,
          null,
          null,
          null,
          null,
          null,
          null,
          null,
          null,
          null,
          null,
          null,
          null,
          null,
          null,
          null,
          null,
          null,
          null,
          null,
          null,
          null,
          null,
          null,
          null,
          null,
          null,
          null,
          null,
          null,
          null,
          null,
          null,
          null,
          null,
          null,
          null,
          null,
          null,
          null,
          null,
          null,
          null,
          null,
          null,
          null,
          null,
          null,
          null,
          null,
          null,
          null,
          null,
          null,
          null,
          null,
          null,
          null,
          null,
          null,
          null,
          null,
          null,
          null,
          null,
          null,
          null,
          null,
          null,
          null,
          null,
          null,
          null,
          null,
          0.015,
          0.015,
          0.083,
          0.037,
          0.065,
          0.044,
          0.064,
          0.035,
          0.054,
          0.05,
          0.038,
          0.046,
          0.031,
          0.061,
          0.018,
          0.193,
          0.04,
          0.7070000000000001,
          1.091,
          0.8490000000000001,
          1.423,
          0.493,
          0.1669999999999999,
          0.035,
          0.423,
          0.816,
          0.659,
          0.667,
          0.238,
          0.6579999999999999,
          0.645,
          0.348,
          0.107,
          0.175,
          0.148,
          0.222,
          0.995,
          0.701,
          0.3829999999999999,
          0.439,
          0.437,
          0.318,
          0.302,
          0.312,
          0.472,
          0.392,
          0.061,
          0.022,
          0.047
         ],
         "yaxis": "y"
        }
       ],
       "layout": {
        "autosize": false,
        "height": 500,
        "legend": {
         "font": {
          "size": 15
         },
         "orientation": "h",
         "title": {},
         "tracegroupgap": 0,
         "x": 1,
         "xanchor": "right",
         "y": 0.98,
         "yanchor": "bottom"
        },
        "template": {
         "data": {
          "bar": [
           {
            "error_x": {
             "color": "#2a3f5f"
            },
            "error_y": {
             "color": "#2a3f5f"
            },
            "marker": {
             "line": {
              "color": "white",
              "width": 0.5
             },
             "pattern": {
              "fillmode": "overlay",
              "size": 10,
              "solidity": 0.2
             }
            },
            "type": "bar"
           }
          ],
          "barpolar": [
           {
            "marker": {
             "line": {
              "color": "white",
              "width": 0.5
             },
             "pattern": {
              "fillmode": "overlay",
              "size": 10,
              "solidity": 0.2
             }
            },
            "type": "barpolar"
           }
          ],
          "carpet": [
           {
            "aaxis": {
             "endlinecolor": "#2a3f5f",
             "gridcolor": "#C8D4E3",
             "linecolor": "#C8D4E3",
             "minorgridcolor": "#C8D4E3",
             "startlinecolor": "#2a3f5f"
            },
            "baxis": {
             "endlinecolor": "#2a3f5f",
             "gridcolor": "#C8D4E3",
             "linecolor": "#C8D4E3",
             "minorgridcolor": "#C8D4E3",
             "startlinecolor": "#2a3f5f"
            },
            "type": "carpet"
           }
          ],
          "choropleth": [
           {
            "colorbar": {
             "outlinewidth": 0,
             "ticks": ""
            },
            "type": "choropleth"
           }
          ],
          "contour": [
           {
            "colorbar": {
             "outlinewidth": 0,
             "ticks": ""
            },
            "colorscale": [
             [
              0,
              "#0d0887"
             ],
             [
              0.1111111111111111,
              "#46039f"
             ],
             [
              0.2222222222222222,
              "#7201a8"
             ],
             [
              0.3333333333333333,
              "#9c179e"
             ],
             [
              0.4444444444444444,
              "#bd3786"
             ],
             [
              0.5555555555555556,
              "#d8576b"
             ],
             [
              0.6666666666666666,
              "#ed7953"
             ],
             [
              0.7777777777777778,
              "#fb9f3a"
             ],
             [
              0.8888888888888888,
              "#fdca26"
             ],
             [
              1,
              "#f0f921"
             ]
            ],
            "type": "contour"
           }
          ],
          "contourcarpet": [
           {
            "colorbar": {
             "outlinewidth": 0,
             "ticks": ""
            },
            "type": "contourcarpet"
           }
          ],
          "heatmap": [
           {
            "colorbar": {
             "outlinewidth": 0,
             "ticks": ""
            },
            "colorscale": [
             [
              0,
              "#0d0887"
             ],
             [
              0.1111111111111111,
              "#46039f"
             ],
             [
              0.2222222222222222,
              "#7201a8"
             ],
             [
              0.3333333333333333,
              "#9c179e"
             ],
             [
              0.4444444444444444,
              "#bd3786"
             ],
             [
              0.5555555555555556,
              "#d8576b"
             ],
             [
              0.6666666666666666,
              "#ed7953"
             ],
             [
              0.7777777777777778,
              "#fb9f3a"
             ],
             [
              0.8888888888888888,
              "#fdca26"
             ],
             [
              1,
              "#f0f921"
             ]
            ],
            "type": "heatmap"
           }
          ],
          "heatmapgl": [
           {
            "colorbar": {
             "outlinewidth": 0,
             "ticks": ""
            },
            "colorscale": [
             [
              0,
              "#0d0887"
             ],
             [
              0.1111111111111111,
              "#46039f"
             ],
             [
              0.2222222222222222,
              "#7201a8"
             ],
             [
              0.3333333333333333,
              "#9c179e"
             ],
             [
              0.4444444444444444,
              "#bd3786"
             ],
             [
              0.5555555555555556,
              "#d8576b"
             ],
             [
              0.6666666666666666,
              "#ed7953"
             ],
             [
              0.7777777777777778,
              "#fb9f3a"
             ],
             [
              0.8888888888888888,
              "#fdca26"
             ],
             [
              1,
              "#f0f921"
             ]
            ],
            "type": "heatmapgl"
           }
          ],
          "histogram": [
           {
            "marker": {
             "pattern": {
              "fillmode": "overlay",
              "size": 10,
              "solidity": 0.2
             }
            },
            "type": "histogram"
           }
          ],
          "histogram2d": [
           {
            "colorbar": {
             "outlinewidth": 0,
             "ticks": ""
            },
            "colorscale": [
             [
              0,
              "#0d0887"
             ],
             [
              0.1111111111111111,
              "#46039f"
             ],
             [
              0.2222222222222222,
              "#7201a8"
             ],
             [
              0.3333333333333333,
              "#9c179e"
             ],
             [
              0.4444444444444444,
              "#bd3786"
             ],
             [
              0.5555555555555556,
              "#d8576b"
             ],
             [
              0.6666666666666666,
              "#ed7953"
             ],
             [
              0.7777777777777778,
              "#fb9f3a"
             ],
             [
              0.8888888888888888,
              "#fdca26"
             ],
             [
              1,
              "#f0f921"
             ]
            ],
            "type": "histogram2d"
           }
          ],
          "histogram2dcontour": [
           {
            "colorbar": {
             "outlinewidth": 0,
             "ticks": ""
            },
            "colorscale": [
             [
              0,
              "#0d0887"
             ],
             [
              0.1111111111111111,
              "#46039f"
             ],
             [
              0.2222222222222222,
              "#7201a8"
             ],
             [
              0.3333333333333333,
              "#9c179e"
             ],
             [
              0.4444444444444444,
              "#bd3786"
             ],
             [
              0.5555555555555556,
              "#d8576b"
             ],
             [
              0.6666666666666666,
              "#ed7953"
             ],
             [
              0.7777777777777778,
              "#fb9f3a"
             ],
             [
              0.8888888888888888,
              "#fdca26"
             ],
             [
              1,
              "#f0f921"
             ]
            ],
            "type": "histogram2dcontour"
           }
          ],
          "mesh3d": [
           {
            "colorbar": {
             "outlinewidth": 0,
             "ticks": ""
            },
            "type": "mesh3d"
           }
          ],
          "parcoords": [
           {
            "line": {
             "colorbar": {
              "outlinewidth": 0,
              "ticks": ""
             }
            },
            "type": "parcoords"
           }
          ],
          "pie": [
           {
            "automargin": true,
            "type": "pie"
           }
          ],
          "scatter": [
           {
            "fillpattern": {
             "fillmode": "overlay",
             "size": 10,
             "solidity": 0.2
            },
            "type": "scatter"
           }
          ],
          "scatter3d": [
           {
            "line": {
             "colorbar": {
              "outlinewidth": 0,
              "ticks": ""
             }
            },
            "marker": {
             "colorbar": {
              "outlinewidth": 0,
              "ticks": ""
             }
            },
            "type": "scatter3d"
           }
          ],
          "scattercarpet": [
           {
            "marker": {
             "colorbar": {
              "outlinewidth": 0,
              "ticks": ""
             }
            },
            "type": "scattercarpet"
           }
          ],
          "scattergeo": [
           {
            "marker": {
             "colorbar": {
              "outlinewidth": 0,
              "ticks": ""
             }
            },
            "type": "scattergeo"
           }
          ],
          "scattergl": [
           {
            "marker": {
             "colorbar": {
              "outlinewidth": 0,
              "ticks": ""
             }
            },
            "type": "scattergl"
           }
          ],
          "scattermapbox": [
           {
            "marker": {
             "colorbar": {
              "outlinewidth": 0,
              "ticks": ""
             }
            },
            "type": "scattermapbox"
           }
          ],
          "scatterpolar": [
           {
            "marker": {
             "colorbar": {
              "outlinewidth": 0,
              "ticks": ""
             }
            },
            "type": "scatterpolar"
           }
          ],
          "scatterpolargl": [
           {
            "marker": {
             "colorbar": {
              "outlinewidth": 0,
              "ticks": ""
             }
            },
            "type": "scatterpolargl"
           }
          ],
          "scatterternary": [
           {
            "marker": {
             "colorbar": {
              "outlinewidth": 0,
              "ticks": ""
             }
            },
            "type": "scatterternary"
           }
          ],
          "surface": [
           {
            "colorbar": {
             "outlinewidth": 0,
             "ticks": ""
            },
            "colorscale": [
             [
              0,
              "#0d0887"
             ],
             [
              0.1111111111111111,
              "#46039f"
             ],
             [
              0.2222222222222222,
              "#7201a8"
             ],
             [
              0.3333333333333333,
              "#9c179e"
             ],
             [
              0.4444444444444444,
              "#bd3786"
             ],
             [
              0.5555555555555556,
              "#d8576b"
             ],
             [
              0.6666666666666666,
              "#ed7953"
             ],
             [
              0.7777777777777778,
              "#fb9f3a"
             ],
             [
              0.8888888888888888,
              "#fdca26"
             ],
             [
              1,
              "#f0f921"
             ]
            ],
            "type": "surface"
           }
          ],
          "table": [
           {
            "cells": {
             "fill": {
              "color": "#EBF0F8"
             },
             "line": {
              "color": "white"
             }
            },
            "header": {
             "fill": {
              "color": "#C8D4E3"
             },
             "line": {
              "color": "white"
             }
            },
            "type": "table"
           }
          ]
         },
         "layout": {
          "annotationdefaults": {
           "arrowcolor": "#2a3f5f",
           "arrowhead": 0,
           "arrowwidth": 1
          },
          "autotypenumbers": "strict",
          "coloraxis": {
           "colorbar": {
            "outlinewidth": 0,
            "ticks": ""
           }
          },
          "colorscale": {
           "diverging": [
            [
             0,
             "#8e0152"
            ],
            [
             0.1,
             "#c51b7d"
            ],
            [
             0.2,
             "#de77ae"
            ],
            [
             0.3,
             "#f1b6da"
            ],
            [
             0.4,
             "#fde0ef"
            ],
            [
             0.5,
             "#f7f7f7"
            ],
            [
             0.6,
             "#e6f5d0"
            ],
            [
             0.7,
             "#b8e186"
            ],
            [
             0.8,
             "#7fbc41"
            ],
            [
             0.9,
             "#4d9221"
            ],
            [
             1,
             "#276419"
            ]
           ],
           "sequential": [
            [
             0,
             "#0d0887"
            ],
            [
             0.1111111111111111,
             "#46039f"
            ],
            [
             0.2222222222222222,
             "#7201a8"
            ],
            [
             0.3333333333333333,
             "#9c179e"
            ],
            [
             0.4444444444444444,
             "#bd3786"
            ],
            [
             0.5555555555555556,
             "#d8576b"
            ],
            [
             0.6666666666666666,
             "#ed7953"
            ],
            [
             0.7777777777777778,
             "#fb9f3a"
            ],
            [
             0.8888888888888888,
             "#fdca26"
            ],
            [
             1,
             "#f0f921"
            ]
           ],
           "sequentialminus": [
            [
             0,
             "#0d0887"
            ],
            [
             0.1111111111111111,
             "#46039f"
            ],
            [
             0.2222222222222222,
             "#7201a8"
            ],
            [
             0.3333333333333333,
             "#9c179e"
            ],
            [
             0.4444444444444444,
             "#bd3786"
            ],
            [
             0.5555555555555556,
             "#d8576b"
            ],
            [
             0.6666666666666666,
             "#ed7953"
            ],
            [
             0.7777777777777778,
             "#fb9f3a"
            ],
            [
             0.8888888888888888,
             "#fdca26"
            ],
            [
             1,
             "#f0f921"
            ]
           ]
          },
          "colorway": [
           "#636efa",
           "#EF553B",
           "#00cc96",
           "#ab63fa",
           "#FFA15A",
           "#19d3f3",
           "#FF6692",
           "#B6E880",
           "#FF97FF",
           "#FECB52"
          ],
          "font": {
           "color": "#2a3f5f"
          },
          "geo": {
           "bgcolor": "white",
           "lakecolor": "white",
           "landcolor": "white",
           "showlakes": true,
           "showland": true,
           "subunitcolor": "#C8D4E3"
          },
          "hoverlabel": {
           "align": "left"
          },
          "hovermode": "closest",
          "mapbox": {
           "style": "light"
          },
          "paper_bgcolor": "white",
          "plot_bgcolor": "white",
          "polar": {
           "angularaxis": {
            "gridcolor": "#EBF0F8",
            "linecolor": "#EBF0F8",
            "ticks": ""
           },
           "bgcolor": "white",
           "radialaxis": {
            "gridcolor": "#EBF0F8",
            "linecolor": "#EBF0F8",
            "ticks": ""
           }
          },
          "scene": {
           "xaxis": {
            "backgroundcolor": "white",
            "gridcolor": "#DFE8F3",
            "gridwidth": 2,
            "linecolor": "#EBF0F8",
            "showbackground": true,
            "ticks": "",
            "zerolinecolor": "#EBF0F8"
           },
           "yaxis": {
            "backgroundcolor": "white",
            "gridcolor": "#DFE8F3",
            "gridwidth": 2,
            "linecolor": "#EBF0F8",
            "showbackground": true,
            "ticks": "",
            "zerolinecolor": "#EBF0F8"
           },
           "zaxis": {
            "backgroundcolor": "white",
            "gridcolor": "#DFE8F3",
            "gridwidth": 2,
            "linecolor": "#EBF0F8",
            "showbackground": true,
            "ticks": "",
            "zerolinecolor": "#EBF0F8"
           }
          },
          "shapedefaults": {
           "line": {
            "color": "#2a3f5f"
           }
          },
          "ternary": {
           "aaxis": {
            "gridcolor": "#DFE8F3",
            "linecolor": "#A2B1C6",
            "ticks": ""
           },
           "baxis": {
            "gridcolor": "#DFE8F3",
            "linecolor": "#A2B1C6",
            "ticks": ""
           },
           "bgcolor": "white",
           "caxis": {
            "gridcolor": "#DFE8F3",
            "linecolor": "#A2B1C6",
            "ticks": ""
           }
          },
          "title": {
           "x": 0.05
          },
          "xaxis": {
           "automargin": true,
           "gridcolor": "#EBF0F8",
           "linecolor": "#EBF0F8",
           "ticks": "",
           "title": {
            "standoff": 15
           },
           "zerolinecolor": "#EBF0F8",
           "zerolinewidth": 2
          },
          "yaxis": {
           "automargin": true,
           "gridcolor": "#EBF0F8",
           "linecolor": "#EBF0F8",
           "ticks": "",
           "title": {
            "standoff": 15
           },
           "zerolinecolor": "#EBF0F8",
           "zerolinewidth": 2
          }
         }
        },
        "title": {
         "font": {
          "size": 20
         },
         "text": "MAC000193 Energy Consumption between 2012-10-05 and 2012-10-10",
         "x": 0.5,
         "xanchor": "center",
         "yanchor": "top"
        },
        "width": 900,
        "xaxis": {
         "anchor": "y",
         "domain": [
          0,
          1
         ],
         "tickfont": {
          "size": 15
         },
         "title": {
          "font": {
           "size": 15
          },
          "text": "Day"
         }
        },
        "yaxis": {
         "anchor": "x",
         "domain": [
          0,
          1
         ],
         "tickfont": {
          "size": 15
         },
         "title": {
          "font": {
           "size": 15
          },
          "text": "Value"
         }
        }
       }
      }
     },
     "metadata": {},
     "output_type": "display_data"
    }
   ],
   "source": [
    "fig = px.line(ts_df[vis_window], y=\"energy_consumption_missing\", title=f\"MAC000193 Energy Consumption between {vis_window.start.strftime('%Y-%m-%d')} and {vis_window.stop.strftime('%Y-%m-%d')}\")\n",
    "fig = format_plot(fig)\n",
    "fig.write_image(\"imgs/chapter_2/mac000193_missing.png\")\n",
    "fig.show()"
   ]
  },
  {
   "cell_type": "markdown",
   "id": "3c98ae69-c902-4bf1-a063-b41b1480be54",
   "metadata": {},
   "source": [
    "## Missing Data Imputation"
   ]
  },
  {
   "cell_type": "code",
   "execution_count": 14,
   "id": "57e5586e-6be8-4beb-85d6-9000cd946227",
   "metadata": {},
   "outputs": [],
   "source": [
    "null_mask = ts_df.energy_consumption_missing.isnull()"
   ]
  },
  {
   "cell_type": "markdown",
   "id": "e2526511-8cd9-4d9c-a377-05545c1156b2",
   "metadata": {
    "tags": []
   },
   "source": [
    "### Repeating Patterns"
   ]
  },
  {
   "cell_type": "markdown",
   "id": "af405720-a331-48f0-858b-31d1fa18697f",
   "metadata": {
    "tags": []
   },
   "source": [
    "#### Last Day"
   ]
  },
  {
   "cell_type": "code",
   "execution_count": 15,
   "id": "6ac6d56b-2c2a-465c-84b0-dd9201b5edc8",
   "metadata": {},
   "outputs": [],
   "source": [
    "#Shifting 48 steps to get previous day\n",
    "ts_df[\"prev_day\"] = ts_df['energy_consumption'].shift(48)\n",
    "#Using the shifted column to fill missing\n",
    "ts_df['prev_day_imputed'] =  ts_df['energy_consumption_missing']\n",
    "ts_df.loc[null_mask,\"prev_day_imputed\"] = ts_df.loc[null_mask,\"prev_day\"]\n",
    "mae = mean_absolute_error(ts_df.loc[window, \"prev_day_imputed\"], ts_df.loc[window, \"energy_consumption\"])"
   ]
  },
  {
   "cell_type": "code",
   "execution_count": 16,
   "id": "4bba80b2-0e4c-46e1-bccb-99c831baf89f",
   "metadata": {},
   "outputs": [
    {
     "data": {
      "application/vnd.plotly.v1+json": {
       "config": {
        "plotlyServerURL": "https://plot.ly"
       },
       "data": [
        {
         "hovertemplate": "variable=value<br>series=energy_consumption<br>timestamp=%{x}<br>_value=%{y}<extra></extra>",
         "legendgroup": "value, energy_consumption",
         "line": {
          "color": "#636efa",
          "dash": "solid"
         },
         "marker": {
          "symbol": "circle"
         },
         "mode": "lines",
         "name": "Original",
         "orientation": "v",
         "showlegend": true,
         "type": "scatter",
         "x": [
          "2012-10-07T00:00:00",
          "2012-10-07T00:30:00",
          "2012-10-07T01:00:00",
          "2012-10-07T01:30:00",
          "2012-10-07T02:00:00",
          "2012-10-07T02:30:00",
          "2012-10-07T03:00:00",
          "2012-10-07T03:30:00",
          "2012-10-07T04:00:00",
          "2012-10-07T04:30:00",
          "2012-10-07T05:00:00",
          "2012-10-07T05:30:00",
          "2012-10-07T06:00:00",
          "2012-10-07T06:30:00",
          "2012-10-07T07:00:00",
          "2012-10-07T07:30:00",
          "2012-10-07T08:00:00",
          "2012-10-07T08:30:00",
          "2012-10-07T09:00:00",
          "2012-10-07T09:30:00",
          "2012-10-07T10:00:00",
          "2012-10-07T10:30:00",
          "2012-10-07T11:00:00",
          "2012-10-07T11:30:00",
          "2012-10-07T12:00:00",
          "2012-10-07T12:30:00",
          "2012-10-07T13:00:00",
          "2012-10-07T13:30:00",
          "2012-10-07T14:00:00",
          "2012-10-07T14:30:00",
          "2012-10-07T15:00:00",
          "2012-10-07T15:30:00",
          "2012-10-07T16:00:00",
          "2012-10-07T16:30:00",
          "2012-10-07T17:00:00",
          "2012-10-07T17:30:00",
          "2012-10-07T18:00:00",
          "2012-10-07T18:30:00",
          "2012-10-07T19:00:00",
          "2012-10-07T19:30:00",
          "2012-10-07T20:00:00",
          "2012-10-07T20:30:00",
          "2012-10-07T21:00:00",
          "2012-10-07T21:30:00",
          "2012-10-07T22:00:00",
          "2012-10-07T22:30:00",
          "2012-10-07T23:00:00",
          "2012-10-07T23:30:00",
          "2012-10-08T00:00:00",
          "2012-10-08T00:30:00",
          "2012-10-08T01:00:00",
          "2012-10-08T01:30:00",
          "2012-10-08T02:00:00",
          "2012-10-08T02:30:00",
          "2012-10-08T03:00:00",
          "2012-10-08T03:30:00",
          "2012-10-08T04:00:00",
          "2012-10-08T04:30:00",
          "2012-10-08T05:00:00",
          "2012-10-08T05:30:00",
          "2012-10-08T06:00:00",
          "2012-10-08T06:30:00",
          "2012-10-08T07:00:00",
          "2012-10-08T07:30:00",
          "2012-10-08T08:00:00",
          "2012-10-08T08:30:00",
          "2012-10-08T09:00:00",
          "2012-10-08T09:30:00",
          "2012-10-08T10:00:00",
          "2012-10-08T10:30:00",
          "2012-10-08T11:00:00",
          "2012-10-08T11:30:00",
          "2012-10-08T12:00:00",
          "2012-10-08T12:30:00",
          "2012-10-08T13:00:00",
          "2012-10-08T13:30:00",
          "2012-10-08T14:00:00",
          "2012-10-08T14:30:00",
          "2012-10-08T15:00:00",
          "2012-10-08T15:30:00",
          "2012-10-08T16:00:00",
          "2012-10-08T16:30:00",
          "2012-10-08T17:00:00",
          "2012-10-08T17:30:00",
          "2012-10-08T18:00:00",
          "2012-10-08T18:30:00",
          "2012-10-08T19:00:00",
          "2012-10-08T19:30:00",
          "2012-10-08T20:00:00",
          "2012-10-08T20:30:00",
          "2012-10-08T21:00:00",
          "2012-10-08T21:30:00",
          "2012-10-08T22:00:00",
          "2012-10-08T22:30:00",
          "2012-10-08T23:00:00",
          "2012-10-08T23:30:00"
         ],
         "xaxis": "x",
         "y": [
          0.023,
          0.0559999999999999,
          0.0139999999999999,
          0.031,
          0.04,
          0.022,
          0.057,
          0.003,
          0.042,
          0.04,
          0.021,
          0.045,
          0.015,
          0.039,
          0.111,
          0.089,
          0.061,
          0.046,
          0.052,
          0.243,
          1.211,
          1.035,
          0.275,
          1.1440001,
          0.365,
          0.7,
          0.249,
          0.261,
          0.288,
          0.575,
          0.212,
          0.282,
          0.396,
          0.119,
          0.047,
          0.291,
          0.257,
          0.294,
          0.285,
          0.28,
          0.303,
          0.266,
          0.305,
          0.297,
          0.412,
          0.2189999999999999,
          0.0559999999999999,
          0.036,
          0.034,
          0.038,
          0.011,
          0.051,
          0.023,
          0.055,
          0.009,
          0.037,
          0.035,
          0.036,
          0.037,
          0.01,
          0.053,
          0.023,
          0.27,
          0.2189999999999999,
          0.258,
          0.88,
          0.7170000000000001,
          0.25,
          0.324,
          0.535,
          0.28,
          0.316,
          0.818,
          0.675,
          0.319,
          0.0579999999999999,
          0.059,
          0.259,
          0.337,
          0.212,
          0.238,
          0.209,
          0.24,
          0.17,
          0.743,
          0.8190000000000001,
          0.336,
          0.284,
          0.294,
          0.2789999999999999,
          0.253,
          0.311,
          0.357,
          0.1119999999999999,
          0.016,
          0.026
         ],
         "yaxis": "y"
        },
        {
         "hovertemplate": "variable=value<br>series=prev_day_imputed<br>timestamp=%{x}<br>_value=%{y}<extra></extra>",
         "legendgroup": "value, prev_day_imputed",
         "line": {
          "color": "#636efa",
          "dash": "dot"
         },
         "marker": {
          "symbol": "circle"
         },
         "mode": "lines",
         "name": "Previous Day Imputed",
         "orientation": "v",
         "showlegend": true,
         "type": "scatter",
         "x": [
          "2012-10-07T00:00:00",
          "2012-10-07T00:30:00",
          "2012-10-07T01:00:00",
          "2012-10-07T01:30:00",
          "2012-10-07T02:00:00",
          "2012-10-07T02:30:00",
          "2012-10-07T03:00:00",
          "2012-10-07T03:30:00",
          "2012-10-07T04:00:00",
          "2012-10-07T04:30:00",
          "2012-10-07T05:00:00",
          "2012-10-07T05:30:00",
          "2012-10-07T06:00:00",
          "2012-10-07T06:30:00",
          "2012-10-07T07:00:00",
          "2012-10-07T07:30:00",
          "2012-10-07T08:00:00",
          "2012-10-07T08:30:00",
          "2012-10-07T09:00:00",
          "2012-10-07T09:30:00",
          "2012-10-07T10:00:00",
          "2012-10-07T10:30:00",
          "2012-10-07T11:00:00",
          "2012-10-07T11:30:00",
          "2012-10-07T12:00:00",
          "2012-10-07T12:30:00",
          "2012-10-07T13:00:00",
          "2012-10-07T13:30:00",
          "2012-10-07T14:00:00",
          "2012-10-07T14:30:00",
          "2012-10-07T15:00:00",
          "2012-10-07T15:30:00",
          "2012-10-07T16:00:00",
          "2012-10-07T16:30:00",
          "2012-10-07T17:00:00",
          "2012-10-07T17:30:00",
          "2012-10-07T18:00:00",
          "2012-10-07T18:30:00",
          "2012-10-07T19:00:00",
          "2012-10-07T19:30:00",
          "2012-10-07T20:00:00",
          "2012-10-07T20:30:00",
          "2012-10-07T21:00:00",
          "2012-10-07T21:30:00",
          "2012-10-07T22:00:00",
          "2012-10-07T22:30:00",
          "2012-10-07T23:00:00",
          "2012-10-07T23:30:00",
          "2012-10-08T00:00:00",
          "2012-10-08T00:30:00",
          "2012-10-08T01:00:00",
          "2012-10-08T01:30:00",
          "2012-10-08T02:00:00",
          "2012-10-08T02:30:00",
          "2012-10-08T03:00:00",
          "2012-10-08T03:30:00",
          "2012-10-08T04:00:00",
          "2012-10-08T04:30:00",
          "2012-10-08T05:00:00",
          "2012-10-08T05:30:00",
          "2012-10-08T06:00:00",
          "2012-10-08T06:30:00",
          "2012-10-08T07:00:00",
          "2012-10-08T07:30:00",
          "2012-10-08T08:00:00",
          "2012-10-08T08:30:00",
          "2012-10-08T09:00:00",
          "2012-10-08T09:30:00",
          "2012-10-08T10:00:00",
          "2012-10-08T10:30:00",
          "2012-10-08T11:00:00",
          "2012-10-08T11:30:00",
          "2012-10-08T12:00:00",
          "2012-10-08T12:30:00",
          "2012-10-08T13:00:00",
          "2012-10-08T13:30:00",
          "2012-10-08T14:00:00",
          "2012-10-08T14:30:00",
          "2012-10-08T15:00:00",
          "2012-10-08T15:30:00",
          "2012-10-08T16:00:00",
          "2012-10-08T16:30:00",
          "2012-10-08T17:00:00",
          "2012-10-08T17:30:00",
          "2012-10-08T18:00:00",
          "2012-10-08T18:30:00",
          "2012-10-08T19:00:00",
          "2012-10-08T19:30:00",
          "2012-10-08T20:00:00",
          "2012-10-08T20:30:00",
          "2012-10-08T21:00:00",
          "2012-10-08T21:30:00",
          "2012-10-08T22:00:00",
          "2012-10-08T22:30:00",
          "2012-10-08T23:00:00",
          "2012-10-08T23:30:00"
         ],
         "xaxis": "x",
         "y": [
          0.035,
          0.04,
          0.021,
          0.057,
          0.033,
          0.04,
          0.031,
          0.023,
          0.062,
          0.027,
          0.04,
          0.0279999999999999,
          0.024,
          0.061,
          0.153,
          0.073,
          0.799,
          0.906,
          0.264,
          0.505,
          0.291,
          0.286,
          0.261,
          0.272,
          0.3389999999999999,
          0.286,
          0.456,
          0.5820000000000001,
          0.105,
          0.0969999999999999,
          0.095,
          0.283,
          0.272,
          0.264,
          0.286,
          0.365,
          0.3,
          0.5760000000000001,
          0.532,
          0.302,
          0.2769999999999999,
          0.262,
          0.308,
          0.27,
          0.325,
          0.071,
          0.017,
          0.049,
          0.023,
          0.0559999999999999,
          0.0139999999999999,
          0.031,
          0.04,
          0.022,
          0.057,
          0.003,
          0.042,
          0.04,
          0.021,
          0.045,
          0.015,
          0.039,
          0.111,
          0.089,
          0.061,
          0.046,
          0.052,
          0.243,
          1.211,
          1.035,
          0.275,
          1.1440001,
          0.365,
          0.7,
          0.249,
          0.261,
          0.288,
          0.575,
          0.212,
          0.282,
          0.396,
          0.119,
          0.047,
          0.291,
          0.257,
          0.294,
          0.285,
          0.28,
          0.303,
          0.266,
          0.305,
          0.297,
          0.412,
          0.2189999999999999,
          0.0559999999999999,
          0.036
         ],
         "yaxis": "y"
        }
       ],
       "layout": {
        "autosize": false,
        "height": 500,
        "legend": {
         "font": {
          "size": 15
         },
         "orientation": "h",
         "title": {},
         "tracegroupgap": 0,
         "x": 1,
         "xanchor": "right",
         "y": 0.98,
         "yanchor": "bottom"
        },
        "template": {
         "data": {
          "bar": [
           {
            "error_x": {
             "color": "#2a3f5f"
            },
            "error_y": {
             "color": "#2a3f5f"
            },
            "marker": {
             "line": {
              "color": "white",
              "width": 0.5
             },
             "pattern": {
              "fillmode": "overlay",
              "size": 10,
              "solidity": 0.2
             }
            },
            "type": "bar"
           }
          ],
          "barpolar": [
           {
            "marker": {
             "line": {
              "color": "white",
              "width": 0.5
             },
             "pattern": {
              "fillmode": "overlay",
              "size": 10,
              "solidity": 0.2
             }
            },
            "type": "barpolar"
           }
          ],
          "carpet": [
           {
            "aaxis": {
             "endlinecolor": "#2a3f5f",
             "gridcolor": "#C8D4E3",
             "linecolor": "#C8D4E3",
             "minorgridcolor": "#C8D4E3",
             "startlinecolor": "#2a3f5f"
            },
            "baxis": {
             "endlinecolor": "#2a3f5f",
             "gridcolor": "#C8D4E3",
             "linecolor": "#C8D4E3",
             "minorgridcolor": "#C8D4E3",
             "startlinecolor": "#2a3f5f"
            },
            "type": "carpet"
           }
          ],
          "choropleth": [
           {
            "colorbar": {
             "outlinewidth": 0,
             "ticks": ""
            },
            "type": "choropleth"
           }
          ],
          "contour": [
           {
            "colorbar": {
             "outlinewidth": 0,
             "ticks": ""
            },
            "colorscale": [
             [
              0,
              "#0d0887"
             ],
             [
              0.1111111111111111,
              "#46039f"
             ],
             [
              0.2222222222222222,
              "#7201a8"
             ],
             [
              0.3333333333333333,
              "#9c179e"
             ],
             [
              0.4444444444444444,
              "#bd3786"
             ],
             [
              0.5555555555555556,
              "#d8576b"
             ],
             [
              0.6666666666666666,
              "#ed7953"
             ],
             [
              0.7777777777777778,
              "#fb9f3a"
             ],
             [
              0.8888888888888888,
              "#fdca26"
             ],
             [
              1,
              "#f0f921"
             ]
            ],
            "type": "contour"
           }
          ],
          "contourcarpet": [
           {
            "colorbar": {
             "outlinewidth": 0,
             "ticks": ""
            },
            "type": "contourcarpet"
           }
          ],
          "heatmap": [
           {
            "colorbar": {
             "outlinewidth": 0,
             "ticks": ""
            },
            "colorscale": [
             [
              0,
              "#0d0887"
             ],
             [
              0.1111111111111111,
              "#46039f"
             ],
             [
              0.2222222222222222,
              "#7201a8"
             ],
             [
              0.3333333333333333,
              "#9c179e"
             ],
             [
              0.4444444444444444,
              "#bd3786"
             ],
             [
              0.5555555555555556,
              "#d8576b"
             ],
             [
              0.6666666666666666,
              "#ed7953"
             ],
             [
              0.7777777777777778,
              "#fb9f3a"
             ],
             [
              0.8888888888888888,
              "#fdca26"
             ],
             [
              1,
              "#f0f921"
             ]
            ],
            "type": "heatmap"
           }
          ],
          "heatmapgl": [
           {
            "colorbar": {
             "outlinewidth": 0,
             "ticks": ""
            },
            "colorscale": [
             [
              0,
              "#0d0887"
             ],
             [
              0.1111111111111111,
              "#46039f"
             ],
             [
              0.2222222222222222,
              "#7201a8"
             ],
             [
              0.3333333333333333,
              "#9c179e"
             ],
             [
              0.4444444444444444,
              "#bd3786"
             ],
             [
              0.5555555555555556,
              "#d8576b"
             ],
             [
              0.6666666666666666,
              "#ed7953"
             ],
             [
              0.7777777777777778,
              "#fb9f3a"
             ],
             [
              0.8888888888888888,
              "#fdca26"
             ],
             [
              1,
              "#f0f921"
             ]
            ],
            "type": "heatmapgl"
           }
          ],
          "histogram": [
           {
            "marker": {
             "pattern": {
              "fillmode": "overlay",
              "size": 10,
              "solidity": 0.2
             }
            },
            "type": "histogram"
           }
          ],
          "histogram2d": [
           {
            "colorbar": {
             "outlinewidth": 0,
             "ticks": ""
            },
            "colorscale": [
             [
              0,
              "#0d0887"
             ],
             [
              0.1111111111111111,
              "#46039f"
             ],
             [
              0.2222222222222222,
              "#7201a8"
             ],
             [
              0.3333333333333333,
              "#9c179e"
             ],
             [
              0.4444444444444444,
              "#bd3786"
             ],
             [
              0.5555555555555556,
              "#d8576b"
             ],
             [
              0.6666666666666666,
              "#ed7953"
             ],
             [
              0.7777777777777778,
              "#fb9f3a"
             ],
             [
              0.8888888888888888,
              "#fdca26"
             ],
             [
              1,
              "#f0f921"
             ]
            ],
            "type": "histogram2d"
           }
          ],
          "histogram2dcontour": [
           {
            "colorbar": {
             "outlinewidth": 0,
             "ticks": ""
            },
            "colorscale": [
             [
              0,
              "#0d0887"
             ],
             [
              0.1111111111111111,
              "#46039f"
             ],
             [
              0.2222222222222222,
              "#7201a8"
             ],
             [
              0.3333333333333333,
              "#9c179e"
             ],
             [
              0.4444444444444444,
              "#bd3786"
             ],
             [
              0.5555555555555556,
              "#d8576b"
             ],
             [
              0.6666666666666666,
              "#ed7953"
             ],
             [
              0.7777777777777778,
              "#fb9f3a"
             ],
             [
              0.8888888888888888,
              "#fdca26"
             ],
             [
              1,
              "#f0f921"
             ]
            ],
            "type": "histogram2dcontour"
           }
          ],
          "mesh3d": [
           {
            "colorbar": {
             "outlinewidth": 0,
             "ticks": ""
            },
            "type": "mesh3d"
           }
          ],
          "parcoords": [
           {
            "line": {
             "colorbar": {
              "outlinewidth": 0,
              "ticks": ""
             }
            },
            "type": "parcoords"
           }
          ],
          "pie": [
           {
            "automargin": true,
            "type": "pie"
           }
          ],
          "scatter": [
           {
            "fillpattern": {
             "fillmode": "overlay",
             "size": 10,
             "solidity": 0.2
            },
            "type": "scatter"
           }
          ],
          "scatter3d": [
           {
            "line": {
             "colorbar": {
              "outlinewidth": 0,
              "ticks": ""
             }
            },
            "marker": {
             "colorbar": {
              "outlinewidth": 0,
              "ticks": ""
             }
            },
            "type": "scatter3d"
           }
          ],
          "scattercarpet": [
           {
            "marker": {
             "colorbar": {
              "outlinewidth": 0,
              "ticks": ""
             }
            },
            "type": "scattercarpet"
           }
          ],
          "scattergeo": [
           {
            "marker": {
             "colorbar": {
              "outlinewidth": 0,
              "ticks": ""
             }
            },
            "type": "scattergeo"
           }
          ],
          "scattergl": [
           {
            "marker": {
             "colorbar": {
              "outlinewidth": 0,
              "ticks": ""
             }
            },
            "type": "scattergl"
           }
          ],
          "scattermapbox": [
           {
            "marker": {
             "colorbar": {
              "outlinewidth": 0,
              "ticks": ""
             }
            },
            "type": "scattermapbox"
           }
          ],
          "scatterpolar": [
           {
            "marker": {
             "colorbar": {
              "outlinewidth": 0,
              "ticks": ""
             }
            },
            "type": "scatterpolar"
           }
          ],
          "scatterpolargl": [
           {
            "marker": {
             "colorbar": {
              "outlinewidth": 0,
              "ticks": ""
             }
            },
            "type": "scatterpolargl"
           }
          ],
          "scatterternary": [
           {
            "marker": {
             "colorbar": {
              "outlinewidth": 0,
              "ticks": ""
             }
            },
            "type": "scatterternary"
           }
          ],
          "surface": [
           {
            "colorbar": {
             "outlinewidth": 0,
             "ticks": ""
            },
            "colorscale": [
             [
              0,
              "#0d0887"
             ],
             [
              0.1111111111111111,
              "#46039f"
             ],
             [
              0.2222222222222222,
              "#7201a8"
             ],
             [
              0.3333333333333333,
              "#9c179e"
             ],
             [
              0.4444444444444444,
              "#bd3786"
             ],
             [
              0.5555555555555556,
              "#d8576b"
             ],
             [
              0.6666666666666666,
              "#ed7953"
             ],
             [
              0.7777777777777778,
              "#fb9f3a"
             ],
             [
              0.8888888888888888,
              "#fdca26"
             ],
             [
              1,
              "#f0f921"
             ]
            ],
            "type": "surface"
           }
          ],
          "table": [
           {
            "cells": {
             "fill": {
              "color": "#EBF0F8"
             },
             "line": {
              "color": "white"
             }
            },
            "header": {
             "fill": {
              "color": "#C8D4E3"
             },
             "line": {
              "color": "white"
             }
            },
            "type": "table"
           }
          ]
         },
         "layout": {
          "annotationdefaults": {
           "arrowcolor": "#2a3f5f",
           "arrowhead": 0,
           "arrowwidth": 1
          },
          "autotypenumbers": "strict",
          "coloraxis": {
           "colorbar": {
            "outlinewidth": 0,
            "ticks": ""
           }
          },
          "colorscale": {
           "diverging": [
            [
             0,
             "#8e0152"
            ],
            [
             0.1,
             "#c51b7d"
            ],
            [
             0.2,
             "#de77ae"
            ],
            [
             0.3,
             "#f1b6da"
            ],
            [
             0.4,
             "#fde0ef"
            ],
            [
             0.5,
             "#f7f7f7"
            ],
            [
             0.6,
             "#e6f5d0"
            ],
            [
             0.7,
             "#b8e186"
            ],
            [
             0.8,
             "#7fbc41"
            ],
            [
             0.9,
             "#4d9221"
            ],
            [
             1,
             "#276419"
            ]
           ],
           "sequential": [
            [
             0,
             "#0d0887"
            ],
            [
             0.1111111111111111,
             "#46039f"
            ],
            [
             0.2222222222222222,
             "#7201a8"
            ],
            [
             0.3333333333333333,
             "#9c179e"
            ],
            [
             0.4444444444444444,
             "#bd3786"
            ],
            [
             0.5555555555555556,
             "#d8576b"
            ],
            [
             0.6666666666666666,
             "#ed7953"
            ],
            [
             0.7777777777777778,
             "#fb9f3a"
            ],
            [
             0.8888888888888888,
             "#fdca26"
            ],
            [
             1,
             "#f0f921"
            ]
           ],
           "sequentialminus": [
            [
             0,
             "#0d0887"
            ],
            [
             0.1111111111111111,
             "#46039f"
            ],
            [
             0.2222222222222222,
             "#7201a8"
            ],
            [
             0.3333333333333333,
             "#9c179e"
            ],
            [
             0.4444444444444444,
             "#bd3786"
            ],
            [
             0.5555555555555556,
             "#d8576b"
            ],
            [
             0.6666666666666666,
             "#ed7953"
            ],
            [
             0.7777777777777778,
             "#fb9f3a"
            ],
            [
             0.8888888888888888,
             "#fdca26"
            ],
            [
             1,
             "#f0f921"
            ]
           ]
          },
          "colorway": [
           "#636efa",
           "#EF553B",
           "#00cc96",
           "#ab63fa",
           "#FFA15A",
           "#19d3f3",
           "#FF6692",
           "#B6E880",
           "#FF97FF",
           "#FECB52"
          ],
          "font": {
           "color": "#2a3f5f"
          },
          "geo": {
           "bgcolor": "white",
           "lakecolor": "white",
           "landcolor": "white",
           "showlakes": true,
           "showland": true,
           "subunitcolor": "#C8D4E3"
          },
          "hoverlabel": {
           "align": "left"
          },
          "hovermode": "closest",
          "mapbox": {
           "style": "light"
          },
          "paper_bgcolor": "white",
          "plot_bgcolor": "white",
          "polar": {
           "angularaxis": {
            "gridcolor": "#EBF0F8",
            "linecolor": "#EBF0F8",
            "ticks": ""
           },
           "bgcolor": "white",
           "radialaxis": {
            "gridcolor": "#EBF0F8",
            "linecolor": "#EBF0F8",
            "ticks": ""
           }
          },
          "scene": {
           "xaxis": {
            "backgroundcolor": "white",
            "gridcolor": "#DFE8F3",
            "gridwidth": 2,
            "linecolor": "#EBF0F8",
            "showbackground": true,
            "ticks": "",
            "zerolinecolor": "#EBF0F8"
           },
           "yaxis": {
            "backgroundcolor": "white",
            "gridcolor": "#DFE8F3",
            "gridwidth": 2,
            "linecolor": "#EBF0F8",
            "showbackground": true,
            "ticks": "",
            "zerolinecolor": "#EBF0F8"
           },
           "zaxis": {
            "backgroundcolor": "white",
            "gridcolor": "#DFE8F3",
            "gridwidth": 2,
            "linecolor": "#EBF0F8",
            "showbackground": true,
            "ticks": "",
            "zerolinecolor": "#EBF0F8"
           }
          },
          "shapedefaults": {
           "line": {
            "color": "#2a3f5f"
           }
          },
          "ternary": {
           "aaxis": {
            "gridcolor": "#DFE8F3",
            "linecolor": "#A2B1C6",
            "ticks": ""
           },
           "baxis": {
            "gridcolor": "#DFE8F3",
            "linecolor": "#A2B1C6",
            "ticks": ""
           },
           "bgcolor": "white",
           "caxis": {
            "gridcolor": "#DFE8F3",
            "linecolor": "#A2B1C6",
            "ticks": ""
           }
          },
          "title": {
           "x": 0.05
          },
          "xaxis": {
           "automargin": true,
           "gridcolor": "#EBF0F8",
           "linecolor": "#EBF0F8",
           "ticks": "",
           "title": {
            "standoff": 15
           },
           "zerolinecolor": "#EBF0F8",
           "zerolinewidth": 2
          },
          "yaxis": {
           "automargin": true,
           "gridcolor": "#EBF0F8",
           "linecolor": "#EBF0F8",
           "ticks": "",
           "title": {
            "standoff": 15
           },
           "zerolinecolor": "#EBF0F8",
           "zerolinewidth": 2
          }
         }
        },
        "title": {
         "font": {
          "size": 20
         },
         "text": "Imputing with Previous Day | MAE=0.168",
         "x": 0.5,
         "xanchor": "center",
         "yanchor": "top"
        },
        "width": 900,
        "xaxis": {
         "anchor": "y",
         "domain": [
          0,
          1
         ],
         "tickfont": {
          "size": 15
         },
         "title": {
          "font": {
           "size": 15
          },
          "text": "Day"
         }
        },
        "yaxis": {
         "anchor": "x",
         "domain": [
          0,
          1
         ],
         "tickfont": {
          "size": 15
         },
         "title": {
          "font": {
           "size": 15
          },
          "text": "Value"
         }
        }
       }
      }
     },
     "metadata": {},
     "output_type": "display_data"
    }
   ],
   "source": [
    "plot_df = pd.melt(ts_df.loc[window,['energy_consumption','prev_day_imputed']].reset_index(), id_vars='timestamp', var_name=\"series\")\n",
    "fig = px.line(plot_df, x=\"timestamp\", y=[\"value\"], line_dash=\"series\", title=f\"Imputing with Previous Day | MAE={mae:.3f}\")\n",
    "fig = format_plot(fig, ['Original', 'Previous Day Imputed'])\n",
    "fig.write_image(\"imgs/chapter_2/previous_day_imputation.png\")\n",
    "fig"
   ]
  },
  {
   "cell_type": "markdown",
   "id": "6d2a5c02-7eda-460b-aee5-b996c9e1b9a7",
   "metadata": {},
   "source": [
    "#### Hourly Profile"
   ]
  },
  {
   "cell_type": "code",
   "execution_count": 17,
   "id": "8b9f23fa-6a26-4eff-b41b-a094d0609ddb",
   "metadata": {},
   "outputs": [],
   "source": [
    "#Create a column with the Hour from timestamp\n",
    "ts_df[\"hour\"] = ts_df.index.hour\n",
    "#Calculate hourly average consumption\n",
    "hourly_profile = ts_df.groupby(['hour'])['energy_consumption'].mean().reset_index()\n",
    "hourly_profile.rename(columns={\"energy_consumption\": \"hourly_profile\"}, inplace=True)\n",
    "#Saving the index because it gets lost in merge\n",
    "idx = ts_df.index\n",
    "#Merge the hourly profile dataframe to ts dataframe\n",
    "ts_df = ts_df.merge(hourly_profile, on=['hour'], how='left', validate=\"many_to_one\")\n",
    "ts_df.index = idx\n",
    "\n",
    "#Using the hourly profile to fill missing\n",
    "ts_df['hourly_profile_imputed'] = ts_df['energy_consumption_missing']\n",
    "ts_df.loc[null_mask,\"hourly_profile_imputed\"] = ts_df.loc[null_mask,\"hourly_profile\"]\n",
    "mae = mean_absolute_error(ts_df.loc[window, \"hourly_profile_imputed\"], ts_df.loc[window, \"energy_consumption\"])"
   ]
  },
  {
   "cell_type": "code",
   "execution_count": 18,
   "id": "0d73c616-9ea6-410a-9bb5-3443c75d7c06",
   "metadata": {},
   "outputs": [
    {
     "data": {
      "application/vnd.plotly.v1+json": {
       "config": {
        "plotlyServerURL": "https://plot.ly"
       },
       "data": [
        {
         "hovertemplate": "variable=value<br>series=energy_consumption<br>timestamp=%{x}<br>_value=%{y}<extra></extra>",
         "legendgroup": "value, energy_consumption",
         "line": {
          "color": "#636efa",
          "dash": "solid"
         },
         "marker": {
          "symbol": "circle"
         },
         "mode": "lines",
         "name": "Original",
         "orientation": "v",
         "showlegend": true,
         "type": "scatter",
         "x": [
          "2012-10-07T00:00:00",
          "2012-10-07T00:30:00",
          "2012-10-07T01:00:00",
          "2012-10-07T01:30:00",
          "2012-10-07T02:00:00",
          "2012-10-07T02:30:00",
          "2012-10-07T03:00:00",
          "2012-10-07T03:30:00",
          "2012-10-07T04:00:00",
          "2012-10-07T04:30:00",
          "2012-10-07T05:00:00",
          "2012-10-07T05:30:00",
          "2012-10-07T06:00:00",
          "2012-10-07T06:30:00",
          "2012-10-07T07:00:00",
          "2012-10-07T07:30:00",
          "2012-10-07T08:00:00",
          "2012-10-07T08:30:00",
          "2012-10-07T09:00:00",
          "2012-10-07T09:30:00",
          "2012-10-07T10:00:00",
          "2012-10-07T10:30:00",
          "2012-10-07T11:00:00",
          "2012-10-07T11:30:00",
          "2012-10-07T12:00:00",
          "2012-10-07T12:30:00",
          "2012-10-07T13:00:00",
          "2012-10-07T13:30:00",
          "2012-10-07T14:00:00",
          "2012-10-07T14:30:00",
          "2012-10-07T15:00:00",
          "2012-10-07T15:30:00",
          "2012-10-07T16:00:00",
          "2012-10-07T16:30:00",
          "2012-10-07T17:00:00",
          "2012-10-07T17:30:00",
          "2012-10-07T18:00:00",
          "2012-10-07T18:30:00",
          "2012-10-07T19:00:00",
          "2012-10-07T19:30:00",
          "2012-10-07T20:00:00",
          "2012-10-07T20:30:00",
          "2012-10-07T21:00:00",
          "2012-10-07T21:30:00",
          "2012-10-07T22:00:00",
          "2012-10-07T22:30:00",
          "2012-10-07T23:00:00",
          "2012-10-07T23:30:00",
          "2012-10-08T00:00:00",
          "2012-10-08T00:30:00",
          "2012-10-08T01:00:00",
          "2012-10-08T01:30:00",
          "2012-10-08T02:00:00",
          "2012-10-08T02:30:00",
          "2012-10-08T03:00:00",
          "2012-10-08T03:30:00",
          "2012-10-08T04:00:00",
          "2012-10-08T04:30:00",
          "2012-10-08T05:00:00",
          "2012-10-08T05:30:00",
          "2012-10-08T06:00:00",
          "2012-10-08T06:30:00",
          "2012-10-08T07:00:00",
          "2012-10-08T07:30:00",
          "2012-10-08T08:00:00",
          "2012-10-08T08:30:00",
          "2012-10-08T09:00:00",
          "2012-10-08T09:30:00",
          "2012-10-08T10:00:00",
          "2012-10-08T10:30:00",
          "2012-10-08T11:00:00",
          "2012-10-08T11:30:00",
          "2012-10-08T12:00:00",
          "2012-10-08T12:30:00",
          "2012-10-08T13:00:00",
          "2012-10-08T13:30:00",
          "2012-10-08T14:00:00",
          "2012-10-08T14:30:00",
          "2012-10-08T15:00:00",
          "2012-10-08T15:30:00",
          "2012-10-08T16:00:00",
          "2012-10-08T16:30:00",
          "2012-10-08T17:00:00",
          "2012-10-08T17:30:00",
          "2012-10-08T18:00:00",
          "2012-10-08T18:30:00",
          "2012-10-08T19:00:00",
          "2012-10-08T19:30:00",
          "2012-10-08T20:00:00",
          "2012-10-08T20:30:00",
          "2012-10-08T21:00:00",
          "2012-10-08T21:30:00",
          "2012-10-08T22:00:00",
          "2012-10-08T22:30:00",
          "2012-10-08T23:00:00",
          "2012-10-08T23:30:00"
         ],
         "xaxis": "x",
         "y": [
          0.023,
          0.0559999999999999,
          0.0139999999999999,
          0.031,
          0.04,
          0.022,
          0.057,
          0.003,
          0.042,
          0.04,
          0.021,
          0.045,
          0.015,
          0.039,
          0.111,
          0.089,
          0.061,
          0.046,
          0.052,
          0.243,
          1.211,
          1.035,
          0.275,
          1.1440001,
          0.365,
          0.7,
          0.249,
          0.261,
          0.288,
          0.575,
          0.212,
          0.282,
          0.396,
          0.119,
          0.047,
          0.291,
          0.257,
          0.294,
          0.285,
          0.28,
          0.303,
          0.266,
          0.305,
          0.297,
          0.412,
          0.2189999999999999,
          0.0559999999999999,
          0.036,
          0.034,
          0.038,
          0.011,
          0.051,
          0.023,
          0.055,
          0.009,
          0.037,
          0.035,
          0.036,
          0.037,
          0.01,
          0.053,
          0.023,
          0.27,
          0.2189999999999999,
          0.258,
          0.88,
          0.7170000000000001,
          0.25,
          0.324,
          0.535,
          0.28,
          0.316,
          0.818,
          0.675,
          0.319,
          0.0579999999999999,
          0.059,
          0.259,
          0.337,
          0.212,
          0.238,
          0.209,
          0.24,
          0.17,
          0.743,
          0.8190000000000001,
          0.336,
          0.284,
          0.294,
          0.2789999999999999,
          0.253,
          0.311,
          0.357,
          0.1119999999999999,
          0.016,
          0.026
         ],
         "yaxis": "y"
        },
        {
         "hovertemplate": "variable=value<br>series=hourly_profile_imputed<br>timestamp=%{x}<br>_value=%{y}<extra></extra>",
         "legendgroup": "value, hourly_profile_imputed",
         "line": {
          "color": "#636efa",
          "dash": "dot"
         },
         "marker": {
          "symbol": "circle"
         },
         "mode": "lines",
         "name": "Hourly Profile Imputed",
         "orientation": "v",
         "showlegend": true,
         "type": "scatter",
         "x": [
          "2012-10-07T00:00:00",
          "2012-10-07T00:30:00",
          "2012-10-07T01:00:00",
          "2012-10-07T01:30:00",
          "2012-10-07T02:00:00",
          "2012-10-07T02:30:00",
          "2012-10-07T03:00:00",
          "2012-10-07T03:30:00",
          "2012-10-07T04:00:00",
          "2012-10-07T04:30:00",
          "2012-10-07T05:00:00",
          "2012-10-07T05:30:00",
          "2012-10-07T06:00:00",
          "2012-10-07T06:30:00",
          "2012-10-07T07:00:00",
          "2012-10-07T07:30:00",
          "2012-10-07T08:00:00",
          "2012-10-07T08:30:00",
          "2012-10-07T09:00:00",
          "2012-10-07T09:30:00",
          "2012-10-07T10:00:00",
          "2012-10-07T10:30:00",
          "2012-10-07T11:00:00",
          "2012-10-07T11:30:00",
          "2012-10-07T12:00:00",
          "2012-10-07T12:30:00",
          "2012-10-07T13:00:00",
          "2012-10-07T13:30:00",
          "2012-10-07T14:00:00",
          "2012-10-07T14:30:00",
          "2012-10-07T15:00:00",
          "2012-10-07T15:30:00",
          "2012-10-07T16:00:00",
          "2012-10-07T16:30:00",
          "2012-10-07T17:00:00",
          "2012-10-07T17:30:00",
          "2012-10-07T18:00:00",
          "2012-10-07T18:30:00",
          "2012-10-07T19:00:00",
          "2012-10-07T19:30:00",
          "2012-10-07T20:00:00",
          "2012-10-07T20:30:00",
          "2012-10-07T21:00:00",
          "2012-10-07T21:30:00",
          "2012-10-07T22:00:00",
          "2012-10-07T22:30:00",
          "2012-10-07T23:00:00",
          "2012-10-07T23:30:00",
          "2012-10-08T00:00:00",
          "2012-10-08T00:30:00",
          "2012-10-08T01:00:00",
          "2012-10-08T01:30:00",
          "2012-10-08T02:00:00",
          "2012-10-08T02:30:00",
          "2012-10-08T03:00:00",
          "2012-10-08T03:30:00",
          "2012-10-08T04:00:00",
          "2012-10-08T04:30:00",
          "2012-10-08T05:00:00",
          "2012-10-08T05:30:00",
          "2012-10-08T06:00:00",
          "2012-10-08T06:30:00",
          "2012-10-08T07:00:00",
          "2012-10-08T07:30:00",
          "2012-10-08T08:00:00",
          "2012-10-08T08:30:00",
          "2012-10-08T09:00:00",
          "2012-10-08T09:30:00",
          "2012-10-08T10:00:00",
          "2012-10-08T10:30:00",
          "2012-10-08T11:00:00",
          "2012-10-08T11:30:00",
          "2012-10-08T12:00:00",
          "2012-10-08T12:30:00",
          "2012-10-08T13:00:00",
          "2012-10-08T13:30:00",
          "2012-10-08T14:00:00",
          "2012-10-08T14:30:00",
          "2012-10-08T15:00:00",
          "2012-10-08T15:30:00",
          "2012-10-08T16:00:00",
          "2012-10-08T16:30:00",
          "2012-10-08T17:00:00",
          "2012-10-08T17:30:00",
          "2012-10-08T18:00:00",
          "2012-10-08T18:30:00",
          "2012-10-08T19:00:00",
          "2012-10-08T19:30:00",
          "2012-10-08T20:00:00",
          "2012-10-08T20:30:00",
          "2012-10-08T21:00:00",
          "2012-10-08T21:30:00",
          "2012-10-08T22:00:00",
          "2012-10-08T22:30:00",
          "2012-10-08T23:00:00",
          "2012-10-08T23:30:00"
         ],
         "xaxis": "x",
         "y": [
          0.08438388331218274,
          0.08438388331218274,
          0.034415609073604046,
          0.034415609073604046,
          0.03259010152284263,
          0.03259010152284263,
          0.032725253807106586,
          0.032725253807106586,
          0.032565355329949225,
          0.032565355329949225,
          0.03563959390862943,
          0.03563959390862943,
          0.05846446700507613,
          0.05846446700507613,
          0.12432868045685277,
          0.12432868045685277,
          0.31414467055837564,
          0.31414467055837564,
          0.47566497449238576,
          0.47566497449238576,
          0.5717062187182741,
          0.5717062187182741,
          0.4321827410532995,
          0.4321827410532995,
          0.3372753805203046,
          0.3372753805203046,
          0.35889784251269036,
          0.35889784251269036,
          0.33650507633248733,
          0.33650507633248733,
          0.25380266510152283,
          0.25380266510152283,
          0.2348197967005076,
          0.2348197967005076,
          0.25247588819796957,
          0.25247588819796957,
          0.36169352791878173,
          0.36169352791878173,
          0.39371065983502535,
          0.39371065983502535,
          0.3121871826142132,
          0.3121871826142132,
          0.2867284263324873,
          0.2867284263324873,
          0.2668375633248731,
          0.2668375633248731,
          0.2174425398095238,
          0.2174425398095238,
          0.08438388331218274,
          0.08438388331218274,
          0.034415609073604046,
          0.034415609073604046,
          0.03259010152284263,
          0.03259010152284263,
          0.032725253807106586,
          0.032725253807106586,
          0.032565355329949225,
          0.032565355329949225,
          0.03563959390862943,
          0.03563959390862943,
          0.05846446700507613,
          0.05846446700507613,
          0.12432868045685277,
          0.12432868045685277,
          0.31414467055837564,
          0.31414467055837564,
          0.47566497449238576,
          0.47566497449238576,
          0.5717062187182741,
          0.5717062187182741,
          0.4321827410532995,
          0.4321827410532995,
          0.3372753805203046,
          0.3372753805203046,
          0.35889784251269036,
          0.35889784251269036,
          0.33650507633248733,
          0.33650507633248733,
          0.25380266510152283,
          0.25380266510152283,
          0.2348197967005076,
          0.2348197967005076,
          0.25247588819796957,
          0.25247588819796957,
          0.36169352791878173,
          0.36169352791878173,
          0.39371065983502535,
          0.39371065983502535,
          0.3121871826142132,
          0.3121871826142132,
          0.2867284263324873,
          0.2867284263324873,
          0.2668375633248731,
          0.2668375633248731,
          0.2174425398095238,
          0.2174425398095238
         ],
         "yaxis": "y"
        }
       ],
       "layout": {
        "autosize": false,
        "height": 500,
        "legend": {
         "font": {
          "size": 15
         },
         "orientation": "h",
         "title": {},
         "tracegroupgap": 0,
         "x": 1,
         "xanchor": "right",
         "y": 0.98,
         "yanchor": "bottom"
        },
        "template": {
         "data": {
          "bar": [
           {
            "error_x": {
             "color": "#2a3f5f"
            },
            "error_y": {
             "color": "#2a3f5f"
            },
            "marker": {
             "line": {
              "color": "white",
              "width": 0.5
             },
             "pattern": {
              "fillmode": "overlay",
              "size": 10,
              "solidity": 0.2
             }
            },
            "type": "bar"
           }
          ],
          "barpolar": [
           {
            "marker": {
             "line": {
              "color": "white",
              "width": 0.5
             },
             "pattern": {
              "fillmode": "overlay",
              "size": 10,
              "solidity": 0.2
             }
            },
            "type": "barpolar"
           }
          ],
          "carpet": [
           {
            "aaxis": {
             "endlinecolor": "#2a3f5f",
             "gridcolor": "#C8D4E3",
             "linecolor": "#C8D4E3",
             "minorgridcolor": "#C8D4E3",
             "startlinecolor": "#2a3f5f"
            },
            "baxis": {
             "endlinecolor": "#2a3f5f",
             "gridcolor": "#C8D4E3",
             "linecolor": "#C8D4E3",
             "minorgridcolor": "#C8D4E3",
             "startlinecolor": "#2a3f5f"
            },
            "type": "carpet"
           }
          ],
          "choropleth": [
           {
            "colorbar": {
             "outlinewidth": 0,
             "ticks": ""
            },
            "type": "choropleth"
           }
          ],
          "contour": [
           {
            "colorbar": {
             "outlinewidth": 0,
             "ticks": ""
            },
            "colorscale": [
             [
              0,
              "#0d0887"
             ],
             [
              0.1111111111111111,
              "#46039f"
             ],
             [
              0.2222222222222222,
              "#7201a8"
             ],
             [
              0.3333333333333333,
              "#9c179e"
             ],
             [
              0.4444444444444444,
              "#bd3786"
             ],
             [
              0.5555555555555556,
              "#d8576b"
             ],
             [
              0.6666666666666666,
              "#ed7953"
             ],
             [
              0.7777777777777778,
              "#fb9f3a"
             ],
             [
              0.8888888888888888,
              "#fdca26"
             ],
             [
              1,
              "#f0f921"
             ]
            ],
            "type": "contour"
           }
          ],
          "contourcarpet": [
           {
            "colorbar": {
             "outlinewidth": 0,
             "ticks": ""
            },
            "type": "contourcarpet"
           }
          ],
          "heatmap": [
           {
            "colorbar": {
             "outlinewidth": 0,
             "ticks": ""
            },
            "colorscale": [
             [
              0,
              "#0d0887"
             ],
             [
              0.1111111111111111,
              "#46039f"
             ],
             [
              0.2222222222222222,
              "#7201a8"
             ],
             [
              0.3333333333333333,
              "#9c179e"
             ],
             [
              0.4444444444444444,
              "#bd3786"
             ],
             [
              0.5555555555555556,
              "#d8576b"
             ],
             [
              0.6666666666666666,
              "#ed7953"
             ],
             [
              0.7777777777777778,
              "#fb9f3a"
             ],
             [
              0.8888888888888888,
              "#fdca26"
             ],
             [
              1,
              "#f0f921"
             ]
            ],
            "type": "heatmap"
           }
          ],
          "heatmapgl": [
           {
            "colorbar": {
             "outlinewidth": 0,
             "ticks": ""
            },
            "colorscale": [
             [
              0,
              "#0d0887"
             ],
             [
              0.1111111111111111,
              "#46039f"
             ],
             [
              0.2222222222222222,
              "#7201a8"
             ],
             [
              0.3333333333333333,
              "#9c179e"
             ],
             [
              0.4444444444444444,
              "#bd3786"
             ],
             [
              0.5555555555555556,
              "#d8576b"
             ],
             [
              0.6666666666666666,
              "#ed7953"
             ],
             [
              0.7777777777777778,
              "#fb9f3a"
             ],
             [
              0.8888888888888888,
              "#fdca26"
             ],
             [
              1,
              "#f0f921"
             ]
            ],
            "type": "heatmapgl"
           }
          ],
          "histogram": [
           {
            "marker": {
             "pattern": {
              "fillmode": "overlay",
              "size": 10,
              "solidity": 0.2
             }
            },
            "type": "histogram"
           }
          ],
          "histogram2d": [
           {
            "colorbar": {
             "outlinewidth": 0,
             "ticks": ""
            },
            "colorscale": [
             [
              0,
              "#0d0887"
             ],
             [
              0.1111111111111111,
              "#46039f"
             ],
             [
              0.2222222222222222,
              "#7201a8"
             ],
             [
              0.3333333333333333,
              "#9c179e"
             ],
             [
              0.4444444444444444,
              "#bd3786"
             ],
             [
              0.5555555555555556,
              "#d8576b"
             ],
             [
              0.6666666666666666,
              "#ed7953"
             ],
             [
              0.7777777777777778,
              "#fb9f3a"
             ],
             [
              0.8888888888888888,
              "#fdca26"
             ],
             [
              1,
              "#f0f921"
             ]
            ],
            "type": "histogram2d"
           }
          ],
          "histogram2dcontour": [
           {
            "colorbar": {
             "outlinewidth": 0,
             "ticks": ""
            },
            "colorscale": [
             [
              0,
              "#0d0887"
             ],
             [
              0.1111111111111111,
              "#46039f"
             ],
             [
              0.2222222222222222,
              "#7201a8"
             ],
             [
              0.3333333333333333,
              "#9c179e"
             ],
             [
              0.4444444444444444,
              "#bd3786"
             ],
             [
              0.5555555555555556,
              "#d8576b"
             ],
             [
              0.6666666666666666,
              "#ed7953"
             ],
             [
              0.7777777777777778,
              "#fb9f3a"
             ],
             [
              0.8888888888888888,
              "#fdca26"
             ],
             [
              1,
              "#f0f921"
             ]
            ],
            "type": "histogram2dcontour"
           }
          ],
          "mesh3d": [
           {
            "colorbar": {
             "outlinewidth": 0,
             "ticks": ""
            },
            "type": "mesh3d"
           }
          ],
          "parcoords": [
           {
            "line": {
             "colorbar": {
              "outlinewidth": 0,
              "ticks": ""
             }
            },
            "type": "parcoords"
           }
          ],
          "pie": [
           {
            "automargin": true,
            "type": "pie"
           }
          ],
          "scatter": [
           {
            "fillpattern": {
             "fillmode": "overlay",
             "size": 10,
             "solidity": 0.2
            },
            "type": "scatter"
           }
          ],
          "scatter3d": [
           {
            "line": {
             "colorbar": {
              "outlinewidth": 0,
              "ticks": ""
             }
            },
            "marker": {
             "colorbar": {
              "outlinewidth": 0,
              "ticks": ""
             }
            },
            "type": "scatter3d"
           }
          ],
          "scattercarpet": [
           {
            "marker": {
             "colorbar": {
              "outlinewidth": 0,
              "ticks": ""
             }
            },
            "type": "scattercarpet"
           }
          ],
          "scattergeo": [
           {
            "marker": {
             "colorbar": {
              "outlinewidth": 0,
              "ticks": ""
             }
            },
            "type": "scattergeo"
           }
          ],
          "scattergl": [
           {
            "marker": {
             "colorbar": {
              "outlinewidth": 0,
              "ticks": ""
             }
            },
            "type": "scattergl"
           }
          ],
          "scattermapbox": [
           {
            "marker": {
             "colorbar": {
              "outlinewidth": 0,
              "ticks": ""
             }
            },
            "type": "scattermapbox"
           }
          ],
          "scatterpolar": [
           {
            "marker": {
             "colorbar": {
              "outlinewidth": 0,
              "ticks": ""
             }
            },
            "type": "scatterpolar"
           }
          ],
          "scatterpolargl": [
           {
            "marker": {
             "colorbar": {
              "outlinewidth": 0,
              "ticks": ""
             }
            },
            "type": "scatterpolargl"
           }
          ],
          "scatterternary": [
           {
            "marker": {
             "colorbar": {
              "outlinewidth": 0,
              "ticks": ""
             }
            },
            "type": "scatterternary"
           }
          ],
          "surface": [
           {
            "colorbar": {
             "outlinewidth": 0,
             "ticks": ""
            },
            "colorscale": [
             [
              0,
              "#0d0887"
             ],
             [
              0.1111111111111111,
              "#46039f"
             ],
             [
              0.2222222222222222,
              "#7201a8"
             ],
             [
              0.3333333333333333,
              "#9c179e"
             ],
             [
              0.4444444444444444,
              "#bd3786"
             ],
             [
              0.5555555555555556,
              "#d8576b"
             ],
             [
              0.6666666666666666,
              "#ed7953"
             ],
             [
              0.7777777777777778,
              "#fb9f3a"
             ],
             [
              0.8888888888888888,
              "#fdca26"
             ],
             [
              1,
              "#f0f921"
             ]
            ],
            "type": "surface"
           }
          ],
          "table": [
           {
            "cells": {
             "fill": {
              "color": "#EBF0F8"
             },
             "line": {
              "color": "white"
             }
            },
            "header": {
             "fill": {
              "color": "#C8D4E3"
             },
             "line": {
              "color": "white"
             }
            },
            "type": "table"
           }
          ]
         },
         "layout": {
          "annotationdefaults": {
           "arrowcolor": "#2a3f5f",
           "arrowhead": 0,
           "arrowwidth": 1
          },
          "autotypenumbers": "strict",
          "coloraxis": {
           "colorbar": {
            "outlinewidth": 0,
            "ticks": ""
           }
          },
          "colorscale": {
           "diverging": [
            [
             0,
             "#8e0152"
            ],
            [
             0.1,
             "#c51b7d"
            ],
            [
             0.2,
             "#de77ae"
            ],
            [
             0.3,
             "#f1b6da"
            ],
            [
             0.4,
             "#fde0ef"
            ],
            [
             0.5,
             "#f7f7f7"
            ],
            [
             0.6,
             "#e6f5d0"
            ],
            [
             0.7,
             "#b8e186"
            ],
            [
             0.8,
             "#7fbc41"
            ],
            [
             0.9,
             "#4d9221"
            ],
            [
             1,
             "#276419"
            ]
           ],
           "sequential": [
            [
             0,
             "#0d0887"
            ],
            [
             0.1111111111111111,
             "#46039f"
            ],
            [
             0.2222222222222222,
             "#7201a8"
            ],
            [
             0.3333333333333333,
             "#9c179e"
            ],
            [
             0.4444444444444444,
             "#bd3786"
            ],
            [
             0.5555555555555556,
             "#d8576b"
            ],
            [
             0.6666666666666666,
             "#ed7953"
            ],
            [
             0.7777777777777778,
             "#fb9f3a"
            ],
            [
             0.8888888888888888,
             "#fdca26"
            ],
            [
             1,
             "#f0f921"
            ]
           ],
           "sequentialminus": [
            [
             0,
             "#0d0887"
            ],
            [
             0.1111111111111111,
             "#46039f"
            ],
            [
             0.2222222222222222,
             "#7201a8"
            ],
            [
             0.3333333333333333,
             "#9c179e"
            ],
            [
             0.4444444444444444,
             "#bd3786"
            ],
            [
             0.5555555555555556,
             "#d8576b"
            ],
            [
             0.6666666666666666,
             "#ed7953"
            ],
            [
             0.7777777777777778,
             "#fb9f3a"
            ],
            [
             0.8888888888888888,
             "#fdca26"
            ],
            [
             1,
             "#f0f921"
            ]
           ]
          },
          "colorway": [
           "#636efa",
           "#EF553B",
           "#00cc96",
           "#ab63fa",
           "#FFA15A",
           "#19d3f3",
           "#FF6692",
           "#B6E880",
           "#FF97FF",
           "#FECB52"
          ],
          "font": {
           "color": "#2a3f5f"
          },
          "geo": {
           "bgcolor": "white",
           "lakecolor": "white",
           "landcolor": "white",
           "showlakes": true,
           "showland": true,
           "subunitcolor": "#C8D4E3"
          },
          "hoverlabel": {
           "align": "left"
          },
          "hovermode": "closest",
          "mapbox": {
           "style": "light"
          },
          "paper_bgcolor": "white",
          "plot_bgcolor": "white",
          "polar": {
           "angularaxis": {
            "gridcolor": "#EBF0F8",
            "linecolor": "#EBF0F8",
            "ticks": ""
           },
           "bgcolor": "white",
           "radialaxis": {
            "gridcolor": "#EBF0F8",
            "linecolor": "#EBF0F8",
            "ticks": ""
           }
          },
          "scene": {
           "xaxis": {
            "backgroundcolor": "white",
            "gridcolor": "#DFE8F3",
            "gridwidth": 2,
            "linecolor": "#EBF0F8",
            "showbackground": true,
            "ticks": "",
            "zerolinecolor": "#EBF0F8"
           },
           "yaxis": {
            "backgroundcolor": "white",
            "gridcolor": "#DFE8F3",
            "gridwidth": 2,
            "linecolor": "#EBF0F8",
            "showbackground": true,
            "ticks": "",
            "zerolinecolor": "#EBF0F8"
           },
           "zaxis": {
            "backgroundcolor": "white",
            "gridcolor": "#DFE8F3",
            "gridwidth": 2,
            "linecolor": "#EBF0F8",
            "showbackground": true,
            "ticks": "",
            "zerolinecolor": "#EBF0F8"
           }
          },
          "shapedefaults": {
           "line": {
            "color": "#2a3f5f"
           }
          },
          "ternary": {
           "aaxis": {
            "gridcolor": "#DFE8F3",
            "linecolor": "#A2B1C6",
            "ticks": ""
           },
           "baxis": {
            "gridcolor": "#DFE8F3",
            "linecolor": "#A2B1C6",
            "ticks": ""
           },
           "bgcolor": "white",
           "caxis": {
            "gridcolor": "#DFE8F3",
            "linecolor": "#A2B1C6",
            "ticks": ""
           }
          },
          "title": {
           "x": 0.05
          },
          "xaxis": {
           "automargin": true,
           "gridcolor": "#EBF0F8",
           "linecolor": "#EBF0F8",
           "ticks": "",
           "title": {
            "standoff": 15
           },
           "zerolinecolor": "#EBF0F8",
           "zerolinewidth": 2
          },
          "yaxis": {
           "automargin": true,
           "gridcolor": "#EBF0F8",
           "linecolor": "#EBF0F8",
           "ticks": "",
           "title": {
            "standoff": 15
           },
           "zerolinecolor": "#EBF0F8",
           "zerolinewidth": 2
          }
         }
        },
        "title": {
         "font": {
          "size": 20
         },
         "text": "Imputing with Hourly Profile | MAE=0.121",
         "x": 0.5,
         "xanchor": "center",
         "yanchor": "top"
        },
        "width": 900,
        "xaxis": {
         "anchor": "y",
         "domain": [
          0,
          1
         ],
         "tickfont": {
          "size": 15
         },
         "title": {
          "font": {
           "size": 15
          },
          "text": "Day"
         }
        },
        "yaxis": {
         "anchor": "x",
         "domain": [
          0,
          1
         ],
         "tickfont": {
          "size": 15
         },
         "title": {
          "font": {
           "size": 15
          },
          "text": "Value"
         }
        }
       }
      }
     },
     "metadata": {},
     "output_type": "display_data"
    }
   ],
   "source": [
    "plot_df = pd.melt(ts_df.loc[window,['energy_consumption','hourly_profile_imputed']].reset_index(), id_vars='timestamp', var_name=\"series\")\n",
    "fig = px.line(plot_df, x=\"timestamp\", y=[\"value\"], line_dash=\"series\", title=f\"Imputing with Hourly Profile | MAE={mae:.3f}\")\n",
    "fig = format_plot(fig, ['Original', 'Hourly Profile Imputed'])\n",
    "fig.write_image(\"imgs/chapter_2/hourly_profile_imputation.png\")\n",
    "fig"
   ]
  },
  {
   "cell_type": "markdown",
   "id": "cbf63240-5dd5-443a-a17b-9e1c797b9bcc",
   "metadata": {},
   "source": [
    "#### Weekday-Hourly Profile"
   ]
  },
  {
   "cell_type": "code",
   "execution_count": 19,
   "id": "b0ee72a5-f571-47bf-9ba3-37af9311ac34",
   "metadata": {},
   "outputs": [],
   "source": [
    "#Create a column with the weekday from timestamp\n",
    "ts_df[\"weekday\"] = ts_df.index.weekday\n",
    "#Calculate weekday-hourly average consumption\n",
    "day_hourly_profile = ts_df.groupby(['weekday','hour'])['energy_consumption'].mean().reset_index()\n",
    "day_hourly_profile.rename(columns={\"energy_consumption\": \"day_hourly_profile\"}, inplace=True)\n",
    "#Saving the index because it gets lost in merge\n",
    "idx = ts_df.index\n",
    "#Merge the day-hourly profile dataframe to ts dataframe\n",
    "ts_df = ts_df.merge(day_hourly_profile, on=['weekday', 'hour'], how='left', validate=\"many_to_one\")\n",
    "ts_df.index = idx\n",
    "\n",
    "#Using the day-hourly profile to fill missing\n",
    "ts_df['day_hourly_profile_imputed'] = ts_df['energy_consumption_missing']\n",
    "ts_df.loc[null_mask,\"day_hourly_profile_imputed\"] = ts_df.loc[null_mask,\"day_hourly_profile\"]\n",
    "mae = mean_absolute_error(ts_df.loc[window, \"day_hourly_profile_imputed\"], ts_df.loc[window, \"energy_consumption\"])"
   ]
  },
  {
   "cell_type": "code",
   "execution_count": 20,
   "id": "a02f6202-d617-4f46-9831-2963d584db04",
   "metadata": {},
   "outputs": [
    {
     "data": {
      "application/vnd.plotly.v1+json": {
       "config": {
        "plotlyServerURL": "https://plot.ly"
       },
       "data": [
        {
         "hovertemplate": "variable=value<br>series=energy_consumption<br>timestamp=%{x}<br>_value=%{y}<extra></extra>",
         "legendgroup": "value, energy_consumption",
         "line": {
          "color": "#636efa",
          "dash": "solid"
         },
         "marker": {
          "symbol": "circle"
         },
         "mode": "lines",
         "name": "Original",
         "orientation": "v",
         "showlegend": true,
         "type": "scatter",
         "x": [
          "2012-10-07T00:00:00",
          "2012-10-07T00:30:00",
          "2012-10-07T01:00:00",
          "2012-10-07T01:30:00",
          "2012-10-07T02:00:00",
          "2012-10-07T02:30:00",
          "2012-10-07T03:00:00",
          "2012-10-07T03:30:00",
          "2012-10-07T04:00:00",
          "2012-10-07T04:30:00",
          "2012-10-07T05:00:00",
          "2012-10-07T05:30:00",
          "2012-10-07T06:00:00",
          "2012-10-07T06:30:00",
          "2012-10-07T07:00:00",
          "2012-10-07T07:30:00",
          "2012-10-07T08:00:00",
          "2012-10-07T08:30:00",
          "2012-10-07T09:00:00",
          "2012-10-07T09:30:00",
          "2012-10-07T10:00:00",
          "2012-10-07T10:30:00",
          "2012-10-07T11:00:00",
          "2012-10-07T11:30:00",
          "2012-10-07T12:00:00",
          "2012-10-07T12:30:00",
          "2012-10-07T13:00:00",
          "2012-10-07T13:30:00",
          "2012-10-07T14:00:00",
          "2012-10-07T14:30:00",
          "2012-10-07T15:00:00",
          "2012-10-07T15:30:00",
          "2012-10-07T16:00:00",
          "2012-10-07T16:30:00",
          "2012-10-07T17:00:00",
          "2012-10-07T17:30:00",
          "2012-10-07T18:00:00",
          "2012-10-07T18:30:00",
          "2012-10-07T19:00:00",
          "2012-10-07T19:30:00",
          "2012-10-07T20:00:00",
          "2012-10-07T20:30:00",
          "2012-10-07T21:00:00",
          "2012-10-07T21:30:00",
          "2012-10-07T22:00:00",
          "2012-10-07T22:30:00",
          "2012-10-07T23:00:00",
          "2012-10-07T23:30:00",
          "2012-10-08T00:00:00",
          "2012-10-08T00:30:00",
          "2012-10-08T01:00:00",
          "2012-10-08T01:30:00",
          "2012-10-08T02:00:00",
          "2012-10-08T02:30:00",
          "2012-10-08T03:00:00",
          "2012-10-08T03:30:00",
          "2012-10-08T04:00:00",
          "2012-10-08T04:30:00",
          "2012-10-08T05:00:00",
          "2012-10-08T05:30:00",
          "2012-10-08T06:00:00",
          "2012-10-08T06:30:00",
          "2012-10-08T07:00:00",
          "2012-10-08T07:30:00",
          "2012-10-08T08:00:00",
          "2012-10-08T08:30:00",
          "2012-10-08T09:00:00",
          "2012-10-08T09:30:00",
          "2012-10-08T10:00:00",
          "2012-10-08T10:30:00",
          "2012-10-08T11:00:00",
          "2012-10-08T11:30:00",
          "2012-10-08T12:00:00",
          "2012-10-08T12:30:00",
          "2012-10-08T13:00:00",
          "2012-10-08T13:30:00",
          "2012-10-08T14:00:00",
          "2012-10-08T14:30:00",
          "2012-10-08T15:00:00",
          "2012-10-08T15:30:00",
          "2012-10-08T16:00:00",
          "2012-10-08T16:30:00",
          "2012-10-08T17:00:00",
          "2012-10-08T17:30:00",
          "2012-10-08T18:00:00",
          "2012-10-08T18:30:00",
          "2012-10-08T19:00:00",
          "2012-10-08T19:30:00",
          "2012-10-08T20:00:00",
          "2012-10-08T20:30:00",
          "2012-10-08T21:00:00",
          "2012-10-08T21:30:00",
          "2012-10-08T22:00:00",
          "2012-10-08T22:30:00",
          "2012-10-08T23:00:00",
          "2012-10-08T23:30:00"
         ],
         "xaxis": "x",
         "y": [
          0.023,
          0.0559999999999999,
          0.0139999999999999,
          0.031,
          0.04,
          0.022,
          0.057,
          0.003,
          0.042,
          0.04,
          0.021,
          0.045,
          0.015,
          0.039,
          0.111,
          0.089,
          0.061,
          0.046,
          0.052,
          0.243,
          1.211,
          1.035,
          0.275,
          1.1440001,
          0.365,
          0.7,
          0.249,
          0.261,
          0.288,
          0.575,
          0.212,
          0.282,
          0.396,
          0.119,
          0.047,
          0.291,
          0.257,
          0.294,
          0.285,
          0.28,
          0.303,
          0.266,
          0.305,
          0.297,
          0.412,
          0.2189999999999999,
          0.0559999999999999,
          0.036,
          0.034,
          0.038,
          0.011,
          0.051,
          0.023,
          0.055,
          0.009,
          0.037,
          0.035,
          0.036,
          0.037,
          0.01,
          0.053,
          0.023,
          0.27,
          0.2189999999999999,
          0.258,
          0.88,
          0.7170000000000001,
          0.25,
          0.324,
          0.535,
          0.28,
          0.316,
          0.818,
          0.675,
          0.319,
          0.0579999999999999,
          0.059,
          0.259,
          0.337,
          0.212,
          0.238,
          0.209,
          0.24,
          0.17,
          0.743,
          0.8190000000000001,
          0.336,
          0.284,
          0.294,
          0.2789999999999999,
          0.253,
          0.311,
          0.357,
          0.1119999999999999,
          0.016,
          0.026
         ],
         "yaxis": "y"
        },
        {
         "hovertemplate": "variable=value<br>series=day_hourly_profile_imputed<br>timestamp=%{x}<br>_value=%{y}<extra></extra>",
         "legendgroup": "value, day_hourly_profile_imputed",
         "line": {
          "color": "#636efa",
          "dash": "dot"
         },
         "marker": {
          "symbol": "circle"
         },
         "mode": "lines",
         "name": "Week Day-Hourly Profile Imputed",
         "orientation": "v",
         "showlegend": true,
         "type": "scatter",
         "x": [
          "2012-10-07T00:00:00",
          "2012-10-07T00:30:00",
          "2012-10-07T01:00:00",
          "2012-10-07T01:30:00",
          "2012-10-07T02:00:00",
          "2012-10-07T02:30:00",
          "2012-10-07T03:00:00",
          "2012-10-07T03:30:00",
          "2012-10-07T04:00:00",
          "2012-10-07T04:30:00",
          "2012-10-07T05:00:00",
          "2012-10-07T05:30:00",
          "2012-10-07T06:00:00",
          "2012-10-07T06:30:00",
          "2012-10-07T07:00:00",
          "2012-10-07T07:30:00",
          "2012-10-07T08:00:00",
          "2012-10-07T08:30:00",
          "2012-10-07T09:00:00",
          "2012-10-07T09:30:00",
          "2012-10-07T10:00:00",
          "2012-10-07T10:30:00",
          "2012-10-07T11:00:00",
          "2012-10-07T11:30:00",
          "2012-10-07T12:00:00",
          "2012-10-07T12:30:00",
          "2012-10-07T13:00:00",
          "2012-10-07T13:30:00",
          "2012-10-07T14:00:00",
          "2012-10-07T14:30:00",
          "2012-10-07T15:00:00",
          "2012-10-07T15:30:00",
          "2012-10-07T16:00:00",
          "2012-10-07T16:30:00",
          "2012-10-07T17:00:00",
          "2012-10-07T17:30:00",
          "2012-10-07T18:00:00",
          "2012-10-07T18:30:00",
          "2012-10-07T19:00:00",
          "2012-10-07T19:30:00",
          "2012-10-07T20:00:00",
          "2012-10-07T20:30:00",
          "2012-10-07T21:00:00",
          "2012-10-07T21:30:00",
          "2012-10-07T22:00:00",
          "2012-10-07T22:30:00",
          "2012-10-07T23:00:00",
          "2012-10-07T23:30:00",
          "2012-10-08T00:00:00",
          "2012-10-08T00:30:00",
          "2012-10-08T01:00:00",
          "2012-10-08T01:30:00",
          "2012-10-08T02:00:00",
          "2012-10-08T02:30:00",
          "2012-10-08T03:00:00",
          "2012-10-08T03:30:00",
          "2012-10-08T04:00:00",
          "2012-10-08T04:30:00",
          "2012-10-08T05:00:00",
          "2012-10-08T05:30:00",
          "2012-10-08T06:00:00",
          "2012-10-08T06:30:00",
          "2012-10-08T07:00:00",
          "2012-10-08T07:30:00",
          "2012-10-08T08:00:00",
          "2012-10-08T08:30:00",
          "2012-10-08T09:00:00",
          "2012-10-08T09:30:00",
          "2012-10-08T10:00:00",
          "2012-10-08T10:30:00",
          "2012-10-08T11:00:00",
          "2012-10-08T11:30:00",
          "2012-10-08T12:00:00",
          "2012-10-08T12:30:00",
          "2012-10-08T13:00:00",
          "2012-10-08T13:30:00",
          "2012-10-08T14:00:00",
          "2012-10-08T14:30:00",
          "2012-10-08T15:00:00",
          "2012-10-08T15:30:00",
          "2012-10-08T16:00:00",
          "2012-10-08T16:30:00",
          "2012-10-08T17:00:00",
          "2012-10-08T17:30:00",
          "2012-10-08T18:00:00",
          "2012-10-08T18:30:00",
          "2012-10-08T19:00:00",
          "2012-10-08T19:30:00",
          "2012-10-08T20:00:00",
          "2012-10-08T20:30:00",
          "2012-10-08T21:00:00",
          "2012-10-08T21:30:00",
          "2012-10-08T22:00:00",
          "2012-10-08T22:30:00",
          "2012-10-08T23:00:00",
          "2012-10-08T23:30:00"
         ],
         "xaxis": "x",
         "y": [
          0.09497345132743362,
          0.09497345132743362,
          0.03325221238938052,
          0.03325221238938052,
          0.033371681415929194,
          0.033371681415929194,
          0.031225663716814154,
          0.031225663716814154,
          0.031650442477876094,
          0.031650442477876094,
          0.03269911504424778,
          0.03269911504424778,
          0.05366814159292035,
          0.05366814159292035,
          0.09534513230088494,
          0.09534513230088494,
          0.23255752300884955,
          0.23255752300884955,
          0.4178982296460177,
          0.4178982296460177,
          0.6767433646017699,
          0.6767433646017699,
          0.5670663707964602,
          0.5670663707964602,
          0.4795840703539823,
          0.4795840703539823,
          0.6261371690265486,
          0.6261371690265486,
          0.5372256628318584,
          0.5372256628318584,
          0.33001769867256636,
          0.33001769867256636,
          0.24923008805309735,
          0.24923008805309735,
          0.2467345128318584,
          0.2467345128318584,
          0.2723053097345133,
          0.2723053097345133,
          0.27401769911504426,
          0.27401769911504426,
          0.267575221238938,
          0.267575221238938,
          0.2718230088495575,
          0.2718230088495575,
          0.24550442477876103,
          0.24550442477876103,
          0.21658407123893803,
          0.21658407123893803,
          0.06073451327433627,
          0.06073451327433627,
          0.03173451327433627,
          0.03173451327433627,
          0.03159734513274335,
          0.03159734513274335,
          0.029831858407079637,
          0.029831858407079637,
          0.03265929203539822,
          0.03265929203539822,
          0.03456637168141592,
          0.03456637168141592,
          0.05499999999999999,
          0.05499999999999999,
          0.0992433628318584,
          0.0992433628318584,
          0.2889380522123894,
          0.2889380522123894,
          0.4877079623893805,
          0.4877079623893805,
          0.5267964584070796,
          0.5267964584070796,
          0.3469159287610619,
          0.3469159287610619,
          0.2936238942477876,
          0.2936238942477876,
          0.33087610663716815,
          0.33087610663716815,
          0.3197079650442478,
          0.3197079650442478,
          0.2137787610619469,
          0.2137787610619469,
          0.20954867212389378,
          0.20954867212389378,
          0.23276106194690266,
          0.23276106194690266,
          0.3701504424778761,
          0.3701504424778761,
          0.45078761106194687,
          0.45078761106194687,
          0.32140265486725667,
          0.32140265486725667,
          0.29980530973451325,
          0.29980530973451325,
          0.2691858407079646,
          0.2691858407079646,
          0.2031858407079646,
          0.2031858407079646
         ],
         "yaxis": "y"
        }
       ],
       "layout": {
        "autosize": false,
        "height": 500,
        "legend": {
         "font": {
          "size": 15
         },
         "orientation": "h",
         "title": {},
         "tracegroupgap": 0,
         "x": 1,
         "xanchor": "right",
         "y": 0.98,
         "yanchor": "bottom"
        },
        "template": {
         "data": {
          "bar": [
           {
            "error_x": {
             "color": "#2a3f5f"
            },
            "error_y": {
             "color": "#2a3f5f"
            },
            "marker": {
             "line": {
              "color": "white",
              "width": 0.5
             },
             "pattern": {
              "fillmode": "overlay",
              "size": 10,
              "solidity": 0.2
             }
            },
            "type": "bar"
           }
          ],
          "barpolar": [
           {
            "marker": {
             "line": {
              "color": "white",
              "width": 0.5
             },
             "pattern": {
              "fillmode": "overlay",
              "size": 10,
              "solidity": 0.2
             }
            },
            "type": "barpolar"
           }
          ],
          "carpet": [
           {
            "aaxis": {
             "endlinecolor": "#2a3f5f",
             "gridcolor": "#C8D4E3",
             "linecolor": "#C8D4E3",
             "minorgridcolor": "#C8D4E3",
             "startlinecolor": "#2a3f5f"
            },
            "baxis": {
             "endlinecolor": "#2a3f5f",
             "gridcolor": "#C8D4E3",
             "linecolor": "#C8D4E3",
             "minorgridcolor": "#C8D4E3",
             "startlinecolor": "#2a3f5f"
            },
            "type": "carpet"
           }
          ],
          "choropleth": [
           {
            "colorbar": {
             "outlinewidth": 0,
             "ticks": ""
            },
            "type": "choropleth"
           }
          ],
          "contour": [
           {
            "colorbar": {
             "outlinewidth": 0,
             "ticks": ""
            },
            "colorscale": [
             [
              0,
              "#0d0887"
             ],
             [
              0.1111111111111111,
              "#46039f"
             ],
             [
              0.2222222222222222,
              "#7201a8"
             ],
             [
              0.3333333333333333,
              "#9c179e"
             ],
             [
              0.4444444444444444,
              "#bd3786"
             ],
             [
              0.5555555555555556,
              "#d8576b"
             ],
             [
              0.6666666666666666,
              "#ed7953"
             ],
             [
              0.7777777777777778,
              "#fb9f3a"
             ],
             [
              0.8888888888888888,
              "#fdca26"
             ],
             [
              1,
              "#f0f921"
             ]
            ],
            "type": "contour"
           }
          ],
          "contourcarpet": [
           {
            "colorbar": {
             "outlinewidth": 0,
             "ticks": ""
            },
            "type": "contourcarpet"
           }
          ],
          "heatmap": [
           {
            "colorbar": {
             "outlinewidth": 0,
             "ticks": ""
            },
            "colorscale": [
             [
              0,
              "#0d0887"
             ],
             [
              0.1111111111111111,
              "#46039f"
             ],
             [
              0.2222222222222222,
              "#7201a8"
             ],
             [
              0.3333333333333333,
              "#9c179e"
             ],
             [
              0.4444444444444444,
              "#bd3786"
             ],
             [
              0.5555555555555556,
              "#d8576b"
             ],
             [
              0.6666666666666666,
              "#ed7953"
             ],
             [
              0.7777777777777778,
              "#fb9f3a"
             ],
             [
              0.8888888888888888,
              "#fdca26"
             ],
             [
              1,
              "#f0f921"
             ]
            ],
            "type": "heatmap"
           }
          ],
          "heatmapgl": [
           {
            "colorbar": {
             "outlinewidth": 0,
             "ticks": ""
            },
            "colorscale": [
             [
              0,
              "#0d0887"
             ],
             [
              0.1111111111111111,
              "#46039f"
             ],
             [
              0.2222222222222222,
              "#7201a8"
             ],
             [
              0.3333333333333333,
              "#9c179e"
             ],
             [
              0.4444444444444444,
              "#bd3786"
             ],
             [
              0.5555555555555556,
              "#d8576b"
             ],
             [
              0.6666666666666666,
              "#ed7953"
             ],
             [
              0.7777777777777778,
              "#fb9f3a"
             ],
             [
              0.8888888888888888,
              "#fdca26"
             ],
             [
              1,
              "#f0f921"
             ]
            ],
            "type": "heatmapgl"
           }
          ],
          "histogram": [
           {
            "marker": {
             "pattern": {
              "fillmode": "overlay",
              "size": 10,
              "solidity": 0.2
             }
            },
            "type": "histogram"
           }
          ],
          "histogram2d": [
           {
            "colorbar": {
             "outlinewidth": 0,
             "ticks": ""
            },
            "colorscale": [
             [
              0,
              "#0d0887"
             ],
             [
              0.1111111111111111,
              "#46039f"
             ],
             [
              0.2222222222222222,
              "#7201a8"
             ],
             [
              0.3333333333333333,
              "#9c179e"
             ],
             [
              0.4444444444444444,
              "#bd3786"
             ],
             [
              0.5555555555555556,
              "#d8576b"
             ],
             [
              0.6666666666666666,
              "#ed7953"
             ],
             [
              0.7777777777777778,
              "#fb9f3a"
             ],
             [
              0.8888888888888888,
              "#fdca26"
             ],
             [
              1,
              "#f0f921"
             ]
            ],
            "type": "histogram2d"
           }
          ],
          "histogram2dcontour": [
           {
            "colorbar": {
             "outlinewidth": 0,
             "ticks": ""
            },
            "colorscale": [
             [
              0,
              "#0d0887"
             ],
             [
              0.1111111111111111,
              "#46039f"
             ],
             [
              0.2222222222222222,
              "#7201a8"
             ],
             [
              0.3333333333333333,
              "#9c179e"
             ],
             [
              0.4444444444444444,
              "#bd3786"
             ],
             [
              0.5555555555555556,
              "#d8576b"
             ],
             [
              0.6666666666666666,
              "#ed7953"
             ],
             [
              0.7777777777777778,
              "#fb9f3a"
             ],
             [
              0.8888888888888888,
              "#fdca26"
             ],
             [
              1,
              "#f0f921"
             ]
            ],
            "type": "histogram2dcontour"
           }
          ],
          "mesh3d": [
           {
            "colorbar": {
             "outlinewidth": 0,
             "ticks": ""
            },
            "type": "mesh3d"
           }
          ],
          "parcoords": [
           {
            "line": {
             "colorbar": {
              "outlinewidth": 0,
              "ticks": ""
             }
            },
            "type": "parcoords"
           }
          ],
          "pie": [
           {
            "automargin": true,
            "type": "pie"
           }
          ],
          "scatter": [
           {
            "fillpattern": {
             "fillmode": "overlay",
             "size": 10,
             "solidity": 0.2
            },
            "type": "scatter"
           }
          ],
          "scatter3d": [
           {
            "line": {
             "colorbar": {
              "outlinewidth": 0,
              "ticks": ""
             }
            },
            "marker": {
             "colorbar": {
              "outlinewidth": 0,
              "ticks": ""
             }
            },
            "type": "scatter3d"
           }
          ],
          "scattercarpet": [
           {
            "marker": {
             "colorbar": {
              "outlinewidth": 0,
              "ticks": ""
             }
            },
            "type": "scattercarpet"
           }
          ],
          "scattergeo": [
           {
            "marker": {
             "colorbar": {
              "outlinewidth": 0,
              "ticks": ""
             }
            },
            "type": "scattergeo"
           }
          ],
          "scattergl": [
           {
            "marker": {
             "colorbar": {
              "outlinewidth": 0,
              "ticks": ""
             }
            },
            "type": "scattergl"
           }
          ],
          "scattermapbox": [
           {
            "marker": {
             "colorbar": {
              "outlinewidth": 0,
              "ticks": ""
             }
            },
            "type": "scattermapbox"
           }
          ],
          "scatterpolar": [
           {
            "marker": {
             "colorbar": {
              "outlinewidth": 0,
              "ticks": ""
             }
            },
            "type": "scatterpolar"
           }
          ],
          "scatterpolargl": [
           {
            "marker": {
             "colorbar": {
              "outlinewidth": 0,
              "ticks": ""
             }
            },
            "type": "scatterpolargl"
           }
          ],
          "scatterternary": [
           {
            "marker": {
             "colorbar": {
              "outlinewidth": 0,
              "ticks": ""
             }
            },
            "type": "scatterternary"
           }
          ],
          "surface": [
           {
            "colorbar": {
             "outlinewidth": 0,
             "ticks": ""
            },
            "colorscale": [
             [
              0,
              "#0d0887"
             ],
             [
              0.1111111111111111,
              "#46039f"
             ],
             [
              0.2222222222222222,
              "#7201a8"
             ],
             [
              0.3333333333333333,
              "#9c179e"
             ],
             [
              0.4444444444444444,
              "#bd3786"
             ],
             [
              0.5555555555555556,
              "#d8576b"
             ],
             [
              0.6666666666666666,
              "#ed7953"
             ],
             [
              0.7777777777777778,
              "#fb9f3a"
             ],
             [
              0.8888888888888888,
              "#fdca26"
             ],
             [
              1,
              "#f0f921"
             ]
            ],
            "type": "surface"
           }
          ],
          "table": [
           {
            "cells": {
             "fill": {
              "color": "#EBF0F8"
             },
             "line": {
              "color": "white"
             }
            },
            "header": {
             "fill": {
              "color": "#C8D4E3"
             },
             "line": {
              "color": "white"
             }
            },
            "type": "table"
           }
          ]
         },
         "layout": {
          "annotationdefaults": {
           "arrowcolor": "#2a3f5f",
           "arrowhead": 0,
           "arrowwidth": 1
          },
          "autotypenumbers": "strict",
          "coloraxis": {
           "colorbar": {
            "outlinewidth": 0,
            "ticks": ""
           }
          },
          "colorscale": {
           "diverging": [
            [
             0,
             "#8e0152"
            ],
            [
             0.1,
             "#c51b7d"
            ],
            [
             0.2,
             "#de77ae"
            ],
            [
             0.3,
             "#f1b6da"
            ],
            [
             0.4,
             "#fde0ef"
            ],
            [
             0.5,
             "#f7f7f7"
            ],
            [
             0.6,
             "#e6f5d0"
            ],
            [
             0.7,
             "#b8e186"
            ],
            [
             0.8,
             "#7fbc41"
            ],
            [
             0.9,
             "#4d9221"
            ],
            [
             1,
             "#276419"
            ]
           ],
           "sequential": [
            [
             0,
             "#0d0887"
            ],
            [
             0.1111111111111111,
             "#46039f"
            ],
            [
             0.2222222222222222,
             "#7201a8"
            ],
            [
             0.3333333333333333,
             "#9c179e"
            ],
            [
             0.4444444444444444,
             "#bd3786"
            ],
            [
             0.5555555555555556,
             "#d8576b"
            ],
            [
             0.6666666666666666,
             "#ed7953"
            ],
            [
             0.7777777777777778,
             "#fb9f3a"
            ],
            [
             0.8888888888888888,
             "#fdca26"
            ],
            [
             1,
             "#f0f921"
            ]
           ],
           "sequentialminus": [
            [
             0,
             "#0d0887"
            ],
            [
             0.1111111111111111,
             "#46039f"
            ],
            [
             0.2222222222222222,
             "#7201a8"
            ],
            [
             0.3333333333333333,
             "#9c179e"
            ],
            [
             0.4444444444444444,
             "#bd3786"
            ],
            [
             0.5555555555555556,
             "#d8576b"
            ],
            [
             0.6666666666666666,
             "#ed7953"
            ],
            [
             0.7777777777777778,
             "#fb9f3a"
            ],
            [
             0.8888888888888888,
             "#fdca26"
            ],
            [
             1,
             "#f0f921"
            ]
           ]
          },
          "colorway": [
           "#636efa",
           "#EF553B",
           "#00cc96",
           "#ab63fa",
           "#FFA15A",
           "#19d3f3",
           "#FF6692",
           "#B6E880",
           "#FF97FF",
           "#FECB52"
          ],
          "font": {
           "color": "#2a3f5f"
          },
          "geo": {
           "bgcolor": "white",
           "lakecolor": "white",
           "landcolor": "white",
           "showlakes": true,
           "showland": true,
           "subunitcolor": "#C8D4E3"
          },
          "hoverlabel": {
           "align": "left"
          },
          "hovermode": "closest",
          "mapbox": {
           "style": "light"
          },
          "paper_bgcolor": "white",
          "plot_bgcolor": "white",
          "polar": {
           "angularaxis": {
            "gridcolor": "#EBF0F8",
            "linecolor": "#EBF0F8",
            "ticks": ""
           },
           "bgcolor": "white",
           "radialaxis": {
            "gridcolor": "#EBF0F8",
            "linecolor": "#EBF0F8",
            "ticks": ""
           }
          },
          "scene": {
           "xaxis": {
            "backgroundcolor": "white",
            "gridcolor": "#DFE8F3",
            "gridwidth": 2,
            "linecolor": "#EBF0F8",
            "showbackground": true,
            "ticks": "",
            "zerolinecolor": "#EBF0F8"
           },
           "yaxis": {
            "backgroundcolor": "white",
            "gridcolor": "#DFE8F3",
            "gridwidth": 2,
            "linecolor": "#EBF0F8",
            "showbackground": true,
            "ticks": "",
            "zerolinecolor": "#EBF0F8"
           },
           "zaxis": {
            "backgroundcolor": "white",
            "gridcolor": "#DFE8F3",
            "gridwidth": 2,
            "linecolor": "#EBF0F8",
            "showbackground": true,
            "ticks": "",
            "zerolinecolor": "#EBF0F8"
           }
          },
          "shapedefaults": {
           "line": {
            "color": "#2a3f5f"
           }
          },
          "ternary": {
           "aaxis": {
            "gridcolor": "#DFE8F3",
            "linecolor": "#A2B1C6",
            "ticks": ""
           },
           "baxis": {
            "gridcolor": "#DFE8F3",
            "linecolor": "#A2B1C6",
            "ticks": ""
           },
           "bgcolor": "white",
           "caxis": {
            "gridcolor": "#DFE8F3",
            "linecolor": "#A2B1C6",
            "ticks": ""
           }
          },
          "title": {
           "x": 0.05
          },
          "xaxis": {
           "automargin": true,
           "gridcolor": "#EBF0F8",
           "linecolor": "#EBF0F8",
           "ticks": "",
           "title": {
            "standoff": 15
           },
           "zerolinecolor": "#EBF0F8",
           "zerolinewidth": 2
          },
          "yaxis": {
           "automargin": true,
           "gridcolor": "#EBF0F8",
           "linecolor": "#EBF0F8",
           "ticks": "",
           "title": {
            "standoff": 15
           },
           "zerolinecolor": "#EBF0F8",
           "zerolinewidth": 2
          }
         }
        },
        "title": {
         "font": {
          "size": 20
         },
         "text": "Imputing with Week Day-Hourly Profile | MAE=0.117",
         "x": 0.5,
         "xanchor": "center",
         "yanchor": "top"
        },
        "width": 900,
        "xaxis": {
         "anchor": "y",
         "domain": [
          0,
          1
         ],
         "tickfont": {
          "size": 15
         },
         "title": {
          "font": {
           "size": 15
          },
          "text": "Day"
         }
        },
        "yaxis": {
         "anchor": "x",
         "domain": [
          0,
          1
         ],
         "tickfont": {
          "size": 15
         },
         "title": {
          "font": {
           "size": 15
          },
          "text": "Value"
         }
        }
       }
      }
     },
     "metadata": {},
     "output_type": "display_data"
    }
   ],
   "source": [
    "plot_df = pd.melt(ts_df.loc[window,['energy_consumption','day_hourly_profile_imputed']].reset_index(), id_vars='timestamp', var_name=\"series\")\n",
    "fig = px.line(plot_df, x=\"timestamp\", y=[\"value\"], line_dash=\"series\", title=f\"Imputing with Week Day-Hourly Profile | MAE={mae:.3f}\")\n",
    "fig = format_plot(fig, ['Original', 'Week Day-Hourly Profile Imputed'])\n",
    "fig.write_image(\"imgs/chapter_2/day_hourly_profile_imputation.png\")\n",
    "fig"
   ]
  },
  {
   "cell_type": "code",
   "execution_count": 21,
   "id": "f278d0ce-1483-4ad3-b80f-38eda2e9dbbc",
   "metadata": {},
   "outputs": [
    {
     "data": {
      "application/vnd.plotly.v1+json": {
       "config": {
        "plotlyServerURL": "https://plot.ly"
       },
       "data": [
        {
         "hovertemplate": "weekday=0<br>timestamp=%{x}<br>day_hourly_profile=%{y}<extra></extra>",
         "legendgroup": "0",
         "line": {
          "color": "#636efa",
          "dash": "solid"
         },
         "marker": {
          "symbol": "circle"
         },
         "mode": "lines",
         "name": "0",
         "orientation": "v",
         "showlegend": true,
         "type": "scatter",
         "x": [
          "2012-10-15T00:00:00",
          "2012-10-15T00:30:00",
          "2012-10-15T01:00:00",
          "2012-10-15T01:30:00",
          "2012-10-15T02:00:00",
          "2012-10-15T02:30:00",
          "2012-10-15T03:00:00",
          "2012-10-15T03:30:00",
          "2012-10-15T04:00:00",
          "2012-10-15T04:30:00",
          "2012-10-15T05:00:00",
          "2012-10-15T05:30:00",
          "2012-10-15T06:00:00",
          "2012-10-15T06:30:00",
          "2012-10-15T07:00:00",
          "2012-10-15T07:30:00",
          "2012-10-15T08:00:00",
          "2012-10-15T08:30:00",
          "2012-10-15T09:00:00",
          "2012-10-15T09:30:00",
          "2012-10-15T10:00:00",
          "2012-10-15T10:30:00",
          "2012-10-15T11:00:00",
          "2012-10-15T11:30:00",
          "2012-10-15T12:00:00",
          "2012-10-15T12:30:00",
          "2012-10-15T13:00:00",
          "2012-10-15T13:30:00",
          "2012-10-15T14:00:00",
          "2012-10-15T14:30:00",
          "2012-10-15T15:00:00",
          "2012-10-15T15:30:00",
          "2012-10-15T16:00:00",
          "2012-10-15T16:30:00",
          "2012-10-15T17:00:00",
          "2012-10-15T17:30:00",
          "2012-10-15T18:00:00",
          "2012-10-15T18:30:00",
          "2012-10-15T19:00:00",
          "2012-10-15T19:30:00",
          "2012-10-15T20:00:00",
          "2012-10-15T20:30:00",
          "2012-10-15T21:00:00",
          "2012-10-15T21:30:00",
          "2012-10-15T22:00:00",
          "2012-10-15T22:30:00",
          "2012-10-15T23:00:00",
          "2012-10-15T23:30:00"
         ],
         "xaxis": "x",
         "y": [
          0.06073451327433627,
          0.06073451327433627,
          0.03173451327433627,
          0.03173451327433627,
          0.03159734513274335,
          0.03159734513274335,
          0.029831858407079637,
          0.029831858407079637,
          0.03265929203539822,
          0.03265929203539822,
          0.03456637168141592,
          0.03456637168141592,
          0.05499999999999999,
          0.05499999999999999,
          0.0992433628318584,
          0.0992433628318584,
          0.2889380522123894,
          0.2889380522123894,
          0.4877079623893805,
          0.4877079623893805,
          0.5267964584070796,
          0.5267964584070796,
          0.3469159287610619,
          0.3469159287610619,
          0.2936238942477876,
          0.2936238942477876,
          0.33087610663716815,
          0.33087610663716815,
          0.3197079650442478,
          0.3197079650442478,
          0.2137787610619469,
          0.2137787610619469,
          0.20954867212389378,
          0.20954867212389378,
          0.23276106194690266,
          0.23276106194690266,
          0.3701504424778761,
          0.3701504424778761,
          0.45078761106194687,
          0.45078761106194687,
          0.32140265486725667,
          0.32140265486725667,
          0.29980530973451325,
          0.29980530973451325,
          0.2691858407079646,
          0.2691858407079646,
          0.2031858407079646,
          0.2031858407079646
         ],
         "yaxis": "y"
        },
        {
         "hovertemplate": "weekday=1<br>timestamp=%{x}<br>day_hourly_profile=%{y}<extra></extra>",
         "legendgroup": "1",
         "line": {
          "color": "#EF553B",
          "dash": "solid"
         },
         "marker": {
          "symbol": "circle"
         },
         "mode": "lines",
         "name": "1",
         "orientation": "v",
         "showlegend": true,
         "type": "scatter",
         "x": [
          "2012-10-16T00:00:00",
          "2012-10-16T00:30:00",
          "2012-10-16T01:00:00",
          "2012-10-16T01:30:00",
          "2012-10-16T02:00:00",
          "2012-10-16T02:30:00",
          "2012-10-16T03:00:00",
          "2012-10-16T03:30:00",
          "2012-10-16T04:00:00",
          "2012-10-16T04:30:00",
          "2012-10-16T05:00:00",
          "2012-10-16T05:30:00",
          "2012-10-16T06:00:00",
          "2012-10-16T06:30:00",
          "2012-10-16T07:00:00",
          "2012-10-16T07:30:00",
          "2012-10-16T08:00:00",
          "2012-10-16T08:30:00",
          "2012-10-16T09:00:00",
          "2012-10-16T09:30:00",
          "2012-10-16T10:00:00",
          "2012-10-16T10:30:00",
          "2012-10-16T11:00:00",
          "2012-10-16T11:30:00",
          "2012-10-16T12:00:00",
          "2012-10-16T12:30:00",
          "2012-10-16T13:00:00",
          "2012-10-16T13:30:00",
          "2012-10-16T14:00:00",
          "2012-10-16T14:30:00",
          "2012-10-16T15:00:00",
          "2012-10-16T15:30:00",
          "2012-10-16T16:00:00",
          "2012-10-16T16:30:00",
          "2012-10-16T17:00:00",
          "2012-10-16T17:30:00",
          "2012-10-16T18:00:00",
          "2012-10-16T18:30:00",
          "2012-10-16T19:00:00",
          "2012-10-16T19:30:00",
          "2012-10-16T20:00:00",
          "2012-10-16T20:30:00",
          "2012-10-16T21:00:00",
          "2012-10-16T21:30:00",
          "2012-10-16T22:00:00",
          "2012-10-16T22:30:00",
          "2012-10-16T23:00:00",
          "2012-10-16T23:30:00"
         ],
         "xaxis": "x",
         "y": [
          0.06481415929203539,
          0.06481415929203539,
          0.032499999999999994,
          0.032499999999999994,
          0.03141592920353981,
          0.03141592920353981,
          0.03115929203539822,
          0.03115929203539822,
          0.03190707964601768,
          0.03190707964601768,
          0.034429203539823,
          0.034429203539823,
          0.0608938053097345,
          0.0608938053097345,
          0.1449026557522124,
          0.1449026557522124,
          0.37334513451327433,
          0.37334513451327433,
          0.5171504442477876,
          0.5171504442477876,
          0.6539159296460176,
          0.6539159296460176,
          0.43671681592920353,
          0.43671681592920353,
          0.3284115044247788,
          0.3284115044247788,
          0.33557522123893807,
          0.33557522123893807,
          0.31207079646017694,
          0.31207079646017694,
          0.24722566371681415,
          0.24722566371681415,
          0.2330575216814159,
          0.2330575216814159,
          0.2532920349557522,
          0.2532920349557522,
          0.4139911495575221,
          0.4139911495575221,
          0.4257035389380531,
          0.4257035389380531,
          0.3426327433628319,
          0.3426327433628319,
          0.2835044247787611,
          0.2835044247787611,
          0.2729469022123894,
          0.2729469022123894,
          0.21128,
          0.21128
         ],
         "yaxis": "y"
        },
        {
         "hovertemplate": "weekday=2<br>timestamp=%{x}<br>day_hourly_profile=%{y}<extra></extra>",
         "legendgroup": "2",
         "line": {
          "color": "#00cc96",
          "dash": "solid"
         },
         "marker": {
          "symbol": "circle"
         },
         "mode": "lines",
         "name": "2",
         "orientation": "v",
         "showlegend": true,
         "type": "scatter",
         "x": [
          "2012-10-17T00:00:00",
          "2012-10-17T00:30:00",
          "2012-10-17T01:00:00",
          "2012-10-17T01:30:00",
          "2012-10-17T02:00:00",
          "2012-10-17T02:30:00",
          "2012-10-17T03:00:00",
          "2012-10-17T03:30:00",
          "2012-10-17T04:00:00",
          "2012-10-17T04:30:00",
          "2012-10-17T05:00:00",
          "2012-10-17T05:30:00",
          "2012-10-17T06:00:00",
          "2012-10-17T06:30:00",
          "2012-10-17T07:00:00",
          "2012-10-17T07:30:00",
          "2012-10-17T08:00:00",
          "2012-10-17T08:30:00",
          "2012-10-17T09:00:00",
          "2012-10-17T09:30:00",
          "2012-10-17T10:00:00",
          "2012-10-17T10:30:00",
          "2012-10-17T11:00:00",
          "2012-10-17T11:30:00",
          "2012-10-17T12:00:00",
          "2012-10-17T12:30:00",
          "2012-10-17T13:00:00",
          "2012-10-17T13:30:00",
          "2012-10-17T14:00:00",
          "2012-10-17T14:30:00",
          "2012-10-17T15:00:00",
          "2012-10-17T15:30:00",
          "2012-10-17T16:00:00",
          "2012-10-17T16:30:00",
          "2012-10-17T17:00:00",
          "2012-10-17T17:30:00",
          "2012-10-17T18:00:00",
          "2012-10-17T18:30:00",
          "2012-10-17T19:00:00",
          "2012-10-17T19:30:00",
          "2012-10-17T20:00:00",
          "2012-10-17T20:30:00",
          "2012-10-17T21:00:00",
          "2012-10-17T21:30:00",
          "2012-10-17T22:00:00",
          "2012-10-17T22:30:00",
          "2012-10-17T23:00:00",
          "2012-10-17T23:30:00"
         ],
         "xaxis": "x",
         "y": [
          0.06447787610619468,
          0.06447787610619468,
          0.039420353539823,
          0.039420353539823,
          0.031646017699115035,
          0.031646017699115035,
          0.034061946902654856,
          0.034061946902654856,
          0.032132743362831846,
          0.032132743362831846,
          0.03710176991150441,
          0.03710176991150441,
          0.055070796460176985,
          0.055070796460176985,
          0.10687610619469025,
          0.10687610619469025,
          0.2647256646017699,
          0.2647256646017699,
          0.4826858424778761,
          0.4826858424778761,
          0.5462566384955753,
          0.5462566384955753,
          0.4998008849557522,
          0.4998008849557522,
          0.3850929199115044,
          0.3850929199115044,
          0.34261946725663717,
          0.34261946725663717,
          0.27983185840707964,
          0.27983185840707964,
          0.22529646017699112,
          0.22529646017699112,
          0.22288938053097343,
          0.22288938053097343,
          0.2535442482300885,
          0.2535442482300885,
          0.3924955752212389,
          0.3924955752212389,
          0.4066769911504424,
          0.4066769911504424,
          0.31147345132743365,
          0.31147345132743365,
          0.30592035398230083,
          0.30592035398230083,
          0.27334955752212386,
          0.27334955752212386,
          0.21495132787610616,
          0.21495132787610616
         ],
         "yaxis": "y"
        },
        {
         "hovertemplate": "weekday=3<br>timestamp=%{x}<br>day_hourly_profile=%{y}<extra></extra>",
         "legendgroup": "3",
         "line": {
          "color": "#ab63fa",
          "dash": "solid"
         },
         "marker": {
          "symbol": "circle"
         },
         "mode": "lines",
         "name": "3",
         "orientation": "v",
         "showlegend": true,
         "type": "scatter",
         "x": [
          "2012-10-18T00:00:00",
          "2012-10-18T00:30:00",
          "2012-10-18T01:00:00",
          "2012-10-18T01:30:00",
          "2012-10-18T02:00:00",
          "2012-10-18T02:30:00",
          "2012-10-18T03:00:00",
          "2012-10-18T03:30:00",
          "2012-10-18T04:00:00",
          "2012-10-18T04:30:00",
          "2012-10-18T05:00:00",
          "2012-10-18T05:30:00",
          "2012-10-18T06:00:00",
          "2012-10-18T06:30:00",
          "2012-10-18T07:00:00",
          "2012-10-18T07:30:00",
          "2012-10-18T08:00:00",
          "2012-10-18T08:30:00",
          "2012-10-18T09:00:00",
          "2012-10-18T09:30:00",
          "2012-10-18T10:00:00",
          "2012-10-18T10:30:00",
          "2012-10-18T11:00:00",
          "2012-10-18T11:30:00",
          "2012-10-18T12:00:00",
          "2012-10-18T12:30:00",
          "2012-10-18T13:00:00",
          "2012-10-18T13:30:00",
          "2012-10-18T14:00:00",
          "2012-10-18T14:30:00",
          "2012-10-18T15:00:00",
          "2012-10-18T15:30:00",
          "2012-10-18T16:00:00",
          "2012-10-18T16:30:00",
          "2012-10-18T17:00:00",
          "2012-10-18T17:30:00",
          "2012-10-18T18:00:00",
          "2012-10-18T18:30:00",
          "2012-10-18T19:00:00",
          "2012-10-18T19:30:00",
          "2012-10-18T20:00:00",
          "2012-10-18T20:30:00",
          "2012-10-18T21:00:00",
          "2012-10-18T21:30:00",
          "2012-10-18T22:00:00",
          "2012-10-18T22:30:00",
          "2012-10-18T23:00:00",
          "2012-10-18T23:30:00"
         ],
         "xaxis": "x",
         "y": [
          0.06524999999999999,
          0.06524999999999999,
          0.03481249999999999,
          0.03481249999999999,
          0.03472767857142856,
          0.03472767857142856,
          0.03783035714285714,
          0.03783035714285714,
          0.03434374999999999,
          0.03434374999999999,
          0.03373660714285713,
          0.03373660714285713,
          0.06625446428571427,
          0.06625446428571427,
          0.1967366075892857,
          0.1967366075892857,
          0.4308526790178572,
          0.4308526790178572,
          0.43603125000000004,
          0.43603125000000004,
          0.5457633937499999,
          0.5457633937499999,
          0.37645982142857143,
          0.37645982142857143,
          0.21606696383928573,
          0.21606696383928573,
          0.2732901776785714,
          0.2732901776785714,
          0.3305625,
          0.3305625,
          0.25158035803571427,
          0.25158035803571427,
          0.24915624955357143,
          0.24915624955357143,
          0.2745267861607143,
          0.2745267861607143,
          0.3879017852678571,
          0.3879017852678571,
          0.4341517857142857,
          0.4341517857142857,
          0.3328303566964285,
          0.3328303566964285,
          0.27858482142857144,
          0.27858482142857144,
          0.2633348214285714,
          0.2633348214285714,
          0.20208928571428572,
          0.20208928571428572
         ],
         "yaxis": "y"
        },
        {
         "hovertemplate": "weekday=4<br>timestamp=%{x}<br>day_hourly_profile=%{y}<extra></extra>",
         "legendgroup": "4",
         "line": {
          "color": "#FFA15A",
          "dash": "solid"
         },
         "marker": {
          "symbol": "circle"
         },
         "mode": "lines",
         "name": "4",
         "orientation": "v",
         "showlegend": true,
         "type": "scatter",
         "x": [
          "2012-10-19T00:00:00",
          "2012-10-19T00:30:00",
          "2012-10-19T01:00:00",
          "2012-10-19T01:30:00",
          "2012-10-19T02:00:00",
          "2012-10-19T02:30:00",
          "2012-10-19T03:00:00",
          "2012-10-19T03:30:00",
          "2012-10-19T04:00:00",
          "2012-10-19T04:30:00",
          "2012-10-19T05:00:00",
          "2012-10-19T05:30:00",
          "2012-10-19T06:00:00",
          "2012-10-19T06:30:00",
          "2012-10-19T07:00:00",
          "2012-10-19T07:30:00",
          "2012-10-19T08:00:00",
          "2012-10-19T08:30:00",
          "2012-10-19T09:00:00",
          "2012-10-19T09:30:00",
          "2012-10-19T10:00:00",
          "2012-10-19T10:30:00",
          "2012-10-19T11:00:00",
          "2012-10-19T11:30:00",
          "2012-10-19T12:00:00",
          "2012-10-19T12:30:00",
          "2012-10-19T13:00:00",
          "2012-10-19T13:30:00",
          "2012-10-19T14:00:00",
          "2012-10-19T14:30:00",
          "2012-10-19T15:00:00",
          "2012-10-19T15:30:00",
          "2012-10-19T16:00:00",
          "2012-10-19T16:30:00",
          "2012-10-19T17:00:00",
          "2012-10-19T17:30:00",
          "2012-10-19T18:00:00",
          "2012-10-19T18:30:00",
          "2012-10-19T19:00:00",
          "2012-10-19T19:30:00",
          "2012-10-19T20:00:00",
          "2012-10-19T20:30:00",
          "2012-10-19T21:00:00",
          "2012-10-19T21:30:00",
          "2012-10-19T22:00:00",
          "2012-10-19T22:30:00",
          "2012-10-19T23:00:00",
          "2012-10-19T23:30:00"
         ],
         "xaxis": "x",
         "y": [
          0.12185267901785714,
          0.12185267901785714,
          0.03391071428571427,
          0.03391071428571427,
          0.033066964285714276,
          0.033066964285714276,
          0.03259374999999999,
          0.03259374999999999,
          0.03242857142857141,
          0.03242857142857141,
          0.042718749999999986,
          0.042718749999999986,
          0.06674999999999999,
          0.06674999999999999,
          0.12293303616071427,
          0.12293303616071427,
          0.29334375,
          0.29334375,
          0.5064375,
          0.5064375,
          0.5572098214285715,
          0.5572098214285715,
          0.41940178526785715,
          0.41940178526785715,
          0.32364285580357144,
          0.32364285580357144,
          0.27025446428571426,
          0.27025446428571426,
          0.29666071562499996,
          0.29666071562499996,
          0.27796875044642855,
          0.27796875044642855,
          0.24345089285714286,
          0.24345089285714286,
          0.28142410625,
          0.28142410625,
          0.39666964419642853,
          0.39666964419642853,
          0.4393794642857142,
          0.4393794642857142,
          0.30832589285714285,
          0.30832589285714285,
          0.28470982142857143,
          0.28470982142857143,
          0.26432589285714286,
          0.26432589285714286,
          0.23813392857142857,
          0.23813392857142857
         ],
         "yaxis": "y"
        },
        {
         "hovertemplate": "weekday=5<br>timestamp=%{x}<br>day_hourly_profile=%{y}<extra></extra>",
         "legendgroup": "5",
         "line": {
          "color": "#19d3f3",
          "dash": "solid"
         },
         "marker": {
          "symbol": "circle"
         },
         "mode": "lines",
         "name": "5",
         "orientation": "v",
         "showlegend": true,
         "type": "scatter",
         "x": [
          "2012-10-20T00:00:00",
          "2012-10-20T00:30:00",
          "2012-10-20T01:00:00",
          "2012-10-20T01:30:00",
          "2012-10-20T02:00:00",
          "2012-10-20T02:30:00",
          "2012-10-20T03:00:00",
          "2012-10-20T03:30:00",
          "2012-10-20T04:00:00",
          "2012-10-20T04:30:00",
          "2012-10-20T05:00:00",
          "2012-10-20T05:30:00",
          "2012-10-20T06:00:00",
          "2012-10-20T06:30:00",
          "2012-10-20T07:00:00",
          "2012-10-20T07:30:00",
          "2012-10-20T08:00:00",
          "2012-10-20T08:30:00",
          "2012-10-20T09:00:00",
          "2012-10-20T09:30:00",
          "2012-10-20T10:00:00",
          "2012-10-20T10:30:00",
          "2012-10-20T11:00:00",
          "2012-10-20T11:30:00",
          "2012-10-20T12:00:00",
          "2012-10-20T12:30:00",
          "2012-10-20T13:00:00",
          "2012-10-20T13:30:00",
          "2012-10-20T14:00:00",
          "2012-10-20T14:30:00",
          "2012-10-20T15:00:00",
          "2012-10-20T15:30:00",
          "2012-10-20T16:00:00",
          "2012-10-20T16:30:00",
          "2012-10-20T17:00:00",
          "2012-10-20T17:30:00",
          "2012-10-20T18:00:00",
          "2012-10-20T18:30:00",
          "2012-10-20T19:00:00",
          "2012-10-20T19:30:00",
          "2012-10-20T20:00:00",
          "2012-10-20T20:30:00",
          "2012-10-20T21:00:00",
          "2012-10-20T21:30:00",
          "2012-10-20T22:00:00",
          "2012-10-20T22:30:00",
          "2012-10-20T23:00:00",
          "2012-10-20T23:30:00"
         ],
         "xaxis": "x",
         "y": [
          0.11905357142857143,
          0.11905357142857143,
          0.035285714285714274,
          0.035285714285714274,
          0.032325892857142845,
          0.032325892857142845,
          0.03241517857142857,
          0.03241517857142857,
          0.03285267857142856,
          0.03285267857142856,
          0.03425892857142856,
          0.03425892857142856,
          0.05169642857142857,
          0.05169642857142857,
          0.10471875044642856,
          0.10471875044642856,
          0.31611607187499996,
          0.31611607187499996,
          0.4817187482142857,
          0.4817187482142857,
          0.4942142861607143,
          0.4942142861607143,
          0.37783035669642856,
          0.37783035669642856,
          0.3332767866071428,
          0.3332767866071428,
          0.3317500004464286,
          0.3317500004464286,
          0.2785580361607143,
          0.2785580361607143,
          0.23074107142857142,
          0.23074107142857142,
          0.236625,
          0.236625,
          0.22525892857142857,
          0.22525892857142857,
          0.29832142857142857,
          0.29832142857142857,
          0.3254151785714286,
          0.3254151785714286,
          0.30112053526785715,
          0.30112053526785715,
          0.2826249995535714,
          0.2826249995535714,
          0.27927232098214283,
          0.27927232098214283,
          0.23605803571428569,
          0.23605803571428569
         ],
         "yaxis": "y"
        },
        {
         "hovertemplate": "weekday=6<br>timestamp=%{x}<br>day_hourly_profile=%{y}<extra></extra>",
         "legendgroup": "6",
         "line": {
          "color": "#FF6692",
          "dash": "solid"
         },
         "marker": {
          "symbol": "circle"
         },
         "mode": "lines",
         "name": "6",
         "orientation": "v",
         "showlegend": true,
         "type": "scatter",
         "x": [
          "2012-10-21T00:00:00",
          "2012-10-21T00:30:00",
          "2012-10-21T01:00:00",
          "2012-10-21T01:30:00",
          "2012-10-21T02:00:00",
          "2012-10-21T02:30:00",
          "2012-10-21T03:00:00",
          "2012-10-21T03:30:00",
          "2012-10-21T04:00:00",
          "2012-10-21T04:30:00",
          "2012-10-21T05:00:00",
          "2012-10-21T05:30:00",
          "2012-10-21T06:00:00",
          "2012-10-21T06:30:00",
          "2012-10-21T07:00:00",
          "2012-10-21T07:30:00",
          "2012-10-21T08:00:00",
          "2012-10-21T08:30:00",
          "2012-10-21T09:00:00",
          "2012-10-21T09:30:00",
          "2012-10-21T10:00:00",
          "2012-10-21T10:30:00",
          "2012-10-21T11:00:00",
          "2012-10-21T11:30:00",
          "2012-10-21T12:00:00",
          "2012-10-21T12:30:00",
          "2012-10-21T13:00:00",
          "2012-10-21T13:30:00",
          "2012-10-21T14:00:00",
          "2012-10-21T14:30:00",
          "2012-10-21T15:00:00",
          "2012-10-21T15:30:00",
          "2012-10-21T16:00:00",
          "2012-10-21T16:30:00",
          "2012-10-21T17:00:00",
          "2012-10-21T17:30:00",
          "2012-10-21T18:00:00",
          "2012-10-21T18:30:00",
          "2012-10-21T19:00:00",
          "2012-10-21T19:30:00",
          "2012-10-21T20:00:00",
          "2012-10-21T20:30:00",
          "2012-10-21T21:00:00",
          "2012-10-21T21:30:00",
          "2012-10-21T22:00:00",
          "2012-10-21T22:30:00",
          "2012-10-21T23:00:00",
          "2012-10-21T23:30:00"
         ],
         "xaxis": "x",
         "y": [
          0.09497345132743362,
          0.09497345132743362,
          0.03325221238938052,
          0.03325221238938052,
          0.033371681415929194,
          0.033371681415929194,
          0.031225663716814154,
          0.031225663716814154,
          0.031650442477876094,
          0.031650442477876094,
          0.03269911504424778,
          0.03269911504424778,
          0.05366814159292035,
          0.05366814159292035,
          0.09534513230088494,
          0.09534513230088494,
          0.23255752300884955,
          0.23255752300884955,
          0.4178982296460177,
          0.4178982296460177,
          0.6767433646017699,
          0.6767433646017699,
          0.5670663707964602,
          0.5670663707964602,
          0.4795840703539823,
          0.4795840703539823,
          0.6261371690265486,
          0.6261371690265486,
          0.5372256628318584,
          0.5372256628318584,
          0.33001769867256636,
          0.33001769867256636,
          0.24923008805309735,
          0.24923008805309735,
          0.2467345128318584,
          0.2467345128318584,
          0.2723053097345133,
          0.2723053097345133,
          0.27401769911504426,
          0.27401769911504426,
          0.267575221238938,
          0.267575221238938,
          0.2718230088495575,
          0.2718230088495575,
          0.24550442477876103,
          0.24550442477876103,
          0.21658407123893803,
          0.21658407123893803
         ],
         "yaxis": "y"
        }
       ],
       "layout": {
        "legend": {
         "title": {
          "text": "weekday"
         },
         "tracegroupgap": 0
        },
        "template": {
         "data": {
          "bar": [
           {
            "error_x": {
             "color": "#2a3f5f"
            },
            "error_y": {
             "color": "#2a3f5f"
            },
            "marker": {
             "line": {
              "color": "white",
              "width": 0.5
             },
             "pattern": {
              "fillmode": "overlay",
              "size": 10,
              "solidity": 0.2
             }
            },
            "type": "bar"
           }
          ],
          "barpolar": [
           {
            "marker": {
             "line": {
              "color": "white",
              "width": 0.5
             },
             "pattern": {
              "fillmode": "overlay",
              "size": 10,
              "solidity": 0.2
             }
            },
            "type": "barpolar"
           }
          ],
          "carpet": [
           {
            "aaxis": {
             "endlinecolor": "#2a3f5f",
             "gridcolor": "#C8D4E3",
             "linecolor": "#C8D4E3",
             "minorgridcolor": "#C8D4E3",
             "startlinecolor": "#2a3f5f"
            },
            "baxis": {
             "endlinecolor": "#2a3f5f",
             "gridcolor": "#C8D4E3",
             "linecolor": "#C8D4E3",
             "minorgridcolor": "#C8D4E3",
             "startlinecolor": "#2a3f5f"
            },
            "type": "carpet"
           }
          ],
          "choropleth": [
           {
            "colorbar": {
             "outlinewidth": 0,
             "ticks": ""
            },
            "type": "choropleth"
           }
          ],
          "contour": [
           {
            "colorbar": {
             "outlinewidth": 0,
             "ticks": ""
            },
            "colorscale": [
             [
              0,
              "#0d0887"
             ],
             [
              0.1111111111111111,
              "#46039f"
             ],
             [
              0.2222222222222222,
              "#7201a8"
             ],
             [
              0.3333333333333333,
              "#9c179e"
             ],
             [
              0.4444444444444444,
              "#bd3786"
             ],
             [
              0.5555555555555556,
              "#d8576b"
             ],
             [
              0.6666666666666666,
              "#ed7953"
             ],
             [
              0.7777777777777778,
              "#fb9f3a"
             ],
             [
              0.8888888888888888,
              "#fdca26"
             ],
             [
              1,
              "#f0f921"
             ]
            ],
            "type": "contour"
           }
          ],
          "contourcarpet": [
           {
            "colorbar": {
             "outlinewidth": 0,
             "ticks": ""
            },
            "type": "contourcarpet"
           }
          ],
          "heatmap": [
           {
            "colorbar": {
             "outlinewidth": 0,
             "ticks": ""
            },
            "colorscale": [
             [
              0,
              "#0d0887"
             ],
             [
              0.1111111111111111,
              "#46039f"
             ],
             [
              0.2222222222222222,
              "#7201a8"
             ],
             [
              0.3333333333333333,
              "#9c179e"
             ],
             [
              0.4444444444444444,
              "#bd3786"
             ],
             [
              0.5555555555555556,
              "#d8576b"
             ],
             [
              0.6666666666666666,
              "#ed7953"
             ],
             [
              0.7777777777777778,
              "#fb9f3a"
             ],
             [
              0.8888888888888888,
              "#fdca26"
             ],
             [
              1,
              "#f0f921"
             ]
            ],
            "type": "heatmap"
           }
          ],
          "heatmapgl": [
           {
            "colorbar": {
             "outlinewidth": 0,
             "ticks": ""
            },
            "colorscale": [
             [
              0,
              "#0d0887"
             ],
             [
              0.1111111111111111,
              "#46039f"
             ],
             [
              0.2222222222222222,
              "#7201a8"
             ],
             [
              0.3333333333333333,
              "#9c179e"
             ],
             [
              0.4444444444444444,
              "#bd3786"
             ],
             [
              0.5555555555555556,
              "#d8576b"
             ],
             [
              0.6666666666666666,
              "#ed7953"
             ],
             [
              0.7777777777777778,
              "#fb9f3a"
             ],
             [
              0.8888888888888888,
              "#fdca26"
             ],
             [
              1,
              "#f0f921"
             ]
            ],
            "type": "heatmapgl"
           }
          ],
          "histogram": [
           {
            "marker": {
             "pattern": {
              "fillmode": "overlay",
              "size": 10,
              "solidity": 0.2
             }
            },
            "type": "histogram"
           }
          ],
          "histogram2d": [
           {
            "colorbar": {
             "outlinewidth": 0,
             "ticks": ""
            },
            "colorscale": [
             [
              0,
              "#0d0887"
             ],
             [
              0.1111111111111111,
              "#46039f"
             ],
             [
              0.2222222222222222,
              "#7201a8"
             ],
             [
              0.3333333333333333,
              "#9c179e"
             ],
             [
              0.4444444444444444,
              "#bd3786"
             ],
             [
              0.5555555555555556,
              "#d8576b"
             ],
             [
              0.6666666666666666,
              "#ed7953"
             ],
             [
              0.7777777777777778,
              "#fb9f3a"
             ],
             [
              0.8888888888888888,
              "#fdca26"
             ],
             [
              1,
              "#f0f921"
             ]
            ],
            "type": "histogram2d"
           }
          ],
          "histogram2dcontour": [
           {
            "colorbar": {
             "outlinewidth": 0,
             "ticks": ""
            },
            "colorscale": [
             [
              0,
              "#0d0887"
             ],
             [
              0.1111111111111111,
              "#46039f"
             ],
             [
              0.2222222222222222,
              "#7201a8"
             ],
             [
              0.3333333333333333,
              "#9c179e"
             ],
             [
              0.4444444444444444,
              "#bd3786"
             ],
             [
              0.5555555555555556,
              "#d8576b"
             ],
             [
              0.6666666666666666,
              "#ed7953"
             ],
             [
              0.7777777777777778,
              "#fb9f3a"
             ],
             [
              0.8888888888888888,
              "#fdca26"
             ],
             [
              1,
              "#f0f921"
             ]
            ],
            "type": "histogram2dcontour"
           }
          ],
          "mesh3d": [
           {
            "colorbar": {
             "outlinewidth": 0,
             "ticks": ""
            },
            "type": "mesh3d"
           }
          ],
          "parcoords": [
           {
            "line": {
             "colorbar": {
              "outlinewidth": 0,
              "ticks": ""
             }
            },
            "type": "parcoords"
           }
          ],
          "pie": [
           {
            "automargin": true,
            "type": "pie"
           }
          ],
          "scatter": [
           {
            "fillpattern": {
             "fillmode": "overlay",
             "size": 10,
             "solidity": 0.2
            },
            "type": "scatter"
           }
          ],
          "scatter3d": [
           {
            "line": {
             "colorbar": {
              "outlinewidth": 0,
              "ticks": ""
             }
            },
            "marker": {
             "colorbar": {
              "outlinewidth": 0,
              "ticks": ""
             }
            },
            "type": "scatter3d"
           }
          ],
          "scattercarpet": [
           {
            "marker": {
             "colorbar": {
              "outlinewidth": 0,
              "ticks": ""
             }
            },
            "type": "scattercarpet"
           }
          ],
          "scattergeo": [
           {
            "marker": {
             "colorbar": {
              "outlinewidth": 0,
              "ticks": ""
             }
            },
            "type": "scattergeo"
           }
          ],
          "scattergl": [
           {
            "marker": {
             "colorbar": {
              "outlinewidth": 0,
              "ticks": ""
             }
            },
            "type": "scattergl"
           }
          ],
          "scattermapbox": [
           {
            "marker": {
             "colorbar": {
              "outlinewidth": 0,
              "ticks": ""
             }
            },
            "type": "scattermapbox"
           }
          ],
          "scatterpolar": [
           {
            "marker": {
             "colorbar": {
              "outlinewidth": 0,
              "ticks": ""
             }
            },
            "type": "scatterpolar"
           }
          ],
          "scatterpolargl": [
           {
            "marker": {
             "colorbar": {
              "outlinewidth": 0,
              "ticks": ""
             }
            },
            "type": "scatterpolargl"
           }
          ],
          "scatterternary": [
           {
            "marker": {
             "colorbar": {
              "outlinewidth": 0,
              "ticks": ""
             }
            },
            "type": "scatterternary"
           }
          ],
          "surface": [
           {
            "colorbar": {
             "outlinewidth": 0,
             "ticks": ""
            },
            "colorscale": [
             [
              0,
              "#0d0887"
             ],
             [
              0.1111111111111111,
              "#46039f"
             ],
             [
              0.2222222222222222,
              "#7201a8"
             ],
             [
              0.3333333333333333,
              "#9c179e"
             ],
             [
              0.4444444444444444,
              "#bd3786"
             ],
             [
              0.5555555555555556,
              "#d8576b"
             ],
             [
              0.6666666666666666,
              "#ed7953"
             ],
             [
              0.7777777777777778,
              "#fb9f3a"
             ],
             [
              0.8888888888888888,
              "#fdca26"
             ],
             [
              1,
              "#f0f921"
             ]
            ],
            "type": "surface"
           }
          ],
          "table": [
           {
            "cells": {
             "fill": {
              "color": "#EBF0F8"
             },
             "line": {
              "color": "white"
             }
            },
            "header": {
             "fill": {
              "color": "#C8D4E3"
             },
             "line": {
              "color": "white"
             }
            },
            "type": "table"
           }
          ]
         },
         "layout": {
          "annotationdefaults": {
           "arrowcolor": "#2a3f5f",
           "arrowhead": 0,
           "arrowwidth": 1
          },
          "autotypenumbers": "strict",
          "coloraxis": {
           "colorbar": {
            "outlinewidth": 0,
            "ticks": ""
           }
          },
          "colorscale": {
           "diverging": [
            [
             0,
             "#8e0152"
            ],
            [
             0.1,
             "#c51b7d"
            ],
            [
             0.2,
             "#de77ae"
            ],
            [
             0.3,
             "#f1b6da"
            ],
            [
             0.4,
             "#fde0ef"
            ],
            [
             0.5,
             "#f7f7f7"
            ],
            [
             0.6,
             "#e6f5d0"
            ],
            [
             0.7,
             "#b8e186"
            ],
            [
             0.8,
             "#7fbc41"
            ],
            [
             0.9,
             "#4d9221"
            ],
            [
             1,
             "#276419"
            ]
           ],
           "sequential": [
            [
             0,
             "#0d0887"
            ],
            [
             0.1111111111111111,
             "#46039f"
            ],
            [
             0.2222222222222222,
             "#7201a8"
            ],
            [
             0.3333333333333333,
             "#9c179e"
            ],
            [
             0.4444444444444444,
             "#bd3786"
            ],
            [
             0.5555555555555556,
             "#d8576b"
            ],
            [
             0.6666666666666666,
             "#ed7953"
            ],
            [
             0.7777777777777778,
             "#fb9f3a"
            ],
            [
             0.8888888888888888,
             "#fdca26"
            ],
            [
             1,
             "#f0f921"
            ]
           ],
           "sequentialminus": [
            [
             0,
             "#0d0887"
            ],
            [
             0.1111111111111111,
             "#46039f"
            ],
            [
             0.2222222222222222,
             "#7201a8"
            ],
            [
             0.3333333333333333,
             "#9c179e"
            ],
            [
             0.4444444444444444,
             "#bd3786"
            ],
            [
             0.5555555555555556,
             "#d8576b"
            ],
            [
             0.6666666666666666,
             "#ed7953"
            ],
            [
             0.7777777777777778,
             "#fb9f3a"
            ],
            [
             0.8888888888888888,
             "#fdca26"
            ],
            [
             1,
             "#f0f921"
            ]
           ]
          },
          "colorway": [
           "#636efa",
           "#EF553B",
           "#00cc96",
           "#ab63fa",
           "#FFA15A",
           "#19d3f3",
           "#FF6692",
           "#B6E880",
           "#FF97FF",
           "#FECB52"
          ],
          "font": {
           "color": "#2a3f5f"
          },
          "geo": {
           "bgcolor": "white",
           "lakecolor": "white",
           "landcolor": "white",
           "showlakes": true,
           "showland": true,
           "subunitcolor": "#C8D4E3"
          },
          "hoverlabel": {
           "align": "left"
          },
          "hovermode": "closest",
          "mapbox": {
           "style": "light"
          },
          "paper_bgcolor": "white",
          "plot_bgcolor": "white",
          "polar": {
           "angularaxis": {
            "gridcolor": "#EBF0F8",
            "linecolor": "#EBF0F8",
            "ticks": ""
           },
           "bgcolor": "white",
           "radialaxis": {
            "gridcolor": "#EBF0F8",
            "linecolor": "#EBF0F8",
            "ticks": ""
           }
          },
          "scene": {
           "xaxis": {
            "backgroundcolor": "white",
            "gridcolor": "#DFE8F3",
            "gridwidth": 2,
            "linecolor": "#EBF0F8",
            "showbackground": true,
            "ticks": "",
            "zerolinecolor": "#EBF0F8"
           },
           "yaxis": {
            "backgroundcolor": "white",
            "gridcolor": "#DFE8F3",
            "gridwidth": 2,
            "linecolor": "#EBF0F8",
            "showbackground": true,
            "ticks": "",
            "zerolinecolor": "#EBF0F8"
           },
           "zaxis": {
            "backgroundcolor": "white",
            "gridcolor": "#DFE8F3",
            "gridwidth": 2,
            "linecolor": "#EBF0F8",
            "showbackground": true,
            "ticks": "",
            "zerolinecolor": "#EBF0F8"
           }
          },
          "shapedefaults": {
           "line": {
            "color": "#2a3f5f"
           }
          },
          "ternary": {
           "aaxis": {
            "gridcolor": "#DFE8F3",
            "linecolor": "#A2B1C6",
            "ticks": ""
           },
           "baxis": {
            "gridcolor": "#DFE8F3",
            "linecolor": "#A2B1C6",
            "ticks": ""
           },
           "bgcolor": "white",
           "caxis": {
            "gridcolor": "#DFE8F3",
            "linecolor": "#A2B1C6",
            "ticks": ""
           }
          },
          "title": {
           "x": 0.05
          },
          "xaxis": {
           "automargin": true,
           "gridcolor": "#EBF0F8",
           "linecolor": "#EBF0F8",
           "ticks": "",
           "title": {
            "standoff": 15
           },
           "zerolinecolor": "#EBF0F8",
           "zerolinewidth": 2
          },
          "yaxis": {
           "automargin": true,
           "gridcolor": "#EBF0F8",
           "linecolor": "#EBF0F8",
           "ticks": "",
           "title": {
            "standoff": 15
           },
           "zerolinecolor": "#EBF0F8",
           "zerolinewidth": 2
          }
         }
        },
        "title": {
         "text": "Hourly Profiles by Weekday (0-Monday - 6-Sunday)"
        },
        "xaxis": {
         "anchor": "y",
         "domain": [
          0,
          1
         ],
         "title": {
          "text": "timestamp"
         }
        },
        "yaxis": {
         "anchor": "x",
         "domain": [
          0,
          1
         ],
         "title": {
          "text": "day_hourly_profile"
         }
        }
       }
      }
     },
     "metadata": {},
     "output_type": "display_data"
    }
   ],
   "source": [
    "# Hourly Profiles by week Day\n",
    "px.line(ts_df.loc[\"2012-10-15\": \"2012-10-21\",['day_hourly_profile','weekday']].reset_index(), x=\"timestamp\", y=\"day_hourly_profile\", color='weekday', title=\"Hourly Profiles by Weekday (0-Monday - 6-Sunday)\")"
   ]
  },
  {
   "cell_type": "markdown",
   "id": "42b90124-951d-4f1e-9b24-fe7afcbc36ce",
   "metadata": {},
   "source": [
    "#### Seasonal Interpolation"
   ]
  },
  {
   "cell_type": "code",
   "execution_count": 22,
   "id": "7e7ff84b-8be1-4391-a134-e4f66bddd138",
   "metadata": {},
   "outputs": [],
   "source": [
    "from src.imputation.interpolation import SeasonalInterpolation"
   ]
  },
  {
   "cell_type": "code",
   "execution_count": 23,
   "id": "a8928a9c-3616-4dae-84b9-7b8b295f6b02",
   "metadata": {},
   "outputs": [],
   "source": [
    "# Seasonal interpolation using 48*7 as the seasonal period.\n",
    "# seasonal period is the period after which you expect the pattern to repeat\n",
    "recovered_matrix_seas_interp_weekday_half_hour = SeasonalInterpolation(seasonal_period=48*7,\n",
    "                                                     decomposition_strategy=\"additive\", \n",
    "                                                     interpolation_strategy=\"spline\", \n",
    "                                                     interpolation_args={\"order\":3}, \n",
    "                                                     min_value=0).fit_transform(ts_df.energy_consumption_missing.values.reshape(-1,1))\n",
    "\n",
    "ts_df['seas_interp_weekday_half_hour_imputed'] = recovered_matrix_seas_interp_weekday_half_hour\n",
    "mae_weekday_half_hour = mean_absolute_error(ts_df.loc[window, \"seas_interp_weekday_half_hour_imputed\"], ts_df.loc[window, \"energy_consumption\"])"
   ]
  },
  {
   "cell_type": "code",
   "execution_count": 24,
   "id": "8062eb86-68dc-4385-bd76-9d271194905e",
   "metadata": {},
   "outputs": [],
   "source": [
    "recovered_matrix_seas_interp_half_hour = SeasonalInterpolation(seasonal_period=48,\n",
    "                                                     decomposition_strategy=\"additive\", \n",
    "                                                     interpolation_strategy=\"spline\", \n",
    "                                                     interpolation_args={\"order\":3}, \n",
    "                                                     min_value=0).fit_transform(ts_df.energy_consumption_missing.values.reshape(-1,1))\n",
    "\n",
    "ts_df['seas_interp_half_hour_imputed'] = recovered_matrix_seas_interp_half_hour\n",
    "mae_half_hour = mean_absolute_error(ts_df.loc[window, \"seas_interp_half_hour_imputed\"], ts_df.loc[window, \"energy_consumption\"])"
   ]
  },
  {
   "cell_type": "code",
   "execution_count": 25,
   "id": "f52157cc-6130-45d0-becd-5e355f7c6700",
   "metadata": {},
   "outputs": [
    {
     "data": {
      "application/vnd.plotly.v1+json": {
       "config": {
        "plotlyServerURL": "https://plot.ly"
       },
       "data": [
        {
         "hovertemplate": "variable=value<br>series=energy_consumption<br>timestamp=%{x}<br>_value=%{y}<extra></extra>",
         "legendgroup": "value, energy_consumption",
         "line": {
          "color": "#636efa",
          "dash": "solid"
         },
         "marker": {
          "symbol": "circle"
         },
         "mode": "lines",
         "name": "Original",
         "orientation": "v",
         "showlegend": true,
         "type": "scatter",
         "x": [
          "2012-10-07T00:00:00",
          "2012-10-07T00:30:00",
          "2012-10-07T01:00:00",
          "2012-10-07T01:30:00",
          "2012-10-07T02:00:00",
          "2012-10-07T02:30:00",
          "2012-10-07T03:00:00",
          "2012-10-07T03:30:00",
          "2012-10-07T04:00:00",
          "2012-10-07T04:30:00",
          "2012-10-07T05:00:00",
          "2012-10-07T05:30:00",
          "2012-10-07T06:00:00",
          "2012-10-07T06:30:00",
          "2012-10-07T07:00:00",
          "2012-10-07T07:30:00",
          "2012-10-07T08:00:00",
          "2012-10-07T08:30:00",
          "2012-10-07T09:00:00",
          "2012-10-07T09:30:00",
          "2012-10-07T10:00:00",
          "2012-10-07T10:30:00",
          "2012-10-07T11:00:00",
          "2012-10-07T11:30:00",
          "2012-10-07T12:00:00",
          "2012-10-07T12:30:00",
          "2012-10-07T13:00:00",
          "2012-10-07T13:30:00",
          "2012-10-07T14:00:00",
          "2012-10-07T14:30:00",
          "2012-10-07T15:00:00",
          "2012-10-07T15:30:00",
          "2012-10-07T16:00:00",
          "2012-10-07T16:30:00",
          "2012-10-07T17:00:00",
          "2012-10-07T17:30:00",
          "2012-10-07T18:00:00",
          "2012-10-07T18:30:00",
          "2012-10-07T19:00:00",
          "2012-10-07T19:30:00",
          "2012-10-07T20:00:00",
          "2012-10-07T20:30:00",
          "2012-10-07T21:00:00",
          "2012-10-07T21:30:00",
          "2012-10-07T22:00:00",
          "2012-10-07T22:30:00",
          "2012-10-07T23:00:00",
          "2012-10-07T23:30:00",
          "2012-10-08T00:00:00",
          "2012-10-08T00:30:00",
          "2012-10-08T01:00:00",
          "2012-10-08T01:30:00",
          "2012-10-08T02:00:00",
          "2012-10-08T02:30:00",
          "2012-10-08T03:00:00",
          "2012-10-08T03:30:00",
          "2012-10-08T04:00:00",
          "2012-10-08T04:30:00",
          "2012-10-08T05:00:00",
          "2012-10-08T05:30:00",
          "2012-10-08T06:00:00",
          "2012-10-08T06:30:00",
          "2012-10-08T07:00:00",
          "2012-10-08T07:30:00",
          "2012-10-08T08:00:00",
          "2012-10-08T08:30:00",
          "2012-10-08T09:00:00",
          "2012-10-08T09:30:00",
          "2012-10-08T10:00:00",
          "2012-10-08T10:30:00",
          "2012-10-08T11:00:00",
          "2012-10-08T11:30:00",
          "2012-10-08T12:00:00",
          "2012-10-08T12:30:00",
          "2012-10-08T13:00:00",
          "2012-10-08T13:30:00",
          "2012-10-08T14:00:00",
          "2012-10-08T14:30:00",
          "2012-10-08T15:00:00",
          "2012-10-08T15:30:00",
          "2012-10-08T16:00:00",
          "2012-10-08T16:30:00",
          "2012-10-08T17:00:00",
          "2012-10-08T17:30:00",
          "2012-10-08T18:00:00",
          "2012-10-08T18:30:00",
          "2012-10-08T19:00:00",
          "2012-10-08T19:30:00",
          "2012-10-08T20:00:00",
          "2012-10-08T20:30:00",
          "2012-10-08T21:00:00",
          "2012-10-08T21:30:00",
          "2012-10-08T22:00:00",
          "2012-10-08T22:30:00",
          "2012-10-08T23:00:00",
          "2012-10-08T23:30:00"
         ],
         "xaxis": "x",
         "y": [
          0.023,
          0.0559999999999999,
          0.0139999999999999,
          0.031,
          0.04,
          0.022,
          0.057,
          0.003,
          0.042,
          0.04,
          0.021,
          0.045,
          0.015,
          0.039,
          0.111,
          0.089,
          0.061,
          0.046,
          0.052,
          0.243,
          1.211,
          1.035,
          0.275,
          1.1440001,
          0.365,
          0.7,
          0.249,
          0.261,
          0.288,
          0.575,
          0.212,
          0.282,
          0.396,
          0.119,
          0.047,
          0.291,
          0.257,
          0.294,
          0.285,
          0.28,
          0.303,
          0.266,
          0.305,
          0.297,
          0.412,
          0.2189999999999999,
          0.0559999999999999,
          0.036,
          0.034,
          0.038,
          0.011,
          0.051,
          0.023,
          0.055,
          0.009,
          0.037,
          0.035,
          0.036,
          0.037,
          0.01,
          0.053,
          0.023,
          0.27,
          0.2189999999999999,
          0.258,
          0.88,
          0.7170000000000001,
          0.25,
          0.324,
          0.535,
          0.28,
          0.316,
          0.818,
          0.675,
          0.319,
          0.0579999999999999,
          0.059,
          0.259,
          0.337,
          0.212,
          0.238,
          0.209,
          0.24,
          0.17,
          0.743,
          0.8190000000000001,
          0.336,
          0.284,
          0.294,
          0.2789999999999999,
          0.253,
          0.311,
          0.357,
          0.1119999999999999,
          0.016,
          0.026
         ],
         "yaxis": "y"
        },
        {
         "hovertemplate": "variable=value<br>series=seas_interp_half_hour_imputed<br>timestamp=%{x}<br>_value=%{y}<extra></extra>",
         "legendgroup": "value, seas_interp_half_hour_imputed",
         "line": {
          "color": "#636efa",
          "dash": "dot"
         },
         "marker": {
          "symbol": "circle"
         },
         "mode": "lines",
         "name": "Half Hourly Profile Imputed",
         "orientation": "v",
         "showlegend": true,
         "type": "scatter",
         "x": [
          "2012-10-07T00:00:00",
          "2012-10-07T00:30:00",
          "2012-10-07T01:00:00",
          "2012-10-07T01:30:00",
          "2012-10-07T02:00:00",
          "2012-10-07T02:30:00",
          "2012-10-07T03:00:00",
          "2012-10-07T03:30:00",
          "2012-10-07T04:00:00",
          "2012-10-07T04:30:00",
          "2012-10-07T05:00:00",
          "2012-10-07T05:30:00",
          "2012-10-07T06:00:00",
          "2012-10-07T06:30:00",
          "2012-10-07T07:00:00",
          "2012-10-07T07:30:00",
          "2012-10-07T08:00:00",
          "2012-10-07T08:30:00",
          "2012-10-07T09:00:00",
          "2012-10-07T09:30:00",
          "2012-10-07T10:00:00",
          "2012-10-07T10:30:00",
          "2012-10-07T11:00:00",
          "2012-10-07T11:30:00",
          "2012-10-07T12:00:00",
          "2012-10-07T12:30:00",
          "2012-10-07T13:00:00",
          "2012-10-07T13:30:00",
          "2012-10-07T14:00:00",
          "2012-10-07T14:30:00",
          "2012-10-07T15:00:00",
          "2012-10-07T15:30:00",
          "2012-10-07T16:00:00",
          "2012-10-07T16:30:00",
          "2012-10-07T17:00:00",
          "2012-10-07T17:30:00",
          "2012-10-07T18:00:00",
          "2012-10-07T18:30:00",
          "2012-10-07T19:00:00",
          "2012-10-07T19:30:00",
          "2012-10-07T20:00:00",
          "2012-10-07T20:30:00",
          "2012-10-07T21:00:00",
          "2012-10-07T21:30:00",
          "2012-10-07T22:00:00",
          "2012-10-07T22:30:00",
          "2012-10-07T23:00:00",
          "2012-10-07T23:30:00",
          "2012-10-08T00:00:00",
          "2012-10-08T00:30:00",
          "2012-10-08T01:00:00",
          "2012-10-08T01:30:00",
          "2012-10-08T02:00:00",
          "2012-10-08T02:30:00",
          "2012-10-08T03:00:00",
          "2012-10-08T03:30:00",
          "2012-10-08T04:00:00",
          "2012-10-08T04:30:00",
          "2012-10-08T05:00:00",
          "2012-10-08T05:30:00",
          "2012-10-08T06:00:00",
          "2012-10-08T06:30:00",
          "2012-10-08T07:00:00",
          "2012-10-08T07:30:00",
          "2012-10-08T08:00:00",
          "2012-10-08T08:30:00",
          "2012-10-08T09:00:00",
          "2012-10-08T09:30:00",
          "2012-10-08T10:00:00",
          "2012-10-08T10:30:00",
          "2012-10-08T11:00:00",
          "2012-10-08T11:30:00",
          "2012-10-08T12:00:00",
          "2012-10-08T12:30:00",
          "2012-10-08T13:00:00",
          "2012-10-08T13:30:00",
          "2012-10-08T14:00:00",
          "2012-10-08T14:30:00",
          "2012-10-08T15:00:00",
          "2012-10-08T15:30:00",
          "2012-10-08T16:00:00",
          "2012-10-08T16:30:00",
          "2012-10-08T17:00:00",
          "2012-10-08T17:30:00",
          "2012-10-08T18:00:00",
          "2012-10-08T18:30:00",
          "2012-10-08T19:00:00",
          "2012-10-08T19:30:00",
          "2012-10-08T20:00:00",
          "2012-10-08T20:30:00",
          "2012-10-08T21:00:00",
          "2012-10-08T21:30:00",
          "2012-10-08T22:00:00",
          "2012-10-08T22:30:00",
          "2012-10-08T23:00:00",
          "2012-10-08T23:30:00"
         ],
         "xaxis": "x",
         "y": [
          0.11788733172124072,
          0.039611187744923615,
          0.030898005747463625,
          0.02683669071418543,
          0.02683551222826952,
          0.027205584166833607,
          0.027466644065635343,
          0.026888667105658348,
          0.027223277178014843,
          0.026818118980746014,
          0.02751637481223071,
          0.032734288863539185,
          0.04290092482299557,
          0.06293441481998852,
          0.09119449704643304,
          0.14550177775508077,
          0.24607582447878498,
          0.3690470268247541,
          0.42896686895026037,
          0.5087312941169274,
          0.5631566966425681,
          0.5640530123532332,
          0.47777497865925866,
          0.37212670990380503,
          0.3349214568565654,
          0.32472097072979245,
          0.34203825526641995,
          0.36290450676989666,
          0.35817721991713986,
          0.30164659553208817,
          0.2636836457399057,
          0.23110079221370733,
          0.2238983247719396,
          0.23305208384563902,
          0.2416263515008228,
          0.2508430988613875,
          0.3170424319477231,
          0.3918362684827968,
          0.3883916162402725,
          0.38559712786073475,
          0.32089546496237664,
          0.2902760010336383,
          0.27849718330873524,
          0.28169251576037063,
          0.27729755687909696,
          0.24315478961813058,
          0.21788319369874878,
          0.20502450869187427,
          0.11766511298488128,
          0.03938896415992829,
          0.030675777319146946,
          0.02661445744786195,
          0.026613274129253572,
          0.026983341240439773,
          0.027244396317178204,
          0.026666414540452238,
          0.0270010198013744,
          0.02659585679798568,
          0.0272941078286649,
          0.03251201708448251,
          0.04267864825376247,
          0.06271213346589341,
          0.09097221091279056,
          0.14527948684720537,
          0.24585352880199104,
          0.3688247263843562,
          0.428744563751573,
          0.508508984165265,
          0.5629343819432452,
          0.5638306929115644,
          0.4775526544805582,
          0.37190438099338763,
          0.3346991232197455,
          0.32449863237188437,
          0.3418159121927384,
          0.36268215898575606,
          0.35795486742785454,
          0.3014242383429729,
          0.2634612838562749,
          0.23087842564087535,
          0.22367595351522104,
          0.23282970791034835,
          0.2414039708922745,
          0.25062071358489607,
          0.31682004200860314,
          0.39161387388636254,
          0.3881692169918387,
          0.3853747239656158,
          0.32067305642588695,
          0.2900535878610925,
          0.2782747655054478,
          0.2814700933316559,
          0.27707512983026955,
          0.24293235795450502,
          0.21766075742563945,
          0.20480206781459576
         ],
         "yaxis": "y"
        },
        {
         "hovertemplate": "variable=value<br>series=seas_interp_weekday_half_hour_imputed<br>timestamp=%{x}<br>_value=%{y}<extra></extra>",
         "legendgroup": "value, seas_interp_weekday_half_hour_imputed",
         "line": {
          "color": "#636efa",
          "dash": "dash"
         },
         "marker": {
          "symbol": "circle"
         },
         "mode": "lines",
         "name": "Week Day-Half Hourly Profile Imputed",
         "orientation": "v",
         "showlegend": true,
         "type": "scatter",
         "x": [
          "2012-10-07T00:00:00",
          "2012-10-07T00:30:00",
          "2012-10-07T01:00:00",
          "2012-10-07T01:30:00",
          "2012-10-07T02:00:00",
          "2012-10-07T02:30:00",
          "2012-10-07T03:00:00",
          "2012-10-07T03:30:00",
          "2012-10-07T04:00:00",
          "2012-10-07T04:30:00",
          "2012-10-07T05:00:00",
          "2012-10-07T05:30:00",
          "2012-10-07T06:00:00",
          "2012-10-07T06:30:00",
          "2012-10-07T07:00:00",
          "2012-10-07T07:30:00",
          "2012-10-07T08:00:00",
          "2012-10-07T08:30:00",
          "2012-10-07T09:00:00",
          "2012-10-07T09:30:00",
          "2012-10-07T10:00:00",
          "2012-10-07T10:30:00",
          "2012-10-07T11:00:00",
          "2012-10-07T11:30:00",
          "2012-10-07T12:00:00",
          "2012-10-07T12:30:00",
          "2012-10-07T13:00:00",
          "2012-10-07T13:30:00",
          "2012-10-07T14:00:00",
          "2012-10-07T14:30:00",
          "2012-10-07T15:00:00",
          "2012-10-07T15:30:00",
          "2012-10-07T16:00:00",
          "2012-10-07T16:30:00",
          "2012-10-07T17:00:00",
          "2012-10-07T17:30:00",
          "2012-10-07T18:00:00",
          "2012-10-07T18:30:00",
          "2012-10-07T19:00:00",
          "2012-10-07T19:30:00",
          "2012-10-07T20:00:00",
          "2012-10-07T20:30:00",
          "2012-10-07T21:00:00",
          "2012-10-07T21:30:00",
          "2012-10-07T22:00:00",
          "2012-10-07T22:30:00",
          "2012-10-07T23:00:00",
          "2012-10-07T23:30:00",
          "2012-10-08T00:00:00",
          "2012-10-08T00:30:00",
          "2012-10-08T01:00:00",
          "2012-10-08T01:30:00",
          "2012-10-08T02:00:00",
          "2012-10-08T02:30:00",
          "2012-10-08T03:00:00",
          "2012-10-08T03:30:00",
          "2012-10-08T04:00:00",
          "2012-10-08T04:30:00",
          "2012-10-08T05:00:00",
          "2012-10-08T05:30:00",
          "2012-10-08T06:00:00",
          "2012-10-08T06:30:00",
          "2012-10-08T07:00:00",
          "2012-10-08T07:30:00",
          "2012-10-08T08:00:00",
          "2012-10-08T08:30:00",
          "2012-10-08T09:00:00",
          "2012-10-08T09:30:00",
          "2012-10-08T10:00:00",
          "2012-10-08T10:30:00",
          "2012-10-08T11:00:00",
          "2012-10-08T11:30:00",
          "2012-10-08T12:00:00",
          "2012-10-08T12:30:00",
          "2012-10-08T13:00:00",
          "2012-10-08T13:30:00",
          "2012-10-08T14:00:00",
          "2012-10-08T14:30:00",
          "2012-10-08T15:00:00",
          "2012-10-08T15:30:00",
          "2012-10-08T16:00:00",
          "2012-10-08T16:30:00",
          "2012-10-08T17:00:00",
          "2012-10-08T17:30:00",
          "2012-10-08T18:00:00",
          "2012-10-08T18:30:00",
          "2012-10-08T19:00:00",
          "2012-10-08T19:30:00",
          "2012-10-08T20:00:00",
          "2012-10-08T20:30:00",
          "2012-10-08T21:00:00",
          "2012-10-08T21:30:00",
          "2012-10-08T22:00:00",
          "2012-10-08T22:30:00",
          "2012-10-08T23:00:00",
          "2012-10-08T23:30:00"
         ],
         "xaxis": "x",
         "y": [
          0.12794445366366597,
          0.05421563287454187,
          0.0314221786029969,
          0.027521871085131044,
          0.028382572731507405,
          0.03055552406056916,
          0.02614464152839116,
          0.02843951110221568,
          0.027221712006764875,
          0.027989440091286788,
          0.028941033430061325,
          0.028495502769091685,
          0.031919401521890545,
          0.0675642888963239,
          0.071793391820443,
          0.10977408720122878,
          0.16924896355543895,
          0.2875558966311837,
          0.357191062998318,
          0.46859562805939803,
          0.5883708894125129,
          0.7378194808335861,
          0.6276665489093285,
          0.4864749105804342,
          0.44077449462914686,
          0.5014738108111625,
          0.6414153290802384,
          0.5988170215814503,
          0.6110681529798916,
          0.44819555203673633,
          0.34519237785449813,
          0.30290607217370213,
          0.2643967083615064,
          0.22192252057310083,
          0.22928903887602256,
          0.25358497308917843,
          0.2564559686404089,
          0.27565425551296996,
          0.2659850986247988,
          0.2694043327421266,
          0.2562154889017276,
          0.2662269978862148,
          0.26462215879099105,
          0.2659315236613118,
          0.2631308747336456,
          0.21442655682479245,
          0.2063141583250878,
          0.21807388976983083,
          0.08030574060287593,
          0.03250761961068144,
          0.02772835650258801,
          0.027135210550989747,
          0.027124844734032677,
          0.0272484863998588,
          0.02705142368727581,
          0.024021593806678093,
          0.0284274333363487,
          0.02807360673067688,
          0.030680510112825604,
          0.029836494199299762,
          0.04214538326328335,
          0.058974657814791304,
          0.07232883481558777,
          0.11362867648660212,
          0.2210352658452241,
          0.3385546193475287,
          0.44196417064301674,
          0.5166261862088335,
          0.5360670171828914,
          0.5016478922420827,
          0.3606315239866039,
          0.31965846311188917,
          0.2948642929794543,
          0.2708258297939661,
          0.28179443913917773,
          0.36825779484579535,
          0.3445792669307872,
          0.28363559370020724,
          0.22546176691565076,
          0.18882773670365194,
          0.19004336926744125,
          0.21666576443856778,
          0.22070420900601825,
          0.23273414542671042,
          0.3010381274302128,
          0.4169615020035734,
          0.42925541042376947,
          0.458289744009918,
          0.3251542371068426,
          0.30391874066282204,
          0.29231929024476144,
          0.2935154316386977,
          0.28368429996905825,
          0.24165015513903124,
          0.2218621516999296,
          0.1752102759561216
         ],
         "yaxis": "y"
        }
       ],
       "layout": {
        "autosize": false,
        "height": 500,
        "legend": {
         "font": {
          "size": 15
         },
         "orientation": "h",
         "title": {},
         "tracegroupgap": 0,
         "x": 1,
         "xanchor": "right",
         "y": 0.98,
         "yanchor": "bottom"
        },
        "template": {
         "data": {
          "bar": [
           {
            "error_x": {
             "color": "#2a3f5f"
            },
            "error_y": {
             "color": "#2a3f5f"
            },
            "marker": {
             "line": {
              "color": "white",
              "width": 0.5
             },
             "pattern": {
              "fillmode": "overlay",
              "size": 10,
              "solidity": 0.2
             }
            },
            "type": "bar"
           }
          ],
          "barpolar": [
           {
            "marker": {
             "line": {
              "color": "white",
              "width": 0.5
             },
             "pattern": {
              "fillmode": "overlay",
              "size": 10,
              "solidity": 0.2
             }
            },
            "type": "barpolar"
           }
          ],
          "carpet": [
           {
            "aaxis": {
             "endlinecolor": "#2a3f5f",
             "gridcolor": "#C8D4E3",
             "linecolor": "#C8D4E3",
             "minorgridcolor": "#C8D4E3",
             "startlinecolor": "#2a3f5f"
            },
            "baxis": {
             "endlinecolor": "#2a3f5f",
             "gridcolor": "#C8D4E3",
             "linecolor": "#C8D4E3",
             "minorgridcolor": "#C8D4E3",
             "startlinecolor": "#2a3f5f"
            },
            "type": "carpet"
           }
          ],
          "choropleth": [
           {
            "colorbar": {
             "outlinewidth": 0,
             "ticks": ""
            },
            "type": "choropleth"
           }
          ],
          "contour": [
           {
            "colorbar": {
             "outlinewidth": 0,
             "ticks": ""
            },
            "colorscale": [
             [
              0,
              "#0d0887"
             ],
             [
              0.1111111111111111,
              "#46039f"
             ],
             [
              0.2222222222222222,
              "#7201a8"
             ],
             [
              0.3333333333333333,
              "#9c179e"
             ],
             [
              0.4444444444444444,
              "#bd3786"
             ],
             [
              0.5555555555555556,
              "#d8576b"
             ],
             [
              0.6666666666666666,
              "#ed7953"
             ],
             [
              0.7777777777777778,
              "#fb9f3a"
             ],
             [
              0.8888888888888888,
              "#fdca26"
             ],
             [
              1,
              "#f0f921"
             ]
            ],
            "type": "contour"
           }
          ],
          "contourcarpet": [
           {
            "colorbar": {
             "outlinewidth": 0,
             "ticks": ""
            },
            "type": "contourcarpet"
           }
          ],
          "heatmap": [
           {
            "colorbar": {
             "outlinewidth": 0,
             "ticks": ""
            },
            "colorscale": [
             [
              0,
              "#0d0887"
             ],
             [
              0.1111111111111111,
              "#46039f"
             ],
             [
              0.2222222222222222,
              "#7201a8"
             ],
             [
              0.3333333333333333,
              "#9c179e"
             ],
             [
              0.4444444444444444,
              "#bd3786"
             ],
             [
              0.5555555555555556,
              "#d8576b"
             ],
             [
              0.6666666666666666,
              "#ed7953"
             ],
             [
              0.7777777777777778,
              "#fb9f3a"
             ],
             [
              0.8888888888888888,
              "#fdca26"
             ],
             [
              1,
              "#f0f921"
             ]
            ],
            "type": "heatmap"
           }
          ],
          "heatmapgl": [
           {
            "colorbar": {
             "outlinewidth": 0,
             "ticks": ""
            },
            "colorscale": [
             [
              0,
              "#0d0887"
             ],
             [
              0.1111111111111111,
              "#46039f"
             ],
             [
              0.2222222222222222,
              "#7201a8"
             ],
             [
              0.3333333333333333,
              "#9c179e"
             ],
             [
              0.4444444444444444,
              "#bd3786"
             ],
             [
              0.5555555555555556,
              "#d8576b"
             ],
             [
              0.6666666666666666,
              "#ed7953"
             ],
             [
              0.7777777777777778,
              "#fb9f3a"
             ],
             [
              0.8888888888888888,
              "#fdca26"
             ],
             [
              1,
              "#f0f921"
             ]
            ],
            "type": "heatmapgl"
           }
          ],
          "histogram": [
           {
            "marker": {
             "pattern": {
              "fillmode": "overlay",
              "size": 10,
              "solidity": 0.2
             }
            },
            "type": "histogram"
           }
          ],
          "histogram2d": [
           {
            "colorbar": {
             "outlinewidth": 0,
             "ticks": ""
            },
            "colorscale": [
             [
              0,
              "#0d0887"
             ],
             [
              0.1111111111111111,
              "#46039f"
             ],
             [
              0.2222222222222222,
              "#7201a8"
             ],
             [
              0.3333333333333333,
              "#9c179e"
             ],
             [
              0.4444444444444444,
              "#bd3786"
             ],
             [
              0.5555555555555556,
              "#d8576b"
             ],
             [
              0.6666666666666666,
              "#ed7953"
             ],
             [
              0.7777777777777778,
              "#fb9f3a"
             ],
             [
              0.8888888888888888,
              "#fdca26"
             ],
             [
              1,
              "#f0f921"
             ]
            ],
            "type": "histogram2d"
           }
          ],
          "histogram2dcontour": [
           {
            "colorbar": {
             "outlinewidth": 0,
             "ticks": ""
            },
            "colorscale": [
             [
              0,
              "#0d0887"
             ],
             [
              0.1111111111111111,
              "#46039f"
             ],
             [
              0.2222222222222222,
              "#7201a8"
             ],
             [
              0.3333333333333333,
              "#9c179e"
             ],
             [
              0.4444444444444444,
              "#bd3786"
             ],
             [
              0.5555555555555556,
              "#d8576b"
             ],
             [
              0.6666666666666666,
              "#ed7953"
             ],
             [
              0.7777777777777778,
              "#fb9f3a"
             ],
             [
              0.8888888888888888,
              "#fdca26"
             ],
             [
              1,
              "#f0f921"
             ]
            ],
            "type": "histogram2dcontour"
           }
          ],
          "mesh3d": [
           {
            "colorbar": {
             "outlinewidth": 0,
             "ticks": ""
            },
            "type": "mesh3d"
           }
          ],
          "parcoords": [
           {
            "line": {
             "colorbar": {
              "outlinewidth": 0,
              "ticks": ""
             }
            },
            "type": "parcoords"
           }
          ],
          "pie": [
           {
            "automargin": true,
            "type": "pie"
           }
          ],
          "scatter": [
           {
            "fillpattern": {
             "fillmode": "overlay",
             "size": 10,
             "solidity": 0.2
            },
            "type": "scatter"
           }
          ],
          "scatter3d": [
           {
            "line": {
             "colorbar": {
              "outlinewidth": 0,
              "ticks": ""
             }
            },
            "marker": {
             "colorbar": {
              "outlinewidth": 0,
              "ticks": ""
             }
            },
            "type": "scatter3d"
           }
          ],
          "scattercarpet": [
           {
            "marker": {
             "colorbar": {
              "outlinewidth": 0,
              "ticks": ""
             }
            },
            "type": "scattercarpet"
           }
          ],
          "scattergeo": [
           {
            "marker": {
             "colorbar": {
              "outlinewidth": 0,
              "ticks": ""
             }
            },
            "type": "scattergeo"
           }
          ],
          "scattergl": [
           {
            "marker": {
             "colorbar": {
              "outlinewidth": 0,
              "ticks": ""
             }
            },
            "type": "scattergl"
           }
          ],
          "scattermapbox": [
           {
            "marker": {
             "colorbar": {
              "outlinewidth": 0,
              "ticks": ""
             }
            },
            "type": "scattermapbox"
           }
          ],
          "scatterpolar": [
           {
            "marker": {
             "colorbar": {
              "outlinewidth": 0,
              "ticks": ""
             }
            },
            "type": "scatterpolar"
           }
          ],
          "scatterpolargl": [
           {
            "marker": {
             "colorbar": {
              "outlinewidth": 0,
              "ticks": ""
             }
            },
            "type": "scatterpolargl"
           }
          ],
          "scatterternary": [
           {
            "marker": {
             "colorbar": {
              "outlinewidth": 0,
              "ticks": ""
             }
            },
            "type": "scatterternary"
           }
          ],
          "surface": [
           {
            "colorbar": {
             "outlinewidth": 0,
             "ticks": ""
            },
            "colorscale": [
             [
              0,
              "#0d0887"
             ],
             [
              0.1111111111111111,
              "#46039f"
             ],
             [
              0.2222222222222222,
              "#7201a8"
             ],
             [
              0.3333333333333333,
              "#9c179e"
             ],
             [
              0.4444444444444444,
              "#bd3786"
             ],
             [
              0.5555555555555556,
              "#d8576b"
             ],
             [
              0.6666666666666666,
              "#ed7953"
             ],
             [
              0.7777777777777778,
              "#fb9f3a"
             ],
             [
              0.8888888888888888,
              "#fdca26"
             ],
             [
              1,
              "#f0f921"
             ]
            ],
            "type": "surface"
           }
          ],
          "table": [
           {
            "cells": {
             "fill": {
              "color": "#EBF0F8"
             },
             "line": {
              "color": "white"
             }
            },
            "header": {
             "fill": {
              "color": "#C8D4E3"
             },
             "line": {
              "color": "white"
             }
            },
            "type": "table"
           }
          ]
         },
         "layout": {
          "annotationdefaults": {
           "arrowcolor": "#2a3f5f",
           "arrowhead": 0,
           "arrowwidth": 1
          },
          "autotypenumbers": "strict",
          "coloraxis": {
           "colorbar": {
            "outlinewidth": 0,
            "ticks": ""
           }
          },
          "colorscale": {
           "diverging": [
            [
             0,
             "#8e0152"
            ],
            [
             0.1,
             "#c51b7d"
            ],
            [
             0.2,
             "#de77ae"
            ],
            [
             0.3,
             "#f1b6da"
            ],
            [
             0.4,
             "#fde0ef"
            ],
            [
             0.5,
             "#f7f7f7"
            ],
            [
             0.6,
             "#e6f5d0"
            ],
            [
             0.7,
             "#b8e186"
            ],
            [
             0.8,
             "#7fbc41"
            ],
            [
             0.9,
             "#4d9221"
            ],
            [
             1,
             "#276419"
            ]
           ],
           "sequential": [
            [
             0,
             "#0d0887"
            ],
            [
             0.1111111111111111,
             "#46039f"
            ],
            [
             0.2222222222222222,
             "#7201a8"
            ],
            [
             0.3333333333333333,
             "#9c179e"
            ],
            [
             0.4444444444444444,
             "#bd3786"
            ],
            [
             0.5555555555555556,
             "#d8576b"
            ],
            [
             0.6666666666666666,
             "#ed7953"
            ],
            [
             0.7777777777777778,
             "#fb9f3a"
            ],
            [
             0.8888888888888888,
             "#fdca26"
            ],
            [
             1,
             "#f0f921"
            ]
           ],
           "sequentialminus": [
            [
             0,
             "#0d0887"
            ],
            [
             0.1111111111111111,
             "#46039f"
            ],
            [
             0.2222222222222222,
             "#7201a8"
            ],
            [
             0.3333333333333333,
             "#9c179e"
            ],
            [
             0.4444444444444444,
             "#bd3786"
            ],
            [
             0.5555555555555556,
             "#d8576b"
            ],
            [
             0.6666666666666666,
             "#ed7953"
            ],
            [
             0.7777777777777778,
             "#fb9f3a"
            ],
            [
             0.8888888888888888,
             "#fdca26"
            ],
            [
             1,
             "#f0f921"
            ]
           ]
          },
          "colorway": [
           "#636efa",
           "#EF553B",
           "#00cc96",
           "#ab63fa",
           "#FFA15A",
           "#19d3f3",
           "#FF6692",
           "#B6E880",
           "#FF97FF",
           "#FECB52"
          ],
          "font": {
           "color": "#2a3f5f"
          },
          "geo": {
           "bgcolor": "white",
           "lakecolor": "white",
           "landcolor": "white",
           "showlakes": true,
           "showland": true,
           "subunitcolor": "#C8D4E3"
          },
          "hoverlabel": {
           "align": "left"
          },
          "hovermode": "closest",
          "mapbox": {
           "style": "light"
          },
          "paper_bgcolor": "white",
          "plot_bgcolor": "white",
          "polar": {
           "angularaxis": {
            "gridcolor": "#EBF0F8",
            "linecolor": "#EBF0F8",
            "ticks": ""
           },
           "bgcolor": "white",
           "radialaxis": {
            "gridcolor": "#EBF0F8",
            "linecolor": "#EBF0F8",
            "ticks": ""
           }
          },
          "scene": {
           "xaxis": {
            "backgroundcolor": "white",
            "gridcolor": "#DFE8F3",
            "gridwidth": 2,
            "linecolor": "#EBF0F8",
            "showbackground": true,
            "ticks": "",
            "zerolinecolor": "#EBF0F8"
           },
           "yaxis": {
            "backgroundcolor": "white",
            "gridcolor": "#DFE8F3",
            "gridwidth": 2,
            "linecolor": "#EBF0F8",
            "showbackground": true,
            "ticks": "",
            "zerolinecolor": "#EBF0F8"
           },
           "zaxis": {
            "backgroundcolor": "white",
            "gridcolor": "#DFE8F3",
            "gridwidth": 2,
            "linecolor": "#EBF0F8",
            "showbackground": true,
            "ticks": "",
            "zerolinecolor": "#EBF0F8"
           }
          },
          "shapedefaults": {
           "line": {
            "color": "#2a3f5f"
           }
          },
          "ternary": {
           "aaxis": {
            "gridcolor": "#DFE8F3",
            "linecolor": "#A2B1C6",
            "ticks": ""
           },
           "baxis": {
            "gridcolor": "#DFE8F3",
            "linecolor": "#A2B1C6",
            "ticks": ""
           },
           "bgcolor": "white",
           "caxis": {
            "gridcolor": "#DFE8F3",
            "linecolor": "#A2B1C6",
            "ticks": ""
           }
          },
          "title": {
           "x": 0.05
          },
          "xaxis": {
           "automargin": true,
           "gridcolor": "#EBF0F8",
           "linecolor": "#EBF0F8",
           "ticks": "",
           "title": {
            "standoff": 15
           },
           "zerolinecolor": "#EBF0F8",
           "zerolinewidth": 2
          },
          "yaxis": {
           "automargin": true,
           "gridcolor": "#EBF0F8",
           "linecolor": "#EBF0F8",
           "ticks": "",
           "title": {
            "standoff": 15
           },
           "zerolinecolor": "#EBF0F8",
           "zerolinewidth": 2
          }
         }
        },
        "title": {
         "font": {
          "size": 16
         },
         "text": "Imputing with Seasonal Interpolation <br> MAE Half Hourly=0.122 | MAE Weekday-Half Hourly=0.120",
         "x": 0.5,
         "xanchor": "center",
         "yanchor": "top"
        },
        "width": 900,
        "xaxis": {
         "anchor": "y",
         "domain": [
          0,
          1
         ],
         "tickfont": {
          "size": 15
         },
         "title": {
          "font": {
           "size": 15
          },
          "text": "Day"
         }
        },
        "yaxis": {
         "anchor": "x",
         "domain": [
          0,
          1
         ],
         "tickfont": {
          "size": 15
         },
         "title": {
          "font": {
           "size": 15
          },
          "text": "Value"
         }
        }
       }
      }
     },
     "metadata": {},
     "output_type": "display_data"
    }
   ],
   "source": [
    "plot_df = pd.melt(ts_df.loc[window,['energy_consumption', \"seas_interp_half_hour_imputed\", 'seas_interp_weekday_half_hour_imputed']].reset_index(), id_vars='timestamp', var_name=\"series\")\n",
    "fig = px.line(plot_df, x=\"timestamp\", y=[\"value\"], line_dash=\"series\", title=f\"Imputing with Seasonal Interpolation <br> MAE Half Hourly={mae_half_hour:.3f} | MAE Weekday-Half Hourly={mae_weekday_half_hour:.3f}\")\n",
    "fig = format_plot(fig, ['Original', 'Half Hourly Profile Imputed', 'Week Day-Half Hourly Profile Imputed'], title_font_size=16)\n",
    "fig.write_image(\"imgs/chapter_2/seasonal_interpolation_imputation.png\")\n",
    "fig"
   ]
  },
  {
   "cell_type": "markdown",
   "id": "49f99b3b-ac31-43a9-9858-facf381666a0",
   "metadata": {},
   "source": [
    "### Summary"
   ]
  },
  {
   "cell_type": "code",
   "execution_count": 26,
   "id": "77acadbb-17f1-4c69-8bb4-e7842ba1960b",
   "metadata": {},
   "outputs": [],
   "source": [
    "imputed_columns = [col for col in ts_df.columns if \"imputed\" in col]\n",
    "original_col = \"energy_consumption\""
   ]
  },
  {
   "cell_type": "code",
   "execution_count": 27,
   "id": "b7d9cac5-977a-4d68-9425-d033f6926e53",
   "metadata": {},
   "outputs": [],
   "source": [
    "act = ts_df.loc[window, original_col].values\n",
    "mae_d = {}\n",
    "for col in imputed_columns:\n",
    "    mae_d[col] = mean_absolute_error(act, ts_df.loc[window, col].values)"
   ]
  },
  {
   "cell_type": "code",
   "execution_count": 28,
   "id": "9012e9d4-132b-4fce-b5b7-d97c37812d6f",
   "metadata": {},
   "outputs": [
    {
     "data": {
      "text/plain": [
       "dict_keys(['prev_day_imputed', 'hourly_profile_imputed', 'day_hourly_profile_imputed', 'seas_interp_weekday_half_hour_imputed', 'seas_interp_half_hour_imputed'])"
      ]
     },
     "execution_count": 28,
     "metadata": {},
     "output_type": "execute_result"
    }
   ],
   "source": [
    "mae_d.keys()"
   ]
  },
  {
   "cell_type": "code",
   "execution_count": 29,
   "id": "453b5bc8-7ef5-40ee-b5c3-967205968a91",
   "metadata": {},
   "outputs": [],
   "source": [
    "res_df = pd.DataFrame.from_dict(mae_d, orient=\"index\").reset_index()\n",
    "res_df.columns=[\"Imputation\", \"MAE\"]\n",
    "res_df.Imputation = res_df.Imputation.map({\n",
    " 'prev_day_imputed': \"Previous Day\",\n",
    " 'hourly_profile_imputed': \"Hourly Profile\",\n",
    " 'day_hourly_profile_imputed': \"Day-Hourly Profile\",\n",
    " 'seas_interp_weekday_half_hour_imputed': \"Seasonal Interpolation Weekday-Half Hourly\",\n",
    " 'seas_interp_half_hour_imputed': \"Seasonal Interpolation Half Hourly\"\n",
    "})"
   ]
  },
  {
   "cell_type": "code",
   "execution_count": 30,
   "id": "933f98c4-370b-437b-9aab-50f7aab8f8e1",
   "metadata": {},
   "outputs": [
    {
     "data": {
      "text/html": [
       "<div>\n",
       "<style scoped>\n",
       "    .dataframe tbody tr th:only-of-type {\n",
       "        vertical-align: middle;\n",
       "    }\n",
       "\n",
       "    .dataframe tbody tr th {\n",
       "        vertical-align: top;\n",
       "    }\n",
       "\n",
       "    .dataframe thead th {\n",
       "        text-align: right;\n",
       "    }\n",
       "</style>\n",
       "<table border=\"1\" class=\"dataframe\">\n",
       "  <thead>\n",
       "    <tr style=\"text-align: right;\">\n",
       "      <th></th>\n",
       "      <th>Imputation</th>\n",
       "      <th>MAE</th>\n",
       "    </tr>\n",
       "  </thead>\n",
       "  <tbody>\n",
       "    <tr>\n",
       "      <th>0</th>\n",
       "      <td>Previous Day</td>\n",
       "      <td>0.167896</td>\n",
       "    </tr>\n",
       "    <tr>\n",
       "      <th>1</th>\n",
       "      <td>Hourly Profile</td>\n",
       "      <td>0.121326</td>\n",
       "    </tr>\n",
       "    <tr>\n",
       "      <th>2</th>\n",
       "      <td>Day-Hourly Profile</td>\n",
       "      <td>0.116652</td>\n",
       "    </tr>\n",
       "    <tr>\n",
       "      <th>3</th>\n",
       "      <td>Seasonal Interpolation Weekday-Half Hourly</td>\n",
       "      <td>0.120024</td>\n",
       "    </tr>\n",
       "    <tr>\n",
       "      <th>4</th>\n",
       "      <td>Seasonal Interpolation Half Hourly</td>\n",
       "      <td>0.121568</td>\n",
       "    </tr>\n",
       "  </tbody>\n",
       "</table>\n",
       "</div>"
      ],
      "text/plain": [
       "                                   Imputation       MAE\n",
       "0                                Previous Day  0.167896\n",
       "1                              Hourly Profile  0.121326\n",
       "2                          Day-Hourly Profile  0.116652\n",
       "3  Seasonal Interpolation Weekday-Half Hourly  0.120024\n",
       "4          Seasonal Interpolation Half Hourly  0.121568"
      ]
     },
     "execution_count": 30,
     "metadata": {},
     "output_type": "execute_result"
    }
   ],
   "source": [
    "res_df"
   ]
  },
  {
   "cell_type": "code",
   "execution_count": 31,
   "id": "140e9b7d-609a-4927-9d52-ee8e96c9b7e2",
   "metadata": {},
   "outputs": [
    {
     "data": {
      "application/vnd.plotly.v1+json": {
       "config": {
        "plotlyServerURL": "https://plot.ly"
       },
       "data": [
        {
         "hovertemplate": "variable=prev_day_imputed<br>timestamp=%{x}<br>value=%{y}<extra></extra>",
         "legendgroup": "prev_day_imputed",
         "line": {
          "color": "#636efa",
          "dash": "solid"
         },
         "marker": {
          "symbol": "circle"
         },
         "mode": "lines",
         "name": "prev_day_imputed",
         "orientation": "v",
         "showlegend": true,
         "type": "scatter",
         "x": [
          "2012-10-07T00:00:00",
          "2012-10-07T00:30:00",
          "2012-10-07T01:00:00",
          "2012-10-07T01:30:00",
          "2012-10-07T02:00:00",
          "2012-10-07T02:30:00",
          "2012-10-07T03:00:00",
          "2012-10-07T03:30:00",
          "2012-10-07T04:00:00",
          "2012-10-07T04:30:00",
          "2012-10-07T05:00:00",
          "2012-10-07T05:30:00",
          "2012-10-07T06:00:00",
          "2012-10-07T06:30:00",
          "2012-10-07T07:00:00",
          "2012-10-07T07:30:00",
          "2012-10-07T08:00:00",
          "2012-10-07T08:30:00",
          "2012-10-07T09:00:00",
          "2012-10-07T09:30:00",
          "2012-10-07T10:00:00",
          "2012-10-07T10:30:00",
          "2012-10-07T11:00:00",
          "2012-10-07T11:30:00",
          "2012-10-07T12:00:00",
          "2012-10-07T12:30:00",
          "2012-10-07T13:00:00",
          "2012-10-07T13:30:00",
          "2012-10-07T14:00:00",
          "2012-10-07T14:30:00",
          "2012-10-07T15:00:00",
          "2012-10-07T15:30:00",
          "2012-10-07T16:00:00",
          "2012-10-07T16:30:00",
          "2012-10-07T17:00:00",
          "2012-10-07T17:30:00",
          "2012-10-07T18:00:00",
          "2012-10-07T18:30:00",
          "2012-10-07T19:00:00",
          "2012-10-07T19:30:00",
          "2012-10-07T20:00:00",
          "2012-10-07T20:30:00",
          "2012-10-07T21:00:00",
          "2012-10-07T21:30:00",
          "2012-10-07T22:00:00",
          "2012-10-07T22:30:00",
          "2012-10-07T23:00:00",
          "2012-10-07T23:30:00",
          "2012-10-08T00:00:00",
          "2012-10-08T00:30:00",
          "2012-10-08T01:00:00",
          "2012-10-08T01:30:00",
          "2012-10-08T02:00:00",
          "2012-10-08T02:30:00",
          "2012-10-08T03:00:00",
          "2012-10-08T03:30:00",
          "2012-10-08T04:00:00",
          "2012-10-08T04:30:00",
          "2012-10-08T05:00:00",
          "2012-10-08T05:30:00",
          "2012-10-08T06:00:00",
          "2012-10-08T06:30:00",
          "2012-10-08T07:00:00",
          "2012-10-08T07:30:00",
          "2012-10-08T08:00:00",
          "2012-10-08T08:30:00",
          "2012-10-08T09:00:00",
          "2012-10-08T09:30:00",
          "2012-10-08T10:00:00",
          "2012-10-08T10:30:00",
          "2012-10-08T11:00:00",
          "2012-10-08T11:30:00",
          "2012-10-08T12:00:00",
          "2012-10-08T12:30:00",
          "2012-10-08T13:00:00",
          "2012-10-08T13:30:00",
          "2012-10-08T14:00:00",
          "2012-10-08T14:30:00",
          "2012-10-08T15:00:00",
          "2012-10-08T15:30:00",
          "2012-10-08T16:00:00",
          "2012-10-08T16:30:00",
          "2012-10-08T17:00:00",
          "2012-10-08T17:30:00",
          "2012-10-08T18:00:00",
          "2012-10-08T18:30:00",
          "2012-10-08T19:00:00",
          "2012-10-08T19:30:00",
          "2012-10-08T20:00:00",
          "2012-10-08T20:30:00",
          "2012-10-08T21:00:00",
          "2012-10-08T21:30:00",
          "2012-10-08T22:00:00",
          "2012-10-08T22:30:00",
          "2012-10-08T23:00:00",
          "2012-10-08T23:30:00"
         ],
         "xaxis": "x",
         "y": [
          0.035,
          0.04,
          0.021,
          0.057,
          0.033,
          0.04,
          0.031,
          0.023,
          0.062,
          0.027,
          0.04,
          0.0279999999999999,
          0.024,
          0.061,
          0.153,
          0.073,
          0.799,
          0.906,
          0.264,
          0.505,
          0.291,
          0.286,
          0.261,
          0.272,
          0.3389999999999999,
          0.286,
          0.456,
          0.5820000000000001,
          0.105,
          0.0969999999999999,
          0.095,
          0.283,
          0.272,
          0.264,
          0.286,
          0.365,
          0.3,
          0.5760000000000001,
          0.532,
          0.302,
          0.2769999999999999,
          0.262,
          0.308,
          0.27,
          0.325,
          0.071,
          0.017,
          0.049,
          0.023,
          0.0559999999999999,
          0.0139999999999999,
          0.031,
          0.04,
          0.022,
          0.057,
          0.003,
          0.042,
          0.04,
          0.021,
          0.045,
          0.015,
          0.039,
          0.111,
          0.089,
          0.061,
          0.046,
          0.052,
          0.243,
          1.211,
          1.035,
          0.275,
          1.1440001,
          0.365,
          0.7,
          0.249,
          0.261,
          0.288,
          0.575,
          0.212,
          0.282,
          0.396,
          0.119,
          0.047,
          0.291,
          0.257,
          0.294,
          0.285,
          0.28,
          0.303,
          0.266,
          0.305,
          0.297,
          0.412,
          0.2189999999999999,
          0.0559999999999999,
          0.036
         ],
         "yaxis": "y"
        },
        {
         "hovertemplate": "variable=hourly_profile_imputed<br>timestamp=%{x}<br>value=%{y}<extra></extra>",
         "legendgroup": "hourly_profile_imputed",
         "line": {
          "color": "#EF553B",
          "dash": "solid"
         },
         "marker": {
          "symbol": "circle"
         },
         "mode": "lines",
         "name": "hourly_profile_imputed",
         "orientation": "v",
         "showlegend": true,
         "type": "scatter",
         "x": [
          "2012-10-07T00:00:00",
          "2012-10-07T00:30:00",
          "2012-10-07T01:00:00",
          "2012-10-07T01:30:00",
          "2012-10-07T02:00:00",
          "2012-10-07T02:30:00",
          "2012-10-07T03:00:00",
          "2012-10-07T03:30:00",
          "2012-10-07T04:00:00",
          "2012-10-07T04:30:00",
          "2012-10-07T05:00:00",
          "2012-10-07T05:30:00",
          "2012-10-07T06:00:00",
          "2012-10-07T06:30:00",
          "2012-10-07T07:00:00",
          "2012-10-07T07:30:00",
          "2012-10-07T08:00:00",
          "2012-10-07T08:30:00",
          "2012-10-07T09:00:00",
          "2012-10-07T09:30:00",
          "2012-10-07T10:00:00",
          "2012-10-07T10:30:00",
          "2012-10-07T11:00:00",
          "2012-10-07T11:30:00",
          "2012-10-07T12:00:00",
          "2012-10-07T12:30:00",
          "2012-10-07T13:00:00",
          "2012-10-07T13:30:00",
          "2012-10-07T14:00:00",
          "2012-10-07T14:30:00",
          "2012-10-07T15:00:00",
          "2012-10-07T15:30:00",
          "2012-10-07T16:00:00",
          "2012-10-07T16:30:00",
          "2012-10-07T17:00:00",
          "2012-10-07T17:30:00",
          "2012-10-07T18:00:00",
          "2012-10-07T18:30:00",
          "2012-10-07T19:00:00",
          "2012-10-07T19:30:00",
          "2012-10-07T20:00:00",
          "2012-10-07T20:30:00",
          "2012-10-07T21:00:00",
          "2012-10-07T21:30:00",
          "2012-10-07T22:00:00",
          "2012-10-07T22:30:00",
          "2012-10-07T23:00:00",
          "2012-10-07T23:30:00",
          "2012-10-08T00:00:00",
          "2012-10-08T00:30:00",
          "2012-10-08T01:00:00",
          "2012-10-08T01:30:00",
          "2012-10-08T02:00:00",
          "2012-10-08T02:30:00",
          "2012-10-08T03:00:00",
          "2012-10-08T03:30:00",
          "2012-10-08T04:00:00",
          "2012-10-08T04:30:00",
          "2012-10-08T05:00:00",
          "2012-10-08T05:30:00",
          "2012-10-08T06:00:00",
          "2012-10-08T06:30:00",
          "2012-10-08T07:00:00",
          "2012-10-08T07:30:00",
          "2012-10-08T08:00:00",
          "2012-10-08T08:30:00",
          "2012-10-08T09:00:00",
          "2012-10-08T09:30:00",
          "2012-10-08T10:00:00",
          "2012-10-08T10:30:00",
          "2012-10-08T11:00:00",
          "2012-10-08T11:30:00",
          "2012-10-08T12:00:00",
          "2012-10-08T12:30:00",
          "2012-10-08T13:00:00",
          "2012-10-08T13:30:00",
          "2012-10-08T14:00:00",
          "2012-10-08T14:30:00",
          "2012-10-08T15:00:00",
          "2012-10-08T15:30:00",
          "2012-10-08T16:00:00",
          "2012-10-08T16:30:00",
          "2012-10-08T17:00:00",
          "2012-10-08T17:30:00",
          "2012-10-08T18:00:00",
          "2012-10-08T18:30:00",
          "2012-10-08T19:00:00",
          "2012-10-08T19:30:00",
          "2012-10-08T20:00:00",
          "2012-10-08T20:30:00",
          "2012-10-08T21:00:00",
          "2012-10-08T21:30:00",
          "2012-10-08T22:00:00",
          "2012-10-08T22:30:00",
          "2012-10-08T23:00:00",
          "2012-10-08T23:30:00"
         ],
         "xaxis": "x",
         "y": [
          0.08438388331218274,
          0.08438388331218274,
          0.034415609073604046,
          0.034415609073604046,
          0.03259010152284263,
          0.03259010152284263,
          0.032725253807106586,
          0.032725253807106586,
          0.032565355329949225,
          0.032565355329949225,
          0.03563959390862943,
          0.03563959390862943,
          0.05846446700507613,
          0.05846446700507613,
          0.12432868045685277,
          0.12432868045685277,
          0.31414467055837564,
          0.31414467055837564,
          0.47566497449238576,
          0.47566497449238576,
          0.5717062187182741,
          0.5717062187182741,
          0.4321827410532995,
          0.4321827410532995,
          0.3372753805203046,
          0.3372753805203046,
          0.35889784251269036,
          0.35889784251269036,
          0.33650507633248733,
          0.33650507633248733,
          0.25380266510152283,
          0.25380266510152283,
          0.2348197967005076,
          0.2348197967005076,
          0.25247588819796957,
          0.25247588819796957,
          0.36169352791878173,
          0.36169352791878173,
          0.39371065983502535,
          0.39371065983502535,
          0.3121871826142132,
          0.3121871826142132,
          0.2867284263324873,
          0.2867284263324873,
          0.2668375633248731,
          0.2668375633248731,
          0.2174425398095238,
          0.2174425398095238,
          0.08438388331218274,
          0.08438388331218274,
          0.034415609073604046,
          0.034415609073604046,
          0.03259010152284263,
          0.03259010152284263,
          0.032725253807106586,
          0.032725253807106586,
          0.032565355329949225,
          0.032565355329949225,
          0.03563959390862943,
          0.03563959390862943,
          0.05846446700507613,
          0.05846446700507613,
          0.12432868045685277,
          0.12432868045685277,
          0.31414467055837564,
          0.31414467055837564,
          0.47566497449238576,
          0.47566497449238576,
          0.5717062187182741,
          0.5717062187182741,
          0.4321827410532995,
          0.4321827410532995,
          0.3372753805203046,
          0.3372753805203046,
          0.35889784251269036,
          0.35889784251269036,
          0.33650507633248733,
          0.33650507633248733,
          0.25380266510152283,
          0.25380266510152283,
          0.2348197967005076,
          0.2348197967005076,
          0.25247588819796957,
          0.25247588819796957,
          0.36169352791878173,
          0.36169352791878173,
          0.39371065983502535,
          0.39371065983502535,
          0.3121871826142132,
          0.3121871826142132,
          0.2867284263324873,
          0.2867284263324873,
          0.2668375633248731,
          0.2668375633248731,
          0.2174425398095238,
          0.2174425398095238
         ],
         "yaxis": "y"
        },
        {
         "hovertemplate": "variable=day_hourly_profile_imputed<br>timestamp=%{x}<br>value=%{y}<extra></extra>",
         "legendgroup": "day_hourly_profile_imputed",
         "line": {
          "color": "#00cc96",
          "dash": "solid"
         },
         "marker": {
          "symbol": "circle"
         },
         "mode": "lines",
         "name": "day_hourly_profile_imputed",
         "orientation": "v",
         "showlegend": true,
         "type": "scatter",
         "x": [
          "2012-10-07T00:00:00",
          "2012-10-07T00:30:00",
          "2012-10-07T01:00:00",
          "2012-10-07T01:30:00",
          "2012-10-07T02:00:00",
          "2012-10-07T02:30:00",
          "2012-10-07T03:00:00",
          "2012-10-07T03:30:00",
          "2012-10-07T04:00:00",
          "2012-10-07T04:30:00",
          "2012-10-07T05:00:00",
          "2012-10-07T05:30:00",
          "2012-10-07T06:00:00",
          "2012-10-07T06:30:00",
          "2012-10-07T07:00:00",
          "2012-10-07T07:30:00",
          "2012-10-07T08:00:00",
          "2012-10-07T08:30:00",
          "2012-10-07T09:00:00",
          "2012-10-07T09:30:00",
          "2012-10-07T10:00:00",
          "2012-10-07T10:30:00",
          "2012-10-07T11:00:00",
          "2012-10-07T11:30:00",
          "2012-10-07T12:00:00",
          "2012-10-07T12:30:00",
          "2012-10-07T13:00:00",
          "2012-10-07T13:30:00",
          "2012-10-07T14:00:00",
          "2012-10-07T14:30:00",
          "2012-10-07T15:00:00",
          "2012-10-07T15:30:00",
          "2012-10-07T16:00:00",
          "2012-10-07T16:30:00",
          "2012-10-07T17:00:00",
          "2012-10-07T17:30:00",
          "2012-10-07T18:00:00",
          "2012-10-07T18:30:00",
          "2012-10-07T19:00:00",
          "2012-10-07T19:30:00",
          "2012-10-07T20:00:00",
          "2012-10-07T20:30:00",
          "2012-10-07T21:00:00",
          "2012-10-07T21:30:00",
          "2012-10-07T22:00:00",
          "2012-10-07T22:30:00",
          "2012-10-07T23:00:00",
          "2012-10-07T23:30:00",
          "2012-10-08T00:00:00",
          "2012-10-08T00:30:00",
          "2012-10-08T01:00:00",
          "2012-10-08T01:30:00",
          "2012-10-08T02:00:00",
          "2012-10-08T02:30:00",
          "2012-10-08T03:00:00",
          "2012-10-08T03:30:00",
          "2012-10-08T04:00:00",
          "2012-10-08T04:30:00",
          "2012-10-08T05:00:00",
          "2012-10-08T05:30:00",
          "2012-10-08T06:00:00",
          "2012-10-08T06:30:00",
          "2012-10-08T07:00:00",
          "2012-10-08T07:30:00",
          "2012-10-08T08:00:00",
          "2012-10-08T08:30:00",
          "2012-10-08T09:00:00",
          "2012-10-08T09:30:00",
          "2012-10-08T10:00:00",
          "2012-10-08T10:30:00",
          "2012-10-08T11:00:00",
          "2012-10-08T11:30:00",
          "2012-10-08T12:00:00",
          "2012-10-08T12:30:00",
          "2012-10-08T13:00:00",
          "2012-10-08T13:30:00",
          "2012-10-08T14:00:00",
          "2012-10-08T14:30:00",
          "2012-10-08T15:00:00",
          "2012-10-08T15:30:00",
          "2012-10-08T16:00:00",
          "2012-10-08T16:30:00",
          "2012-10-08T17:00:00",
          "2012-10-08T17:30:00",
          "2012-10-08T18:00:00",
          "2012-10-08T18:30:00",
          "2012-10-08T19:00:00",
          "2012-10-08T19:30:00",
          "2012-10-08T20:00:00",
          "2012-10-08T20:30:00",
          "2012-10-08T21:00:00",
          "2012-10-08T21:30:00",
          "2012-10-08T22:00:00",
          "2012-10-08T22:30:00",
          "2012-10-08T23:00:00",
          "2012-10-08T23:30:00"
         ],
         "xaxis": "x",
         "y": [
          0.09497345132743362,
          0.09497345132743362,
          0.03325221238938052,
          0.03325221238938052,
          0.033371681415929194,
          0.033371681415929194,
          0.031225663716814154,
          0.031225663716814154,
          0.031650442477876094,
          0.031650442477876094,
          0.03269911504424778,
          0.03269911504424778,
          0.05366814159292035,
          0.05366814159292035,
          0.09534513230088494,
          0.09534513230088494,
          0.23255752300884955,
          0.23255752300884955,
          0.4178982296460177,
          0.4178982296460177,
          0.6767433646017699,
          0.6767433646017699,
          0.5670663707964602,
          0.5670663707964602,
          0.4795840703539823,
          0.4795840703539823,
          0.6261371690265486,
          0.6261371690265486,
          0.5372256628318584,
          0.5372256628318584,
          0.33001769867256636,
          0.33001769867256636,
          0.24923008805309735,
          0.24923008805309735,
          0.2467345128318584,
          0.2467345128318584,
          0.2723053097345133,
          0.2723053097345133,
          0.27401769911504426,
          0.27401769911504426,
          0.267575221238938,
          0.267575221238938,
          0.2718230088495575,
          0.2718230088495575,
          0.24550442477876103,
          0.24550442477876103,
          0.21658407123893803,
          0.21658407123893803,
          0.06073451327433627,
          0.06073451327433627,
          0.03173451327433627,
          0.03173451327433627,
          0.03159734513274335,
          0.03159734513274335,
          0.029831858407079637,
          0.029831858407079637,
          0.03265929203539822,
          0.03265929203539822,
          0.03456637168141592,
          0.03456637168141592,
          0.05499999999999999,
          0.05499999999999999,
          0.0992433628318584,
          0.0992433628318584,
          0.2889380522123894,
          0.2889380522123894,
          0.4877079623893805,
          0.4877079623893805,
          0.5267964584070796,
          0.5267964584070796,
          0.3469159287610619,
          0.3469159287610619,
          0.2936238942477876,
          0.2936238942477876,
          0.33087610663716815,
          0.33087610663716815,
          0.3197079650442478,
          0.3197079650442478,
          0.2137787610619469,
          0.2137787610619469,
          0.20954867212389378,
          0.20954867212389378,
          0.23276106194690266,
          0.23276106194690266,
          0.3701504424778761,
          0.3701504424778761,
          0.45078761106194687,
          0.45078761106194687,
          0.32140265486725667,
          0.32140265486725667,
          0.29980530973451325,
          0.29980530973451325,
          0.2691858407079646,
          0.2691858407079646,
          0.2031858407079646,
          0.2031858407079646
         ],
         "yaxis": "y"
        },
        {
         "hovertemplate": "variable=seas_interp_weekday_half_hour_imputed<br>timestamp=%{x}<br>value=%{y}<extra></extra>",
         "legendgroup": "seas_interp_weekday_half_hour_imputed",
         "line": {
          "color": "#ab63fa",
          "dash": "solid"
         },
         "marker": {
          "symbol": "circle"
         },
         "mode": "lines",
         "name": "seas_interp_weekday_half_hour_imputed",
         "orientation": "v",
         "showlegend": true,
         "type": "scatter",
         "x": [
          "2012-10-07T00:00:00",
          "2012-10-07T00:30:00",
          "2012-10-07T01:00:00",
          "2012-10-07T01:30:00",
          "2012-10-07T02:00:00",
          "2012-10-07T02:30:00",
          "2012-10-07T03:00:00",
          "2012-10-07T03:30:00",
          "2012-10-07T04:00:00",
          "2012-10-07T04:30:00",
          "2012-10-07T05:00:00",
          "2012-10-07T05:30:00",
          "2012-10-07T06:00:00",
          "2012-10-07T06:30:00",
          "2012-10-07T07:00:00",
          "2012-10-07T07:30:00",
          "2012-10-07T08:00:00",
          "2012-10-07T08:30:00",
          "2012-10-07T09:00:00",
          "2012-10-07T09:30:00",
          "2012-10-07T10:00:00",
          "2012-10-07T10:30:00",
          "2012-10-07T11:00:00",
          "2012-10-07T11:30:00",
          "2012-10-07T12:00:00",
          "2012-10-07T12:30:00",
          "2012-10-07T13:00:00",
          "2012-10-07T13:30:00",
          "2012-10-07T14:00:00",
          "2012-10-07T14:30:00",
          "2012-10-07T15:00:00",
          "2012-10-07T15:30:00",
          "2012-10-07T16:00:00",
          "2012-10-07T16:30:00",
          "2012-10-07T17:00:00",
          "2012-10-07T17:30:00",
          "2012-10-07T18:00:00",
          "2012-10-07T18:30:00",
          "2012-10-07T19:00:00",
          "2012-10-07T19:30:00",
          "2012-10-07T20:00:00",
          "2012-10-07T20:30:00",
          "2012-10-07T21:00:00",
          "2012-10-07T21:30:00",
          "2012-10-07T22:00:00",
          "2012-10-07T22:30:00",
          "2012-10-07T23:00:00",
          "2012-10-07T23:30:00",
          "2012-10-08T00:00:00",
          "2012-10-08T00:30:00",
          "2012-10-08T01:00:00",
          "2012-10-08T01:30:00",
          "2012-10-08T02:00:00",
          "2012-10-08T02:30:00",
          "2012-10-08T03:00:00",
          "2012-10-08T03:30:00",
          "2012-10-08T04:00:00",
          "2012-10-08T04:30:00",
          "2012-10-08T05:00:00",
          "2012-10-08T05:30:00",
          "2012-10-08T06:00:00",
          "2012-10-08T06:30:00",
          "2012-10-08T07:00:00",
          "2012-10-08T07:30:00",
          "2012-10-08T08:00:00",
          "2012-10-08T08:30:00",
          "2012-10-08T09:00:00",
          "2012-10-08T09:30:00",
          "2012-10-08T10:00:00",
          "2012-10-08T10:30:00",
          "2012-10-08T11:00:00",
          "2012-10-08T11:30:00",
          "2012-10-08T12:00:00",
          "2012-10-08T12:30:00",
          "2012-10-08T13:00:00",
          "2012-10-08T13:30:00",
          "2012-10-08T14:00:00",
          "2012-10-08T14:30:00",
          "2012-10-08T15:00:00",
          "2012-10-08T15:30:00",
          "2012-10-08T16:00:00",
          "2012-10-08T16:30:00",
          "2012-10-08T17:00:00",
          "2012-10-08T17:30:00",
          "2012-10-08T18:00:00",
          "2012-10-08T18:30:00",
          "2012-10-08T19:00:00",
          "2012-10-08T19:30:00",
          "2012-10-08T20:00:00",
          "2012-10-08T20:30:00",
          "2012-10-08T21:00:00",
          "2012-10-08T21:30:00",
          "2012-10-08T22:00:00",
          "2012-10-08T22:30:00",
          "2012-10-08T23:00:00",
          "2012-10-08T23:30:00"
         ],
         "xaxis": "x",
         "y": [
          0.12794445366366597,
          0.05421563287454187,
          0.0314221786029969,
          0.027521871085131044,
          0.028382572731507405,
          0.03055552406056916,
          0.02614464152839116,
          0.02843951110221568,
          0.027221712006764875,
          0.027989440091286788,
          0.028941033430061325,
          0.028495502769091685,
          0.031919401521890545,
          0.0675642888963239,
          0.071793391820443,
          0.10977408720122878,
          0.16924896355543895,
          0.2875558966311837,
          0.357191062998318,
          0.46859562805939803,
          0.5883708894125129,
          0.7378194808335861,
          0.6276665489093285,
          0.4864749105804342,
          0.44077449462914686,
          0.5014738108111625,
          0.6414153290802384,
          0.5988170215814503,
          0.6110681529798916,
          0.44819555203673633,
          0.34519237785449813,
          0.30290607217370213,
          0.2643967083615064,
          0.22192252057310083,
          0.22928903887602256,
          0.25358497308917843,
          0.2564559686404089,
          0.27565425551296996,
          0.2659850986247988,
          0.2694043327421266,
          0.2562154889017276,
          0.2662269978862148,
          0.26462215879099105,
          0.2659315236613118,
          0.2631308747336456,
          0.21442655682479245,
          0.2063141583250878,
          0.21807388976983083,
          0.08030574060287593,
          0.03250761961068144,
          0.02772835650258801,
          0.027135210550989747,
          0.027124844734032677,
          0.0272484863998588,
          0.02705142368727581,
          0.024021593806678093,
          0.0284274333363487,
          0.02807360673067688,
          0.030680510112825604,
          0.029836494199299762,
          0.04214538326328335,
          0.058974657814791304,
          0.07232883481558777,
          0.11362867648660212,
          0.2210352658452241,
          0.3385546193475287,
          0.44196417064301674,
          0.5166261862088335,
          0.5360670171828914,
          0.5016478922420827,
          0.3606315239866039,
          0.31965846311188917,
          0.2948642929794543,
          0.2708258297939661,
          0.28179443913917773,
          0.36825779484579535,
          0.3445792669307872,
          0.28363559370020724,
          0.22546176691565076,
          0.18882773670365194,
          0.19004336926744125,
          0.21666576443856778,
          0.22070420900601825,
          0.23273414542671042,
          0.3010381274302128,
          0.4169615020035734,
          0.42925541042376947,
          0.458289744009918,
          0.3251542371068426,
          0.30391874066282204,
          0.29231929024476144,
          0.2935154316386977,
          0.28368429996905825,
          0.24165015513903124,
          0.2218621516999296,
          0.1752102759561216
         ],
         "yaxis": "y"
        },
        {
         "hovertemplate": "variable=seas_interp_half_hour_imputed<br>timestamp=%{x}<br>value=%{y}<extra></extra>",
         "legendgroup": "seas_interp_half_hour_imputed",
         "line": {
          "color": "#FFA15A",
          "dash": "solid"
         },
         "marker": {
          "symbol": "circle"
         },
         "mode": "lines",
         "name": "seas_interp_half_hour_imputed",
         "orientation": "v",
         "showlegend": true,
         "type": "scatter",
         "x": [
          "2012-10-07T00:00:00",
          "2012-10-07T00:30:00",
          "2012-10-07T01:00:00",
          "2012-10-07T01:30:00",
          "2012-10-07T02:00:00",
          "2012-10-07T02:30:00",
          "2012-10-07T03:00:00",
          "2012-10-07T03:30:00",
          "2012-10-07T04:00:00",
          "2012-10-07T04:30:00",
          "2012-10-07T05:00:00",
          "2012-10-07T05:30:00",
          "2012-10-07T06:00:00",
          "2012-10-07T06:30:00",
          "2012-10-07T07:00:00",
          "2012-10-07T07:30:00",
          "2012-10-07T08:00:00",
          "2012-10-07T08:30:00",
          "2012-10-07T09:00:00",
          "2012-10-07T09:30:00",
          "2012-10-07T10:00:00",
          "2012-10-07T10:30:00",
          "2012-10-07T11:00:00",
          "2012-10-07T11:30:00",
          "2012-10-07T12:00:00",
          "2012-10-07T12:30:00",
          "2012-10-07T13:00:00",
          "2012-10-07T13:30:00",
          "2012-10-07T14:00:00",
          "2012-10-07T14:30:00",
          "2012-10-07T15:00:00",
          "2012-10-07T15:30:00",
          "2012-10-07T16:00:00",
          "2012-10-07T16:30:00",
          "2012-10-07T17:00:00",
          "2012-10-07T17:30:00",
          "2012-10-07T18:00:00",
          "2012-10-07T18:30:00",
          "2012-10-07T19:00:00",
          "2012-10-07T19:30:00",
          "2012-10-07T20:00:00",
          "2012-10-07T20:30:00",
          "2012-10-07T21:00:00",
          "2012-10-07T21:30:00",
          "2012-10-07T22:00:00",
          "2012-10-07T22:30:00",
          "2012-10-07T23:00:00",
          "2012-10-07T23:30:00",
          "2012-10-08T00:00:00",
          "2012-10-08T00:30:00",
          "2012-10-08T01:00:00",
          "2012-10-08T01:30:00",
          "2012-10-08T02:00:00",
          "2012-10-08T02:30:00",
          "2012-10-08T03:00:00",
          "2012-10-08T03:30:00",
          "2012-10-08T04:00:00",
          "2012-10-08T04:30:00",
          "2012-10-08T05:00:00",
          "2012-10-08T05:30:00",
          "2012-10-08T06:00:00",
          "2012-10-08T06:30:00",
          "2012-10-08T07:00:00",
          "2012-10-08T07:30:00",
          "2012-10-08T08:00:00",
          "2012-10-08T08:30:00",
          "2012-10-08T09:00:00",
          "2012-10-08T09:30:00",
          "2012-10-08T10:00:00",
          "2012-10-08T10:30:00",
          "2012-10-08T11:00:00",
          "2012-10-08T11:30:00",
          "2012-10-08T12:00:00",
          "2012-10-08T12:30:00",
          "2012-10-08T13:00:00",
          "2012-10-08T13:30:00",
          "2012-10-08T14:00:00",
          "2012-10-08T14:30:00",
          "2012-10-08T15:00:00",
          "2012-10-08T15:30:00",
          "2012-10-08T16:00:00",
          "2012-10-08T16:30:00",
          "2012-10-08T17:00:00",
          "2012-10-08T17:30:00",
          "2012-10-08T18:00:00",
          "2012-10-08T18:30:00",
          "2012-10-08T19:00:00",
          "2012-10-08T19:30:00",
          "2012-10-08T20:00:00",
          "2012-10-08T20:30:00",
          "2012-10-08T21:00:00",
          "2012-10-08T21:30:00",
          "2012-10-08T22:00:00",
          "2012-10-08T22:30:00",
          "2012-10-08T23:00:00",
          "2012-10-08T23:30:00"
         ],
         "xaxis": "x",
         "y": [
          0.11788733172124072,
          0.039611187744923615,
          0.030898005747463625,
          0.02683669071418543,
          0.02683551222826952,
          0.027205584166833607,
          0.027466644065635343,
          0.026888667105658348,
          0.027223277178014843,
          0.026818118980746014,
          0.02751637481223071,
          0.032734288863539185,
          0.04290092482299557,
          0.06293441481998852,
          0.09119449704643304,
          0.14550177775508077,
          0.24607582447878498,
          0.3690470268247541,
          0.42896686895026037,
          0.5087312941169274,
          0.5631566966425681,
          0.5640530123532332,
          0.47777497865925866,
          0.37212670990380503,
          0.3349214568565654,
          0.32472097072979245,
          0.34203825526641995,
          0.36290450676989666,
          0.35817721991713986,
          0.30164659553208817,
          0.2636836457399057,
          0.23110079221370733,
          0.2238983247719396,
          0.23305208384563902,
          0.2416263515008228,
          0.2508430988613875,
          0.3170424319477231,
          0.3918362684827968,
          0.3883916162402725,
          0.38559712786073475,
          0.32089546496237664,
          0.2902760010336383,
          0.27849718330873524,
          0.28169251576037063,
          0.27729755687909696,
          0.24315478961813058,
          0.21788319369874878,
          0.20502450869187427,
          0.11766511298488128,
          0.03938896415992829,
          0.030675777319146946,
          0.02661445744786195,
          0.026613274129253572,
          0.026983341240439773,
          0.027244396317178204,
          0.026666414540452238,
          0.0270010198013744,
          0.02659585679798568,
          0.0272941078286649,
          0.03251201708448251,
          0.04267864825376247,
          0.06271213346589341,
          0.09097221091279056,
          0.14527948684720537,
          0.24585352880199104,
          0.3688247263843562,
          0.428744563751573,
          0.508508984165265,
          0.5629343819432452,
          0.5638306929115644,
          0.4775526544805582,
          0.37190438099338763,
          0.3346991232197455,
          0.32449863237188437,
          0.3418159121927384,
          0.36268215898575606,
          0.35795486742785454,
          0.3014242383429729,
          0.2634612838562749,
          0.23087842564087535,
          0.22367595351522104,
          0.23282970791034835,
          0.2414039708922745,
          0.25062071358489607,
          0.31682004200860314,
          0.39161387388636254,
          0.3881692169918387,
          0.3853747239656158,
          0.32067305642588695,
          0.2900535878610925,
          0.2782747655054478,
          0.2814700933316559,
          0.27707512983026955,
          0.24293235795450502,
          0.21766075742563945,
          0.20480206781459576
         ],
         "yaxis": "y"
        },
        {
         "hovertemplate": "variable=energy_consumption<br>timestamp=%{x}<br>value=%{y}<extra></extra>",
         "legendgroup": "energy_consumption",
         "line": {
          "color": "#19d3f3",
          "dash": "solid"
         },
         "marker": {
          "symbol": "circle"
         },
         "mode": "lines",
         "name": "energy_consumption",
         "orientation": "v",
         "showlegend": true,
         "type": "scatter",
         "x": [
          "2012-10-07T00:00:00",
          "2012-10-07T00:30:00",
          "2012-10-07T01:00:00",
          "2012-10-07T01:30:00",
          "2012-10-07T02:00:00",
          "2012-10-07T02:30:00",
          "2012-10-07T03:00:00",
          "2012-10-07T03:30:00",
          "2012-10-07T04:00:00",
          "2012-10-07T04:30:00",
          "2012-10-07T05:00:00",
          "2012-10-07T05:30:00",
          "2012-10-07T06:00:00",
          "2012-10-07T06:30:00",
          "2012-10-07T07:00:00",
          "2012-10-07T07:30:00",
          "2012-10-07T08:00:00",
          "2012-10-07T08:30:00",
          "2012-10-07T09:00:00",
          "2012-10-07T09:30:00",
          "2012-10-07T10:00:00",
          "2012-10-07T10:30:00",
          "2012-10-07T11:00:00",
          "2012-10-07T11:30:00",
          "2012-10-07T12:00:00",
          "2012-10-07T12:30:00",
          "2012-10-07T13:00:00",
          "2012-10-07T13:30:00",
          "2012-10-07T14:00:00",
          "2012-10-07T14:30:00",
          "2012-10-07T15:00:00",
          "2012-10-07T15:30:00",
          "2012-10-07T16:00:00",
          "2012-10-07T16:30:00",
          "2012-10-07T17:00:00",
          "2012-10-07T17:30:00",
          "2012-10-07T18:00:00",
          "2012-10-07T18:30:00",
          "2012-10-07T19:00:00",
          "2012-10-07T19:30:00",
          "2012-10-07T20:00:00",
          "2012-10-07T20:30:00",
          "2012-10-07T21:00:00",
          "2012-10-07T21:30:00",
          "2012-10-07T22:00:00",
          "2012-10-07T22:30:00",
          "2012-10-07T23:00:00",
          "2012-10-07T23:30:00",
          "2012-10-08T00:00:00",
          "2012-10-08T00:30:00",
          "2012-10-08T01:00:00",
          "2012-10-08T01:30:00",
          "2012-10-08T02:00:00",
          "2012-10-08T02:30:00",
          "2012-10-08T03:00:00",
          "2012-10-08T03:30:00",
          "2012-10-08T04:00:00",
          "2012-10-08T04:30:00",
          "2012-10-08T05:00:00",
          "2012-10-08T05:30:00",
          "2012-10-08T06:00:00",
          "2012-10-08T06:30:00",
          "2012-10-08T07:00:00",
          "2012-10-08T07:30:00",
          "2012-10-08T08:00:00",
          "2012-10-08T08:30:00",
          "2012-10-08T09:00:00",
          "2012-10-08T09:30:00",
          "2012-10-08T10:00:00",
          "2012-10-08T10:30:00",
          "2012-10-08T11:00:00",
          "2012-10-08T11:30:00",
          "2012-10-08T12:00:00",
          "2012-10-08T12:30:00",
          "2012-10-08T13:00:00",
          "2012-10-08T13:30:00",
          "2012-10-08T14:00:00",
          "2012-10-08T14:30:00",
          "2012-10-08T15:00:00",
          "2012-10-08T15:30:00",
          "2012-10-08T16:00:00",
          "2012-10-08T16:30:00",
          "2012-10-08T17:00:00",
          "2012-10-08T17:30:00",
          "2012-10-08T18:00:00",
          "2012-10-08T18:30:00",
          "2012-10-08T19:00:00",
          "2012-10-08T19:30:00",
          "2012-10-08T20:00:00",
          "2012-10-08T20:30:00",
          "2012-10-08T21:00:00",
          "2012-10-08T21:30:00",
          "2012-10-08T22:00:00",
          "2012-10-08T22:30:00",
          "2012-10-08T23:00:00",
          "2012-10-08T23:30:00"
         ],
         "xaxis": "x",
         "y": [
          0.023,
          0.0559999999999999,
          0.0139999999999999,
          0.031,
          0.04,
          0.022,
          0.057,
          0.003,
          0.042,
          0.04,
          0.021,
          0.045,
          0.015,
          0.039,
          0.111,
          0.089,
          0.061,
          0.046,
          0.052,
          0.243,
          1.211,
          1.035,
          0.275,
          1.1440001,
          0.365,
          0.7,
          0.249,
          0.261,
          0.288,
          0.575,
          0.212,
          0.282,
          0.396,
          0.119,
          0.047,
          0.291,
          0.257,
          0.294,
          0.285,
          0.28,
          0.303,
          0.266,
          0.305,
          0.297,
          0.412,
          0.2189999999999999,
          0.0559999999999999,
          0.036,
          0.034,
          0.038,
          0.011,
          0.051,
          0.023,
          0.055,
          0.009,
          0.037,
          0.035,
          0.036,
          0.037,
          0.01,
          0.053,
          0.023,
          0.27,
          0.2189999999999999,
          0.258,
          0.88,
          0.7170000000000001,
          0.25,
          0.324,
          0.535,
          0.28,
          0.316,
          0.818,
          0.675,
          0.319,
          0.0579999999999999,
          0.059,
          0.259,
          0.337,
          0.212,
          0.238,
          0.209,
          0.24,
          0.17,
          0.743,
          0.8190000000000001,
          0.336,
          0.284,
          0.294,
          0.2789999999999999,
          0.253,
          0.311,
          0.357,
          0.1119999999999999,
          0.016,
          0.026
         ],
         "yaxis": "y"
        }
       ],
       "layout": {
        "legend": {
         "title": {
          "text": "variable"
         },
         "tracegroupgap": 0
        },
        "margin": {
         "t": 60
        },
        "template": {
         "data": {
          "bar": [
           {
            "error_x": {
             "color": "#2a3f5f"
            },
            "error_y": {
             "color": "#2a3f5f"
            },
            "marker": {
             "line": {
              "color": "white",
              "width": 0.5
             },
             "pattern": {
              "fillmode": "overlay",
              "size": 10,
              "solidity": 0.2
             }
            },
            "type": "bar"
           }
          ],
          "barpolar": [
           {
            "marker": {
             "line": {
              "color": "white",
              "width": 0.5
             },
             "pattern": {
              "fillmode": "overlay",
              "size": 10,
              "solidity": 0.2
             }
            },
            "type": "barpolar"
           }
          ],
          "carpet": [
           {
            "aaxis": {
             "endlinecolor": "#2a3f5f",
             "gridcolor": "#C8D4E3",
             "linecolor": "#C8D4E3",
             "minorgridcolor": "#C8D4E3",
             "startlinecolor": "#2a3f5f"
            },
            "baxis": {
             "endlinecolor": "#2a3f5f",
             "gridcolor": "#C8D4E3",
             "linecolor": "#C8D4E3",
             "minorgridcolor": "#C8D4E3",
             "startlinecolor": "#2a3f5f"
            },
            "type": "carpet"
           }
          ],
          "choropleth": [
           {
            "colorbar": {
             "outlinewidth": 0,
             "ticks": ""
            },
            "type": "choropleth"
           }
          ],
          "contour": [
           {
            "colorbar": {
             "outlinewidth": 0,
             "ticks": ""
            },
            "colorscale": [
             [
              0,
              "#0d0887"
             ],
             [
              0.1111111111111111,
              "#46039f"
             ],
             [
              0.2222222222222222,
              "#7201a8"
             ],
             [
              0.3333333333333333,
              "#9c179e"
             ],
             [
              0.4444444444444444,
              "#bd3786"
             ],
             [
              0.5555555555555556,
              "#d8576b"
             ],
             [
              0.6666666666666666,
              "#ed7953"
             ],
             [
              0.7777777777777778,
              "#fb9f3a"
             ],
             [
              0.8888888888888888,
              "#fdca26"
             ],
             [
              1,
              "#f0f921"
             ]
            ],
            "type": "contour"
           }
          ],
          "contourcarpet": [
           {
            "colorbar": {
             "outlinewidth": 0,
             "ticks": ""
            },
            "type": "contourcarpet"
           }
          ],
          "heatmap": [
           {
            "colorbar": {
             "outlinewidth": 0,
             "ticks": ""
            },
            "colorscale": [
             [
              0,
              "#0d0887"
             ],
             [
              0.1111111111111111,
              "#46039f"
             ],
             [
              0.2222222222222222,
              "#7201a8"
             ],
             [
              0.3333333333333333,
              "#9c179e"
             ],
             [
              0.4444444444444444,
              "#bd3786"
             ],
             [
              0.5555555555555556,
              "#d8576b"
             ],
             [
              0.6666666666666666,
              "#ed7953"
             ],
             [
              0.7777777777777778,
              "#fb9f3a"
             ],
             [
              0.8888888888888888,
              "#fdca26"
             ],
             [
              1,
              "#f0f921"
             ]
            ],
            "type": "heatmap"
           }
          ],
          "heatmapgl": [
           {
            "colorbar": {
             "outlinewidth": 0,
             "ticks": ""
            },
            "colorscale": [
             [
              0,
              "#0d0887"
             ],
             [
              0.1111111111111111,
              "#46039f"
             ],
             [
              0.2222222222222222,
              "#7201a8"
             ],
             [
              0.3333333333333333,
              "#9c179e"
             ],
             [
              0.4444444444444444,
              "#bd3786"
             ],
             [
              0.5555555555555556,
              "#d8576b"
             ],
             [
              0.6666666666666666,
              "#ed7953"
             ],
             [
              0.7777777777777778,
              "#fb9f3a"
             ],
             [
              0.8888888888888888,
              "#fdca26"
             ],
             [
              1,
              "#f0f921"
             ]
            ],
            "type": "heatmapgl"
           }
          ],
          "histogram": [
           {
            "marker": {
             "pattern": {
              "fillmode": "overlay",
              "size": 10,
              "solidity": 0.2
             }
            },
            "type": "histogram"
           }
          ],
          "histogram2d": [
           {
            "colorbar": {
             "outlinewidth": 0,
             "ticks": ""
            },
            "colorscale": [
             [
              0,
              "#0d0887"
             ],
             [
              0.1111111111111111,
              "#46039f"
             ],
             [
              0.2222222222222222,
              "#7201a8"
             ],
             [
              0.3333333333333333,
              "#9c179e"
             ],
             [
              0.4444444444444444,
              "#bd3786"
             ],
             [
              0.5555555555555556,
              "#d8576b"
             ],
             [
              0.6666666666666666,
              "#ed7953"
             ],
             [
              0.7777777777777778,
              "#fb9f3a"
             ],
             [
              0.8888888888888888,
              "#fdca26"
             ],
             [
              1,
              "#f0f921"
             ]
            ],
            "type": "histogram2d"
           }
          ],
          "histogram2dcontour": [
           {
            "colorbar": {
             "outlinewidth": 0,
             "ticks": ""
            },
            "colorscale": [
             [
              0,
              "#0d0887"
             ],
             [
              0.1111111111111111,
              "#46039f"
             ],
             [
              0.2222222222222222,
              "#7201a8"
             ],
             [
              0.3333333333333333,
              "#9c179e"
             ],
             [
              0.4444444444444444,
              "#bd3786"
             ],
             [
              0.5555555555555556,
              "#d8576b"
             ],
             [
              0.6666666666666666,
              "#ed7953"
             ],
             [
              0.7777777777777778,
              "#fb9f3a"
             ],
             [
              0.8888888888888888,
              "#fdca26"
             ],
             [
              1,
              "#f0f921"
             ]
            ],
            "type": "histogram2dcontour"
           }
          ],
          "mesh3d": [
           {
            "colorbar": {
             "outlinewidth": 0,
             "ticks": ""
            },
            "type": "mesh3d"
           }
          ],
          "parcoords": [
           {
            "line": {
             "colorbar": {
              "outlinewidth": 0,
              "ticks": ""
             }
            },
            "type": "parcoords"
           }
          ],
          "pie": [
           {
            "automargin": true,
            "type": "pie"
           }
          ],
          "scatter": [
           {
            "fillpattern": {
             "fillmode": "overlay",
             "size": 10,
             "solidity": 0.2
            },
            "type": "scatter"
           }
          ],
          "scatter3d": [
           {
            "line": {
             "colorbar": {
              "outlinewidth": 0,
              "ticks": ""
             }
            },
            "marker": {
             "colorbar": {
              "outlinewidth": 0,
              "ticks": ""
             }
            },
            "type": "scatter3d"
           }
          ],
          "scattercarpet": [
           {
            "marker": {
             "colorbar": {
              "outlinewidth": 0,
              "ticks": ""
             }
            },
            "type": "scattercarpet"
           }
          ],
          "scattergeo": [
           {
            "marker": {
             "colorbar": {
              "outlinewidth": 0,
              "ticks": ""
             }
            },
            "type": "scattergeo"
           }
          ],
          "scattergl": [
           {
            "marker": {
             "colorbar": {
              "outlinewidth": 0,
              "ticks": ""
             }
            },
            "type": "scattergl"
           }
          ],
          "scattermapbox": [
           {
            "marker": {
             "colorbar": {
              "outlinewidth": 0,
              "ticks": ""
             }
            },
            "type": "scattermapbox"
           }
          ],
          "scatterpolar": [
           {
            "marker": {
             "colorbar": {
              "outlinewidth": 0,
              "ticks": ""
             }
            },
            "type": "scatterpolar"
           }
          ],
          "scatterpolargl": [
           {
            "marker": {
             "colorbar": {
              "outlinewidth": 0,
              "ticks": ""
             }
            },
            "type": "scatterpolargl"
           }
          ],
          "scatterternary": [
           {
            "marker": {
             "colorbar": {
              "outlinewidth": 0,
              "ticks": ""
             }
            },
            "type": "scatterternary"
           }
          ],
          "surface": [
           {
            "colorbar": {
             "outlinewidth": 0,
             "ticks": ""
            },
            "colorscale": [
             [
              0,
              "#0d0887"
             ],
             [
              0.1111111111111111,
              "#46039f"
             ],
             [
              0.2222222222222222,
              "#7201a8"
             ],
             [
              0.3333333333333333,
              "#9c179e"
             ],
             [
              0.4444444444444444,
              "#bd3786"
             ],
             [
              0.5555555555555556,
              "#d8576b"
             ],
             [
              0.6666666666666666,
              "#ed7953"
             ],
             [
              0.7777777777777778,
              "#fb9f3a"
             ],
             [
              0.8888888888888888,
              "#fdca26"
             ],
             [
              1,
              "#f0f921"
             ]
            ],
            "type": "surface"
           }
          ],
          "table": [
           {
            "cells": {
             "fill": {
              "color": "#EBF0F8"
             },
             "line": {
              "color": "white"
             }
            },
            "header": {
             "fill": {
              "color": "#C8D4E3"
             },
             "line": {
              "color": "white"
             }
            },
            "type": "table"
           }
          ]
         },
         "layout": {
          "annotationdefaults": {
           "arrowcolor": "#2a3f5f",
           "arrowhead": 0,
           "arrowwidth": 1
          },
          "autotypenumbers": "strict",
          "coloraxis": {
           "colorbar": {
            "outlinewidth": 0,
            "ticks": ""
           }
          },
          "colorscale": {
           "diverging": [
            [
             0,
             "#8e0152"
            ],
            [
             0.1,
             "#c51b7d"
            ],
            [
             0.2,
             "#de77ae"
            ],
            [
             0.3,
             "#f1b6da"
            ],
            [
             0.4,
             "#fde0ef"
            ],
            [
             0.5,
             "#f7f7f7"
            ],
            [
             0.6,
             "#e6f5d0"
            ],
            [
             0.7,
             "#b8e186"
            ],
            [
             0.8,
             "#7fbc41"
            ],
            [
             0.9,
             "#4d9221"
            ],
            [
             1,
             "#276419"
            ]
           ],
           "sequential": [
            [
             0,
             "#0d0887"
            ],
            [
             0.1111111111111111,
             "#46039f"
            ],
            [
             0.2222222222222222,
             "#7201a8"
            ],
            [
             0.3333333333333333,
             "#9c179e"
            ],
            [
             0.4444444444444444,
             "#bd3786"
            ],
            [
             0.5555555555555556,
             "#d8576b"
            ],
            [
             0.6666666666666666,
             "#ed7953"
            ],
            [
             0.7777777777777778,
             "#fb9f3a"
            ],
            [
             0.8888888888888888,
             "#fdca26"
            ],
            [
             1,
             "#f0f921"
            ]
           ],
           "sequentialminus": [
            [
             0,
             "#0d0887"
            ],
            [
             0.1111111111111111,
             "#46039f"
            ],
            [
             0.2222222222222222,
             "#7201a8"
            ],
            [
             0.3333333333333333,
             "#9c179e"
            ],
            [
             0.4444444444444444,
             "#bd3786"
            ],
            [
             0.5555555555555556,
             "#d8576b"
            ],
            [
             0.6666666666666666,
             "#ed7953"
            ],
            [
             0.7777777777777778,
             "#fb9f3a"
            ],
            [
             0.8888888888888888,
             "#fdca26"
            ],
            [
             1,
             "#f0f921"
            ]
           ]
          },
          "colorway": [
           "#636efa",
           "#EF553B",
           "#00cc96",
           "#ab63fa",
           "#FFA15A",
           "#19d3f3",
           "#FF6692",
           "#B6E880",
           "#FF97FF",
           "#FECB52"
          ],
          "font": {
           "color": "#2a3f5f"
          },
          "geo": {
           "bgcolor": "white",
           "lakecolor": "white",
           "landcolor": "white",
           "showlakes": true,
           "showland": true,
           "subunitcolor": "#C8D4E3"
          },
          "hoverlabel": {
           "align": "left"
          },
          "hovermode": "closest",
          "mapbox": {
           "style": "light"
          },
          "paper_bgcolor": "white",
          "plot_bgcolor": "white",
          "polar": {
           "angularaxis": {
            "gridcolor": "#EBF0F8",
            "linecolor": "#EBF0F8",
            "ticks": ""
           },
           "bgcolor": "white",
           "radialaxis": {
            "gridcolor": "#EBF0F8",
            "linecolor": "#EBF0F8",
            "ticks": ""
           }
          },
          "scene": {
           "xaxis": {
            "backgroundcolor": "white",
            "gridcolor": "#DFE8F3",
            "gridwidth": 2,
            "linecolor": "#EBF0F8",
            "showbackground": true,
            "ticks": "",
            "zerolinecolor": "#EBF0F8"
           },
           "yaxis": {
            "backgroundcolor": "white",
            "gridcolor": "#DFE8F3",
            "gridwidth": 2,
            "linecolor": "#EBF0F8",
            "showbackground": true,
            "ticks": "",
            "zerolinecolor": "#EBF0F8"
           },
           "zaxis": {
            "backgroundcolor": "white",
            "gridcolor": "#DFE8F3",
            "gridwidth": 2,
            "linecolor": "#EBF0F8",
            "showbackground": true,
            "ticks": "",
            "zerolinecolor": "#EBF0F8"
           }
          },
          "shapedefaults": {
           "line": {
            "color": "#2a3f5f"
           }
          },
          "ternary": {
           "aaxis": {
            "gridcolor": "#DFE8F3",
            "linecolor": "#A2B1C6",
            "ticks": ""
           },
           "baxis": {
            "gridcolor": "#DFE8F3",
            "linecolor": "#A2B1C6",
            "ticks": ""
           },
           "bgcolor": "white",
           "caxis": {
            "gridcolor": "#DFE8F3",
            "linecolor": "#A2B1C6",
            "ticks": ""
           }
          },
          "title": {
           "x": 0.05
          },
          "xaxis": {
           "automargin": true,
           "gridcolor": "#EBF0F8",
           "linecolor": "#EBF0F8",
           "ticks": "",
           "title": {
            "standoff": 15
           },
           "zerolinecolor": "#EBF0F8",
           "zerolinewidth": 2
          },
          "yaxis": {
           "automargin": true,
           "gridcolor": "#EBF0F8",
           "linecolor": "#EBF0F8",
           "ticks": "",
           "title": {
            "standoff": 15
           },
           "zerolinecolor": "#EBF0F8",
           "zerolinewidth": 2
          }
         }
        },
        "xaxis": {
         "anchor": "y",
         "domain": [
          0,
          1
         ],
         "title": {
          "text": "timestamp"
         }
        },
        "yaxis": {
         "anchor": "x",
         "domain": [
          0,
          1
         ],
         "title": {
          "text": "value"
         }
        }
       }
      }
     },
     "metadata": {},
     "output_type": "display_data"
    }
   ],
   "source": [
    "px.line(ts_df.loc[window, imputed_columns+[original_col]].reset_index(), x=\"timestamp\", y=imputed_columns+[original_col])"
   ]
  }
 ],
 "metadata": {
  "kernelspec": {
   "display_name": "Python 3 (ipykernel)",
   "language": "python",
   "name": "python3"
  },
  "language_info": {
   "codemirror_mode": {
    "name": "ipython",
    "version": 3
   },
   "file_extension": ".py",
   "mimetype": "text/x-python",
   "name": "python",
   "nbconvert_exporter": "python",
   "pygments_lexer": "ipython3",
   "version": "3.11.0"
  }
 },
 "nbformat": 4,
 "nbformat_minor": 5
}
